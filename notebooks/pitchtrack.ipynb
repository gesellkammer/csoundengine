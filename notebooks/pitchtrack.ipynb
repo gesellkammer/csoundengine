{
 "cells": [
  {
   "cell_type": "code",
   "execution_count": 1,
   "id": "005145bf-8d43-4787-ab90-80529eeb8f65",
   "metadata": {},
   "outputs": [
    {
     "name": "stderr",
     "output_type": "stream",
     "text": [
      "WARNING: \u001b[mnot loading 'libhdf5ops.so' (uses incompatible floating point type)\u001b[m\n",
      "\u001b[mend of score.\t\t   overall amps:\u001b[m      0.0\n",
      "\t   overall samples out of range:\u001b[m        0\u001b[m\n",
      "0 errors in performance\n",
      "\u001b[m"
     ]
    }
   ],
   "source": [
    "import csoundengine as ce"
   ]
  },
  {
   "cell_type": "code",
   "execution_count": 29,
   "id": "34609ea3-a67f-420b-a7da-046637f81da8",
   "metadata": {},
   "outputs": [
    {
     "name": "stderr",
     "output_type": "stream",
     "text": [
      "\n",
      "\n",
      "\n",
      "--Csound version 6.19 (double samples) May  8 2024\n",
      "[commit: 937aa495e250d758efaa28e9697a8b75237c80cd]\n",
      "\u001b[mlibsndfile-1.2.0\n",
      "\u001b[msr = 44100.0,\u001b[m kr = 689.062,\u001b[m ksmps = 64\n",
      "\u001b[m0dBFS level = 1.0,\u001b[m A4 tuning = 442.0\n",
      "\u001b[maudio buffered in 256 sample-frame blocks\n",
      "\u001b[mwriting 1024-byte blks of shorts to /tmp/csoundengine-7fprcsdv.wav (WAV)\n",
      "SECTION 1:\n",
      "\u001b[m"
     ]
    }
   ],
   "source": [
    "from csoundengine import OfflineEngine\n",
    "e = OfflineEngine()"
   ]
  },
  {
   "cell_type": "code",
   "execution_count": 30,
   "id": "b755f13c-b67c-45f2-8d12-eafb38c76e61",
   "metadata": {},
   "outputs": [],
   "source": [
    "e.compile(r'''\n",
    "instr pitchtrack\n",
    "  itabnum = p4   ; the sound source\n",
    "  itabfreq = p5  ; the table where to put tracked pitch. The table must be big enough\n",
    "  itabsize = ftlen(itabfreq)\n",
    "  ifftsize = 2048\n",
    "  ifftsize2 = ifftsize * 2  ; this second anaylsis helps smooth the result\n",
    "  iwtype = 0        ; hamming\n",
    "  kcount init 1     ; the first element is the element count\n",
    "  aouts[] loscilx 1, 1, itabnum, 4, 1\n",
    "  a0 = aouts[0]     ; only analyze first channel\n",
    "  a0d = delay(a0, ifftsize2 * 0.5 / sr)  ; shift the original signal\n",
    "  fsig  pvsanal a0d, ifftsize, 512, ifftsize, iwtype\n",
    "  fsig2 pvsanal a0, ifftsize2, 512, ifftsize2, iwtype\n",
    "  kfreq, kamp pvspitch fsig, 0.05\n",
    "  kfreq2, kamp2 pvspitch fsig2, 0.07\n",
    "  if kcount >= itabsize || detectsilence(a0, db(-90), 0.1) == 1 then\n",
    "    turnoff\n",
    "  endif\n",
    "  if (kfreq2 == 0 && kfreq == 0 ? 1 : kfreq / kfreq2) < 0.5 then\n",
    "    kfreq = kfreq\n",
    "  endif\n",
    "  tabw kfreq, kcount, itabfreq\n",
    "  kcount += 1\n",
    "  tabw kcount, 0, itabfreq\n",
    "  ; To validate the analysis, we output the original sound and the resynthesized audio\n",
    "  outs a0d, buzz(kfreq > 0 ? kamp : 0, kfreq, 5, -1)\n",
    "endin\n",
    "''')"
   ]
  },
  {
   "cell_type": "code",
   "execution_count": 31,
   "id": "87571230-cac5-45eb-a6a1-84009768e0e1",
   "metadata": {},
   "outputs": [],
   "source": [
    "# sndtab = e.readSoundfile(\"/home/em/Lib/snd/samples/test/piano-pitchtest-2.flac\")\n",
    "sndtab = e.readSoundfile(\"/home/em/Lib/snd/samples/speech/colours-german-male-1.flac\")\n",
    "\n",
    "sndtabinfo = e.tableInfo(sndtab)"
   ]
  },
  {
   "cell_type": "code",
   "execution_count": 32,
   "id": "c5bc1479-c718-4b92-8308-beeadec48e91",
   "metadata": {},
   "outputs": [
    {
     "data": {
      "text/plain": [
       "'pitchtrack'"
      ]
     },
     "execution_count": 32,
     "metadata": {},
     "output_type": "execute_result"
    }
   ],
   "source": [
    "duration = sndtabinfo.duration\n",
    "numcycles = int(duration * e.sr / e.ksmps)\n",
    "freqtab = e.makeEmptyTable(numcycles + 100)\n",
    "e.sched('pitchtrack', 0, duration + 0.1, sndtab, freqtab)"
   ]
  },
  {
   "cell_type": "code",
   "execution_count": 33,
   "id": "b1186546-0bf5-415f-b1e8-1166f3f9df0b",
   "metadata": {},
   "outputs": [
    {
     "name": "stdout",
     "output_type": "stream",
     "text": [
      "datalen=7472\n"
     ]
    },
    {
     "name": "stderr",
     "output_type": "stream",
     "text": [
      "end of score.\t\t   overall amps:\u001b[m  0.89328  0.66084\n",
      "\t   overall samples out of range:\u001b[m        0\u001b[m        0\u001b[m\n",
      "0 errors in performance\n",
      "\u001b[m512 1024 sample blks of shorts written to /tmp/csoundengine-7fprcsdv.wav (WAV)\n"
     ]
    }
   ],
   "source": [
    "e.perform()\n",
    "# Now retrieve information\n",
    "outarr = e.getTableData(freqtab)\n",
    "datalen = int(outarr[0])\n",
    "print(f\"{datalen=}\")\n",
    "freqs = outarr[1:1+datalen]\n",
    "# Finished with the engine, stop it so that we can access the generated soundfile\n",
    "# for validation. This is just to show that the output file is only fully formed\n",
    "# after the engine is stopped\n",
    "renderjob = e.stop()\n",
    "# Open the outfile in the default application\n",
    "# renderjob.openOutfile()\n"
   ]
  },
  {
   "cell_type": "code",
   "execution_count": 34,
   "id": "21f27f0e-533d-4cfb-a342-6137a33dff54",
   "metadata": {},
   "outputs": [
    {
     "name": "stderr",
     "output_type": "stream",
     "text": [
      "mhWaveEdit: playing file as 48000 Hz, float, Stereo\n"
     ]
    }
   ],
   "source": [
    "renderjob.openOutfile(app='mhwaveedit')"
   ]
  },
  {
   "cell_type": "code",
   "execution_count": 9,
   "id": "3f01d295-dc86-411c-b4db-62357ea4b8ec",
   "metadata": {},
   "outputs": [
    {
     "name": "stdout",
     "output_type": "stream",
     "text": [
      ".\u001b[1;33mr\u001b[31mw\u001b[4;32mx\u001b[0m\u001b[33mr\u001b[38;5;244m-\u001b[32mx\u001b[33mr\u001b[38;5;244m-\u001b[32mx\u001b[0m \u001b[1;32m536\u001b[0m\u001b[32mk\u001b[0m root \u001b[34m 1 Apr 08:57\u001b[0m \u001b[36m/usr/bin/\u001b[1;32mmhwaveedit\u001b[0m*\n"
     ]
    }
   ],
   "source": [
    "!ll /usr/bin/mhwave*"
   ]
  },
  {
   "cell_type": "code",
   "execution_count": null,
   "id": "9422af0f-e10d-4e72-9c5b-d8f3460ce553",
   "metadata": {},
   "outputs": [],
   "source": []
  }
 ],
 "metadata": {
  "kernelspec": {
   "display_name": "Python 3 (ipykernel)",
   "language": "python",
   "name": "python3"
  },
  "language_info": {
   "codemirror_mode": {
    "name": "ipython",
    "version": 3
   },
   "file_extension": ".py",
   "mimetype": "text/x-python",
   "name": "python",
   "nbconvert_exporter": "python",
   "pygments_lexer": "ipython3",
   "version": "3.12.3"
  }
 },
 "nbformat": 4,
 "nbformat_minor": 5
}
