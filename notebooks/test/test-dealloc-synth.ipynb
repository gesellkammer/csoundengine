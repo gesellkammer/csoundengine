{
 "cells": [
  {
   "cell_type": "code",
   "execution_count": 1,
   "id": "78f6ba45-cb2e-4402-9565-f66b5022317c",
   "metadata": {},
   "outputs": [],
   "source": [
    "from csoundengine import *"
   ]
  },
  {
   "cell_type": "code",
   "execution_count": 2,
   "id": "dca39fa9-9fd9-48f2-90db-7b97b34060d7",
   "metadata": {},
   "outputs": [
    {
     "name": "stderr",
     "output_type": "stream",
     "text": [
      "--Csound version 7.0 (double samples) May 25 2025\n",
      "[commit: 909a4017d2810e4d6fddb735314670e5dfdf7a15]\n",
      "\u001b[mlibsndfile-1.2.2\n",
      "\u001b[msr = 48000.0,\u001b[m kr = 750.000,\u001b[m ksmps = 64\n",
      "\u001b[m0dBFS level = 1.0,\u001b[m A4 tuning = 440.0\n",
      "\u001b[maudio buffered in 256 sample-frame blocks\n",
      "\u001b[mreading 2048-byte blks of shorts from adc:Built-in Audio Analog Stereo: (RAW)\n",
      "writing 512 sample blks of 64-bit floats to dac:Built-in Audio Analog Stereo:\n",
      "SECTION 1:\n",
      "\u001b[m"
     ]
    }
   ],
   "source": [
    "s = Session()"
   ]
  },
  {
   "cell_type": "code",
   "execution_count": 3,
   "id": "bbb0f8f2-f904-440d-b4b7-6759f8fd2a7f",
   "metadata": {},
   "outputs": [],
   "source": [
    "s.defInstr(\"dealloc\", r'''\n",
    "prints \">>>> instr dealloc started\\n\"\n",
    "schedule \"foo\", 0, 0, \"msg from dealloc\"\n",
    "defer \"prints\", \"dealloc ended\\n\"\n",
    "''')\n",
    "\n",
    "s.engine.compile(r'''\n",
    "instr foo\n",
    "  Smsg = p4\n",
    "  prints \"---- foo (p1=%d): %s\\n\", p1, Smsg\n",
    "  turnoff\n",
    "endin\n",
    "''')"
   ]
  },
  {
   "cell_type": "code",
   "execution_count": 4,
   "id": "bebf38a1-faaf-48a2-8691-22d8ab2f878f",
   "metadata": {},
   "outputs": [
    {
     "name": "stderr",
     "output_type": "stream",
     "text": [
      ">>>> instr dealloc started\n",
      "\u001b[m---- foo (p1=25): msg from dealloc\n",
      "\u001b[m"
     ]
    },
    {
     "data": {
      "application/vnd.jupyter.widget-view+json": {
       "model_id": "22fc3264d11d4a89a558c0277de5e69b",
       "version_major": 2,
       "version_minor": 0
      },
      "text/plain": [
       "Button(description='Stop', style=ButtonStyle())"
      ]
     },
     "metadata": {},
     "output_type": "display_data"
    },
    {
     "data": {
      "application/vnd.jupyter.widget-view+json": {
       "model_id": "867055d8b36041719cf45c012246f1af",
       "version_major": 2,
       "version_minor": 0
      },
      "text/plain": [
       "Output()"
      ]
     },
     "metadata": {},
     "output_type": "display_data"
    },
    {
     "data": {
      "text/html": [
       "<p><span style=\"font-size:12px;\">Synth(‖ <strong style=\"color:MediumSeaGreen\">dealloc</strong>:401.0002)</span></p>"
      ],
      "text/plain": [
       "Synth(‖ dealloc=401.0002 start=2.931 dur=100)"
      ]
     },
     "execution_count": 4,
     "metadata": {},
     "output_type": "execute_result"
    }
   ],
   "source": [
    "synth = s.sched(\"dealloc\", 0, 100)\n",
    "synth"
   ]
  },
  {
   "cell_type": "code",
   "execution_count": 5,
   "id": "1aa176cc-0ea9-4d32-a9f9-4723697ddee6",
   "metadata": {},
   "outputs": [
    {
     "data": {
      "text/plain": [
       "'stopped'"
      ]
     },
     "execution_count": 5,
     "metadata": {},
     "output_type": "execute_result"
    }
   ],
   "source": [
    "synth.playStatus()"
   ]
  },
  {
   "cell_type": "code",
   "execution_count": 6,
   "id": "b1099bd6-c075-4a69-b42b-e4ce8e4fb8df",
   "metadata": {},
   "outputs": [],
   "source": []
  }
 ],
 "metadata": {
  "kernelspec": {
   "display_name": "Python 3 (ipykernel)",
   "language": "python",
   "name": "python3"
  },
  "language_info": {
   "codemirror_mode": {
    "name": "ipython",
    "version": 3
   },
   "file_extension": ".py",
   "mimetype": "text/x-python",
   "name": "python",
   "nbconvert_exporter": "python",
   "pygments_lexer": "ipython3",
   "version": "3.12.7"
  }
 },
 "nbformat": 4,
 "nbformat_minor": 5
}
