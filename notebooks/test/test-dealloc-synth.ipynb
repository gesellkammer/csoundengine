{
 "cells": [
  {
   "cell_type": "code",
   "execution_count": 1,
   "id": "78f6ba45-cb2e-4402-9565-f66b5022317c",
   "metadata": {},
   "outputs": [
    {
     "name": "stderr",
     "output_type": "stream",
     "text": [
      "WARNING: Csound 7 support is experimental. Proceed at yout own risk\n"
     ]
    }
   ],
   "source": [
    "from csoundengine import *"
   ]
  },
  {
   "cell_type": "code",
   "execution_count": 2,
   "id": "dca39fa9-9fd9-48f2-90db-7b97b34060d7",
   "metadata": {},
   "outputs": [
    {
     "name": "stderr",
     "output_type": "stream",
     "text": [
      "--Csound version 7.0 (double samples) Feb 25 2025\n",
      "[commit: 2d7b783a0ed4e67b6764d69cfb29edefdaea8826]\n",
      "\u001b[mlibsndfile-1.2.2\n",
      "\u001b[msr = 48000.0,\u001b[m kr = 750.000,\u001b[m ksmps = 64\n",
      "\u001b[m0dBFS level = 1.0,\u001b[m A4 tuning = 440.0\n",
      "\u001b[maudio buffered in 512 sample-frame blocks\n",
      "\u001b[mreading 4096-byte blks of shorts from adc:Built-in Audio Analog Stereo: (RAW)\n",
      "writing 1024 sample blks of 64-bit floats to dac:Built-in Audio Analog Stereo:\n",
      "SECTION 1:\n",
      "\u001b[m"
     ]
    }
   ],
   "source": [
    "s = Session()"
   ]
  },
  {
   "cell_type": "code",
   "execution_count": 15,
   "id": "bbb0f8f2-f904-440d-b4b7-6759f8fd2a7f",
   "metadata": {},
   "outputs": [
    {
     "data": {
      "text/html": [
       "Instr <strong style=\"color:MediumSeaGreen\">dealloc</strong><br>\n",
       "<hr style=\"width:38%;text-align:left;margin-left:0;border: 1px dashed; background: transparent;\">\n",
       "<span style=\"font-size:90%\"><div class=\"highlight\" style=\"background: #f8f8f8\"><pre style=\"line-height: 125%;\"><span></span><code><span style=\"color: #008000\">prints</span><span style=\"color: #BBB\"> </span><span style=\"color: #BA2121\">&quot;instr dealloc started</span><span style=\"color: #AA5D1F; font-weight: bold\">\\n</span><span style=\"color: #BA2121\">&quot;</span>\n",
       "<span style=\"color: #008000\">schedule</span><span style=\"color: #BBB\"> </span><span style=\"color: #BA2121\">&quot;foo&quot;</span>,<span style=\"color: #BBB\"> </span><span style=\"color: #666\">0</span>,<span style=\"color: #BBB\"> </span><span style=\"color: #666\">0</span>,<span style=\"color: #BBB\"> </span><span style=\"color: #BA2121\">&quot;msg from dealloc instr&quot;</span>\n",
       "defer<span style=\"color: #BBB\"> </span><span style=\"color: #BA2121\">&quot;prints&quot;</span>,<span style=\"color: #BBB\"> </span><span style=\"color: #BA2121\">&quot;dealloc ended</span><span style=\"color: #AA5D1F; font-weight: bold\">\\n</span><span style=\"color: #BA2121\">&quot;</span>\n",
       "</code></pre></div>\n",
       "</span>"
      ],
      "text/plain": [
       "Instr(dealloc)"
      ]
     },
     "execution_count": 15,
     "metadata": {},
     "output_type": "execute_result"
    }
   ],
   "source": [
    "s.defInstr(\"dealloc\", r'''\n",
    "prints \"instr dealloc started\\n\"\n",
    "schedule \"foo\", 0, 0, \"msg from dealloc instr\"\n",
    "defer \"prints\", \"dealloc ended\\n\"\n",
    "''')"
   ]
  },
  {
   "cell_type": "code",
   "execution_count": 18,
   "id": "bebf38a1-faaf-48a2-8691-22d8ab2f878f",
   "metadata": {},
   "outputs": [
    {
     "data": {
      "application/vnd.jupyter.widget-view+json": {
       "model_id": "72ca630053414ab38f33e9c16f4e55a0",
       "version_major": 2,
       "version_minor": 0
      },
      "text/plain": [
       "Button(description='Stop', style=ButtonStyle())"
      ]
     },
     "metadata": {},
     "output_type": "display_data"
    },
    {
     "data": {
      "application/vnd.jupyter.widget-view+json": {
       "model_id": "fe4c629554204222a2e1f031b20764d1",
       "version_major": 2,
       "version_minor": 0
      },
      "text/plain": [
       "Output()"
      ]
     },
     "metadata": {},
     "output_type": "display_data"
    },
    {
     "data": {
      "text/html": [
       "<p><span style=\"font-size:12px;\">Synth(𝍪 <strong style=\"color:MediumSeaGreen\">dealloc</strong>:501.0009)</span></p>"
      ],
      "text/plain": [
       "Synth(𝍪 dealloc=501.0009 start=1999.091 dur=100.000)"
      ]
     },
     "execution_count": 18,
     "metadata": {},
     "output_type": "execute_result"
    },
    {
     "name": "stderr",
     "output_type": "stream",
     "text": [
      "instr dealloc started\n",
      "\u001b[m---- foo (p1=31): msg from dealloc instr\n",
      "\u001b[m"
     ]
    }
   ],
   "source": [
    "synth = s.sched(\"dealloc\", 0, 100)\n",
    "synth"
   ]
  },
  {
   "cell_type": "code",
   "execution_count": 9,
   "id": "1aa176cc-0ea9-4d32-a9f9-4723697ddee6",
   "metadata": {},
   "outputs": [
    {
     "data": {
      "text/plain": [
       "'stopped'"
      ]
     },
     "execution_count": 9,
     "metadata": {},
     "output_type": "execute_result"
    }
   ],
   "source": [
    "synth.playStatus()"
   ]
  },
  {
   "cell_type": "code",
   "execution_count": 17,
   "id": "b1099bd6-c075-4a69-b42b-e4ce8e4fb8df",
   "metadata": {},
   "outputs": [],
   "source": [
    "s.engine.compile(r'''\n",
    "instr foo\n",
    "  Smsg = p4\n",
    "  prints \"---- foo (p1=%d): %s\\n\", p1, Smsg\n",
    "  turnoff\n",
    "endin\n",
    "''')"
   ]
  },
  {
   "cell_type": "code",
   "execution_count": 20,
   "id": "c669d4b9-bdda-4430-802a-74080898ad2f",
   "metadata": {},
   "outputs": [
    {
     "data": {
      "text/plain": [
       "{'foo': 31}"
      ]
     },
     "execution_count": 20,
     "metadata": {},
     "output_type": "execute_result"
    }
   ],
   "source": [
    "s.engine._instrNumCache"
   ]
  },
  {
   "cell_type": "code",
   "execution_count": 22,
   "id": "801bf55d-1acc-4071-a2ab-22f583c92aaf",
   "metadata": {},
   "outputs": [
    {
     "data": {
      "text/plain": [
       "[('builtinorc', 1, 99), ('session', 500, 2899)]"
      ]
     },
     "execution_count": 22,
     "metadata": {},
     "output_type": "execute_result"
    }
   ],
   "source": [
    "s.engine._reservedInstrnumRanges"
   ]
  },
  {
   "cell_type": "code",
   "execution_count": null,
   "id": "a6a1109d-3108-4f5b-bca7-eb42a29a5dec",
   "metadata": {},
   "outputs": [],
   "source": [
    "s.engine.getUniqueInstrInstance("
   ]
  }
 ],
 "metadata": {
  "kernelspec": {
   "display_name": "Python 3 (ipykernel)",
   "language": "python",
   "name": "python3"
  },
  "language_info": {
   "codemirror_mode": {
    "name": "ipython",
    "version": 3
   },
   "file_extension": ".py",
   "mimetype": "text/x-python",
   "name": "python",
   "nbconvert_exporter": "python",
   "pygments_lexer": "ipython3",
   "version": "3.12.3"
  }
 },
 "nbformat": 4,
 "nbformat_minor": 5
}
