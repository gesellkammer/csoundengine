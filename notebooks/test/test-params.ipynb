{
 "cells": [
  {
   "cell_type": "code",
   "execution_count": 1,
   "id": "14a58c31-2def-4d92-9805-9cabee07b8fc",
   "metadata": {},
   "outputs": [],
   "source": [
    "from csoundengine import *"
   ]
  },
  {
   "cell_type": "code",
   "execution_count": 2,
   "id": "87f711d6-de92-4fcc-b22d-492699e3fd71",
   "metadata": {},
   "outputs": [
    {
     "name": "stderr",
     "output_type": "stream",
     "text": [
      "--Csound version 7.0 (double samples) Apr 22 2025\n",
      "[commit: aaef34d3edf888cb46d6a8ba0e0b5a81d49db6a3]\n",
      "\u001b[mlibsndfile-1.2.2\n",
      "\u001b[msr = 48000.0,\u001b[m kr = 750.000,\u001b[m ksmps = 64\n",
      "\u001b[m0dBFS level = 1.0,\u001b[m A4 tuning = 440.0\n",
      "\u001b[maudio buffered in 256 sample-frame blocks\n",
      "\u001b[mreading 2048-byte blks of shorts from adc:Built-in Audio Analog Stereo: (RAW)\n",
      "writing 512 sample blks of 64-bit floats to dac:Built-in Audio Analog Stereo:\n",
      "SECTION 1:\n",
      "\u001b[m"
     ]
    }
   ],
   "source": [
    "s = Session(nchnls=2)"
   ]
  },
  {
   "cell_type": "code",
   "execution_count": 3,
   "id": "e5d3c772-64a4-47b1-b44f-57320fffb967",
   "metadata": {},
   "outputs": [
    {
     "data": {
      "text/html": [
       "Instr <strong style=\"color:MediumSeaGreen\">foo</strong><br>\n",
       "&nbsp&nbsp&nbsp&nbsp<span style=\"font-size:90%\"><b>ipfield</b>=<code>1</code></span>, <span style=\"font-size:90%\"><b>kctrl</b>=<code>2</code></span><br>\n",
       "<hr style=\"width:38%;text-align:left;margin-left:0;border: 1px dashed; background: transparent;\">\n",
       "<span style=\"font-size:90%\"><div class=\"highlight\" style=\"background: #f8f8f8\"><pre style=\"line-height: 125%;\"><span></span><code><span style=\"color: #008000\">println</span><span style=\"color: #BBB\"> </span><span style=\"color: #BA2121\">&quot;ipfield: </span><span style=\"color: #A45A77; font-weight: bold\">%f</span><span style=\"color: #BA2121\">, kctrl: </span><span style=\"color: #A45A77; font-weight: bold\">%f</span><span style=\"color: #BA2121\">&quot;</span>,<span style=\"color: #BBB\"> </span><span style=\"color: #B00040\">i</span>pfield,<span style=\"color: #BBB\"> </span><span style=\"color: #B00040\">k</span>ctrl\n",
       "<span style=\"color: #008000\">turnoff</span>\n",
       "</code></pre></div>\n",
       "</span>"
      ],
      "text/plain": [
       "Instr(foo, ipfield=1, kctrl=2)"
      ]
     },
     "execution_count": 3,
     "metadata": {},
     "output_type": "execute_result"
    }
   ],
   "source": [
    "s.defInstr('foo', r'''\n",
    "|ipfield=1, kctrl=2|\n",
    "println \"ipfield: %f, kctrl: %f\", ipfield, kctrl\n",
    "turnoff\n",
    "''')"
   ]
  },
  {
   "cell_type": "code",
   "execution_count": 4,
   "id": "38f018d1-784e-42a5-ad99-5f9b44a48d6d",
   "metadata": {},
   "outputs": [
    {
     "data": {
      "application/vnd.jupyter.widget-view+json": {
       "model_id": "fc28e342679f468695ff178f77829bc4",
       "version_major": 2,
       "version_minor": 0
      },
      "text/plain": [
       "Button(description='Stop', style=ButtonStyle())"
      ]
     },
     "metadata": {},
     "output_type": "display_data"
    },
    {
     "name": "stderr",
     "output_type": "stream",
     "text": [
      "ipfield: 0.500000, kctrl: 3.000000\n",
      "\u001b[m"
     ]
    },
    {
     "data": {
      "application/vnd.jupyter.widget-view+json": {
       "model_id": "d36c267757f548459a8a56fc26178f53",
       "version_major": 2,
       "version_minor": 0
      },
      "text/plain": [
       "Output()"
      ]
     },
     "metadata": {},
     "output_type": "display_data"
    },
    {
     "data": {
      "text/html": [
       "<p><span style=\"font-size:12px;\">Synth(𝍪 <strong style=\"color:MediumSeaGreen\">foo</strong>:501.0002, <span style=\"font-size:12px;\">5:<b>ipfield</b>=<code>0.5</code> 6:<b>kctrl</b>=<code>3</code></span>)</span></p>"
      ],
      "text/plain": [
       "Synth(𝍪 foo=501.0002 start=3.166 dur=1.000 p5=0.5 ipfield=3)"
      ]
     },
     "execution_count": 4,
     "metadata": {},
     "output_type": "execute_result"
    }
   ],
   "source": [
    "ev = s.sched('foo', 0, 1, ipfield=0.5, kctrl=3)\n",
    "ev"
   ]
  },
  {
   "cell_type": "code",
   "execution_count": 6,
   "id": "25dcded1-7ae9-4550-b898-aad4a1d80ee3",
   "metadata": {},
   "outputs": [
    {
     "data": {
      "application/vnd.jupyter.widget-view+json": {
       "model_id": "c900d6f44b5c433b96f831490b90cc90",
       "version_major": 2,
       "version_minor": 0
      },
      "text/plain": [
       "Button(description='Stop', style=ButtonStyle())"
      ]
     },
     "metadata": {},
     "output_type": "display_data"
    },
    {
     "data": {
      "application/vnd.jupyter.widget-view+json": {
       "model_id": "c2301aca652848c5b21ed97971282e88",
       "version_major": 2,
       "version_minor": 0
      },
      "text/plain": [
       "Output()"
      ]
     },
     "metadata": {},
     "output_type": "display_data"
    },
    {
     "data": {
      "text/html": [
       "<p><span style=\"font-size:12px;\">Synth(𝍪 <strong style=\"color:MediumSeaGreen\">.playSample</strong>:502.0003, <span style=\"font-size:12px;\">5:<b>isndtab</b>=<code>301</code> 6:<b>istart</b>=<code>0</code> 7:<b>ifadein</b>=<code>0.02</code> 8:<b>ifadeout</b>=<code>0.02</code> 9:<b>kchan</b>=<code>1</code> 10:<b>kspeed</b>=<code>0.75</code> 11:<b>kgain</b>=<code>1</code> 12:<b>kpan</b>=<code>0.5</code> 13:<b>ixfade</b>=<code>0.02</code></span>)</span></p>"
      ],
      "text/plain": [
       "Synth(𝍪 .playSample=502.0003 start=32.702 dur=14.344 p5=301 isndtab=0 istart=0.02 ifadein=0.02 ifadeout=1 kchan=0.75 kspeed=1 kgain=0.5 kpan=0.02)"
      ]
     },
     "execution_count": 6,
     "metadata": {},
     "output_type": "execute_result"
    }
   ],
   "source": [
    "snd = s.readSoundfile('/home/em/Lib/snd/samples/speech/colours-german-male.flac')\n",
    "ev2 = s.playSample(snd, speed=0.75, loop=True)\n",
    "ev2"
   ]
  },
  {
   "cell_type": "code",
   "execution_count": 7,
   "id": "2a0d8b32-7687-4228-a00d-3191f6fd1b07",
   "metadata": {},
   "outputs": [],
   "source": [
    "ev2.set(pan=0.5)"
   ]
  },
  {
   "cell_type": "code",
   "execution_count": 8,
   "id": "3f6f5915-6a86-472e-ac13-3fdcd5b71048",
   "metadata": {},
   "outputs": [],
   "source": [
    "ev2.set(speed=1)"
   ]
  },
  {
   "cell_type": "code",
   "execution_count": 9,
   "id": "c337188d-d4cb-4cc2-b441-fd31a862805a",
   "metadata": {},
   "outputs": [
    {
     "data": {
      "text/plain": [
       "11"
      ]
     },
     "execution_count": 9,
     "metadata": {},
     "output_type": "execute_result"
    }
   ],
   "source": [
    "ev2.automate('speed', (0, 0.5, 5, 1, 10, 0.25), mode='cos')"
   ]
  },
  {
   "cell_type": "code",
   "execution_count": 10,
   "id": "b3c894b4-e047-47af-8543-7f563f98ac6a",
   "metadata": {},
   "outputs": [
    {
     "ename": "RuntimeError",
     "evalue": "The event Synth(■ .playSample=502.0003 start=32.702 dur=14.344 p5=301 isndtab=0 istart=0.02 ifadein=0.02 ifadeout=1 kchan=0.75 kspeed=1 kgain=0.5 kpan=0.02) has already stopped, cannot automate",
     "output_type": "error",
     "traceback": [
      "\u001b[31m---------------------------------------------------------------------------\u001b[39m",
      "\u001b[31mRuntimeError\u001b[39m                              Traceback (most recent call last)",
      "\u001b[36mCell\u001b[39m\u001b[36m \u001b[39m\u001b[32mIn[10]\u001b[39m\u001b[32m, line 1\u001b[39m\n\u001b[32m----> \u001b[39m\u001b[32m1\u001b[39m \u001b[43mev2\u001b[49m\u001b[43m.\u001b[49m\u001b[43mautomate\u001b[49m\u001b[43m(\u001b[49m\u001b[33;43m'\u001b[39;49m\u001b[33;43mpan\u001b[39;49m\u001b[33;43m'\u001b[39;49m\u001b[43m,\u001b[49m\u001b[43m \u001b[49m\u001b[43m(\u001b[49m\u001b[32;43m0\u001b[39;49m\u001b[43m,\u001b[49m\u001b[43m \u001b[49m\u001b[32;43m0\u001b[39;49m\u001b[43m,\u001b[49m\u001b[43m \u001b[49m\u001b[32;43m5\u001b[39;49m\u001b[43m,\u001b[49m\u001b[43m \u001b[49m\u001b[32;43m1\u001b[39;49m\u001b[43m)\u001b[49m\u001b[43m,\u001b[49m\u001b[43m \u001b[49m\u001b[43mmode\u001b[49m\u001b[43m=\u001b[49m\u001b[33;43m'\u001b[39;49m\u001b[33;43mcos\u001b[39;49m\u001b[33;43m'\u001b[39;49m\u001b[43m)\u001b[49m\n",
      "\u001b[36mFile \u001b[39m\u001b[32m~/dev/python/csoundengine/csoundengine/synth.py:515\u001b[39m, in \u001b[36mSynth.automate\u001b[39m\u001b[34m(self, param, pairs, mode, delay, overtake)\u001b[39m\n\u001b[32m    490\u001b[39m \u001b[38;5;28;01mdef\u001b[39;00m\u001b[38;5;250m \u001b[39m\u001b[34mautomate\u001b[39m(\u001b[38;5;28mself\u001b[39m,\n\u001b[32m    491\u001b[39m              param: \u001b[38;5;28mstr\u001b[39m,\n\u001b[32m    492\u001b[39m              pairs: Sequence[\u001b[38;5;28mfloat\u001b[39m] | np.ndarray | \u001b[38;5;28mtuple\u001b[39m[np.ndarray, np.ndarray],\n\u001b[32m   (...)\u001b[39m\u001b[32m    495\u001b[39m              overtake=\u001b[38;5;28;01mFalse\u001b[39;00m,\n\u001b[32m    496\u001b[39m              ) -> \u001b[38;5;28mfloat\u001b[39m:\n\u001b[32m    497\u001b[39m \u001b[38;5;250m    \u001b[39m\u001b[33;03m\"\"\"\u001b[39;00m\n\u001b[32m    498\u001b[39m \u001b[33;03m    Automate any named parameter of this Synth\u001b[39;00m\n\u001b[32m    499\u001b[39m \n\u001b[32m   (...)\u001b[39m\u001b[32m    513\u001b[39m \u001b[33;03m        the eventid of the automation event.\u001b[39;00m\n\u001b[32m    514\u001b[39m \u001b[33;03m    \"\"\"\u001b[39;00m\n\u001b[32m--> \u001b[39m\u001b[32m515\u001b[39m     \u001b[38;5;28;01mreturn\u001b[39;00m \u001b[38;5;28;43mself\u001b[39;49m\u001b[43m.\u001b[49m\u001b[43msession\u001b[49m\u001b[43m.\u001b[49m\u001b[43mautomate\u001b[49m\u001b[43m(\u001b[49m\u001b[43mevent\u001b[49m\u001b[43m=\u001b[49m\u001b[38;5;28;43mself\u001b[39;49m\u001b[43m,\u001b[49m\u001b[43m \u001b[49m\u001b[43mparam\u001b[49m\u001b[43m=\u001b[49m\u001b[43mparam\u001b[49m\u001b[43m,\u001b[49m\u001b[43m \u001b[49m\u001b[43mpairs\u001b[49m\u001b[43m=\u001b[49m\u001b[43mpairs\u001b[49m\u001b[43m,\u001b[49m\u001b[43m \u001b[49m\u001b[43mmode\u001b[49m\u001b[43m=\u001b[49m\u001b[43mmode\u001b[49m\u001b[43m,\u001b[49m\n\u001b[32m    516\u001b[39m \u001b[43m                                 \u001b[49m\u001b[43mdelay\u001b[49m\u001b[43m=\u001b[49m\u001b[43mdelay\u001b[49m\u001b[43m,\u001b[49m\u001b[43m \u001b[49m\u001b[43movertake\u001b[49m\u001b[43m=\u001b[49m\u001b[43movertake\u001b[49m\u001b[43m)\u001b[49m\n",
      "\u001b[36mFile \u001b[39m\u001b[32m~/dev/python/csoundengine/csoundengine/session.py:455\u001b[39m, in \u001b[36mSession.automate\u001b[39m\u001b[34m(self, event, param, pairs, mode, delay, overtake)\u001b[39m\n\u001b[32m    452\u001b[39m     \u001b[38;5;28;01mreturn\u001b[39;00m \u001b[38;5;28mself\u001b[39m._automateTable(event=event, param=param, pairs=pairs, mode=mode,\n\u001b[32m    453\u001b[39m                                delay=relstart, overtake=overtake)\n\u001b[32m    454\u001b[39m \u001b[38;5;28;01melif\u001b[39;00m (pargs := instr.pfieldNames(aliases=\u001b[38;5;28;01mFalse\u001b[39;00m)) \u001b[38;5;129;01mand\u001b[39;00m param \u001b[38;5;129;01min\u001b[39;00m pargs:\n\u001b[32m--> \u001b[39m\u001b[32m455\u001b[39m     \u001b[38;5;28;01mreturn\u001b[39;00m \u001b[38;5;28;43mself\u001b[39;49m\u001b[43m.\u001b[49m\u001b[43m_automatePfield\u001b[49m\u001b[43m(\u001b[49m\u001b[43mevent\u001b[49m\u001b[43m=\u001b[49m\u001b[43mevent\u001b[49m\u001b[43m,\u001b[49m\u001b[43m \u001b[49m\u001b[43mparam\u001b[49m\u001b[43m=\u001b[49m\u001b[43mparam\u001b[49m\u001b[43m,\u001b[49m\u001b[43m \u001b[49m\u001b[43mpairs\u001b[49m\u001b[43m=\u001b[49m\u001b[43mpairs\u001b[49m\u001b[43m,\u001b[49m\u001b[43m \u001b[49m\u001b[43mmode\u001b[49m\u001b[43m=\u001b[49m\u001b[43mmode\u001b[49m\u001b[43m,\u001b[49m\n\u001b[32m    456\u001b[39m \u001b[43m                                \u001b[49m\u001b[43mdelay\u001b[49m\u001b[43m=\u001b[49m\u001b[43mrelstart\u001b[49m\u001b[43m,\u001b[49m\u001b[43m \u001b[49m\u001b[43movertake\u001b[49m\u001b[43m=\u001b[49m\u001b[43movertake\u001b[49m\u001b[43m)\u001b[49m\n\u001b[32m    457\u001b[39m \u001b[38;5;28;01melse\u001b[39;00m:\n\u001b[32m    458\u001b[39m     \u001b[38;5;28;01mraise\u001b[39;00m \u001b[38;5;167;01mKeyError\u001b[39;00m(\u001b[33mf\u001b[39m\u001b[33m\"\u001b[39m\u001b[33mUnknown parameter \u001b[39m\u001b[33m'\u001b[39m\u001b[38;5;132;01m{\u001b[39;00mparam\u001b[38;5;132;01m}\u001b[39;00m\u001b[33m'\u001b[39m\u001b[33m, supported parameters: \u001b[39m\u001b[38;5;132;01m{\u001b[39;00minstr.dynamicParamNames()\u001b[38;5;132;01m}\u001b[39;00m\u001b[33m\"\u001b[39m)\n",
      "\u001b[36mFile \u001b[39m\u001b[32m~/dev/python/csoundengine/csoundengine/session.py:468\u001b[39m, in \u001b[36mSession._automatePfield\u001b[39m\u001b[34m(self, event, param, pairs, mode, delay, overtake)\u001b[39m\n\u001b[32m    460\u001b[39m \u001b[38;5;28;01mdef\u001b[39;00m\u001b[38;5;250m \u001b[39m\u001b[34m_automatePfield\u001b[39m(\u001b[38;5;28mself\u001b[39m,\n\u001b[32m    461\u001b[39m                     event: SchedEvent,\n\u001b[32m    462\u001b[39m                     param: \u001b[38;5;28mint\u001b[39m | \u001b[38;5;28mstr\u001b[39m,\n\u001b[32m   (...)\u001b[39m\u001b[32m    465\u001b[39m                     delay=\u001b[32m0.\u001b[39m,\n\u001b[32m    466\u001b[39m                     overtake=\u001b[38;5;28;01mFalse\u001b[39;00m):\n\u001b[32m    467\u001b[39m     \u001b[38;5;28;01mif\u001b[39;00m event.playStatus() == \u001b[33m'\u001b[39m\u001b[33mstopped\u001b[39m\u001b[33m'\u001b[39m:\n\u001b[32m--> \u001b[39m\u001b[32m468\u001b[39m         \u001b[38;5;28;01mraise\u001b[39;00m \u001b[38;5;167;01mRuntimeError\u001b[39;00m(\u001b[33mf\u001b[39m\u001b[33m\"\u001b[39m\u001b[33mThe event \u001b[39m\u001b[38;5;132;01m{\u001b[39;00mevent\u001b[38;5;132;01m}\u001b[39;00m\u001b[33m has already stopped, cannot automate\u001b[39m\u001b[33m\"\u001b[39m)\n\u001b[32m    470\u001b[39m     \u001b[38;5;28;01mif\u001b[39;00m \u001b[38;5;28misinstance\u001b[39m(param, \u001b[38;5;28mstr\u001b[39m):\n\u001b[32m    471\u001b[39m         \u001b[38;5;28;01massert\u001b[39;00m event.instr \u001b[38;5;129;01mis\u001b[39;00m \u001b[38;5;129;01mnot\u001b[39;00m \u001b[38;5;28;01mNone\u001b[39;00m\n",
      "\u001b[31mRuntimeError\u001b[39m: The event Synth(■ .playSample=502.0003 start=32.702 dur=14.344 p5=301 isndtab=0 istart=0.02 ifadein=0.02 ifadeout=1 kchan=0.75 kspeed=1 kgain=0.5 kpan=0.02) has already stopped, cannot automate"
     ]
    }
   ],
   "source": [
    "ev2.automate('pan', (0, 0, 5, 1), mode='cos')"
   ]
  },
  {
   "cell_type": "code",
   "execution_count": 9,
   "id": "bd3b0d72-5358-47be-94cf-4d3cbd492777",
   "metadata": {},
   "outputs": [
    {
     "data": {
      "application/vnd.jupyter.widget-view+json": {
       "model_id": "23eb61cb1df54cad8f91f463dfa2c27b",
       "version_major": 2,
       "version_minor": 0
      },
      "text/plain": [
       "Button(description='Stop', style=ButtonStyle())"
      ]
     },
     "metadata": {},
     "output_type": "display_data"
    },
    {
     "data": {
      "application/vnd.jupyter.widget-view+json": {
       "model_id": "f08dfbedb8b94ceaa04750f6490de88d",
       "version_major": 2,
       "version_minor": 0
      },
      "text/plain": [
       "FloatSlider(value=1.0, description='gain', layout=Layout(width='80%'), max=1.0, readout_format='.3f', step=0.0…"
      ]
     },
     "metadata": {},
     "output_type": "display_data"
    },
    {
     "data": {
      "application/vnd.jupyter.widget-view+json": {
       "model_id": "a2fe36891567480c8e8529954c5a681e",
       "version_major": 2,
       "version_minor": 0
      },
      "text/plain": [
       "FloatSlider(value=1.0, description='kchan', layout=Layout(width='80%'), max=2.0, readout_format='.3f', step=0.…"
      ]
     },
     "metadata": {},
     "output_type": "display_data"
    },
    {
     "data": {
      "application/vnd.jupyter.widget-view+json": {
       "model_id": "3402cf36a16c43399146caea4914a0b2",
       "version_major": 2,
       "version_minor": 0
      },
      "text/plain": [
       "FloatSlider(value=0.5, description='pan', layout=Layout(width='80%'), max=1.0, readout_format='.3f', step=0.00…"
      ]
     },
     "metadata": {},
     "output_type": "display_data"
    },
    {
     "data": {
      "application/vnd.jupyter.widget-view+json": {
       "model_id": "dd791203fd44469dac817c9213205b41",
       "version_major": 2,
       "version_minor": 0
      },
      "text/plain": [
       "FloatSlider(value=0.75, description='speed', layout=Layout(width='80%'), max=2.0, readout_format='.3f', step=0…"
      ]
     },
     "metadata": {},
     "output_type": "display_data"
    }
   ],
   "source": [
    "ev2.ui()"
   ]
  },
  {
   "cell_type": "code",
   "execution_count": 11,
   "id": "efed12e7-b7dd-4e20-b553-c7fc23c315c8",
   "metadata": {},
   "outputs": [
    {
     "data": {
      "text/plain": [
       "frozenset({'gain', 'kchan', 'pan', 'speed'})"
      ]
     },
     "execution_count": 11,
     "metadata": {},
     "output_type": "execute_result"
    }
   ],
   "source": [
    "ev2.dynamicParamNames()"
   ]
  },
  {
   "cell_type": "code",
   "execution_count": 12,
   "id": "9bfdd7e8-944d-4389-98e6-d0f90f93c689",
   "metadata": {},
   "outputs": [
    {
     "data": {
      "text/plain": [
       "{'speed': 'kspeed', 'gain': 'kgain', 'pan': 'kpan'}"
      ]
     },
     "execution_count": 12,
     "metadata": {},
     "output_type": "execute_result"
    }
   ],
   "source": [
    "instr = s.getInstr('.playSample')\n",
    "instr.aliases"
   ]
  },
  {
   "cell_type": "code",
   "execution_count": 13,
   "id": "840e43b4-4cc9-4e3b-81f4-61a615efbd9d",
   "metadata": {},
   "outputs": [
    {
     "data": {
      "text/plain": [
       "frozenset({'gain',\n",
       "           'ifadein',\n",
       "           'ifadeout',\n",
       "           'isndtab',\n",
       "           'istart',\n",
       "           'ixfade',\n",
       "           'kchan',\n",
       "           'kgain',\n",
       "           'kpan',\n",
       "           'kspeed',\n",
       "           'pan',\n",
       "           'speed'})"
      ]
     },
     "execution_count": 13,
     "metadata": {},
     "output_type": "execute_result"
    }
   ],
   "source": [
    "instr.pfieldNames(aliases=True, aliased=True)"
   ]
  },
  {
   "cell_type": "code",
   "execution_count": 14,
   "id": "9198a4e3-750d-40e4-a275-49f9d116f874",
   "metadata": {},
   "outputs": [
    {
     "data": {
      "text/plain": [
       "frozenset()"
      ]
     },
     "execution_count": 14,
     "metadata": {},
     "output_type": "execute_result"
    }
   ],
   "source": [
    "instr.controlNames()"
   ]
  },
  {
   "cell_type": "code",
   "execution_count": 16,
   "id": "7aaa794a-8de6-4cf0-bca8-b234f2190b90",
   "metadata": {},
   "outputs": [
    {
     "data": {
      "application/vnd.jupyter.widget-view+json": {
       "model_id": "35ab0e2db2044b27bcb3de06bd87fbf2",
       "version_major": 2,
       "version_minor": 0
      },
      "text/plain": [
       "Button(description='Stop', style=ButtonStyle())"
      ]
     },
     "metadata": {},
     "output_type": "display_data"
    },
    {
     "data": {
      "application/vnd.jupyter.widget-view+json": {
       "model_id": "8f7e458154284b05bbf2c27dab49f207",
       "version_major": 2,
       "version_minor": 0
      },
      "text/plain": [
       "FloatSlider(value=1.0, description='gain', layout=Layout(width='80%'), max=1.0, readout_format='.3f', step=0.0…"
      ]
     },
     "metadata": {},
     "output_type": "display_data"
    },
    {
     "data": {
      "application/vnd.jupyter.widget-view+json": {
       "model_id": "bb38c48b016f4e5882475c8d4116fe52",
       "version_major": 2,
       "version_minor": 0
      },
      "text/plain": [
       "FloatSlider(value=1.0, description='kchan', layout=Layout(width='80%'), max=2.0, readout_format='.3f', step=0.…"
      ]
     },
     "metadata": {},
     "output_type": "display_data"
    },
    {
     "data": {
      "application/vnd.jupyter.widget-view+json": {
       "model_id": "d64ce29233d04a9582f411ed1c8e48ed",
       "version_major": 2,
       "version_minor": 0
      },
      "text/plain": [
       "FloatSlider(value=0.5, description='pan', layout=Layout(width='80%'), max=1.0, readout_format='.3f', step=0.00…"
      ]
     },
     "metadata": {},
     "output_type": "display_data"
    },
    {
     "data": {
      "application/vnd.jupyter.widget-view+json": {
       "model_id": "a095d32c1e944173a62b9c34f68e512a",
       "version_major": 2,
       "version_minor": 0
      },
      "text/plain": [
       "FloatSlider(value=0.75, description='speed', layout=Layout(width='80%'), max=2.0, readout_format='.3f', step=0…"
      ]
     },
     "metadata": {},
     "output_type": "display_data"
    }
   ],
   "source": [
    "snd = s.readSoundfile('/home/em/Lib/snd/samples/speech/colours-german-male.flac')\n",
    "ev1 = s.playSample(snd, speed=0.75, loop=True)\n",
    "ev2 = s.playSample(snd, speed=0.5, loop=True)\n",
    "group = SynthGroup((ev1, ev2))\n",
    "group.ui()"
   ]
  },
  {
   "cell_type": "code",
   "execution_count": 17,
   "id": "f997555b-c1ce-4cdb-911c-668e5ed8a514",
   "metadata": {},
   "outputs": [
    {
     "data": {
      "application/vnd.jupyter.widget-view+json": {
       "model_id": "f5fb6c432d60411bb6404ff68cd14573",
       "version_major": 2,
       "version_minor": 0
      },
      "text/plain": [
       "Button(description='Stop', style=ButtonStyle())"
      ]
     },
     "metadata": {},
     "output_type": "display_data"
    },
    {
     "data": {
      "application/vnd.jupyter.widget-view+json": {
       "model_id": "1bd19fb2d3874d7cb258993a204d16c8",
       "version_major": 2,
       "version_minor": 0
      },
      "text/plain": [
       "FloatSlider(value=1.0, description='gain', layout=Layout(width='80%'), max=1.0, readout_format='.3f', step=0.0…"
      ]
     },
     "metadata": {},
     "output_type": "display_data"
    },
    {
     "data": {
      "application/vnd.jupyter.widget-view+json": {
       "model_id": "3fd8dd084d2d4a7fa19c383d626db206",
       "version_major": 2,
       "version_minor": 0
      },
      "text/plain": [
       "FloatSlider(value=1.0, description='kchan', layout=Layout(width='80%'), max=2.0, readout_format='.3f', step=0.…"
      ]
     },
     "metadata": {},
     "output_type": "display_data"
    },
    {
     "data": {
      "application/vnd.jupyter.widget-view+json": {
       "model_id": "1a8fffa0069f458b9a4e8680907c12b0",
       "version_major": 2,
       "version_minor": 0
      },
      "text/plain": [
       "FloatSlider(value=0.5, description='pan', layout=Layout(width='80%'), max=1.0, readout_format='.3f', step=0.00…"
      ]
     },
     "metadata": {},
     "output_type": "display_data"
    },
    {
     "data": {
      "application/vnd.jupyter.widget-view+json": {
       "model_id": "146a526fb5c4464d8c39a55844b6ec0d",
       "version_major": 2,
       "version_minor": 0
      },
      "text/plain": [
       "FloatSlider(value=0.75, description='speed', layout=Layout(width='80%'), max=2.0, readout_format='.3f', step=0…"
      ]
     },
     "metadata": {},
     "output_type": "display_data"
    },
    {
     "data": {
      "application/vnd.jupyter.widget-view+json": {
       "model_id": "7c5a05811a124a4e9e45070b4b4cf837",
       "version_major": 2,
       "version_minor": 0
      },
      "text/plain": [
       "Button(description='Stop', style=ButtonStyle())"
      ]
     },
     "metadata": {},
     "output_type": "display_data"
    },
    {
     "data": {
      "application/vnd.jupyter.widget-view+json": {
       "model_id": "569a594445a646fd8f1eb403329ee44a",
       "version_major": 2,
       "version_minor": 0
      },
      "text/plain": [
       "FloatSlider(value=1.0, description='gain', layout=Layout(width='80%'), max=1.0, readout_format='.3f', step=0.0…"
      ]
     },
     "metadata": {},
     "output_type": "display_data"
    },
    {
     "data": {
      "application/vnd.jupyter.widget-view+json": {
       "model_id": "9ad9615a4778452391a6ddc9163512d2",
       "version_major": 2,
       "version_minor": 0
      },
      "text/plain": [
       "FloatSlider(value=1.0, description='kchan', layout=Layout(width='80%'), max=2.0, readout_format='.3f', step=0.…"
      ]
     },
     "metadata": {},
     "output_type": "display_data"
    },
    {
     "data": {
      "application/vnd.jupyter.widget-view+json": {
       "model_id": "ca55723d6f204840b0058e7430afeba8",
       "version_major": 2,
       "version_minor": 0
      },
      "text/plain": [
       "FloatSlider(value=0.5, description='pan', layout=Layout(width='80%'), max=1.0, readout_format='.3f', step=0.00…"
      ]
     },
     "metadata": {},
     "output_type": "display_data"
    },
    {
     "data": {
      "application/vnd.jupyter.widget-view+json": {
       "model_id": "7df3a5bcd85044e196c1422fe4ad23f6",
       "version_major": 2,
       "version_minor": 0
      },
      "text/plain": [
       "FloatSlider(value=0.5, description='speed', layout=Layout(width='80%'), max=2.0, readout_format='.3f', step=0.…"
      ]
     },
     "metadata": {},
     "output_type": "display_data"
    }
   ],
   "source": [
    "ev1 = s.playSample(snd, speed=0.75, loop=True)\n",
    "ev2 = s.playSample(snd, speed=0.5, loop=True)\n",
    "ev1.ui()\n",
    "ev2.ui()"
   ]
  },
  {
   "cell_type": "code",
   "execution_count": null,
   "id": "9f73731e-a1c9-40d1-a570-9c1dd2d7a4e3",
   "metadata": {},
   "outputs": [],
   "source": []
  }
 ],
 "metadata": {
  "kernelspec": {
   "display_name": "Python 3 (ipykernel)",
   "language": "python",
   "name": "python3"
  },
  "language_info": {
   "codemirror_mode": {
    "name": "ipython",
    "version": 3
   },
   "file_extension": ".py",
   "mimetype": "text/x-python",
   "name": "python",
   "nbconvert_exporter": "python",
   "pygments_lexer": "ipython3",
   "version": "3.12.7"
  }
 },
 "nbformat": 4,
 "nbformat_minor": 5
}
