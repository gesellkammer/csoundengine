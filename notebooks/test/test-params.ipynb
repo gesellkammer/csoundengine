{
 "cells": [
  {
   "cell_type": "code",
   "execution_count": 1,
   "id": "14a58c31-2def-4d92-9805-9cabee07b8fc",
   "metadata": {},
   "outputs": [],
   "source": [
    "from csoundengine import *"
   ]
  },
  {
   "cell_type": "code",
   "execution_count": 2,
   "id": "87f711d6-de92-4fcc-b22d-492699e3fd71",
   "metadata": {},
   "outputs": [
    {
     "name": "stderr",
     "output_type": "stream",
     "text": [
      "--Csound version 7.0 (double samples) May 14 2025\n",
      "[commit: ba226ccf9e9d38cd4516498e6ff7d59ba734b5e1]\n",
      "\u001b[mlibsndfile-1.2.2\n",
      "\u001b[msr = 48000.0,\u001b[m kr = 750.000,\u001b[m ksmps = 64\n",
      "\u001b[m0dBFS level = 1.0,\u001b[m A4 tuning = 440.0\n",
      "\u001b[maudio buffered in 256 sample-frame blocks\n",
      "\u001b[mreading 2048-byte blks of shorts from adc:Built-in Audio Analog Stereo: (RAW)\n",
      "writing 512 sample blks of 64-bit floats to dac:Built-in Audio Analog Stereo:\n",
      "SECTION 1:\n",
      "\u001b[m"
     ]
    }
   ],
   "source": [
    "s = Session(nchnls=2)"
   ]
  },
  {
   "cell_type": "code",
   "execution_count": 3,
   "id": "e5d3c772-64a4-47b1-b44f-57320fffb967",
   "metadata": {},
   "outputs": [
    {
     "data": {
      "text/html": [
       "Instr <strong style=\"color:MediumSeaGreen\">foo</strong><br>\n",
       "&nbsp&nbsp&nbsp&nbsp<span style=\"font-size:90%\"><b>ipfield</b>=<code>1</code></span>, <span style=\"font-size:90%\"><b>kctrl</b>=<code>2</code></span><br>\n",
       "<hr style=\"width:38%;text-align:left;margin-left:0;border: 1px dashed; background: transparent;\">\n",
       "<span style=\"font-size:90%\"><div class=\"highlight\" style=\"background: #f8f8f8\"><pre style=\"line-height: 125%;\"><span></span><code><span style=\"color: #008000\">println</span><span style=\"color: #BBB\"> </span><span style=\"color: #BA2121\">&quot;ipfield: </span><span style=\"color: #A45A77; font-weight: bold\">%f</span><span style=\"color: #BA2121\">, kctrl: </span><span style=\"color: #A45A77; font-weight: bold\">%f</span><span style=\"color: #BA2121\">&quot;</span>,<span style=\"color: #BBB\"> </span><span style=\"color: #B00040\">i</span>pfield,<span style=\"color: #BBB\"> </span><span style=\"color: #B00040\">k</span>ctrl\n",
       "<span style=\"color: #008000\">turnoff</span>\n",
       "</code></pre></div>\n",
       "</span>"
      ],
      "text/plain": [
       "Instr(foo, ipfield=1, kctrl=2)"
      ]
     },
     "execution_count": 3,
     "metadata": {},
     "output_type": "execute_result"
    }
   ],
   "source": [
    "s.defInstr('foo', r'''\n",
    "|ipfield=1, kctrl=2|\n",
    "println \"ipfield: %f, kctrl: %f\", ipfield, kctrl\n",
    "turnoff\n",
    "''')"
   ]
  },
  {
   "cell_type": "code",
   "execution_count": 4,
   "id": "38f018d1-784e-42a5-ad99-5f9b44a48d6d",
   "metadata": {},
   "outputs": [
    {
     "data": {
      "application/vnd.jupyter.widget-view+json": {
       "model_id": "72892a6cf3d4466cb4af7d868f988fe3",
       "version_major": 2,
       "version_minor": 0
      },
      "text/plain": [
       "Button(description='Stop', style=ButtonStyle())"
      ]
     },
     "metadata": {},
     "output_type": "display_data"
    },
    {
     "data": {
      "application/vnd.jupyter.widget-view+json": {
       "model_id": "48f881abaa2c43de94f1b339eea29807",
       "version_major": 2,
       "version_minor": 0
      },
      "text/plain": [
       "Output()"
      ]
     },
     "metadata": {},
     "output_type": "display_data"
    },
    {
     "data": {
      "text/html": [
       "<p><span style=\"font-size:12px;\">Synth(𝍪 <strong style=\"color:MediumSeaGreen\">foo</strong>:501.0002, <span style=\"font-size:12px;\">5:<b>ipfield</b>=<code>0.5</code> 6:<b>kctrl</b>=<code>3</code></span>)</span></p>"
      ],
      "text/plain": [
       "Synth(𝍪 foo=501.0002 start=2.665 dur=1.000 p5=0.5 ipfield=3)"
      ]
     },
     "execution_count": 4,
     "metadata": {},
     "output_type": "execute_result"
    },
    {
     "name": "stderr",
     "output_type": "stream",
     "text": [
      "ipfield: 0.500000, kctrl: 3.000000\n",
      "\u001b[m"
     ]
    }
   ],
   "source": [
    "ev = s.sched('foo', 0, 1, ipfield=0.5, kctrl=3)\n",
    "ev"
   ]
  },
  {
   "cell_type": "code",
   "execution_count": 12,
   "id": "25dcded1-7ae9-4550-b898-aad4a1d80ee3",
   "metadata": {},
   "outputs": [
    {
     "data": {
      "application/vnd.jupyter.widget-view+json": {
       "model_id": "de4c33413741423ebc508aa840cace7e",
       "version_major": 2,
       "version_minor": 0
      },
      "text/plain": [
       "Button(description='Stop', style=ButtonStyle())"
      ]
     },
     "metadata": {},
     "output_type": "display_data"
    },
    {
     "data": {
      "application/vnd.jupyter.widget-view+json": {
       "model_id": "9038ed3ae3aa4b9abbd0346c6efd34e8",
       "version_major": 2,
       "version_minor": 0
      },
      "text/plain": [
       "Output()"
      ]
     },
     "metadata": {},
     "output_type": "display_data"
    },
    {
     "data": {
      "text/html": [
       "<p><span style=\"font-size:12px;\">Synth(𝍪 <strong style=\"color:MediumSeaGreen\">.playSample</strong>:502.0004, <span style=\"font-size:12px;\">5:<b>isndtab</b>=<code>301</code> 6:<b>istart</b>=<code>0</code> 7:<b>ifadein</b>=<code>0.02</code> 8:<b>ifadeout</b>=<code>0.02</code> 9:<b>kchan</b>=<code>1</code> 10:<b>kspeed</b>=<code>0.75</code> 11:<b>kgain</b>=<code>1</code> 12:<b>kpan</b>=<code>0.5</code> 13:<b>ixfade</b>=<code>0.02</code></span>)</span></p>"
      ],
      "text/plain": [
       "Synth(𝍪 .playSample=502.0004 start=39.209 dur=14.344 p5=301 isndtab=0 istart=0.02 ifadein=0.02 ifadeout=1 kchan=0.75 kspeed=1 kgain=0.5 kpan=0.02)"
      ]
     },
     "execution_count": 12,
     "metadata": {},
     "output_type": "execute_result"
    }
   ],
   "source": [
    "snd = s.readSoundfile('/home/em/Lib/snd/samples/speech/colours-german-male.flac')\n",
    "ev2 = s.playSample(snd, speed=0.75, loop=True)\n",
    "ev2"
   ]
  },
  {
   "cell_type": "code",
   "execution_count": 6,
   "id": "2a0d8b32-7687-4228-a00d-3191f6fd1b07",
   "metadata": {},
   "outputs": [],
   "source": [
    "ev2.set(pan=0.5)"
   ]
  },
  {
   "cell_type": "code",
   "execution_count": 8,
   "id": "3f6f5915-6a86-472e-ac13-3fdcd5b71048",
   "metadata": {},
   "outputs": [],
   "source": [
    "ev2.set(speed=1)"
   ]
  },
  {
   "cell_type": "code",
   "execution_count": 9,
   "id": "c337188d-d4cb-4cc2-b441-fd31a862805a",
   "metadata": {},
   "outputs": [
    {
     "data": {
      "text/plain": [
       "11"
      ]
     },
     "execution_count": 9,
     "metadata": {},
     "output_type": "execute_result"
    }
   ],
   "source": [
    "ev2.automate('speed', (0, 0.5, 5, 1, 10, 0.25), mode='cos')"
   ]
  },
  {
   "cell_type": "code",
   "execution_count": 10,
   "id": "b3c894b4-e047-47af-8543-7f563f98ac6a",
   "metadata": {},
   "outputs": [
    {
     "data": {
      "text/plain": [
       "11"
      ]
     },
     "execution_count": 10,
     "metadata": {},
     "output_type": "execute_result"
    }
   ],
   "source": [
    "ev2.automate('pan', (0, 0, 5, 1), mode='cos')"
   ]
  },
  {
   "cell_type": "code",
   "execution_count": 13,
   "id": "bd3b0d72-5358-47be-94cf-4d3cbd492777",
   "metadata": {},
   "outputs": [
    {
     "data": {
      "application/vnd.jupyter.widget-view+json": {
       "model_id": "761b9378d70240b1b3e870d3f69516dd",
       "version_major": 2,
       "version_minor": 0
      },
      "text/plain": [
       "Button(description='Stop', style=ButtonStyle())"
      ]
     },
     "metadata": {},
     "output_type": "display_data"
    },
    {
     "data": {
      "application/vnd.jupyter.widget-view+json": {
       "model_id": "88c707a1349d48479e8e021f9fb98f08",
       "version_major": 2,
       "version_minor": 0
      },
      "text/plain": [
       "FloatSlider(value=1.0, description='gain', layout=Layout(width='80%'), max=1.0, readout_format='.3f', step=0.0…"
      ]
     },
     "metadata": {},
     "output_type": "display_data"
    },
    {
     "data": {
      "application/vnd.jupyter.widget-view+json": {
       "model_id": "10f27448a478463996a9e9df95116e79",
       "version_major": 2,
       "version_minor": 0
      },
      "text/plain": [
       "FloatSlider(value=1.0, description='kchan', layout=Layout(width='80%'), max=2.0, readout_format='.3f', step=0.…"
      ]
     },
     "metadata": {},
     "output_type": "display_data"
    },
    {
     "data": {
      "application/vnd.jupyter.widget-view+json": {
       "model_id": "4eadd56c3fc84e079ed688e902e5fd70",
       "version_major": 2,
       "version_minor": 0
      },
      "text/plain": [
       "FloatSlider(value=0.5, description='pan', layout=Layout(width='80%'), max=1.0, readout_format='.3f', step=0.00…"
      ]
     },
     "metadata": {},
     "output_type": "display_data"
    },
    {
     "data": {
      "application/vnd.jupyter.widget-view+json": {
       "model_id": "f74efbd4e2bc4a53a8f871b03f7c3e7c",
       "version_major": 2,
       "version_minor": 0
      },
      "text/plain": [
       "FloatSlider(value=0.75, description='speed', layout=Layout(width='80%'), max=2.0, readout_format='.3f', step=0…"
      ]
     },
     "metadata": {},
     "output_type": "display_data"
    }
   ],
   "source": [
    "ev2.ui()"
   ]
  },
  {
   "cell_type": "code",
   "execution_count": 14,
   "id": "efed12e7-b7dd-4e20-b553-c7fc23c315c8",
   "metadata": {},
   "outputs": [
    {
     "data": {
      "text/plain": [
       "frozenset({'gain', 'kchan', 'pan', 'speed'})"
      ]
     },
     "execution_count": 14,
     "metadata": {},
     "output_type": "execute_result"
    }
   ],
   "source": [
    "ev2.dynamicParamNames()"
   ]
  },
  {
   "cell_type": "code",
   "execution_count": 15,
   "id": "9bfdd7e8-944d-4389-98e6-d0f90f93c689",
   "metadata": {},
   "outputs": [
    {
     "data": {
      "text/plain": [
       "{'speed': 'kspeed', 'gain': 'kgain', 'pan': 'kpan'}"
      ]
     },
     "execution_count": 15,
     "metadata": {},
     "output_type": "execute_result"
    }
   ],
   "source": [
    "instr = s.getInstr('.playSample')\n",
    "instr.aliases"
   ]
  },
  {
   "cell_type": "code",
   "execution_count": 16,
   "id": "840e43b4-4cc9-4e3b-81f4-61a615efbd9d",
   "metadata": {},
   "outputs": [
    {
     "data": {
      "text/plain": [
       "frozenset({'gain',\n",
       "           'ifadein',\n",
       "           'ifadeout',\n",
       "           'isndtab',\n",
       "           'istart',\n",
       "           'ixfade',\n",
       "           'kchan',\n",
       "           'kgain',\n",
       "           'kpan',\n",
       "           'kspeed',\n",
       "           'pan',\n",
       "           'speed'})"
      ]
     },
     "execution_count": 16,
     "metadata": {},
     "output_type": "execute_result"
    }
   ],
   "source": [
    "instr.pfieldNames(aliases=True, aliased=True)"
   ]
  },
  {
   "cell_type": "code",
   "execution_count": 17,
   "id": "9198a4e3-750d-40e4-a275-49f9d116f874",
   "metadata": {},
   "outputs": [
    {
     "data": {
      "text/plain": [
       "frozenset()"
      ]
     },
     "execution_count": 17,
     "metadata": {},
     "output_type": "execute_result"
    }
   ],
   "source": [
    "instr.controlNames()"
   ]
  },
  {
   "cell_type": "code",
   "execution_count": 18,
   "id": "7aaa794a-8de6-4cf0-bca8-b234f2190b90",
   "metadata": {},
   "outputs": [
    {
     "data": {
      "application/vnd.jupyter.widget-view+json": {
       "model_id": "a62f4b7f432e491097b2470532d78b06",
       "version_major": 2,
       "version_minor": 0
      },
      "text/plain": [
       "Button(description='Stop', style=ButtonStyle())"
      ]
     },
     "metadata": {},
     "output_type": "display_data"
    },
    {
     "data": {
      "application/vnd.jupyter.widget-view+json": {
       "model_id": "0d516c9671784ffc827d7ea319623a87",
       "version_major": 2,
       "version_minor": 0
      },
      "text/plain": [
       "FloatSlider(value=1.0, description='gain', layout=Layout(width='80%'), max=1.0, readout_format='.3f', step=0.0…"
      ]
     },
     "metadata": {},
     "output_type": "display_data"
    },
    {
     "data": {
      "application/vnd.jupyter.widget-view+json": {
       "model_id": "7ec648e9c4654c23a72d93a29c8255fd",
       "version_major": 2,
       "version_minor": 0
      },
      "text/plain": [
       "FloatSlider(value=1.0, description='kchan', layout=Layout(width='80%'), max=2.0, readout_format='.3f', step=0.…"
      ]
     },
     "metadata": {},
     "output_type": "display_data"
    },
    {
     "data": {
      "application/vnd.jupyter.widget-view+json": {
       "model_id": "e2e825c81e214355bec6c0de3bf0b575",
       "version_major": 2,
       "version_minor": 0
      },
      "text/plain": [
       "FloatSlider(value=0.5, description='pan', layout=Layout(width='80%'), max=1.0, readout_format='.3f', step=0.00…"
      ]
     },
     "metadata": {},
     "output_type": "display_data"
    },
    {
     "data": {
      "application/vnd.jupyter.widget-view+json": {
       "model_id": "27d1598850f9413d8c8e6d1f6eabbd52",
       "version_major": 2,
       "version_minor": 0
      },
      "text/plain": [
       "FloatSlider(value=0.75, description='speed', layout=Layout(width='80%'), max=2.0, readout_format='.3f', step=0…"
      ]
     },
     "metadata": {},
     "output_type": "display_data"
    }
   ],
   "source": [
    "snd = s.readSoundfile('/home/em/Lib/snd/samples/speech/colours-german-male.flac')\n",
    "ev1 = s.playSample(snd, speed=0.75, loop=True)\n",
    "ev2 = s.playSample(snd, speed=0.5, loop=True)\n",
    "group = SynthGroup((ev1, ev2))\n",
    "group.ui()"
   ]
  },
  {
   "cell_type": "code",
   "execution_count": 19,
   "id": "f997555b-c1ce-4cdb-911c-668e5ed8a514",
   "metadata": {},
   "outputs": [
    {
     "data": {
      "application/vnd.jupyter.widget-view+json": {
       "model_id": "309202b8d3a14accb7fef01e251b0d71",
       "version_major": 2,
       "version_minor": 0
      },
      "text/plain": [
       "Button(description='Stop', style=ButtonStyle())"
      ]
     },
     "metadata": {},
     "output_type": "display_data"
    },
    {
     "data": {
      "application/vnd.jupyter.widget-view+json": {
       "model_id": "40959c3b113f45b7bd3cc11e2590d942",
       "version_major": 2,
       "version_minor": 0
      },
      "text/plain": [
       "FloatSlider(value=1.0, description='gain', layout=Layout(width='80%'), max=1.0, readout_format='.3f', step=0.0…"
      ]
     },
     "metadata": {},
     "output_type": "display_data"
    },
    {
     "data": {
      "application/vnd.jupyter.widget-view+json": {
       "model_id": "5bc7c305cb7240398b5f6c58cba2fab8",
       "version_major": 2,
       "version_minor": 0
      },
      "text/plain": [
       "FloatSlider(value=1.0, description='kchan', layout=Layout(width='80%'), max=2.0, readout_format='.3f', step=0.…"
      ]
     },
     "metadata": {},
     "output_type": "display_data"
    },
    {
     "data": {
      "application/vnd.jupyter.widget-view+json": {
       "model_id": "84d8e72b1c0b47a9af5a703873006f42",
       "version_major": 2,
       "version_minor": 0
      },
      "text/plain": [
       "FloatSlider(value=0.5, description='pan', layout=Layout(width='80%'), max=1.0, readout_format='.3f', step=0.00…"
      ]
     },
     "metadata": {},
     "output_type": "display_data"
    },
    {
     "data": {
      "application/vnd.jupyter.widget-view+json": {
       "model_id": "966d62839e9d43d288234226b1016ddc",
       "version_major": 2,
       "version_minor": 0
      },
      "text/plain": [
       "FloatSlider(value=0.75, description='speed', layout=Layout(width='80%'), max=2.0, readout_format='.3f', step=0…"
      ]
     },
     "metadata": {},
     "output_type": "display_data"
    },
    {
     "data": {
      "application/vnd.jupyter.widget-view+json": {
       "model_id": "a614f4536b884cf7b29712d1e4dcede2",
       "version_major": 2,
       "version_minor": 0
      },
      "text/plain": [
       "Button(description='Stop', style=ButtonStyle())"
      ]
     },
     "metadata": {},
     "output_type": "display_data"
    },
    {
     "data": {
      "application/vnd.jupyter.widget-view+json": {
       "model_id": "cd5a3dca095b4e008d3d0187bc8b4bac",
       "version_major": 2,
       "version_minor": 0
      },
      "text/plain": [
       "FloatSlider(value=1.0, description='gain', layout=Layout(width='80%'), max=1.0, readout_format='.3f', step=0.0…"
      ]
     },
     "metadata": {},
     "output_type": "display_data"
    },
    {
     "data": {
      "application/vnd.jupyter.widget-view+json": {
       "model_id": "1c308a7091bb4d54994b556c5a304c4f",
       "version_major": 2,
       "version_minor": 0
      },
      "text/plain": [
       "FloatSlider(value=1.0, description='kchan', layout=Layout(width='80%'), max=2.0, readout_format='.3f', step=0.…"
      ]
     },
     "metadata": {},
     "output_type": "display_data"
    },
    {
     "data": {
      "application/vnd.jupyter.widget-view+json": {
       "model_id": "c89482b8560345dca81ffbc35e54013d",
       "version_major": 2,
       "version_minor": 0
      },
      "text/plain": [
       "FloatSlider(value=0.5, description='pan', layout=Layout(width='80%'), max=1.0, readout_format='.3f', step=0.00…"
      ]
     },
     "metadata": {},
     "output_type": "display_data"
    },
    {
     "data": {
      "application/vnd.jupyter.widget-view+json": {
       "model_id": "a04b6975e581478285366693dfed23a3",
       "version_major": 2,
       "version_minor": 0
      },
      "text/plain": [
       "FloatSlider(value=0.5, description='speed', layout=Layout(width='80%'), max=2.0, readout_format='.3f', step=0.…"
      ]
     },
     "metadata": {},
     "output_type": "display_data"
    }
   ],
   "source": [
    "ev1 = s.playSample(snd, speed=0.75, loop=True)\n",
    "ev2 = s.playSample(snd, speed=0.5, loop=True)\n",
    "ev1.ui()\n",
    "ev2.ui()"
   ]
  },
  {
   "cell_type": "code",
   "execution_count": null,
   "id": "9f73731e-a1c9-40d1-a570-9c1dd2d7a4e3",
   "metadata": {},
   "outputs": [],
   "source": []
  }
 ],
 "metadata": {
  "kernelspec": {
   "display_name": "Python 3 (ipykernel)",
   "language": "python",
   "name": "python3"
  },
  "language_info": {
   "codemirror_mode": {
    "name": "ipython",
    "version": 3
   },
   "file_extension": ".py",
   "mimetype": "text/x-python",
   "name": "python",
   "nbconvert_exporter": "python",
   "pygments_lexer": "ipython3",
   "version": "3.12.7"
  }
 },
 "nbformat": 4,
 "nbformat_minor": 5
}
