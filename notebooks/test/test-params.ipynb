{
 "cells": [
  {
   "cell_type": "code",
   "execution_count": 1,
   "id": "14a58c31-2def-4d92-9805-9cabee07b8fc",
   "metadata": {},
   "outputs": [],
   "source": [
    "from csoundengine import *"
   ]
  },
  {
   "cell_type": "code",
   "execution_count": 2,
   "id": "87f711d6-de92-4fcc-b22d-492699e3fd71",
   "metadata": {},
   "outputs": [
    {
     "name": "stderr",
     "output_type": "stream",
     "text": [
      "\n",
      "\n",
      "\n",
      "--Csound version 6.19 (double samples) Oct 30 2023\n",
      "[commit: 79e5d31bea441e5289073319ab2b1e42d01814b9]\n",
      "\u001b[mlibsndfile-1.2.0\n",
      "\u001b[msr = 48000.0,\u001b[m kr = 750.000,\u001b[m ksmps = 64\n",
      "\u001b[m0dBFS level = 1.0,\u001b[m A4 tuning = 440.0\n",
      "\u001b[maudio buffered in 512 sample-frame blocks\n",
      "\u001b[mreading 4096-byte blks of shorts from adc:Built-in Audio Pro: (RAW)\n",
      "writing 1024 sample blks of 64-bit floats to dac:Built-in Audio Pro:\n",
      "SECTION 1:\n"
     ]
    }
   ],
   "source": [
    "s = Session(nchnls=2)"
   ]
  },
  {
   "cell_type": "code",
   "execution_count": 3,
   "id": "e5d3c772-64a4-47b1-b44f-57320fffb967",
   "metadata": {},
   "outputs": [
    {
     "data": {
      "text/html": [
       "Instr <strong style=\"color:MediumSeaGreen\">foo</strong><br>\n",
       "&nbsp&nbsp&nbsp&nbsp<span style=\"font-size:90%\"><b>ipfield</b>:p5=<code>1</code></span>, <span style=\"font-size:90%\"><b>kctrl</b>:p6=<code>2</code></span><br>\n",
       "<hr style=\"width:38%;text-align:left;margin-left:0\">\n",
       "<span style=\"font-size:90%\"><div class=\"highlight\" style=\"background: #f8f8f8\"><pre style=\"line-height: 125%;\"><span></span><code><span style=\"color: #008000\">println</span><span style=\"color: #bbbbbb\"> </span><span style=\"color: #BA2121\">&quot;ipfield: </span><span style=\"color: #A45A77; font-weight: bold\">%f</span><span style=\"color: #BA2121\">, kctrl: </span><span style=\"color: #A45A77; font-weight: bold\">%f</span><span style=\"color: #BA2121\">&quot;</span>,<span style=\"color: #bbbbbb\"> </span><span style=\"color: #B00040\">i</span>pfield,<span style=\"color: #bbbbbb\"> </span><span style=\"color: #B00040\">k</span>ctrl\n",
       "<span style=\"color: #008000\">turnoff</span>\n",
       "</code></pre></div>\n",
       "</span>"
      ],
      "text/plain": [
       "Instr(foo, ipfield:5=1, kctrl:6=2)"
      ]
     },
     "execution_count": 3,
     "metadata": {},
     "output_type": "execute_result"
    }
   ],
   "source": [
    "s.defInstr('foo', r'''\n",
    "|ipfield=1, kctrl=2|\n",
    "println \"ipfield: %f, kctrl: %f\", ipfield, kctrl\n",
    "turnoff\n",
    "''')"
   ]
  },
  {
   "cell_type": "code",
   "execution_count": 4,
   "id": "38f018d1-784e-42a5-ad99-5f9b44a48d6d",
   "metadata": {},
   "outputs": [
    {
     "name": "stderr",
     "output_type": "stream",
     "text": [
      "\u001b[mipfield: 0.500000, kctrl: 3.000000\n"
     ]
    },
    {
     "data": {
      "application/vnd.jupyter.widget-view+json": {
       "model_id": "bc06b7a65f65495380a1cfdc32a509c4",
       "version_major": 2,
       "version_minor": 0
      },
      "text/plain": [
       "Button(description='Stop', style=ButtonStyle())"
      ]
     },
     "metadata": {},
     "output_type": "display_data"
    },
    {
     "data": {
      "application/vnd.jupyter.widget-view+json": {
       "model_id": "3b7269c816e04bbd8c4fd44f18da141d",
       "version_major": 2,
       "version_minor": 0
      },
      "text/plain": [
       "Output()"
      ]
     },
     "metadata": {},
     "output_type": "display_data"
    },
    {
     "data": {
      "text/html": [
       "<p><span style=\"font-size:12px;\">Synth(■ <strong style=\"color:MediumSeaGreen\">foo</strong>:501.0002, <span style=\"font-size:12px;\">5:<b>ipfield</b>=<code>3</code></span>)</span></p>"
      ],
      "text/plain": [
       "Synth(▶ foo=501.0002 start=1.825 dur=1.000 p4=0.5 ipfield=3)"
      ]
     },
     "execution_count": 4,
     "metadata": {},
     "output_type": "execute_result"
    }
   ],
   "source": [
    "ev = s.sched('foo', 0, 1, ipfield=0.5, kctrl=3)\n",
    "ev"
   ]
  },
  {
   "cell_type": "code",
   "execution_count": 10,
   "id": "25dcded1-7ae9-4550-b898-aad4a1d80ee3",
   "metadata": {},
   "outputs": [
    {
     "data": {
      "application/vnd.jupyter.widget-view+json": {
       "model_id": "749716162ec24c65bbc58c433d21ff0f",
       "version_major": 2,
       "version_minor": 0
      },
      "text/plain": [
       "Button(description='Stop', style=ButtonStyle())"
      ]
     },
     "metadata": {},
     "output_type": "display_data"
    },
    {
     "data": {
      "application/vnd.jupyter.widget-view+json": {
       "model_id": "e749ffaa8d86410fb92a2cc48bc0fc5e",
       "version_major": 2,
       "version_minor": 0
      },
      "text/plain": [
       "Output()"
      ]
     },
     "metadata": {},
     "output_type": "display_data"
    },
    {
     "data": {
      "text/html": [
       "<p><span style=\"font-size:12px;\">Synth(▶ <strong style=\"color:MediumSeaGreen\">.playSample</strong>:502.0004, <span style=\"font-size:12px;\">5:<b>isndtab</b>=<code>0</code> 6:<b>istart</b>=<code>0.05</code> 7:<b>ifadein</b>=<code>0.05</code> 8:<b>ifadeout</b>=<code>1</code> 9:<b>kchan</b>=<code>0.75</code> 10:<b>kspeed</b>=<code>1</code> 11:<b>kgain</b>=<code>0.5</code> 12:<b>kpan</b>=<code>0.02</code></span>)</span></p>"
      ],
      "text/plain": [
       "Synth(▶ .playSample=502.0004 start=26.284 dur=-1.000 p4=301 isndtab=0 istart=0.05 ifadein=0.05 ifadeout=1 kchan=0.75 kspeed=1 kgain=0.5 kpan=0.02)"
      ]
     },
     "execution_count": 10,
     "metadata": {},
     "output_type": "execute_result"
    }
   ],
   "source": [
    "snd = s.readSoundfile('/home/em/Lib/snd/samples/speech/colours-german-male.flac')\n",
    "ev2 = s.playSample(snd, speed=0.75, loop=True)\n",
    "ev2"
   ]
  },
  {
   "cell_type": "code",
   "execution_count": 7,
   "id": "2a0d8b32-7687-4228-a00d-3191f6fd1b07",
   "metadata": {},
   "outputs": [],
   "source": [
    "ev2.set(pan=0.5)"
   ]
  },
  {
   "cell_type": "code",
   "execution_count": 8,
   "id": "3f6f5915-6a86-472e-ac13-3fdcd5b71048",
   "metadata": {},
   "outputs": [],
   "source": [
    "ev2.set(speed=1)"
   ]
  },
  {
   "cell_type": "code",
   "execution_count": 9,
   "id": "c337188d-d4cb-4cc2-b441-fd31a862805a",
   "metadata": {},
   "outputs": [
    {
     "data": {
      "text/plain": [
       "12.0002"
      ]
     },
     "execution_count": 9,
     "metadata": {},
     "output_type": "execute_result"
    }
   ],
   "source": [
    "ev2.automate('speed', (0, 0.5, 5, 1, 10, 0.25), mode='cos')"
   ]
  },
  {
   "cell_type": "code",
   "execution_count": 10,
   "id": "b3c894b4-e047-47af-8543-7f563f98ac6a",
   "metadata": {},
   "outputs": [
    {
     "data": {
      "text/plain": [
       "13.0005"
      ]
     },
     "execution_count": 10,
     "metadata": {},
     "output_type": "execute_result"
    }
   ],
   "source": [
    "ev2.automate('pan', (0, 0, 5, 1), mode='cos')"
   ]
  },
  {
   "cell_type": "code",
   "execution_count": 11,
   "id": "bd3b0d72-5358-47be-94cf-4d3cbd492777",
   "metadata": {},
   "outputs": [
    {
     "data": {
      "application/vnd.jupyter.widget-view+json": {
       "model_id": "ab872b1aab034919a708d2195fb98002",
       "version_major": 2,
       "version_minor": 0
      },
      "text/plain": [
       "Button(description='Stop', style=ButtonStyle())"
      ]
     },
     "metadata": {},
     "output_type": "display_data"
    },
    {
     "data": {
      "application/vnd.jupyter.widget-view+json": {
       "model_id": "d46718f552b94fefb5ae7a69e156ce74",
       "version_major": 2,
       "version_minor": 0
      },
      "text/plain": [
       "FloatSlider(value=0.5, description='gain', layout=Layout(width='80%'), max=1.0, readout_format='.3f', step=0.0…"
      ]
     },
     "metadata": {},
     "output_type": "display_data"
    },
    {
     "data": {
      "application/vnd.jupyter.widget-view+json": {
       "model_id": "bdb3de34b14a469cad3978f33344b7b0",
       "version_major": 2,
       "version_minor": 0
      },
      "text/plain": [
       "FloatSlider(value=0.75, description='kchan', layout=Layout(width='80%'), max=2.0, readout_format='.3f', step=0…"
      ]
     },
     "metadata": {},
     "output_type": "display_data"
    },
    {
     "data": {
      "application/vnd.jupyter.widget-view+json": {
       "model_id": "5bf30144851344d9afde92b92ab00b5d",
       "version_major": 2,
       "version_minor": 0
      },
      "text/plain": [
       "FloatSlider(value=0.02, description='pan', layout=Layout(width='80%'), max=1.0, readout_format='.3f', step=0.0…"
      ]
     },
     "metadata": {},
     "output_type": "display_data"
    },
    {
     "data": {
      "application/vnd.jupyter.widget-view+json": {
       "model_id": "53335eb7716b4c51a1f53c89f1c5a34d",
       "version_major": 2,
       "version_minor": 0
      },
      "text/plain": [
       "FloatSlider(value=1.0, description='speed', layout=Layout(width='80%'), max=2.0, readout_format='.3f', step=0.…"
      ]
     },
     "metadata": {},
     "output_type": "display_data"
    }
   ],
   "source": [
    "ev2.ui()"
   ]
  },
  {
   "cell_type": "code",
   "execution_count": 11,
   "id": "efed12e7-b7dd-4e20-b553-c7fc23c315c8",
   "metadata": {},
   "outputs": [
    {
     "data": {
      "text/plain": [
       "frozenset({'gain', 'kchan', 'kgain', 'kpan', 'kspeed', 'pan', 'speed'})"
      ]
     },
     "execution_count": 11,
     "metadata": {},
     "output_type": "execute_result"
    }
   ],
   "source": [
    "ev2._controlNames(aliased=True)"
   ]
  },
  {
   "cell_type": "code",
   "execution_count": 12,
   "id": "9bfdd7e8-944d-4389-98e6-d0f90f93c689",
   "metadata": {},
   "outputs": [
    {
     "data": {
      "text/plain": [
       "{'speed': 'kspeed', 'gain': 'kgain', 'pan': 'kpan'}"
      ]
     },
     "execution_count": 12,
     "metadata": {},
     "output_type": "execute_result"
    }
   ],
   "source": [
    "instr = s.getInstr('.playSample')\n",
    "instr.aliases"
   ]
  },
  {
   "cell_type": "code",
   "execution_count": 13,
   "id": "840e43b4-4cc9-4e3b-81f4-61a615efbd9d",
   "metadata": {},
   "outputs": [
    {
     "data": {
      "text/plain": [
       "frozenset({'gain',\n",
       "           'ifadein',\n",
       "           'ifadeout',\n",
       "           'isndtab',\n",
       "           'istart',\n",
       "           'ixfade',\n",
       "           'kchan',\n",
       "           'kgain',\n",
       "           'kpan',\n",
       "           'kspeed',\n",
       "           'pan',\n",
       "           'speed'})"
      ]
     },
     "execution_count": 13,
     "metadata": {},
     "output_type": "execute_result"
    }
   ],
   "source": [
    "instr.pfieldNames(aliases=True, aliased=True)"
   ]
  },
  {
   "cell_type": "code",
   "execution_count": 15,
   "id": "9198a4e3-750d-40e4-a275-49f9d116f874",
   "metadata": {},
   "outputs": [
    {
     "data": {
      "text/plain": [
       "frozenset()"
      ]
     },
     "execution_count": 15,
     "metadata": {},
     "output_type": "execute_result"
    }
   ],
   "source": [
    "instr.controlNames()"
   ]
  },
  {
   "cell_type": "code",
   "execution_count": 16,
   "id": "7aaa794a-8de6-4cf0-bca8-b234f2190b90",
   "metadata": {},
   "outputs": [
    {
     "data": {
      "application/vnd.jupyter.widget-view+json": {
       "model_id": "3443bf593893487e96c32ee6fe9adc3b",
       "version_major": 2,
       "version_minor": 0
      },
      "text/plain": [
       "Button(description='Stop', style=ButtonStyle())"
      ]
     },
     "metadata": {},
     "output_type": "display_data"
    },
    {
     "data": {
      "application/vnd.jupyter.widget-view+json": {
       "model_id": "a31311d87e7c43189101aba73db39f4d",
       "version_major": 2,
       "version_minor": 0
      },
      "text/plain": [
       "FloatSlider(value=0.5, description='gain', layout=Layout(width='80%'), max=1.0, readout_format='.3f', step=0.0…"
      ]
     },
     "metadata": {},
     "output_type": "display_data"
    },
    {
     "data": {
      "application/vnd.jupyter.widget-view+json": {
       "model_id": "bed98d09b85d4d729011995dc5533666",
       "version_major": 2,
       "version_minor": 0
      },
      "text/plain": [
       "FloatSlider(value=0.75, description='kchan', layout=Layout(width='80%'), max=2.0, readout_format='.3f', step=0…"
      ]
     },
     "metadata": {},
     "output_type": "display_data"
    },
    {
     "data": {
      "application/vnd.jupyter.widget-view+json": {
       "model_id": "6a0896aa8f68452c96cef7a3b4a06990",
       "version_major": 2,
       "version_minor": 0
      },
      "text/plain": [
       "FloatSlider(value=0.02, description='pan', layout=Layout(width='80%'), max=1.0, readout_format='.3f', step=0.0…"
      ]
     },
     "metadata": {},
     "output_type": "display_data"
    },
    {
     "data": {
      "application/vnd.jupyter.widget-view+json": {
       "model_id": "e4f88d2fea0a4ab3974bdecb940ec45f",
       "version_major": 2,
       "version_minor": 0
      },
      "text/plain": [
       "FloatSlider(value=1.0, description='speed', layout=Layout(width='80%'), max=2.0, readout_format='.3f', step=0.…"
      ]
     },
     "metadata": {},
     "output_type": "display_data"
    }
   ],
   "source": [
    "snd = s.readSoundfile('/home/em/Lib/snd/samples/speech/colours-german-male.flac')\n",
    "ev1 = s.playSample(snd, speed=0.75, loop=True)\n",
    "ev2 = s.playSample(snd, speed=0.5, loop=True)\n",
    "group = SynthGroup((ev1, ev2))\n",
    "group.ui()"
   ]
  },
  {
   "cell_type": "code",
   "execution_count": 7,
   "id": "f997555b-c1ce-4cdb-911c-668e5ed8a514",
   "metadata": {},
   "outputs": [
    {
     "data": {
      "application/vnd.jupyter.widget-view+json": {
       "model_id": "9da6afb0de9e4cbc89f3810bd71a5069",
       "version_major": 2,
       "version_minor": 0
      },
      "text/plain": [
       "Button(description='Stop', style=ButtonStyle())"
      ]
     },
     "metadata": {},
     "output_type": "display_data"
    },
    {
     "data": {
      "application/vnd.jupyter.widget-view+json": {
       "model_id": "e2f7cd3915fd424693da9c068ce04257",
       "version_major": 2,
       "version_minor": 0
      },
      "text/plain": [
       "FloatSlider(value=1.0, description='gain', layout=Layout(width='80%'), max=1.0, readout_format='.3f', step=0.0…"
      ]
     },
     "metadata": {},
     "output_type": "display_data"
    },
    {
     "data": {
      "application/vnd.jupyter.widget-view+json": {
       "model_id": "d1336ee9467b44db9a660d2d3b71b6eb",
       "version_major": 2,
       "version_minor": 0
      },
      "text/plain": [
       "FloatSlider(value=1.0, description='kchan', layout=Layout(width='80%'), max=2.0, readout_format='.3f', step=0.…"
      ]
     },
     "metadata": {},
     "output_type": "display_data"
    },
    {
     "data": {
      "application/vnd.jupyter.widget-view+json": {
       "model_id": "e84e4c0664b54098adf859100d0409c0",
       "version_major": 2,
       "version_minor": 0
      },
      "text/plain": [
       "FloatSlider(value=0.5, description='pan', layout=Layout(width='80%'), max=1.0, readout_format='.3f', step=0.00…"
      ]
     },
     "metadata": {},
     "output_type": "display_data"
    },
    {
     "data": {
      "application/vnd.jupyter.widget-view+json": {
       "model_id": "e272d6e3af384d5b9bb3e7d30bd5121a",
       "version_major": 2,
       "version_minor": 0
      },
      "text/plain": [
       "FloatSlider(value=0.75, description='speed', layout=Layout(width='80%'), max=2.0, readout_format='.3f', step=0…"
      ]
     },
     "metadata": {},
     "output_type": "display_data"
    },
    {
     "data": {
      "application/vnd.jupyter.widget-view+json": {
       "model_id": "17806cf1ea3e4f5d8f42a4c008803703",
       "version_major": 2,
       "version_minor": 0
      },
      "text/plain": [
       "Button(description='Stop', style=ButtonStyle())"
      ]
     },
     "metadata": {},
     "output_type": "display_data"
    },
    {
     "data": {
      "application/vnd.jupyter.widget-view+json": {
       "model_id": "6778c2562d0b48b88e93274eb260c95d",
       "version_major": 2,
       "version_minor": 0
      },
      "text/plain": [
       "FloatSlider(value=1.0, description='gain', layout=Layout(width='80%'), max=1.0, readout_format='.3f', step=0.0…"
      ]
     },
     "metadata": {},
     "output_type": "display_data"
    },
    {
     "data": {
      "application/vnd.jupyter.widget-view+json": {
       "model_id": "bd57aab55fc149a48c9e6a5d176759c7",
       "version_major": 2,
       "version_minor": 0
      },
      "text/plain": [
       "FloatSlider(value=1.0, description='kchan', layout=Layout(width='80%'), max=2.0, readout_format='.3f', step=0.…"
      ]
     },
     "metadata": {},
     "output_type": "display_data"
    },
    {
     "data": {
      "application/vnd.jupyter.widget-view+json": {
       "model_id": "3ffcd45644744b989a15a6855bb11c7e",
       "version_major": 2,
       "version_minor": 0
      },
      "text/plain": [
       "FloatSlider(value=0.5, description='pan', layout=Layout(width='80%'), max=1.0, readout_format='.3f', step=0.00…"
      ]
     },
     "metadata": {},
     "output_type": "display_data"
    },
    {
     "data": {
      "application/vnd.jupyter.widget-view+json": {
       "model_id": "8491e33a3b7841c2a0dcd7f95064c0c7",
       "version_major": 2,
       "version_minor": 0
      },
      "text/plain": [
       "FloatSlider(value=0.5, description='speed', layout=Layout(width='80%'), max=2.0, readout_format='.3f', step=0.…"
      ]
     },
     "metadata": {},
     "output_type": "display_data"
    }
   ],
   "source": [
    "ev1 = s.playSample(snd, speed=0.75, loop=True)\n",
    "ev2 = s.playSample(snd, speed=0.5, loop=True)\n",
    "ev1.ui()\n",
    "ev2.ui()"
   ]
  }
 ],
 "metadata": {
  "kernelspec": {
   "display_name": "Python 3 (ipykernel)",
   "language": "python",
   "name": "python3"
  },
  "language_info": {
   "codemirror_mode": {
    "name": "ipython",
    "version": 3
   },
   "file_extension": ".py",
   "mimetype": "text/x-python",
   "name": "python",
   "nbconvert_exporter": "python",
   "pygments_lexer": "ipython3",
   "version": "3.12.3"
  }
 },
 "nbformat": 4,
 "nbformat_minor": 5
}
