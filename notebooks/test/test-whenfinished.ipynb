{
 "cells": [
  {
   "cell_type": "code",
   "execution_count": 1,
   "id": "951f8f3f-aa40-4d70-827f-9f1e4b6b7738",
   "metadata": {},
   "outputs": [
    {
     "name": "stderr",
     "output_type": "stream",
     "text": [
      "WARNING: Csound 7 support is experimental. Proceed at yout own risk\n"
     ]
    }
   ],
   "source": [
    "import csoundengine as ce"
   ]
  },
  {
   "cell_type": "code",
   "execution_count": 2,
   "id": "9118e112-cfe9-4ccd-a268-1f656660cee0",
   "metadata": {},
   "outputs": [
    {
     "name": "stderr",
     "output_type": "stream",
     "text": [
      "--Csound version 7.0 (double samples) Feb 25 2025\n",
      "[commit: 2d7b783a0ed4e67b6764d69cfb29edefdaea8826]\n",
      "\u001b[mlibsndfile-1.2.2\n",
      "\u001b[msr = 48000.0,\u001b[m kr = 750.000,\u001b[m ksmps = 64\n",
      "\u001b[m0dBFS level = 1.0,\u001b[m A4 tuning = 440.0\n",
      "\u001b[maudio buffered in 512 sample-frame blocks\n",
      "\u001b[mreading 4096-byte blks of shorts from adc:Built-in Audio Analog Stereo: (RAW)\n",
      "writing 1024 sample blks of 64-bit floats to dac:Built-in Audio Analog Stereo:\n",
      "SECTION 1:\n",
      "\u001b[m"
     ]
    },
    {
     "name": "stdout",
     "output_type": "stream",
     "text": [
      "Finished, args=(501.0002,)\n"
     ]
    }
   ],
   "source": [
    "s = ce.Session()"
   ]
  },
  {
   "cell_type": "code",
   "execution_count": 3,
   "id": "e8e3cb86-415a-49aa-be92-471dbd39849c",
   "metadata": {},
   "outputs": [
    {
     "data": {
      "text/html": [
       "Instr <strong style=\"color:MediumSeaGreen\">foo</strong><br>\n",
       "&nbsp&nbsp&nbsp&nbsp<span style=\"font-size:90%\"><b>kpitch</b>=<code>60</code></span><br>\n",
       "<hr style=\"width:38%;text-align:left;margin-left:0;border: 1px dashed; background: transparent;\">\n",
       "<span style=\"font-size:90%\"><div class=\"highlight\" style=\"background: #f8f8f8\"><pre style=\"line-height: 125%;\"><span></span><code><span style=\"color: #008000\">outch</span><span style=\"color: #BBB\"> </span><span style=\"color: #666\">1</span>,<span style=\"color: #BBB\"> </span><span style=\"color: #008000\">oscili</span>(<span style=\"color: #666\">0.1</span>,<span style=\"color: #BBB\"> </span><span style=\"color: #008000\">mtof</span>(<span style=\"color: #B00040\">k</span>pitch))\n",
       "</code></pre></div>\n",
       "</span>"
      ],
      "text/plain": [
       "Instr(foo, kpitch=60)"
      ]
     },
     "execution_count": 3,
     "metadata": {},
     "output_type": "execute_result"
    }
   ],
   "source": [
    "s.defInstr('foo', r'''\n",
    "|kpitch = 60|\n",
    "outch 1, oscili(0.1, mtof(kpitch))\n",
    "''')"
   ]
  },
  {
   "cell_type": "code",
   "execution_count": 5,
   "id": "81dfe9e0-9e43-486f-825e-1802fa3cd2a4",
   "metadata": {},
   "outputs": [
    {
     "data": {
      "application/vnd.jupyter.widget-view+json": {
       "model_id": "fe80c89e16cf4f87810779a106ac0feb",
       "version_major": 2,
       "version_minor": 0
      },
      "text/plain": [
       "Button(description='Stop', style=ButtonStyle())"
      ]
     },
     "metadata": {},
     "output_type": "display_data"
    },
    {
     "data": {
      "application/vnd.jupyter.widget-view+json": {
       "model_id": "ab73c74e55a147c4b578fca2d22fa0ca",
       "version_major": 2,
       "version_minor": 0
      },
      "text/plain": [
       "Output()"
      ]
     },
     "metadata": {},
     "output_type": "display_data"
    },
    {
     "data": {
      "text/html": [
       "<p><span style=\"font-size:12px;\">Synth(𝍪 <strong style=\"color:MediumSeaGreen\">foo</strong>:501.0003)</span></p>"
      ],
      "text/plain": [
       "Synth(𝍪 foo=501.0003 start=11.315 dur=3.000 p5=72)"
      ]
     },
     "execution_count": 5,
     "metadata": {},
     "output_type": "execute_result"
    }
   ],
   "source": [
    "def func(*args):\n",
    "    print(f\"Finished, {args=}\")\n",
    "\n",
    "sy = s.sched('foo', dur=3, kpitch=72, whenfinished=func)\n",
    "sy"
   ]
  },
  {
   "cell_type": "code",
   "execution_count": 6,
   "id": "6fd16587-abcf-4fe1-9fd1-2fdaadde6ecd",
   "metadata": {},
   "outputs": [
    {
     "name": "stdout",
     "output_type": "stream",
     "text": [
      "unsched 501.0003\n",
      "Finished, args=(501.0003,)\n"
     ]
    }
   ],
   "source": [
    "sy.stop()\n"
   ]
  },
  {
   "cell_type": "code",
   "execution_count": null,
   "id": "d42831fd-896e-48da-9bb3-bb1e87eddf7a",
   "metadata": {},
   "outputs": [],
   "source": []
  }
 ],
 "metadata": {
  "kernelspec": {
   "display_name": "Python 3 (ipykernel)",
   "language": "python",
   "name": "python3"
  },
  "language_info": {
   "codemirror_mode": {
    "name": "ipython",
    "version": 3
   },
   "file_extension": ".py",
   "mimetype": "text/x-python",
   "name": "python",
   "nbconvert_exporter": "python",
   "pygments_lexer": "ipython3",
   "version": "3.12.3"
  }
 },
 "nbformat": 4,
 "nbformat_minor": 5
}
