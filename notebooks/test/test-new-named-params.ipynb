{
 "cells": [
  {
   "cell_type": "code",
   "execution_count": 1,
   "id": "fff9ba71-aa28-4f83-9c24-de8d17358c90",
   "metadata": {},
   "outputs": [
    {
     "name": "stderr",
     "output_type": "stream",
     "text": [
      "WARNING: Csound 7 support is experimental. Proceed at yout own risk\n"
     ]
    }
   ],
   "source": [
    "from csoundengine import *\n",
    "import logging\n",
    "# logging.basicConfig(level=\"DEBUG\")\n"
   ]
  },
  {
   "cell_type": "code",
   "execution_count": 2,
   "id": "d7949268-916e-43f5-aecf-f5ed10330490",
   "metadata": {},
   "outputs": [
    {
     "name": "stderr",
     "output_type": "stream",
     "text": [
      "--Csound version 7.0 (double samples) Feb 25 2025\n",
      "[commit: 2d7b783a0ed4e67b6764d69cfb29edefdaea8826]\n",
      "\u001b[mlibsndfile-1.2.2\n",
      "\u001b[msr = 48000.0,\u001b[m kr = 750.000,\u001b[m ksmps = 64\n",
      "\u001b[m0dBFS level = 1.0,\u001b[m A4 tuning = 440.0\n",
      "\u001b[maudio buffered in 512 sample-frame blocks\n",
      "\u001b[mreading 4096-byte blks of shorts from adc:Built-in Audio Analog Stereo: (RAW)\n",
      "writing 1024 sample blks of 64-bit floats to dac:Built-in Audio Analog Stereo:\n",
      "SECTION 1:\n",
      "\u001b[m"
     ]
    }
   ],
   "source": [
    "e = Engine()\n",
    "s = e.session()"
   ]
  },
  {
   "cell_type": "code",
   "execution_count": 3,
   "id": "ad01efc6-9682-44a6-a97f-9677e4160f71",
   "metadata": {},
   "outputs": [
    {
     "data": {
      "text/html": [
       "Instr <strong style=\"color:MediumSeaGreen\">foo</strong><br>\n",
       "&nbsp&nbsp&nbsp&nbsp<span style=\"font-size:90%\"><b>kfreq</b>=<code>800</code></span><br>\n",
       "<hr style=\"width:38%;text-align:left;margin-left:0;border: 1px dashed; background: transparent;\">\n",
       "<span style=\"font-size:90%\"><div class=\"highlight\" style=\"background: #f8f8f8\"><pre style=\"line-height: 125%;\"><span></span><code><span style=\"color: #3D7B7B; font-style: italic\">; foo instr</span>\n",
       "<span style=\"color: #3D7B7B; font-style: italic\">; Args:</span>\n",
       "<span style=\"color: #3D7B7B; font-style: italic\">;   kfreq: frequency</span>\n",
       "<span style=\"color: #008000; font-weight: bold\">if</span><span style=\"color: #BBB\"> </span><span style=\"color: #008000\">changed2</span>(<span style=\"color: #B00040\">k</span>freq)<span style=\"color: #BBB\"> </span><span style=\"color: #666\">==</span><span style=\"color: #BBB\"> </span><span style=\"color: #666\">1</span><span style=\"color: #BBB\"> </span><span style=\"color: #008000; font-weight: bold\">then</span>\n",
       "<span style=\"color: #BBB\">    </span><span style=\"color: #008000\">println</span><span style=\"color: #BBB\"> </span><span style=\"color: #BA2121\">&quot;kfreq: </span><span style=\"color: #A45A77; font-weight: bold\">%f</span><span style=\"color: #BA2121\">&quot;</span>,<span style=\"color: #BBB\"> </span><span style=\"color: #B00040\">k</span>freq\n",
       "<span style=\"color: #008000; font-weight: bold\">endif</span>\n",
       "<span style=\"color: #008000\">outch</span><span style=\"color: #BBB\"> </span><span style=\"color: #666\">1</span>,<span style=\"color: #BBB\"> </span><span style=\"color: #008000\">oscili</span>:<span style=\"color: #B00040\">a</span>(<span style=\"color: #666\">0.1</span>,<span style=\"color: #BBB\"> </span><span style=\"color: #B00040\">k</span>freq)<span style=\"color: #BBB\"> </span><span style=\"color: #666\">*</span><span style=\"color: #BBB\"> </span><span style=\"color: #008000\">linsegr</span>:<span style=\"color: #B00040\">a</span>(<span style=\"color: #666\">0</span>,<span style=\"color: #BBB\"> </span><span style=\"color: #666\">0.01</span>,<span style=\"color: #BBB\"> </span><span style=\"color: #666\">1</span>,<span style=\"color: #BBB\"> </span><span style=\"color: #666\">0.01</span>,<span style=\"color: #BBB\"> </span><span style=\"color: #666\">0</span>)\n",
       "</code></pre></div>\n",
       "</span>"
      ],
      "text/plain": [
       "Instr(foo, kfreq=800)"
      ]
     },
     "execution_count": 3,
     "metadata": {},
     "output_type": "execute_result"
    }
   ],
   "source": [
    "foo = s.defInstr('foo', r'''\n",
    "; foo instr\n",
    "; Args:\n",
    ";   kfreq: frequency\n",
    "if changed2(kfreq) == 1 then\n",
    "    println \"kfreq: %f\", kfreq\n",
    "endif\n",
    "outch 1, oscili:a(0.1, kfreq) * linsegr:a(0, 0.01, 1, 0.01, 0)\n",
    "''', args={'kfreq': 800})\n",
    "foo"
   ]
  },
  {
   "cell_type": "code",
   "execution_count": 4,
   "id": "ef71105a-3031-4241-bec4-ca8b6dcd056d",
   "metadata": {},
   "outputs": [
    {
     "name": "stdout",
     "output_type": "stream",
     "text": [
      "; foo instr\n",
      "; Args:\n",
      ";   kfreq: frequency\n",
      "kfreq = p5\n",
      "if changed2(kfreq) == 1 then\n",
      "    println \"kfreq: %f\", kfreq\n",
      "endif\n",
      "outch 1, oscili:a(0.1, kfreq) * linsegr:a(0, 0.01, 1, 0.01, 0)\n",
      "atstop dict_get:i(gi__builtinInstrs, \"notifyDealloc\"), 0, 0, p1\n"
     ]
    }
   ],
   "source": [
    "print(foo.generateBody())"
   ]
  },
  {
   "cell_type": "code",
   "execution_count": 5,
   "id": "bb07ed3d-4a29-4d82-a0bd-4a2aba3e73b0",
   "metadata": {},
   "outputs": [
    {
     "data": {
      "application/vnd.jupyter.widget-view+json": {
       "model_id": "93ef88a116ff462eb3ad8e66701196c1",
       "version_major": 2,
       "version_minor": 0
      },
      "text/plain": [
       "Button(description='Stop', style=ButtonStyle())"
      ]
     },
     "metadata": {},
     "output_type": "display_data"
    },
    {
     "data": {
      "application/vnd.jupyter.widget-view+json": {
       "model_id": "ecc12551f7344362a401aa9c16782c37",
       "version_major": 2,
       "version_minor": 0
      },
      "text/plain": [
       "Output()"
      ]
     },
     "metadata": {},
     "output_type": "display_data"
    },
    {
     "data": {
      "text/html": [
       "<p><span style=\"font-size:12px;\">Synth(𝍪 <strong style=\"color:MediumSeaGreen\">foo</strong>:501.0002)</span></p>"
      ],
      "text/plain": [
       "Synth(𝍪 foo=501.0002 start=2.483 dur=10.000 p5=800)"
      ]
     },
     "execution_count": 5,
     "metadata": {},
     "output_type": "execute_result"
    }
   ],
   "source": [
    "sy = s.sched('foo', 0, 10, kfreq=800)\n",
    "# sy.engine.callLater(0.5, sy.stop)\n",
    "sy"
   ]
  },
  {
   "cell_type": "code",
   "execution_count": 6,
   "id": "c5a1d4de-906a-4bcc-8287-885fb3b27f5d",
   "metadata": {},
   "outputs": [
    {
     "ename": "TypeError",
     "evalue": "Session._deallocSynthResources() takes 2 positional arguments but 3 were given",
     "output_type": "error",
     "traceback": [
      "\u001b[31m---------------------------------------------------------------------------\u001b[39m",
      "\u001b[31mTypeError\u001b[39m                                 Traceback (most recent call last)",
      "\u001b[36mCell\u001b[39m\u001b[36m \u001b[39m\u001b[32mIn[6]\u001b[39m\u001b[32m, line 1\u001b[39m\n\u001b[32m----> \u001b[39m\u001b[32m1\u001b[39m \u001b[43msy\u001b[49m\u001b[43m.\u001b[49m\u001b[43mstop\u001b[49m\u001b[43m(\u001b[49m\u001b[43m)\u001b[49m\n",
      "\u001b[36mFile \u001b[39m\u001b[32m~/dev/python/csoundengine/csoundengine/synth.py:517\u001b[39m, in \u001b[36mSynth.stop\u001b[39m\u001b[34m(self, delay)\u001b[39m\n\u001b[32m    516\u001b[39m \u001b[38;5;28;01mdef\u001b[39;00m\u001b[38;5;250m \u001b[39m\u001b[34mstop\u001b[39m(\u001b[38;5;28mself\u001b[39m, delay=\u001b[32m0.\u001b[39m) -> \u001b[38;5;28;01mNone\u001b[39;00m:\n\u001b[32m--> \u001b[39m\u001b[32m517\u001b[39m     \u001b[38;5;28;43mself\u001b[39;49m\u001b[43m.\u001b[49m\u001b[43msession\u001b[49m\u001b[43m.\u001b[49m\u001b[43munsched\u001b[49m\u001b[43m(\u001b[49m\u001b[38;5;28;43mself\u001b[39;49m\u001b[43m.\u001b[49m\u001b[43mp1\u001b[49m\u001b[43m,\u001b[49m\u001b[43m \u001b[49m\u001b[43mdelay\u001b[49m\u001b[43m=\u001b[49m\u001b[43mdelay\u001b[49m\u001b[43m)\u001b[49m\n",
      "\u001b[36mFile \u001b[39m\u001b[32m~/dev/python/csoundengine/csoundengine/session.py:1542\u001b[39m, in \u001b[36mSession.unsched\u001b[39m\u001b[34m(self, event, delay)\u001b[39m\n\u001b[32m   1540\u001b[39m         logger.debug(\u001b[33mf\u001b[39m\u001b[33m\"\u001b[39m\u001b[33mEvent \u001b[39m\u001b[38;5;132;01m{\u001b[39;00mevent\u001b[38;5;132;01m}\u001b[39;00m\u001b[33m not found, cannot unschedule\u001b[39m\u001b[33m\"\u001b[39m)\n\u001b[32m   1541\u001b[39m         \u001b[38;5;28;01mreturn\u001b[39;00m\n\u001b[32m-> \u001b[39m\u001b[32m1542\u001b[39m     \u001b[43mdealloc\u001b[49m\u001b[43m(\u001b[49m\u001b[38;5;28;43mself\u001b[39;49m\u001b[43m,\u001b[49m\u001b[43m \u001b[49m\u001b[43msynth\u001b[49m\u001b[43m.\u001b[49m\u001b[43mp1\u001b[49m\u001b[43m,\u001b[49m\u001b[43m \u001b[49m\u001b[43mdelay\u001b[49m\u001b[43m,\u001b[49m\u001b[43m \u001b[49m\u001b[43msynth\u001b[49m\u001b[43m.\u001b[49m\u001b[43mplayStatus\u001b[49m\u001b[43m(\u001b[49m\u001b[43m)\u001b[49m\u001b[43m)\u001b[49m\n\u001b[32m   1543\u001b[39m \u001b[38;5;28;01melif\u001b[39;00m \u001b[38;5;28misinstance\u001b[39m(event, \u001b[38;5;28mint\u001b[39m):\n\u001b[32m   1544\u001b[39m     \u001b[38;5;28;01mfor\u001b[39;00m p1, synth \u001b[38;5;129;01min\u001b[39;00m \u001b[38;5;28mself\u001b[39m._synths.items():\n",
      "\u001b[36mFile \u001b[39m\u001b[32m~/dev/python/csoundengine/csoundengine/session.py:1535\u001b[39m, in \u001b[36mSession.unsched.<locals>.dealloc\u001b[39m\u001b[34m(s, p1, delay, status)\u001b[39m\n\u001b[32m   1533\u001b[39m     \u001b[38;5;28;01mreturn\u001b[39;00m\n\u001b[32m   1534\u001b[39m \u001b[38;5;28mself\u001b[39m.engine.unsched(p1, delay=delay, future=status==\u001b[33m'\u001b[39m\u001b[33mfuture\u001b[39m\u001b[33m'\u001b[39m)\n\u001b[32m-> \u001b[39m\u001b[32m1535\u001b[39m \u001b[38;5;28;43mself\u001b[39;49m\u001b[43m.\u001b[49m\u001b[43m_deallocSynthResources\u001b[49m\u001b[43m(\u001b[49m\u001b[43mp1\u001b[49m\u001b[43m,\u001b[49m\u001b[43m \u001b[49m\u001b[43mdelay\u001b[49m\u001b[43m)\u001b[49m\n",
      "\u001b[31mTypeError\u001b[39m: Session._deallocSynthResources() takes 2 positional arguments but 3 were given"
     ]
    }
   ],
   "source": [
    "sy.stop()\n"
   ]
  },
  {
   "cell_type": "code",
   "execution_count": 8,
   "id": "918782ac-850e-4da5-94db-ed1feda41524",
   "metadata": {},
   "outputs": [
    {
     "name": "stderr",
     "output_type": "stream",
     "text": [
      "kfreq: 502.000000\n",
      "\u001b[m"
     ]
    }
   ],
   "source": [
    "sy.set(kfreq=502)"
   ]
  },
  {
   "cell_type": "code",
   "execution_count": 9,
   "id": "5ce692ba-72ce-463e-b890-f28039a57b04",
   "metadata": {},
   "outputs": [
    {
     "data": {
      "text/html": [
       "Instr <strong style=\"color:MediumSeaGreen\">foo</strong><br>\n",
       "&nbsp&nbsp&nbsp&nbsp<span style=\"font-size:90%\"><b>kfreq</b>=<code>1000</code></span><br>\n",
       "<hr style=\"width:38%;text-align:left;margin-left:0;border: 1px dashed; background: transparent;\">\n",
       "<span style=\"font-size:90%\"><div class=\"highlight\" style=\"background: #f8f8f8\"><pre style=\"line-height: 125%;\"><span></span><code><span style=\"color: #008000; font-weight: bold\">if</span><span style=\"color: #BBB\"> </span><span style=\"color: #008000\">changed2</span>(<span style=\"color: #B00040\">k</span>freq)<span style=\"color: #BBB\"> </span><span style=\"color: #666\">==</span><span style=\"color: #BBB\"> </span><span style=\"color: #666\">1</span><span style=\"color: #BBB\"> </span><span style=\"color: #008000; font-weight: bold\">then</span>\n",
       "<span style=\"color: #BBB\">    </span><span style=\"color: #008000\">println</span><span style=\"color: #BBB\"> </span><span style=\"color: #BA2121\">&quot;kfreq: </span><span style=\"color: #A45A77; font-weight: bold\">%f</span><span style=\"color: #BA2121\">&quot;</span>,<span style=\"color: #BBB\"> </span><span style=\"color: #B00040\">k</span>freq\n",
       "<span style=\"color: #008000; font-weight: bold\">endif</span>\n",
       "<span style=\"color: #008000\">outch</span><span style=\"color: #BBB\"> </span><span style=\"color: #666\">1</span>,<span style=\"color: #BBB\"> </span><span style=\"color: #008000\">oscili</span>:<span style=\"color: #B00040\">a</span>(<span style=\"color: #666\">0.1</span>,<span style=\"color: #BBB\"> </span><span style=\"color: #B00040\">k</span>freq)<span style=\"color: #BBB\"> </span><span style=\"color: #666\">*</span><span style=\"color: #BBB\"> </span><span style=\"color: #008000\">linsegr</span>:<span style=\"color: #B00040\">a</span>(<span style=\"color: #666\">0</span>,<span style=\"color: #BBB\"> </span><span style=\"color: #666\">0.01</span>,<span style=\"color: #BBB\"> </span><span style=\"color: #666\">1</span>,<span style=\"color: #BBB\"> </span><span style=\"color: #666\">0.01</span>,<span style=\"color: #BBB\"> </span><span style=\"color: #666\">0</span>)\n",
       "</code></pre></div>\n",
       "</span>"
      ],
      "text/plain": [
       "Instr(foo, kfreq=1000)"
      ]
     },
     "execution_count": 9,
     "metadata": {},
     "output_type": "execute_result"
    }
   ],
   "source": [
    "foo = s.defInstr('foo', r'''\n",
    "{kfreq=1000}\n",
    "if changed2(kfreq) == 1 then\n",
    "    println \"kfreq: %f\", kfreq\n",
    "endif\n",
    "outch 1, oscili:a(0.1, kfreq) * linsegr:a(0, 0.01, 1, 0.01, 0)\n",
    "''')\n",
    "foo"
   ]
  },
  {
   "cell_type": "code",
   "execution_count": 10,
   "id": "4dc6884e-8ca0-4133-82f3-9401d6a19667",
   "metadata": {},
   "outputs": [
    {
     "data": {
      "text/plain": [
       "frozenset({'kfreq'})"
      ]
     },
     "execution_count": 10,
     "metadata": {},
     "output_type": "execute_result"
    }
   ],
   "source": [
    "foo.dynamicParamNames()"
   ]
  },
  {
   "cell_type": "code",
   "execution_count": 11,
   "id": "7493ee3d-48f8-4c29-9f7d-2d85bf4465d0",
   "metadata": {},
   "outputs": [
    {
     "data": {
      "application/vnd.jupyter.widget-view+json": {
       "model_id": "425e160099e34178badc4ddc2671b7df",
       "version_major": 2,
       "version_minor": 0
      },
      "text/plain": [
       "Button(description='Stop', style=ButtonStyle())"
      ]
     },
     "metadata": {},
     "output_type": "display_data"
    },
    {
     "data": {
      "application/vnd.jupyter.widget-view+json": {
       "model_id": "e2902680f5e34d78b10c0e544334d4ca",
       "version_major": 2,
       "version_minor": 0
      },
      "text/plain": [
       "Output()"
      ]
     },
     "metadata": {},
     "output_type": "display_data"
    },
    {
     "data": {
      "text/html": [
       "<p><span style=\"font-size:12px;\">Synth(𝍪 <strong style=\"color:MediumSeaGreen\">foo</strong>:501.0004)</span></p>"
      ],
      "text/plain": [
       "Synth(𝍪 foo=501.0004 start=20.105 dur=-1.000 p5=700)"
      ]
     },
     "execution_count": 11,
     "metadata": {},
     "output_type": "execute_result"
    }
   ],
   "source": [
    "sy = s.sched('foo', kfreq=700)\n",
    "sy"
   ]
  },
  {
   "cell_type": "code",
   "execution_count": 12,
   "id": "ca13f50c-9c30-40e9-9428-8033fa1c837c",
   "metadata": {},
   "outputs": [
    {
     "data": {
      "text/plain": [
       "[700.0]"
      ]
     },
     "execution_count": 12,
     "metadata": {},
     "output_type": "execute_result"
    }
   ],
   "source": [
    "sy.args"
   ]
  },
  {
   "cell_type": "code",
   "execution_count": 13,
   "id": "bbd0220a-6cc8-40b9-87e4-953d183385a9",
   "metadata": {},
   "outputs": [
    {
     "name": "stderr",
     "output_type": "stream",
     "text": [
      "kfreq: 3140.000000\n",
      "\u001b[m"
     ]
    }
   ],
   "source": [
    "sy.set(kfreq=3140)"
   ]
  },
  {
   "cell_type": "code",
   "execution_count": 14,
   "id": "3cae97f6-9cb9-493c-bdba-e5bb38209098",
   "metadata": {},
   "outputs": [
    {
     "name": "stdout",
     "output_type": "stream",
     "text": [
      "kfreq = p5\n",
      "if changed2(kfreq) == 1 then\n",
      "    println \"kfreq: %f\", kfreq\n",
      "endif\n",
      "outch 1, oscili:a(0.1, kfreq) * linsegr:a(0, 0.01, 1, 0.01, 0)\n",
      "atstop 1, 0.01, 0.01, p1\n"
     ]
    }
   ],
   "source": [
    "print(sy.body)"
   ]
  },
  {
   "cell_type": "code",
   "execution_count": 15,
   "id": "93b62b2e-6732-41b1-b7b5-d998da06146a",
   "metadata": {},
   "outputs": [
    {
     "data": {
      "text/html": [
       "Instr <strong style=\"color:MediumSeaGreen\">bar</strong><br>\n",
       "&nbsp&nbsp&nbsp&nbsp<span style=\"font-size:90%\"><b>kfreq</b>=<code>1000</code></span><br>\n",
       "<hr style=\"width:38%;text-align:left;margin-left:0;border: 1px dashed; background: transparent;\">\n",
       "<span style=\"font-size:90%\"><div class=\"highlight\" style=\"background: #f8f8f8\"><pre style=\"line-height: 125%;\"><span></span><code><span style=\"color: #008000; font-weight: bold\">if</span><span style=\"color: #BBB\"> </span><span style=\"color: #008000\">changed2</span>(<span style=\"color: #B00040\">k</span>freq)<span style=\"color: #BBB\"> </span><span style=\"color: #666\">==</span><span style=\"color: #BBB\"> </span><span style=\"color: #666\">1</span><span style=\"color: #BBB\"> </span><span style=\"color: #008000; font-weight: bold\">then</span>\n",
       "<span style=\"color: #BBB\">    </span><span style=\"color: #008000\">println</span><span style=\"color: #BBB\"> </span><span style=\"color: #BA2121\">&quot;kfreq: </span><span style=\"color: #A45A77; font-weight: bold\">%f</span><span style=\"color: #BA2121\">&quot;</span>,<span style=\"color: #BBB\"> </span><span style=\"color: #B00040\">k</span>freq\n",
       "<span style=\"color: #008000; font-weight: bold\">endif</span>\n",
       "<span style=\"color: #008000\">outch</span><span style=\"color: #BBB\"> </span><span style=\"color: #666\">1</span>,<span style=\"color: #BBB\"> </span><span style=\"color: #008000\">oscili</span>:<span style=\"color: #B00040\">a</span>(<span style=\"color: #666\">0.1</span>,<span style=\"color: #BBB\"> </span><span style=\"color: #B00040\">k</span>freq)<span style=\"color: #BBB\"> </span><span style=\"color: #666\">*</span><span style=\"color: #BBB\"> </span><span style=\"color: #008000\">linsegr</span>:<span style=\"color: #B00040\">a</span>(<span style=\"color: #666\">0</span>,<span style=\"color: #BBB\"> </span><span style=\"color: #666\">0.01</span>,<span style=\"color: #BBB\"> </span><span style=\"color: #666\">1</span>,<span style=\"color: #BBB\"> </span><span style=\"color: #666\">0.01</span>,<span style=\"color: #BBB\"> </span><span style=\"color: #666\">0</span>)\n",
       "</code></pre></div>\n",
       "</span>"
      ],
      "text/plain": [
       "Instr(bar, kfreq=1000)"
      ]
     },
     "execution_count": 15,
     "metadata": {},
     "output_type": "execute_result"
    }
   ],
   "source": [
    "bar = s.defInstr('bar', r'''\n",
    "|kfreq=1000|\n",
    "if changed2(kfreq) == 1 then\n",
    "    println \"kfreq: %f\", kfreq\n",
    "endif\n",
    "outch 1, oscili:a(0.1, kfreq) * linsegr:a(0, 0.01, 1, 0.01, 0)\n",
    "''')\n",
    "bar"
   ]
  },
  {
   "cell_type": "code",
   "execution_count": 16,
   "id": "0f214a2f-8fee-4155-b8e0-2ab2fb6d6c16",
   "metadata": {},
   "outputs": [
    {
     "data": {
      "text/html": [
       "Instr <strong style=\"color:MediumSeaGreen\">baz</strong><br>\n",
       "&nbsp&nbsp&nbsp&nbsp<span style=\"font-size:90%\"><b>kfreq</b>=<code>440</code></span>, <span style=\"font-size:90%\"><b>iamp</b>=<code>0.1</code></span><br>\n",
       "<hr style=\"width:38%;text-align:left;margin-left:0;border: 1px dashed; background: transparent;\">\n",
       "<span style=\"font-size:90%\"><div class=\"highlight\" style=\"background: #f8f8f8\"><pre style=\"line-height: 125%;\"><span></span><code><span style=\"color: #008000\">pset</span><span style=\"color: #BBB\"> </span><span style=\"color: #19177C\">p1</span>,<span style=\"color: #BBB\"> </span><span style=\"color: #19177C\">p2</span>,<span style=\"color: #BBB\"> </span><span style=\"color: #19177C\">p3</span>,<span style=\"color: #BBB\"> </span><span style=\"color: #666\">0</span>,<span style=\"color: #BBB\"> </span><span style=\"color: #666\">440</span>,<span style=\"color: #BBB\"> </span><span style=\"color: #666\">0.1</span>\n",
       "<span style=\"color: #B00040\">k</span>freq<span style=\"color: #BBB\"> </span><span style=\"color: #666\">=</span><span style=\"color: #BBB\"> </span><span style=\"color: #19177C\">p5</span>\n",
       "<span style=\"color: #B00040\">i</span>amp<span style=\"color: #BBB\"> </span><span style=\"color: #666\">=</span><span style=\"color: #BBB\"> </span><span style=\"color: #19177C\">p6</span>\n",
       "<span style=\"color: #008000\">outch</span><span style=\"color: #BBB\"> </span><span style=\"color: #666\">1</span>,<span style=\"color: #BBB\"> </span><span style=\"color: #008000\">oscili</span>:<span style=\"color: #B00040\">a</span>(<span style=\"color: #B00040\">i</span>amp,<span style=\"color: #BBB\"> </span><span style=\"color: #B00040\">k</span>freq)<span style=\"color: #BBB\"> </span><span style=\"color: #666\">*</span><span style=\"color: #BBB\"> </span><span style=\"color: #008000\">linsegr</span>:<span style=\"color: #B00040\">a</span>(<span style=\"color: #666\">0</span>,<span style=\"color: #BBB\"> </span><span style=\"color: #666\">0.01</span>,<span style=\"color: #BBB\"> </span><span style=\"color: #666\">1</span>,<span style=\"color: #BBB\"> </span><span style=\"color: #666\">0.01</span>,<span style=\"color: #BBB\"> </span><span style=\"color: #666\">0</span>)\n",
       "</code></pre></div>\n",
       "</span>"
      ],
      "text/plain": [
       "Instr(baz, kfreq=440, iamp=0.1)"
      ]
     },
     "execution_count": 16,
     "metadata": {},
     "output_type": "execute_result"
    }
   ],
   "source": [
    "baz = s.defInstr('baz', r'''\n",
    "pset p1, p2, p3, 0, 440, 0.1\n",
    "kfreq = p5\n",
    "iamp = p6\n",
    "outch 1, oscili:a(iamp, kfreq) * linsegr:a(0, 0.01, 1, 0.01, 0)\n",
    "''')\n",
    "baz"
   ]
  },
  {
   "cell_type": "code",
   "execution_count": 17,
   "id": "b720040d-a119-41a0-b5e9-d9a116817f0c",
   "metadata": {},
   "outputs": [
    {
     "data": {
      "application/vnd.jupyter.widget-view+json": {
       "model_id": "f4c356fd95ba486eb258e5e21799b483",
       "version_major": 2,
       "version_minor": 0
      },
      "text/plain": [
       "Button(description='Stop', style=ButtonStyle())"
      ]
     },
     "metadata": {},
     "output_type": "display_data"
    },
    {
     "data": {
      "application/vnd.jupyter.widget-view+json": {
       "model_id": "375dbf1410944cd599b22748f36454fe",
       "version_major": 2,
       "version_minor": 0
      },
      "text/plain": [
       "Output()"
      ]
     },
     "metadata": {},
     "output_type": "display_data"
    },
    {
     "data": {
      "text/html": [
       "<p><span style=\"font-size:12px;\">Synth(𝍪 <strong style=\"color:MediumSeaGreen\">baz</strong>:502.0002, <span style=\"font-size:12px;\">5:<b>kfreq</b>=<code>800</code> 6:<b>iamp</b>=<code>0.1</code></span>)</span></p>"
      ],
      "text/plain": [
       "Synth(𝍪 baz=502.0002 start=35.742 dur=2.000 p5=800 kfreq=0.1)"
      ]
     },
     "execution_count": 17,
     "metadata": {},
     "output_type": "execute_result"
    }
   ],
   "source": [
    "def callback(*args):\n",
    "    # import time\n",
    "    print(\"**************\", args)\n",
    "    # time.sleep(0.01)\n",
    "\n",
    "sy = s.sched('baz', dur=2, kfreq=800, iamp=0.1, whenfinished=lambda *args: print(\"*********\", args))\n",
    "sy"
   ]
  },
  {
   "cell_type": "code",
   "execution_count": 18,
   "id": "829101e0-9d93-40aa-a656-b4772b7e4e66",
   "metadata": {},
   "outputs": [
    {
     "data": {
      "text/plain": [
       "True"
      ]
     },
     "execution_count": 18,
     "metadata": {},
     "output_type": "execute_result"
    }
   ],
   "source": [
    "sy.playing()"
   ]
  },
  {
   "cell_type": "code",
   "execution_count": 19,
   "id": "bcf58ed0-fe8f-48c3-b7ec-66a0bcadb3bc",
   "metadata": {},
   "outputs": [
    {
     "name": "stderr",
     "output_type": "stream",
     "text": [
      "Synth Synth(■ baz=502.0002 start=35.742 dur=2.000 p5=800 kfreq=0.1) has already stopped, cannot set param 'kfreq'\n"
     ]
    }
   ],
   "source": [
    "sy.set(kfreq=850)"
   ]
  },
  {
   "cell_type": "code",
   "execution_count": 20,
   "id": "d2b1f796-4afe-4cd4-8ac8-ddd1248606c0",
   "metadata": {},
   "outputs": [
    {
     "data": {
      "text/plain": [
       "11"
      ]
     },
     "execution_count": 20,
     "metadata": {},
     "output_type": "execute_result"
    }
   ],
   "source": [
    "sy = s.sched('baz', dur=3, kfreq=1000, iamp=0.01)\n",
    "sy.automate('kfreq', (0, 0, 2, 200, 3, 800), overtake=True)"
   ]
  },
  {
   "cell_type": "markdown",
   "id": "9e9d6e21-df54-4df7-bd8f-2f6b2d31b751",
   "metadata": {},
   "source": [
    "This should not work"
   ]
  },
  {
   "cell_type": "code",
   "execution_count": 21,
   "id": "4233e683-f74e-4aaa-831d-595bb5943b70",
   "metadata": {},
   "outputs": [
    {
     "data": {
      "text/html": [
       "Instr <strong style=\"color:MediumSeaGreen\">test</strong><br>\n",
       "&nbsp&nbsp&nbsp&nbsp<span style=\"font-size:90%\"><b>kfreq</b>=<code>1000</code></span><br>\n",
       "<hr style=\"width:38%;text-align:left;margin-left:0;border: 1px dashed; background: transparent;\">\n",
       "<span style=\"font-size:90%\"><div class=\"highlight\" style=\"background: #f8f8f8\"><pre style=\"line-height: 125%;\"><span></span><code><span style=\"color: #008000\">pset</span><span style=\"color: #BBB\"> </span><span style=\"color: #666\">0</span>,<span style=\"color: #BBB\"> </span><span style=\"color: #666\">0</span>,<span style=\"color: #BBB\"> </span><span style=\"color: #666\">0</span>,<span style=\"color: #BBB\"> </span><span style=\"color: #666\">0</span>,<span style=\"color: #BBB\"> </span><span style=\"color: #666\">0.1</span>,<span style=\"color: #BBB\"> </span><span style=\"color: #666\">0.5</span>\n",
       "<span style=\"color: #B00040\">i</span>amp<span style=\"color: #BBB\"> </span><span style=\"color: #666\">=</span><span style=\"color: #BBB\"> </span><span style=\"color: #19177C\">p5</span>\n",
       "<span style=\"color: #008000\">outch</span><span style=\"color: #BBB\"> </span><span style=\"color: #666\">1</span>,<span style=\"color: #BBB\"> </span><span style=\"color: #008000\">oscili</span>:<span style=\"color: #B00040\">a</span>(<span style=\"color: #B00040\">i</span>amp,<span style=\"color: #BBB\"> </span><span style=\"color: #B00040\">k</span>freq<span style=\"color: #BBB\"> </span><span style=\"color: #666\">*</span><span style=\"color: #BBB\"> </span><span style=\"color: #19177C\">p6</span>)\n",
       "</code></pre></div>\n",
       "</span>"
      ],
      "text/plain": [
       "Instr(test, kfreq=1000)"
      ]
     },
     "execution_count": 21,
     "metadata": {},
     "output_type": "execute_result"
    }
   ],
   "source": [
    "test = s.defInstr('test', r'''\n",
    "|kfreq=1000|\n",
    "pset 0, 0, 0, 0, 0.1, 0.5\n",
    "iamp = p5\n",
    "outch 1, oscili:a(iamp, kfreq * p6)\n",
    "''')\n",
    "test"
   ]
  },
  {
   "cell_type": "code",
   "execution_count": 22,
   "id": "306283a4-1503-4b77-8471-969d58368676",
   "metadata": {},
   "outputs": [
    {
     "data": {
      "text/html": [
       "Instr <strong style=\"color:MediumSeaGreen\">output</strong><br>\n",
       "&nbsp&nbsp&nbsp&nbsp<span style=\"font-size:90%\"><b>ichan</b>=<code>1</code></span><br>\n",
       "<hr style=\"width:38%;text-align:left;margin-left:0;border: 1px dashed; background: transparent;\">\n",
       "<span style=\"font-size:90%\"><div class=\"highlight\" style=\"background: #f8f8f8\"><pre style=\"line-height: 125%;\"><span></span><code><span style=\"color: #B00040\">a</span>in<span style=\"color: #BBB\"> </span><span style=\"color: #666\">=</span><span style=\"color: #BBB\"> </span><span style=\"color: #008000\">inch</span>:<span style=\"color: #B00040\">a</span>(<span style=\"color: #B00040\">i</span>chan)\n",
       "<span style=\"color: #B00040\">a</span>env<span style=\"color: #BBB\"> </span><span style=\"color: #666\">=</span><span style=\"color: #BBB\"> </span><span style=\"color: #008000\">follow2</span>(<span style=\"color: #B00040\">a</span>in,<span style=\"color: #BBB\"> </span><span style=\"color: #666\">0.1</span>,<span style=\"color: #BBB\"> </span><span style=\"color: #666\">0.2</span>)\n",
       "<span style=\"color: #B00040\">k</span>env<span style=\"color: #BBB\"> </span><span style=\"color: #666\">=</span><span style=\"color: #BBB\"> </span><span style=\"color: #008000\">downsamp</span>(<span style=\"color: #B00040\">a</span>env,<span style=\"color: #BBB\"> </span><span style=\"color: #666\">16</span>)\n",
       "<span style=\"color: #008000; font-weight: bold\">if</span><span style=\"color: #BBB\"> </span><span style=\"color: #008000\">changed</span>(<span style=\"color: #B00040\">k</span>env)<span style=\"color: #BBB\"> </span><span style=\"color: #666\">==</span><span style=\"color: #BBB\"> </span><span style=\"color: #666\">1</span><span style=\"color: #BBB\"> </span><span style=\"color: #008000; font-weight: bold\">then</span>\n",
       "<span style=\"color: #BBB\">    </span><span style=\"color: #008000\">println</span><span style=\"color: #BBB\"> </span><span style=\"color: #BA2121\">&quot;kenv: </span><span style=\"color: #A45A77; font-weight: bold\">%f</span><span style=\"color: #BA2121\"> dB&quot;</span>,<span style=\"color: #BBB\"> </span><span style=\"color: #008000\">dbamp</span>(<span style=\"color: #B00040\">k</span>env)\n",
       "<span style=\"color: #008000; font-weight: bold\">endif</span>\n",
       "</code></pre></div>\n",
       "</span>"
      ],
      "text/plain": [
       "Instr(output, ichan=1)"
      ]
     },
     "execution_count": 22,
     "metadata": {},
     "output_type": "execute_result"
    }
   ],
   "source": [
    "test = s.defInstr('output', r'''\n",
    "|ichan=1|\n",
    "ain = inch:a(ichan)\n",
    "aenv = follow2(ain, 0.1, 0.2)\n",
    "kenv = downsamp(aenv, 16)\n",
    "if changed(kenv) == 1 then\n",
    "    println \"kenv: %f dB\", dbamp(kenv)\n",
    "endif\n",
    "''')\n",
    "test"
   ]
  },
  {
   "cell_type": "code",
   "execution_count": 23,
   "id": "5bc10004-f2a6-4260-a9c1-68d0c1280ea6",
   "metadata": {},
   "outputs": [
    {
     "data": {
      "text/html": [
       "Instr <strong style=\"color:MediumSeaGreen\">sine</strong><br>\n",
       "&nbsp&nbsp&nbsp&nbsp<span style=\"font-size:90%\"><b>iamp</b>=<code>0.1</code></span>, <span style=\"font-size:90%\"><b>kfreq</b>=<code>1000</code></span><br>\n",
       "<hr style=\"width:38%;text-align:left;margin-left:0;border: 1px dashed; background: transparent;\">\n",
       "<span style=\"font-size:90%\"><div class=\"highlight\" style=\"background: #f8f8f8\"><pre style=\"line-height: 125%;\"><span></span><code><span style=\"color: #B00040\">a</span>0<span style=\"color: #BBB\"> </span><span style=\"color: #666\">=</span><span style=\"color: #BBB\"> </span><span style=\"color: #008000\">oscili</span>:<span style=\"color: #B00040\">a</span>(<span style=\"color: #B00040\">k</span>amp,<span style=\"color: #BBB\"> </span><span style=\"color: #B00040\">k</span>freq)\n",
       "<span style=\"color: #008000\">outch</span><span style=\"color: #BBB\"> </span><span style=\"color: #666\">1</span>,<span style=\"color: #BBB\"> </span><span style=\"color: #B00040\">a</span>0\n",
       "</code></pre></div>\n",
       "</span>"
      ],
      "text/plain": [
       "Instr(sine, iamp=0.1, kfreq=1000)"
      ]
     },
     "execution_count": 23,
     "metadata": {},
     "output_type": "execute_result"
    }
   ],
   "source": [
    "s.defInstr('sine', r'''\n",
    "        |iamp=0.1, kfreq=1000|\n",
    "        a0 = oscili:a(kamp, kfreq)\n",
    "        outch 1, a0\n",
    "    ''')"
   ]
  },
  {
   "cell_type": "code",
   "execution_count": 25,
   "id": "b290e1e4-e80b-4cb7-8c4c-7acf86bcc864",
   "metadata": {},
   "outputs": [],
   "source": [
    "r = s.makeRenderer()\n",
    "r.sched('sine', dur=1, iamp=0.01, kfreq=440)\n",
    "r.writeCsd(\"~/tmp/sine.csd\")"
   ]
  },
  {
   "cell_type": "code",
   "execution_count": 26,
   "id": "8d2d8f4a-748d-4a82-9a79-526cae3e032a",
   "metadata": {},
   "outputs": [],
   "source": [
    "with s.rendering('~/tmp/test.wav'):\n",
    "    s.sched('sine', dur=1, iamp=0.01, kfreq=440)"
   ]
  },
  {
   "cell_type": "code",
   "execution_count": 27,
   "id": "b5c1d1b3-8377-42bb-aa06-fb0a47e33cfd",
   "metadata": {},
   "outputs": [
    {
     "data": {
      "text/html": [
       "Instr <strong style=\"color:MediumSeaGreen\">pfields</strong><br>\n",
       "&nbsp&nbsp&nbsp&nbsp<span style=\"font-size:90%\"><b>kfreq</b>=<code>0</code></span><br>\n",
       "<hr style=\"width:38%;text-align:left;margin-left:0;border: 1px dashed; background: transparent;\">\n",
       "<span style=\"font-size:90%\"><div class=\"highlight\" style=\"background: #f8f8f8\"><pre style=\"line-height: 125%;\"><span></span><code><span style=\"color: #B00040\">k</span>freq<span style=\"color: #BBB\"> </span><span style=\"color: #666\">=</span><span style=\"color: #BBB\"> </span><span style=\"color: #19177C\">p5</span>\n",
       "<span style=\"color: #008000\">outch</span><span style=\"color: #BBB\"> </span><span style=\"color: #666\">1</span>,<span style=\"color: #BBB\"> </span><span style=\"color: #008000\">oscili</span>:<span style=\"color: #B00040\">a</span>(<span style=\"color: #666\">0.1</span>,<span style=\"color: #BBB\"> </span><span style=\"color: #B00040\">k</span>freq)\n",
       "</code></pre></div>\n",
       "</span>"
      ],
      "text/plain": [
       "Instr(pfields, kfreq:5)"
      ]
     },
     "execution_count": 27,
     "metadata": {},
     "output_type": "execute_result"
    }
   ],
   "source": [
    "instr = s.defInstr('pfields', r'''\n",
    "kfreq = p5\n",
    "outch 1, oscili:a(0.1, kfreq)\n",
    "''')\n",
    "instr"
   ]
  },
  {
   "cell_type": "code",
   "execution_count": 28,
   "id": "65161bd0-6b95-44c7-a7f3-ec324ed44f4f",
   "metadata": {},
   "outputs": [
    {
     "data": {
      "text/plain": [
       "ParsedInstrBody(pfieldIndexToName={5: 'kfreq'}, pfieldLines=['kfreq = p5'], body='outch 1, oscili:a(0.1, kfreq)', lines=['', 'kfreq = p5', 'outch 1, oscili:a(0.1, kfreq)'], pfieldIndexToValue={}, pfieldsUsed={5}, outChannels=set())"
      ]
     },
     "execution_count": 28,
     "metadata": {},
     "output_type": "execute_result"
    }
   ],
   "source": [
    "instr.parsedCode"
   ]
  },
  {
   "cell_type": "code",
   "execution_count": 29,
   "id": "8b259aec-764e-4c88-8b5f-40c67cd3702a",
   "metadata": {},
   "outputs": [
    {
     "data": {
      "text/plain": [
       "{'kfreq': 0.0}"
      ]
     },
     "execution_count": 29,
     "metadata": {},
     "output_type": "execute_result"
    }
   ],
   "source": [
    "instr.parsedCode.pfieldNameToValue"
   ]
  },
  {
   "cell_type": "code",
   "execution_count": 30,
   "id": "a1c255fc-eeb3-4105-81b9-c47dd33e5d6a",
   "metadata": {},
   "outputs": [
    {
     "data": {
      "text/plain": [
       "{}"
      ]
     },
     "execution_count": 30,
     "metadata": {},
     "output_type": "execute_result"
    }
   ],
   "source": [
    "instr.parsedCode.pfieldIndexToValue"
   ]
  },
  {
   "cell_type": "code",
   "execution_count": 31,
   "id": "6fb044a0-0711-42e5-9248-3f8413f8528b",
   "metadata": {},
   "outputs": [
    {
     "data": {
      "text/plain": [
       "{'kfreq': 0.0}"
      ]
     },
     "execution_count": 31,
     "metadata": {},
     "output_type": "execute_result"
    }
   ],
   "source": [
    "instr.dynamicPfields()"
   ]
  },
  {
   "cell_type": "code",
   "execution_count": 32,
   "id": "66d1002f-4d07-426c-b98b-8b3a586747ed",
   "metadata": {},
   "outputs": [
    {
     "data": {
      "text/plain": [
       "{}"
      ]
     },
     "execution_count": 32,
     "metadata": {},
     "output_type": "execute_result"
    }
   ],
   "source": [
    "instr.aliases"
   ]
  }
 ],
 "metadata": {
  "kernelspec": {
   "display_name": "Python 3 (ipykernel)",
   "language": "python",
   "name": "python3"
  },
  "language_info": {
   "codemirror_mode": {
    "name": "ipython",
    "version": 3
   },
   "file_extension": ".py",
   "mimetype": "text/x-python",
   "name": "python",
   "nbconvert_exporter": "python",
   "pygments_lexer": "ipython3",
   "version": "3.12.3"
  }
 },
 "nbformat": 4,
 "nbformat_minor": 5
}
