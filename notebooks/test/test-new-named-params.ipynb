{
 "cells": [
  {
   "cell_type": "code",
   "execution_count": 1,
   "id": "fff9ba71-aa28-4f83-9c24-de8d17358c90",
   "metadata": {},
   "outputs": [],
   "source": [
    "from csoundengine import *\n",
    "import logging\n",
    "# logging.basicConfig(level=\"DEBUG\")\n"
   ]
  },
  {
   "cell_type": "code",
   "execution_count": 2,
   "id": "d7949268-916e-43f5-aecf-f5ed10330490",
   "metadata": {},
   "outputs": [
    {
     "name": "stderr",
     "output_type": "stream",
     "text": [
      "\n",
      "\n",
      "--Csound version 6.19 (double samples) Oct  1 2023\n",
      "[commit: 593ac80dd986b58f24e3d59242243ba6266edda7]\n",
      "\u001b[mlibsndfile-1.2.0\n",
      "\u001b[msr = 48000.0,\u001b[m kr = 750.000,\u001b[m ksmps = 64\n",
      "\u001b[m0dBFS level = 1.0,\u001b[m A4 tuning = 442.0\n",
      "\u001b[maudio buffered in 1024 sample-frame blocks\n",
      "\u001b[mreading 8192-byte blks of shorts from adc:Built-in Audio Pro: (RAW)\n",
      "writing 2048 sample blks of 64-bit floats to dac:Built-in Audio Pro:\n",
      "SECTION 1:\n"
     ]
    }
   ],
   "source": [
    "e = Engine()\n",
    "s = e.session()"
   ]
  },
  {
   "cell_type": "code",
   "execution_count": 3,
   "id": "ad01efc6-9682-44a6-a97f-9677e4160f71",
   "metadata": {},
   "outputs": [
    {
     "data": {
      "text/html": [
       "Instr <strong style=\"color:MediumSeaGreen\">foo</strong><br>\n",
       "<span style=\"font-size:90%\">&nbsp&nbsp&nbsp&nbsp controls = <code>{'kfreq': 800}</code></span>\n",
       "<hr style=\"width:38%;text-align:left;margin-left:0\">\n",
       "<span style=\"font-size:90%\"><div class=\"highlight\" style=\"background: #f8f8f8\"><pre style=\"line-height: 125%;\"><span></span><code><span style=\"color: #3D7B7B; font-style: italic\">; foo instr</span>\n",
       "<span style=\"color: #3D7B7B; font-style: italic\">; Args:</span>\n",
       "<span style=\"color: #3D7B7B; font-style: italic\">;   kfreq: frequency</span>\n",
       "<span style=\"color: #008000; font-weight: bold\">if</span><span style=\"color: #bbbbbb\"> </span><span style=\"color: #008000\">changed2</span>(<span style=\"color: #B00040\">k</span>freq)<span style=\"color: #bbbbbb\"> </span><span style=\"color: #666666\">==</span><span style=\"color: #bbbbbb\"> </span><span style=\"color: #666666\">1</span><span style=\"color: #bbbbbb\"> </span><span style=\"color: #008000; font-weight: bold\">then</span>\n",
       "<span style=\"color: #bbbbbb\">    </span><span style=\"color: #008000\">println</span><span style=\"color: #bbbbbb\"> </span><span style=\"color: #BA2121\">&quot;kfreq: </span><span style=\"color: #A45A77; font-weight: bold\">%f</span><span style=\"color: #BA2121\">&quot;</span>,<span style=\"color: #bbbbbb\"> </span><span style=\"color: #B00040\">k</span>freq\n",
       "<span style=\"color: #008000; font-weight: bold\">endif</span>\n",
       "<span style=\"color: #008000\">outch</span><span style=\"color: #bbbbbb\"> </span><span style=\"color: #666666\">1</span>,<span style=\"color: #bbbbbb\"> </span><span style=\"color: #008000\">oscili</span>:<span style=\"color: #B00040\">a</span>(<span style=\"color: #666666\">0.1</span>,<span style=\"color: #bbbbbb\"> </span><span style=\"color: #B00040\">k</span>freq)<span style=\"color: #bbbbbb\"> </span><span style=\"color: #666666\">*</span><span style=\"color: #bbbbbb\"> </span><span style=\"color: #008000\">linsegr</span>:<span style=\"color: #B00040\">a</span>(<span style=\"color: #666666\">0</span>,<span style=\"color: #bbbbbb\"> </span><span style=\"color: #666666\">0.01</span>,<span style=\"color: #bbbbbb\"> </span><span style=\"color: #666666\">1</span>,<span style=\"color: #bbbbbb\"> </span><span style=\"color: #666666\">0.01</span>,<span style=\"color: #bbbbbb\"> </span><span style=\"color: #666666\">0</span>)\n",
       "</code></pre></div>\n",
       "</span>"
      ],
      "text/plain": [
       "Instr(foo, tabargs={'kfreq': 800})"
      ]
     },
     "execution_count": 3,
     "metadata": {},
     "output_type": "execute_result"
    }
   ],
   "source": [
    "foo = s.defInstr('foo', r'''\n",
    "; foo instr\n",
    "; Args:\n",
    ";   kfreq: frequency\n",
    "if changed2(kfreq) == 1 then\n",
    "    println \"kfreq: %f\", kfreq\n",
    "endif\n",
    "outch 1, oscili:a(0.1, kfreq) * linsegr:a(0, 0.01, 1, 0.01, 0)\n",
    "''', args={'kfreq': 800})\n",
    "foo"
   ]
  },
  {
   "cell_type": "code",
   "execution_count": 4,
   "id": "ef71105a-3031-4241-bec4-ca8b6dcd056d",
   "metadata": {},
   "outputs": [
    {
     "name": "stdout",
     "output_type": "stream",
     "text": [
      "; foo instr\n",
      "; Args:\n",
      ";   kfreq: frequency\n",
      "; --- start generated code for dynamic args\n",
      "i__slicestart__ = p4\n",
      "i__tabnum__ chnget \".dynargsTabnum\"\n",
      "if i__tabnum__ == 0 then\n",
      "    initerror sprintf(\"Session table does not exist (p1: %f)\", p1)\n",
      "    goto __exit\n",
      "endif\n",
      "\n",
      "kfreq tab i__slicestart__ + 0, i__tabnum__\n",
      "; --- end generated code\n",
      "if changed2(kfreq) == 1 then\n",
      "    println \"kfreq: %f\", kfreq\n",
      "endif\n",
      "outch 1, oscili:a(0.1, kfreq) * linsegr:a(0, 0.01, 1, 0.01, 0)\n",
      "atstop 2, 0.01, 0, p1\n",
      "__exit:\n"
     ]
    }
   ],
   "source": [
    "print(s.instrGenerateBody(foo))"
   ]
  },
  {
   "cell_type": "code",
   "execution_count": 8,
   "id": "bb07ed3d-4a29-4d82-a0bd-4a2aba3e73b0",
   "metadata": {},
   "outputs": [
    {
     "data": {
      "application/vnd.jupyter.widget-view+json": {
       "model_id": "9cb96ee4d77f4c8aa4c6bea8bf01aba6",
       "version_major": 2,
       "version_minor": 0
      },
      "text/plain": [
       "Button(description='Stop', style=ButtonStyle())"
      ]
     },
     "metadata": {},
     "output_type": "display_data"
    },
    {
     "data": {
      "application/vnd.jupyter.widget-view+json": {
       "model_id": "ae379cf4dc4842b09ede455f64210098",
       "version_major": 2,
       "version_minor": 0
      },
      "text/plain": [
       "Output()"
      ]
     },
     "metadata": {},
     "output_type": "display_data"
    },
    {
     "data": {
      "text/html": [
       "<p><span style=\"font-size:12px;\">Synth(▶ <strong style=\"color:MediumSeaGreen\">foo</strong>:501.0005)</span></p>"
      ],
      "text/plain": [
       "Synth(▶ foo:501.0005 start:20.460 dur:10.000 p4=9960)"
      ]
     },
     "execution_count": 8,
     "metadata": {},
     "output_type": "execute_result"
    }
   ],
   "source": [
    "sy = s.sched('foo', 0, 10, kfreq=800)\n",
    "# sy.engine.callLater(0.5, sy.stop)\n",
    "sy"
   ]
  },
  {
   "cell_type": "code",
   "execution_count": 11,
   "id": "c5a1d4de-906a-4bcc-8287-885fb3b27f5d",
   "metadata": {},
   "outputs": [],
   "source": [
    "sy.stop()\n"
   ]
  },
  {
   "cell_type": "code",
   "execution_count": 13,
   "id": "918782ac-850e-4da5-94db-ed1feda41524",
   "metadata": {},
   "outputs": [
    {
     "name": "stderr",
     "output_type": "stream",
     "text": [
      "\u001b[mkfreq: 502.000000\n"
     ]
    }
   ],
   "source": [
    "sy.set(kfreq=502)"
   ]
  },
  {
   "cell_type": "code",
   "execution_count": 14,
   "id": "5ce692ba-72ce-463e-b890-f28039a57b04",
   "metadata": {},
   "outputs": [
    {
     "data": {
      "text/html": [
       "Instr <strong style=\"color:MediumSeaGreen\">foo</strong><br>\n",
       "<span style=\"font-size:90%\">&nbsp&nbsp&nbsp&nbsp controls = <code>{'kfreq': 1000.0}</code></span>\n",
       "<hr style=\"width:38%;text-align:left;margin-left:0\">\n",
       "<span style=\"font-size:90%\"><div class=\"highlight\" style=\"background: #f8f8f8\"><pre style=\"line-height: 125%;\"><span></span><code><span style=\"color: #008000; font-weight: bold\">if</span><span style=\"color: #bbbbbb\"> </span><span style=\"color: #008000\">changed2</span>(<span style=\"color: #B00040\">k</span>freq)<span style=\"color: #bbbbbb\"> </span><span style=\"color: #666666\">==</span><span style=\"color: #bbbbbb\"> </span><span style=\"color: #666666\">1</span><span style=\"color: #bbbbbb\"> </span><span style=\"color: #008000; font-weight: bold\">then</span>\n",
       "<span style=\"color: #bbbbbb\">    </span><span style=\"color: #008000\">println</span><span style=\"color: #bbbbbb\"> </span><span style=\"color: #BA2121\">&quot;kfreq: </span><span style=\"color: #A45A77; font-weight: bold\">%f</span><span style=\"color: #BA2121\">&quot;</span>,<span style=\"color: #bbbbbb\"> </span><span style=\"color: #B00040\">k</span>freq\n",
       "<span style=\"color: #008000; font-weight: bold\">endif</span>\n",
       "<span style=\"color: #008000\">outch</span><span style=\"color: #bbbbbb\"> </span><span style=\"color: #666666\">1</span>,<span style=\"color: #bbbbbb\"> </span><span style=\"color: #008000\">oscili</span>:<span style=\"color: #B00040\">a</span>(<span style=\"color: #666666\">0.1</span>,<span style=\"color: #bbbbbb\"> </span><span style=\"color: #B00040\">k</span>freq)<span style=\"color: #bbbbbb\"> </span><span style=\"color: #666666\">*</span><span style=\"color: #bbbbbb\"> </span><span style=\"color: #008000\">linsegr</span>:<span style=\"color: #B00040\">a</span>(<span style=\"color: #666666\">0</span>,<span style=\"color: #bbbbbb\"> </span><span style=\"color: #666666\">0.01</span>,<span style=\"color: #bbbbbb\"> </span><span style=\"color: #666666\">1</span>,<span style=\"color: #bbbbbb\"> </span><span style=\"color: #666666\">0.01</span>,<span style=\"color: #bbbbbb\"> </span><span style=\"color: #666666\">0</span>)\n",
       "</code></pre></div>\n",
       "</span>"
      ],
      "text/plain": [
       "Instr(foo, tabargs={'kfreq': 1000.0})"
      ]
     },
     "execution_count": 14,
     "metadata": {},
     "output_type": "execute_result"
    }
   ],
   "source": [
    "foo = s.defInstr('foo', r'''\n",
    "{kfreq=1000}\n",
    "if changed2(kfreq) == 1 then\n",
    "    println \"kfreq: %f\", kfreq\n",
    "endif\n",
    "outch 1, oscili:a(0.1, kfreq) * linsegr:a(0, 0.01, 1, 0.01, 0)\n",
    "''')\n",
    "foo"
   ]
  },
  {
   "cell_type": "code",
   "execution_count": 15,
   "id": "4dc6884e-8ca0-4133-82f3-9401d6a19667",
   "metadata": {},
   "outputs": [
    {
     "data": {
      "text/plain": [
       "{'kfreq'}"
      ]
     },
     "execution_count": 15,
     "metadata": {},
     "output_type": "execute_result"
    }
   ],
   "source": [
    "foo.dynamicParamNames()"
   ]
  },
  {
   "cell_type": "code",
   "execution_count": 7,
   "id": "7493ee3d-48f8-4c29-9f7d-2d85bf4465d0",
   "metadata": {},
   "outputs": [
    {
     "data": {
      "application/vnd.jupyter.widget-view+json": {
       "model_id": "050edb46e1304a33a183e8770e1f135d",
       "version_major": 2,
       "version_minor": 0
      },
      "text/plain": [
       "Button(description='Stop', style=ButtonStyle())"
      ]
     },
     "metadata": {},
     "output_type": "display_data"
    },
    {
     "data": {
      "application/vnd.jupyter.widget-view+json": {
       "model_id": "cff5ec62f9d44678a0663ca9c6024adc",
       "version_major": 2,
       "version_minor": 0
      },
      "text/plain": [
       "Output()"
      ]
     },
     "metadata": {},
     "output_type": "display_data"
    },
    {
     "data": {
      "text/html": [
       "<p><span style=\"font-size:12px;\">Synth(▶ <strong style=\"color:MediumSeaGreen\">foo</strong>:501.0004)</span></p>"
      ],
      "text/plain": [
       "Synth(▶ foo:501.0004 start:14.444 dur:-1.000 p4=9970)"
      ]
     },
     "execution_count": 7,
     "metadata": {},
     "output_type": "execute_result"
    }
   ],
   "source": [
    "sy = s.sched('foo', kfreq=700)\n",
    "sy"
   ]
  },
  {
   "cell_type": "code",
   "execution_count": 17,
   "id": "ca13f50c-9c30-40e9-9428-8033fa1c837c",
   "metadata": {},
   "outputs": [
    {
     "data": {
      "text/plain": [
       "[9950.0]"
      ]
     },
     "execution_count": 17,
     "metadata": {},
     "output_type": "execute_result"
    }
   ],
   "source": [
    "sy.args"
   ]
  },
  {
   "cell_type": "code",
   "execution_count": 12,
   "id": "bbd0220a-6cc8-40b9-87e4-953d183385a9",
   "metadata": {},
   "outputs": [
    {
     "name": "stderr",
     "output_type": "stream",
     "text": [
      "ERROR:csoundengine:Synth Synth(■ foo:501.0005 start:20.460 dur:10.000 p4=9960) has already stopped, cannot set param 'kfreq'\n"
     ]
    }
   ],
   "source": [
    "sy.set(kfreq=3140)"
   ]
  },
  {
   "cell_type": "code",
   "execution_count": 13,
   "id": "3cae97f6-9cb9-493c-bdba-e5bb38209098",
   "metadata": {},
   "outputs": [
    {
     "name": "stdout",
     "output_type": "stream",
     "text": [
      "; foo instr\n",
      "; Args:\n",
      ";   kfreq: frequency\n",
      "; --- start generated code for dynamic args\n",
      "i__slicestart__ = p4\n",
      "i__tabnum__ chnget \".dynargsTabnum\"\n",
      "if i__tabnum__ == 0 then\n",
      "    initerror sprintf(\"Session table does not exist (p1: %f)\", p1)\n",
      "    goto __exit\n",
      "endif\n",
      "\n",
      "kfreq tab i__slicestart__ + 0, i__tabnum__\n",
      "; --- end generated code\n",
      "if changed2(kfreq) == 1 then\n",
      "    println \"kfreq: %f\", kfreq\n",
      "endif\n",
      "outch 1, oscili:a(0.1, kfreq) * linsegr:a(0, 0.01, 1, 0.01, 0)\n",
      "atstop 2, 0.01, 0, p1\n",
      "__exit:\n"
     ]
    }
   ],
   "source": [
    "print(sy.body)"
   ]
  },
  {
   "cell_type": "code",
   "execution_count": 14,
   "id": "93b62b2e-6732-41b1-b7b5-d998da06146a",
   "metadata": {},
   "outputs": [
    {
     "data": {
      "text/html": [
       "Instr <strong style=\"color:MediumSeaGreen\">bar</strong><br>\n",
       "<span style=\"font-size:90%\">&nbsp&nbsp&nbsp&nbsp controls = <code>{'kfreq': 1000.0}</code></span>\n",
       "<hr style=\"width:38%;text-align:left;margin-left:0\">\n",
       "<span style=\"font-size:90%\"><div class=\"highlight\" style=\"background: #f8f8f8\"><pre style=\"line-height: 125%;\"><span></span><code><span style=\"color: #008000; font-weight: bold\">if</span><span style=\"color: #bbbbbb\"> </span><span style=\"color: #008000\">changed2</span>(<span style=\"color: #B00040\">k</span>freq)<span style=\"color: #bbbbbb\"> </span><span style=\"color: #666666\">==</span><span style=\"color: #bbbbbb\"> </span><span style=\"color: #666666\">1</span><span style=\"color: #bbbbbb\"> </span><span style=\"color: #008000; font-weight: bold\">then</span>\n",
       "<span style=\"color: #bbbbbb\">    </span><span style=\"color: #008000\">println</span><span style=\"color: #bbbbbb\"> </span><span style=\"color: #BA2121\">&quot;kfreq: </span><span style=\"color: #A45A77; font-weight: bold\">%f</span><span style=\"color: #BA2121\">&quot;</span>,<span style=\"color: #bbbbbb\"> </span><span style=\"color: #B00040\">k</span>freq\n",
       "<span style=\"color: #008000; font-weight: bold\">endif</span>\n",
       "<span style=\"color: #008000\">outch</span><span style=\"color: #bbbbbb\"> </span><span style=\"color: #666666\">1</span>,<span style=\"color: #bbbbbb\"> </span><span style=\"color: #008000\">oscili</span>:<span style=\"color: #B00040\">a</span>(<span style=\"color: #666666\">0.1</span>,<span style=\"color: #bbbbbb\"> </span><span style=\"color: #B00040\">k</span>freq)<span style=\"color: #bbbbbb\"> </span><span style=\"color: #666666\">*</span><span style=\"color: #bbbbbb\"> </span><span style=\"color: #008000\">linsegr</span>:<span style=\"color: #B00040\">a</span>(<span style=\"color: #666666\">0</span>,<span style=\"color: #bbbbbb\"> </span><span style=\"color: #666666\">0.01</span>,<span style=\"color: #bbbbbb\"> </span><span style=\"color: #666666\">1</span>,<span style=\"color: #bbbbbb\"> </span><span style=\"color: #666666\">0.01</span>,<span style=\"color: #bbbbbb\"> </span><span style=\"color: #666666\">0</span>)\n",
       "</code></pre></div>\n",
       "</span>"
      ],
      "text/plain": [
       "Instr(bar, tabargs={'kfreq': 1000.0})"
      ]
     },
     "execution_count": 14,
     "metadata": {},
     "output_type": "execute_result"
    }
   ],
   "source": [
    "bar = s.defInstr('bar', r'''\n",
    "|kfreq=1000|\n",
    "if changed2(kfreq) == 1 then\n",
    "    println \"kfreq: %f\", kfreq\n",
    "endif\n",
    "outch 1, oscili:a(0.1, kfreq) * linsegr:a(0, 0.01, 1, 0.01, 0)\n",
    "''')\n",
    "bar"
   ]
  },
  {
   "cell_type": "code",
   "execution_count": 15,
   "id": "0f214a2f-8fee-4155-b8e0-2ab2fb6d6c16",
   "metadata": {},
   "outputs": [
    {
     "data": {
      "text/html": [
       "Instr <strong style=\"color:MediumSeaGreen\">baz</strong><br>\n",
       "&nbsp&nbsp&nbsp&nbsp<span style=\"font-size:90%\"><b>kfreq</b>:p5=<code>440</code></span>, <span style=\"font-size:90%\"><b>iamp</b>:p6=<code>0.1</code></span><br>\n",
       "<hr style=\"width:38%;text-align:left;margin-left:0\">\n",
       "<span style=\"font-size:90%\"><div class=\"highlight\" style=\"background: #f8f8f8\"><pre style=\"line-height: 125%;\"><span></span><code><span style=\"color: #008000\">pset</span><span style=\"color: #bbbbbb\"> </span><span style=\"color: #19177C\">p1</span>,<span style=\"color: #bbbbbb\"> </span><span style=\"color: #19177C\">p2</span>,<span style=\"color: #bbbbbb\"> </span><span style=\"color: #19177C\">p3</span>,<span style=\"color: #bbbbbb\"> </span><span style=\"color: #666666\">0</span>,<span style=\"color: #bbbbbb\"> </span><span style=\"color: #666666\">440</span>,<span style=\"color: #bbbbbb\"> </span><span style=\"color: #666666\">0.1</span>\n",
       "<span style=\"color: #B00040\">k</span>freq<span style=\"color: #bbbbbb\"> </span><span style=\"color: #666666\">=</span><span style=\"color: #bbbbbb\"> </span><span style=\"color: #19177C\">p5</span>\n",
       "<span style=\"color: #B00040\">i</span>amp<span style=\"color: #bbbbbb\"> </span><span style=\"color: #666666\">=</span><span style=\"color: #bbbbbb\"> </span><span style=\"color: #19177C\">p6</span>\n",
       "<span style=\"color: #008000\">outch</span><span style=\"color: #bbbbbb\"> </span><span style=\"color: #666666\">1</span>,<span style=\"color: #bbbbbb\"> </span><span style=\"color: #008000\">oscili</span>:<span style=\"color: #B00040\">a</span>(<span style=\"color: #B00040\">i</span>amp,<span style=\"color: #bbbbbb\"> </span><span style=\"color: #B00040\">k</span>freq)<span style=\"color: #bbbbbb\"> </span><span style=\"color: #666666\">*</span><span style=\"color: #bbbbbb\"> </span><span style=\"color: #008000\">linsegr</span>:<span style=\"color: #B00040\">a</span>(<span style=\"color: #666666\">0</span>,<span style=\"color: #bbbbbb\"> </span><span style=\"color: #666666\">0.01</span>,<span style=\"color: #bbbbbb\"> </span><span style=\"color: #666666\">1</span>,<span style=\"color: #bbbbbb\"> </span><span style=\"color: #666666\">0.01</span>,<span style=\"color: #bbbbbb\"> </span><span style=\"color: #666666\">0</span>)\n",
       "</code></pre></div>\n",
       "</span>"
      ],
      "text/plain": [
       "Instr(baz, kfreq:5=440, iamp:6=0.1)"
      ]
     },
     "execution_count": 15,
     "metadata": {},
     "output_type": "execute_result"
    }
   ],
   "source": [
    "baz = s.defInstr('baz', r'''\n",
    "pset p1, p2, p3, 0, 440, 0.1\n",
    "kfreq = p5\n",
    "iamp = p6\n",
    "outch 1, oscili:a(iamp, kfreq) * linsegr:a(0, 0.01, 1, 0.01, 0)\n",
    "''')\n",
    "baz"
   ]
  },
  {
   "cell_type": "code",
   "execution_count": 16,
   "id": "b720040d-a119-41a0-b5e9-d9a116817f0c",
   "metadata": {},
   "outputs": [
    {
     "name": "stderr",
     "output_type": "stream",
     "text": [
      "DEBUG:csoundengine:Compiling csound code (blocking):\n",
      "DEBUG:csoundengine:\n",
      "instr 502  \n",
      "    kfreq = p5\n",
      "iamp  = p6\n",
      "\n",
      "outch 1, oscili:a(iamp, kfreq) * linsegr:a(0, 0.01, 1, 0.01, 0)\n",
      "atstop 2, 0.01, 0, p1\n",
      "endin\n",
      "\n",
      "DEBUG:csoundengine:Outvalue triggered for channel 'b'__sync__'', calling func <function Engine._setupCallbacks.<locals>._syncCallback at 0x7fd88d82aa20> with val 999.0\n",
      "DEBUG:csoundengine:Synched at 1696972976.9553814\n"
     ]
    },
    {
     "data": {
      "application/vnd.jupyter.widget-view+json": {
       "model_id": "6eb6bc83ffca4e23a965aab5830cb7fc",
       "version_major": 2,
       "version_minor": 0
      },
      "text/plain": [
       "Button(description='Stop', style=ButtonStyle())"
      ]
     },
     "metadata": {},
     "output_type": "display_data"
    },
    {
     "data": {
      "application/vnd.jupyter.widget-view+json": {
       "model_id": "11e5b1eab338467490e1e4b695515b74",
       "version_major": 2,
       "version_minor": 0
      },
      "text/plain": [
       "Output()"
      ]
     },
     "metadata": {},
     "output_type": "display_data"
    },
    {
     "data": {
      "text/html": [
       "<p><span style=\"font-size:12px;\">Synth(▶ <strong style=\"color:MediumSeaGreen\">baz</strong>:502.0002, <span style=\"font-size:12px;\">5:<b>kfreq</b>=<code>800</code> 6:<b>iamp</b>=<code>0.01</code></span>)</span></p>"
      ],
      "text/plain": [
       "Synth(▶ baz:502.0002 start:71.681 dur:3.000 p4=0 kfreq:5=800 iamp:6=0.01)"
      ]
     },
     "execution_count": 16,
     "metadata": {},
     "output_type": "execute_result"
    },
    {
     "name": "stderr",
     "output_type": "stream",
     "text": [
      "DEBUG:csoundengine:Outvalue triggered for channel 'b'__dealloc__'', calling func <bound method Session._deallocCallback of Session(engine0, synths=1)> with val 502.0002\n"
     ]
    },
    {
     "name": "stdout",
     "output_type": "stream",
     "text": [
      "********* (502.0002,)\n"
     ]
    }
   ],
   "source": [
    "def callback(*args):\n",
    "    # import time\n",
    "    print(\"**************\", args)\n",
    "    # time.sleep(0.01)\n",
    "\n",
    "sy = s.sched('baz', dur=3, kfreq=800, iamp=0.01, whenfinished=lambda *args: print(\"*********\", args))\n",
    "sy"
   ]
  },
  {
   "cell_type": "code",
   "execution_count": 17,
   "id": "829101e0-9d93-40aa-a656-b4772b7e4e66",
   "metadata": {},
   "outputs": [
    {
     "data": {
      "text/plain": [
       "False"
      ]
     },
     "execution_count": 17,
     "metadata": {},
     "output_type": "execute_result"
    }
   ],
   "source": [
    "sy.playing()"
   ]
  },
  {
   "cell_type": "code",
   "execution_count": 10,
   "id": "bcf58ed0-fe8f-48c3-b7ec-66a0bcadb3bc",
   "metadata": {},
   "outputs": [],
   "source": [
    "sy.set(kfreq=850)"
   ]
  },
  {
   "cell_type": "code",
   "execution_count": 21,
   "id": "d2b1f796-4afe-4cd4-8ac8-ddd1248606c0",
   "metadata": {},
   "outputs": [
    {
     "data": {
      "text/plain": [
       "12.0005"
      ]
     },
     "execution_count": 21,
     "metadata": {},
     "output_type": "execute_result"
    },
    {
     "name": "stderr",
     "output_type": "stream",
     "text": [
      "DEBUG:csoundengine:Outvalue triggered for channel 'b'__dealloc__'', calling func <bound method Session._deallocCallback of Session(engine0, synths=1)> with val 502.0006\n"
     ]
    }
   ],
   "source": [
    "sy = s.sched('baz', dur=3, kfreq=1000, iamp=0.01)\n",
    "sy.automate('kfreq', (0, 0, 2, 200, 3, 800), overtake=True)"
   ]
  },
  {
   "cell_type": "markdown",
   "id": "9e9d6e21-df54-4df7-bd8f-2f6b2d31b751",
   "metadata": {},
   "source": [
    "This should not work"
   ]
  },
  {
   "cell_type": "code",
   "execution_count": 22,
   "id": "4233e683-f74e-4aaa-831d-595bb5943b70",
   "metadata": {},
   "outputs": [
    {
     "ename": "ValueError",
     "evalue": "Using p-fields together with named arguments is not supported. P-fields used: {5, 6}, args: {'kfreq': 1000.0}",
     "output_type": "error",
     "traceback": [
      "\u001b[0;31m---------------------------------------------------------------------------\u001b[0m",
      "\u001b[0;31mValueError\u001b[0m                                Traceback (most recent call last)",
      "Cell \u001b[0;32mIn[22], line 1\u001b[0m\n\u001b[0;32m----> 1\u001b[0m test \u001b[38;5;241m=\u001b[39m \u001b[43ms\u001b[49m\u001b[38;5;241;43m.\u001b[39;49m\u001b[43mdefInstr\u001b[49m\u001b[43m(\u001b[49m\u001b[38;5;124;43m'\u001b[39;49m\u001b[38;5;124;43mtest\u001b[39;49m\u001b[38;5;124;43m'\u001b[39;49m\u001b[43m,\u001b[49m\u001b[43m \u001b[49m\u001b[38;5;124;43mr\u001b[39;49m\u001b[38;5;124;43m'''\u001b[39;49m\n\u001b[1;32m      2\u001b[0m \u001b[38;5;124;43m|kfreq=1000|\u001b[39;49m\n\u001b[1;32m      3\u001b[0m \u001b[38;5;124;43mpset 0, 0, 0, 0, 0.1, 0.5\u001b[39;49m\n\u001b[1;32m      4\u001b[0m \u001b[38;5;124;43miamp = p5\u001b[39;49m\n\u001b[1;32m      5\u001b[0m \u001b[38;5;124;43moutch 1, oscili:a(iamp, kfreq * p6)\u001b[39;49m\n\u001b[1;32m      6\u001b[0m \u001b[38;5;124;43m'''\u001b[39;49m\u001b[43m)\u001b[49m\n\u001b[1;32m      7\u001b[0m test\n",
      "File \u001b[0;32m~/dev/python/csoundengine/csoundengine/session.py:727\u001b[0m, in \u001b[0;36mSession.defInstr\u001b[0;34m(self, name, body, args, init, priority, doc, includes, aliases, **kws)\u001b[0m\n\u001b[1;32m    652\u001b[0m \u001b[38;5;250m\u001b[39m\u001b[38;5;124;03m\"\"\"\u001b[39;00m\n\u001b[1;32m    653\u001b[0m \u001b[38;5;124;03mCreate an :class:`~csoundengine.instr.Instr` and register it at this session\u001b[39;00m\n\u001b[1;32m    654\u001b[0m \n\u001b[0;32m   (...)\u001b[0m\n\u001b[1;32m    724\u001b[0m \u001b[38;5;124;03m:meth:`~Session.sched`\u001b[39;00m\n\u001b[1;32m    725\u001b[0m \u001b[38;5;124;03m\"\"\"\u001b[39;00m\n\u001b[1;32m    726\u001b[0m oldinstr \u001b[38;5;241m=\u001b[39m \u001b[38;5;28mself\u001b[39m\u001b[38;5;241m.\u001b[39minstrs\u001b[38;5;241m.\u001b[39mget(name)\n\u001b[0;32m--> 727\u001b[0m instr \u001b[38;5;241m=\u001b[39m \u001b[43mInstr\u001b[49m\u001b[43m(\u001b[49m\u001b[43mname\u001b[49m\u001b[38;5;241;43m=\u001b[39;49m\u001b[43mname\u001b[49m\u001b[43m,\u001b[49m\u001b[43m \u001b[49m\u001b[43mbody\u001b[49m\u001b[38;5;241;43m=\u001b[39;49m\u001b[43mbody\u001b[49m\u001b[43m,\u001b[49m\u001b[43m \u001b[49m\u001b[43margs\u001b[49m\u001b[38;5;241;43m=\u001b[39;49m\u001b[43margs\u001b[49m\u001b[43m,\u001b[49m\u001b[43m \u001b[49m\u001b[43minit\u001b[49m\u001b[38;5;241;43m=\u001b[39;49m\u001b[43minit\u001b[49m\u001b[43m,\u001b[49m\n\u001b[1;32m    728\u001b[0m \u001b[43m              \u001b[49m\u001b[43mdoc\u001b[49m\u001b[38;5;241;43m=\u001b[39;49m\u001b[43mdoc\u001b[49m\u001b[43m,\u001b[49m\u001b[43m \u001b[49m\u001b[43mincludes\u001b[49m\u001b[38;5;241;43m=\u001b[39;49m\u001b[43mincludes\u001b[49m\u001b[43m,\u001b[49m\u001b[43m \u001b[49m\u001b[43maliases\u001b[49m\u001b[38;5;241;43m=\u001b[39;49m\u001b[43maliases\u001b[49m\u001b[43m,\u001b[49m\n\u001b[1;32m    729\u001b[0m \u001b[43m              \u001b[49m\u001b[43mmaxNamedArgs\u001b[49m\u001b[38;5;241;43m=\u001b[39;49m\u001b[38;5;28;43mself\u001b[39;49m\u001b[38;5;241;43m.\u001b[39;49m\u001b[43mmaxDynamicArgsPerInstr\u001b[49m\u001b[43m,\u001b[49m\n\u001b[1;32m    730\u001b[0m \u001b[43m              \u001b[49m\u001b[38;5;241;43m*\u001b[39;49m\u001b[38;5;241;43m*\u001b[39;49m\u001b[43mkws\u001b[49m\u001b[43m)\u001b[49m\n\u001b[1;32m    731\u001b[0m \u001b[38;5;28;01mif\u001b[39;00m oldinstr \u001b[38;5;129;01mand\u001b[39;00m oldinstr \u001b[38;5;241m==\u001b[39m instr:\n\u001b[1;32m    732\u001b[0m     \u001b[38;5;28;01mreturn\u001b[39;00m oldinstr\n",
      "File \u001b[0;32m~/dev/python/csoundengine/csoundengine/instr.py:266\u001b[0m, in \u001b[0;36mInstr.__init__\u001b[0;34m(self, name, body, args, init, numchans, preschedCallback, doc, includes, aliases, maxNamedArgs)\u001b[0m\n\u001b[1;32m    263\u001b[0m controls \u001b[38;5;241m=\u001b[39m {k: v \u001b[38;5;28;01mfor\u001b[39;00m k, v \u001b[38;5;129;01min\u001b[39;00m args\u001b[38;5;241m.\u001b[39mitems() \u001b[38;5;28;01mif\u001b[39;00m k\u001b[38;5;241m.\u001b[39mstartswith(\u001b[38;5;124m'\u001b[39m\u001b[38;5;124mk\u001b[39m\u001b[38;5;124m'\u001b[39m)}\n\u001b[1;32m    265\u001b[0m \u001b[38;5;28;01mif\u001b[39;00m parsedInstr\u001b[38;5;241m.\u001b[39mpfieldsUsed:\n\u001b[0;32m--> 266\u001b[0m     \u001b[38;5;28;01mraise\u001b[39;00m \u001b[38;5;167;01mValueError\u001b[39;00m(\u001b[38;5;124mf\u001b[39m\u001b[38;5;124m\"\u001b[39m\u001b[38;5;124mUsing p-fields together with named arguments is not supported. \u001b[39m\u001b[38;5;124m\"\u001b[39m\n\u001b[1;32m    267\u001b[0m                      \u001b[38;5;124mf\u001b[39m\u001b[38;5;124m\"\u001b[39m\u001b[38;5;124mP-fields used: \u001b[39m\u001b[38;5;132;01m{\u001b[39;00mparsedInstr\u001b[38;5;241m.\u001b[39mpfieldsUsed\u001b[38;5;132;01m}\u001b[39;00m\u001b[38;5;124m, args: \u001b[39m\u001b[38;5;132;01m{\u001b[39;00margs\u001b[38;5;132;01m}\u001b[39;00m\u001b[38;5;124m\"\u001b[39m)\n\u001b[1;32m    269\u001b[0m \u001b[38;5;28;01mif\u001b[39;00m controls:\n\u001b[1;32m    270\u001b[0m     \u001b[38;5;28mself\u001b[39m\u001b[38;5;241m.\u001b[39m_controlsNameToIndex \u001b[38;5;241m=\u001b[39m {key: idx \u001b[38;5;28;01mfor\u001b[39;00m idx, key \u001b[38;5;129;01min\u001b[39;00m \u001b[38;5;28menumerate\u001b[39m(controls\u001b[38;5;241m.\u001b[39mkeys())}\n",
      "\u001b[0;31mValueError\u001b[0m: Using p-fields together with named arguments is not supported. P-fields used: {5, 6}, args: {'kfreq': 1000.0}"
     ]
    }
   ],
   "source": [
    "test = s.defInstr('test', r'''\n",
    "|kfreq=1000|\n",
    "pset 0, 0, 0, 0, 0.1, 0.5\n",
    "iamp = p5\n",
    "outch 1, oscili:a(iamp, kfreq * p6)\n",
    "''')\n",
    "test"
   ]
  },
  {
   "cell_type": "code",
   "execution_count": 23,
   "id": "306283a4-1503-4b77-8471-969d58368676",
   "metadata": {},
   "outputs": [
    {
     "data": {
      "text/html": [
       "Instr <strong style=\"color:MediumSeaGreen\">output</strong><br>\n",
       "&nbsp&nbsp&nbsp&nbsp<span style=\"font-size:90%\"><b>ichan</b>:p5=<code>1</code></span><br>\n",
       "<hr style=\"width:38%;text-align:left;margin-left:0\">\n",
       "<span style=\"font-size:90%\"><div class=\"highlight\" style=\"background: #f8f8f8\"><pre style=\"line-height: 125%;\"><span></span><code><span style=\"color: #B00040\">a</span>in<span style=\"color: #bbbbbb\"> </span><span style=\"color: #666666\">=</span><span style=\"color: #bbbbbb\"> </span><span style=\"color: #008000\">inch</span>:<span style=\"color: #B00040\">a</span>(<span style=\"color: #B00040\">i</span>chan)\n",
       "<span style=\"color: #B00040\">a</span>env<span style=\"color: #bbbbbb\"> </span><span style=\"color: #666666\">=</span><span style=\"color: #bbbbbb\"> </span><span style=\"color: #008000\">follow2</span>(<span style=\"color: #B00040\">a</span>in,<span style=\"color: #bbbbbb\"> </span><span style=\"color: #666666\">0.1</span>,<span style=\"color: #bbbbbb\"> </span><span style=\"color: #666666\">0.2</span>)\n",
       "<span style=\"color: #B00040\">k</span>env<span style=\"color: #bbbbbb\"> </span><span style=\"color: #666666\">=</span><span style=\"color: #bbbbbb\"> </span><span style=\"color: #008000\">downsamp</span>(<span style=\"color: #B00040\">a</span>env,<span style=\"color: #bbbbbb\"> </span><span style=\"color: #666666\">16</span>)\n",
       "<span style=\"color: #008000; font-weight: bold\">if</span><span style=\"color: #bbbbbb\"> </span><span style=\"color: #008000\">changed</span>(<span style=\"color: #B00040\">k</span>env)<span style=\"color: #bbbbbb\"> </span><span style=\"color: #666666\">==</span><span style=\"color: #bbbbbb\"> </span><span style=\"color: #666666\">1</span><span style=\"color: #bbbbbb\"> </span><span style=\"color: #008000; font-weight: bold\">then</span>\n",
       "<span style=\"color: #bbbbbb\">    </span><span style=\"color: #008000\">println</span><span style=\"color: #bbbbbb\"> </span><span style=\"color: #BA2121\">&quot;kenv: </span><span style=\"color: #A45A77; font-weight: bold\">%f</span><span style=\"color: #BA2121\"> dB&quot;</span>,<span style=\"color: #bbbbbb\"> </span><span style=\"color: #008000\">dbamp</span>(<span style=\"color: #B00040\">k</span>env)\n",
       "<span style=\"color: #008000; font-weight: bold\">endif</span>\n",
       "</code></pre></div>\n",
       "</span>"
      ],
      "text/plain": [
       "Instr(output, ichan:5=1)"
      ]
     },
     "execution_count": 23,
     "metadata": {},
     "output_type": "execute_result"
    }
   ],
   "source": [
    "test = s.defInstr('output', r'''\n",
    "|ichan=1|\n",
    "ain = inch:a(ichan)\n",
    "aenv = follow2(ain, 0.1, 0.2)\n",
    "kenv = downsamp(aenv, 16)\n",
    "if changed(kenv) == 1 then\n",
    "    println \"kenv: %f dB\", dbamp(kenv)\n",
    "endif\n",
    "''')\n",
    "test"
   ]
  },
  {
   "cell_type": "code",
   "execution_count": 4,
   "id": "5bc10004-f2a6-4260-a9c1-68d0c1280ea6",
   "metadata": {},
   "outputs": [
    {
     "data": {
      "text/html": [
       "Instr <strong style=\"color:MediumSeaGreen\">sine</strong><br>\n",
       "&nbsp&nbsp&nbsp&nbsp<span style=\"font-size:90%\"><b>iamp</b>:p5=<code>0.1</code></span><br>\n",
       "<span style=\"font-size:90%\">&nbsp&nbsp&nbsp&nbsp controls = <code>{'kfreq': 1000.0}</code></span>\n",
       "<hr style=\"width:38%;text-align:left;margin-left:0\">\n",
       "<span style=\"font-size:90%\"><div class=\"highlight\" style=\"background: #f8f8f8\"><pre style=\"line-height: 125%;\"><span></span><code><span style=\"color: #B00040\">a</span>0<span style=\"color: #bbbbbb\"> </span><span style=\"color: #666666\">=</span><span style=\"color: #bbbbbb\"> </span><span style=\"color: #008000\">oscili</span>:<span style=\"color: #B00040\">a</span>(<span style=\"color: #B00040\">k</span>amp,<span style=\"color: #bbbbbb\"> </span><span style=\"color: #B00040\">k</span>freq)\n",
       "<span style=\"color: #008000\">outch</span><span style=\"color: #bbbbbb\"> </span><span style=\"color: #666666\">1</span>,<span style=\"color: #bbbbbb\"> </span><span style=\"color: #B00040\">a</span>0\n",
       "</code></pre></div>\n",
       "</span>"
      ],
      "text/plain": [
       "Instr(sine, iamp:5=0.1, tabargs={'kfreq': 1000.0})"
      ]
     },
     "execution_count": 4,
     "metadata": {},
     "output_type": "execute_result"
    }
   ],
   "source": [
    "s.defInstr('sine', r'''\n",
    "        |iamp=0.1, kfreq=1000|\n",
    "        a0 = oscili:a(kamp, kfreq)\n",
    "        outch 1, a0\n",
    "    ''')"
   ]
  },
  {
   "cell_type": "code",
   "execution_count": 9,
   "id": "354cf1aa-ba31-4c6f-b98d-ca24e490704e",
   "metadata": {},
   "outputs": [
    {
     "name": "stdout",
     "output_type": "stream",
     "text": [
      "; --- start generated code for dynamic args\n",
      "i__token__ = p4\n",
      "i__tabnum__ = gi__controlTable\n",
      "i__slot__ = _getControlSlot(i__token__)\n",
      "i__slicestart__ = i__slot__ * gi__controlArgsPerInstr\n",
      "atstop \"_releaseControlToken\", 0, 0, i__itoken__\n",
      "\n",
      "kfreq tab i__slicestart__ + 0, i__tabnum__\n",
      "; --- end generated code\n",
      "iamp = p5\n",
      "a0 = oscili:a(kamp, kfreq)\n",
      "outch 1, a0\n"
     ]
    }
   ],
   "source": [
    "sine = s.getInstr('sine')\n",
    "r = s.makeRenderer()\n",
    "print(r.instrGenerateBody(sine))"
   ]
  },
  {
   "cell_type": "code",
   "execution_count": 11,
   "id": "b290e1e4-e80b-4cb7-8c4c-7acf86bcc864",
   "metadata": {},
   "outputs": [],
   "source": [
    "r = s.makeRenderer()\n",
    "r.sched('sine', dur=1, iamp=0.01, kfreq=440)\n",
    "r.writeCsd(\"~/tmp/sine.csd\")"
   ]
  },
  {
   "cell_type": "code",
   "execution_count": 14,
   "id": "8d2d8f4a-748d-4a82-9a79-526cae3e032a",
   "metadata": {},
   "outputs": [
    {
     "name": "stderr",
     "output_type": "stream",
     "text": [
      "\u001b[merror:  \u001b[mVariable 'i__slicestart__' used before defined\n",
      "Line 12\n",
      "\u001b[m\n",
      "\u001b[merror:  \u001b[mVariable type for i__slicestart__ could not be determined.\n",
      "\u001b[m\n",
      "\u001b[mParsing failed due to syntax errors\n",
      "\u001b[mStopping on parser failure\n",
      "compileOrc error: \n",
      "001  \n",
      "002  instr 502  \n",
      "003      atstop 1, 0.01, 0.0, p1\n",
      "004  ; --- start generated code for dynamic args\n",
      "005  iamp = p5\n",
      "006  \n",
      "007  i__tabnum__ chnget \".dynargsTabnum\"\n",
      "008  if i__tabnum__ == 0 then\n",
      "009      initerror sprintf(\"Session table does not exist (p1: %f)\", p1)\n",
      "010      goto __exit\n",
      "011  endif\n",
      "012  \n",
      "013  kfreq tab i__slicestart__ + 0, i__tabnum__\n",
      "014  ; --- end generated code\n",
      "015  a0 = oscili:a(kamp, kfreq)\n",
      "016  outch 1, a0\n",
      "017  __exit:\n",
      "018  endin\n",
      "Could not compile code\n"
     ]
    },
    {
     "ename": "RenderError",
     "evalue": "No score to render (start: 0.0, end: 0.0)",
     "output_type": "error",
     "traceback": [
      "\u001b[0;31m---------------------------------------------------------------------------\u001b[0m",
      "\u001b[0;31mCsoundError\u001b[0m                               Traceback (most recent call last)",
      "File \u001b[0;32m~/dev/python/csoundengine/csoundengine/session.py:784\u001b[0m, in \u001b[0;36mSession._makeReifiedInstr\u001b[0;34m(self, name, priority, block)\u001b[0m\n\u001b[1;32m    783\u001b[0m \u001b[38;5;28;01mtry\u001b[39;00m:\n\u001b[0;32m--> 784\u001b[0m     \u001b[38;5;28;43mself\u001b[39;49m\u001b[38;5;241;43m.\u001b[39;49m\u001b[43mengine\u001b[49m\u001b[38;5;241;43m.\u001b[39;49m\u001b[43m_compileInstr\u001b[49m\u001b[43m(\u001b[49m\u001b[43minstrnum\u001b[49m\u001b[43m,\u001b[49m\u001b[43m \u001b[49m\u001b[43minstrtxt\u001b[49m\u001b[43m,\u001b[49m\u001b[43m \u001b[49m\u001b[43mblock\u001b[49m\u001b[38;5;241;43m=\u001b[39;49m\u001b[43mblock\u001b[49m\u001b[43m)\u001b[49m\n\u001b[1;32m    785\u001b[0m \u001b[38;5;28;01mexcept\u001b[39;00m CsoundError \u001b[38;5;28;01mas\u001b[39;00m e:\n",
      "File \u001b[0;32m~/dev/python/csoundengine/csoundengine/engine.py:1122\u001b[0m, in \u001b[0;36mEngine._compileInstr\u001b[0;34m(self, instrname, code, block)\u001b[0m\n\u001b[1;32m   1121\u001b[0m \u001b[38;5;28mself\u001b[39m\u001b[38;5;241m.\u001b[39m_instrRegistry[instrname] \u001b[38;5;241m=\u001b[39m code\n\u001b[0;32m-> 1122\u001b[0m \u001b[38;5;28;43mself\u001b[39;49m\u001b[38;5;241;43m.\u001b[39;49m\u001b[43m_compileCode\u001b[49m\u001b[43m(\u001b[49m\u001b[43mcode\u001b[49m\u001b[43m,\u001b[49m\u001b[43m \u001b[49m\u001b[43mblock\u001b[49m\u001b[38;5;241;43m=\u001b[39;49m\u001b[43mblock\u001b[49m\u001b[43m)\u001b[49m\n\u001b[1;32m   1123\u001b[0m \u001b[38;5;28;01mif\u001b[39;00m \u001b[38;5;28misinstance\u001b[39m(instrname, \u001b[38;5;28mstr\u001b[39m):\n\u001b[1;32m   1124\u001b[0m     \u001b[38;5;66;03m# if named instrs are defined we sync in order to avoid assigning\u001b[39;00m\n\u001b[1;32m   1125\u001b[0m     \u001b[38;5;66;03m# the same number to different instrs. This should be taken\u001b[39;00m\n\u001b[1;32m   1126\u001b[0m     \u001b[38;5;66;03m# care by csound by locking but until this is in place, we\u001b[39;00m\n\u001b[1;32m   1127\u001b[0m     \u001b[38;5;66;03m# need to sync\u001b[39;00m\n",
      "File \u001b[0;32m~/dev/python/csoundengine/csoundengine/engine.py:1110\u001b[0m, in \u001b[0;36mEngine._compileCode\u001b[0;34m(self, code, block)\u001b[0m\n\u001b[1;32m   1109\u001b[0m         logger\u001b[38;5;241m.\u001b[39merror(internalTools\u001b[38;5;241m.\u001b[39maddLineNumbers(code))\n\u001b[0;32m-> 1110\u001b[0m         \u001b[38;5;28;01mraise\u001b[39;00m CsoundError(\u001b[38;5;124m\"\u001b[39m\u001b[38;5;124mCould not compile code\u001b[39m\u001b[38;5;124m\"\u001b[39m)\n\u001b[1;32m   1111\u001b[0m \u001b[38;5;28;01melse\u001b[39;00m:\n",
      "\u001b[0;31mCsoundError\u001b[0m: Could not compile code",
      "\nDuring handling of the above exception, another exception occurred:\n",
      "\u001b[0;31mCsoundError\u001b[0m                               Traceback (most recent call last)",
      "Cell \u001b[0;32mIn[14], line 2\u001b[0m\n\u001b[1;32m      1\u001b[0m \u001b[38;5;28;01mwith\u001b[39;00m s\u001b[38;5;241m.\u001b[39mrendering(\u001b[38;5;124m'\u001b[39m\u001b[38;5;124m~/tmp/test.wav\u001b[39m\u001b[38;5;124m'\u001b[39m):\n\u001b[0;32m----> 2\u001b[0m     \u001b[43ms\u001b[49m\u001b[38;5;241;43m.\u001b[39;49m\u001b[43msched\u001b[49m\u001b[43m(\u001b[49m\u001b[38;5;124;43m'\u001b[39;49m\u001b[38;5;124;43msine\u001b[39;49m\u001b[38;5;124;43m'\u001b[39;49m\u001b[43m,\u001b[49m\u001b[43m \u001b[49m\u001b[43mdur\u001b[49m\u001b[38;5;241;43m=\u001b[39;49m\u001b[38;5;241;43m1\u001b[39;49m\u001b[43m,\u001b[49m\u001b[43m \u001b[49m\u001b[43miamp\u001b[49m\u001b[38;5;241;43m=\u001b[39;49m\u001b[38;5;241;43m0.01\u001b[39;49m\u001b[43m,\u001b[49m\u001b[43m \u001b[49m\u001b[43mkfreq\u001b[49m\u001b[38;5;241;43m=\u001b[39;49m\u001b[38;5;241;43m440\u001b[39;49m\u001b[43m)\u001b[49m\n",
      "File \u001b[0;32m~/dev/python/csoundengine/csoundengine/session.py:1167\u001b[0m, in \u001b[0;36mSession.sched\u001b[0;34m(self, instrname, delay, dur, priority, args, whenfinished, relative, syncifneeded, **pkws)\u001b[0m\n\u001b[1;32m   1163\u001b[0m         kwargs, kwtabargs \u001b[38;5;241m=\u001b[39m _tools\u001b[38;5;241m.\u001b[39msplitDict(args,\n\u001b[1;32m   1164\u001b[0m                                              keys1\u001b[38;5;241m=\u001b[39minstr\u001b[38;5;241m.\u001b[39mpfieldNames(),\n\u001b[1;32m   1165\u001b[0m                                              keys2\u001b[38;5;241m=\u001b[39minstr\u001b[38;5;241m.\u001b[39mcontrolNames())\n\u001b[0;32m-> 1167\u001b[0m rinstr, needssync \u001b[38;5;241m=\u001b[39m \u001b[38;5;28;43mself\u001b[39;49m\u001b[38;5;241;43m.\u001b[39;49m\u001b[43mprepareSched\u001b[49m\u001b[43m(\u001b[49m\u001b[43minstrname\u001b[49m\u001b[43m,\u001b[49m\u001b[43m \u001b[49m\u001b[43mpriority\u001b[49m\u001b[43m,\u001b[49m\u001b[43m \u001b[49m\u001b[43mblock\u001b[49m\u001b[38;5;241;43m=\u001b[39;49m\u001b[38;5;28;43;01mTrue\u001b[39;49;00m\u001b[43m)\u001b[49m\n\u001b[1;32m   1169\u001b[0m \u001b[38;5;28;01mif\u001b[39;00m instr\u001b[38;5;241m.\u001b[39mcontrols:\n",
      "File \u001b[0;32m~/dev/python/csoundengine/csoundengine/session.py:856\u001b[0m, in \u001b[0;36mSession.prepareSched\u001b[0;34m(self, instr, priority, block)\u001b[0m\n\u001b[1;32m    855\u001b[0m \u001b[38;5;28;01mif\u001b[39;00m rinstr \u001b[38;5;129;01mis\u001b[39;00m \u001b[38;5;28;01mNone\u001b[39;00m:\n\u001b[0;32m--> 856\u001b[0m     rinstr \u001b[38;5;241m=\u001b[39m \u001b[38;5;28;43mself\u001b[39;49m\u001b[38;5;241;43m.\u001b[39;49m\u001b[43m_makeReifiedInstr\u001b[49m\u001b[43m(\u001b[49m\u001b[43minstr\u001b[49m\u001b[43m,\u001b[49m\u001b[43m \u001b[49m\u001b[43mpriority\u001b[49m\u001b[43m,\u001b[49m\u001b[43m \u001b[49m\u001b[43mblock\u001b[49m\u001b[38;5;241;43m=\u001b[39;49m\u001b[43mblock\u001b[49m\u001b[43m)\u001b[49m\n\u001b[1;32m    857\u001b[0m     \u001b[38;5;28;01mif\u001b[39;00m block:\n",
      "File \u001b[0;32m~/dev/python/csoundengine/csoundengine/session.py:787\u001b[0m, in \u001b[0;36mSession._makeReifiedInstr\u001b[0;34m(self, name, priority, block)\u001b[0m\n\u001b[1;32m    786\u001b[0m     logger\u001b[38;5;241m.\u001b[39merror(\u001b[38;5;28mstr\u001b[39m(e))\n\u001b[0;32m--> 787\u001b[0m     \u001b[38;5;28;01mraise\u001b[39;00m CsoundError(\u001b[38;5;124mf\u001b[39m\u001b[38;5;124m\"\u001b[39m\u001b[38;5;124mCould not compile body for instr \u001b[39m\u001b[38;5;132;01m{\u001b[39;00mname\u001b[38;5;132;01m}\u001b[39;00m\u001b[38;5;124m\"\u001b[39m)\n\u001b[1;32m    788\u001b[0m rinstr \u001b[38;5;241m=\u001b[39m _ReifiedInstr(instrnum, priority)\n",
      "\u001b[0;31mCsoundError\u001b[0m: Could not compile body for instr sine",
      "\nDuring handling of the above exception, another exception occurred:\n",
      "\u001b[0;31mRenderError\u001b[0m                               Traceback (most recent call last)",
      "Cell \u001b[0;32mIn[14], line 1\u001b[0m\n\u001b[0;32m----> 1\u001b[0m \u001b[38;5;28;43;01mwith\u001b[39;49;00m\u001b[43m \u001b[49m\u001b[43ms\u001b[49m\u001b[38;5;241;43m.\u001b[39;49m\u001b[43mrendering\u001b[49m\u001b[43m(\u001b[49m\u001b[38;5;124;43m'\u001b[39;49m\u001b[38;5;124;43m~/tmp/test.wav\u001b[39;49m\u001b[38;5;124;43m'\u001b[39;49m\u001b[43m)\u001b[49m\u001b[43m:\u001b[49m\n\u001b[1;32m      2\u001b[0m \u001b[43m    \u001b[49m\u001b[43ms\u001b[49m\u001b[38;5;241;43m.\u001b[39;49m\u001b[43msched\u001b[49m\u001b[43m(\u001b[49m\u001b[38;5;124;43m'\u001b[39;49m\u001b[38;5;124;43msine\u001b[39;49m\u001b[38;5;124;43m'\u001b[39;49m\u001b[43m,\u001b[49m\u001b[43m \u001b[49m\u001b[43mdur\u001b[49m\u001b[38;5;241;43m=\u001b[39;49m\u001b[38;5;241;43m1\u001b[39;49m\u001b[43m,\u001b[49m\u001b[43m \u001b[49m\u001b[43miamp\u001b[49m\u001b[38;5;241;43m=\u001b[39;49m\u001b[38;5;241;43m0.01\u001b[39;49m\u001b[43m,\u001b[49m\u001b[43m \u001b[49m\u001b[43mkfreq\u001b[49m\u001b[38;5;241;43m=\u001b[39;49m\u001b[38;5;241;43m440\u001b[39;49m\u001b[43m)\u001b[49m\n",
      "File \u001b[0;32m~/dev/python/csoundengine/csoundengine/offline.py:1466\u001b[0m, in \u001b[0;36mRenderer.__exit__\u001b[0;34m(self, exc_type, exc_val, exc_tb)\u001b[0m\n\u001b[1;32m   1464\u001b[0m \u001b[38;5;28;01mif\u001b[39;00m \u001b[38;5;28mself\u001b[39m\u001b[38;5;241m.\u001b[39m_exitCallbacks:\n\u001b[1;32m   1465\u001b[0m     \u001b[38;5;28;01mfor\u001b[39;00m func \u001b[38;5;129;01min\u001b[39;00m \u001b[38;5;28mself\u001b[39m\u001b[38;5;241m.\u001b[39m_exitCallbacks:\n\u001b[0;32m-> 1466\u001b[0m         \u001b[43mfunc\u001b[49m\u001b[43m(\u001b[49m\u001b[38;5;28;43mself\u001b[39;49m\u001b[43m)\u001b[49m\n\u001b[1;32m   1467\u001b[0m \u001b[38;5;28;01melse\u001b[39;00m:\n\u001b[1;32m   1468\u001b[0m     \u001b[38;5;28mself\u001b[39m\u001b[38;5;241m.\u001b[39mrender()\n",
      "File \u001b[0;32m~/dev/python/csoundengine/csoundengine/session.py:1023\u001b[0m, in \u001b[0;36mSession.rendering.<locals>._exit\u001b[0;34m(r, _outfile, _schedCallback)\u001b[0m\n\u001b[1;32m   1022\u001b[0m \u001b[38;5;28;01mdef\u001b[39;00m \u001b[38;5;21m_exit\u001b[39m(r: Renderer, _outfile\u001b[38;5;241m=\u001b[39moutfile, _schedCallback\u001b[38;5;241m=\u001b[39mschedCallback):\n\u001b[0;32m-> 1023\u001b[0m     \u001b[43mr\u001b[49m\u001b[38;5;241;43m.\u001b[39;49m\u001b[43mrender\u001b[49m\u001b[43m(\u001b[49m\u001b[43moutfile\u001b[49m\u001b[38;5;241;43m=\u001b[39;49m\u001b[43m_outfile\u001b[49m\u001b[43m,\u001b[49m\u001b[43m \u001b[49m\u001b[43mendtime\u001b[49m\u001b[38;5;241;43m=\u001b[39;49m\u001b[43mendtime\u001b[49m\u001b[43m,\u001b[49m\u001b[43m \u001b[49m\u001b[43mencoding\u001b[49m\u001b[38;5;241;43m=\u001b[39;49m\u001b[43mencoding\u001b[49m\u001b[43m,\u001b[49m\n\u001b[1;32m   1024\u001b[0m \u001b[43m             \u001b[49m\u001b[43mstarttime\u001b[49m\u001b[38;5;241;43m=\u001b[39;49m\u001b[43mstarttime\u001b[49m\u001b[43m,\u001b[49m\u001b[43m \u001b[49m\u001b[43mopenWhenDone\u001b[49m\u001b[38;5;241;43m=\u001b[39;49m\u001b[43mopenWhenDone\u001b[49m\u001b[43m)\u001b[49m\n\u001b[1;32m   1025\u001b[0m     \u001b[38;5;28mself\u001b[39m\u001b[38;5;241m.\u001b[39m_schedCallback \u001b[38;5;241m=\u001b[39m _schedCallback\n\u001b[1;32m   1026\u001b[0m     \u001b[38;5;28mself\u001b[39m\u001b[38;5;241m.\u001b[39m_rendering \u001b[38;5;241m=\u001b[39m \u001b[38;5;28;01mFalse\u001b[39;00m\n",
      "File \u001b[0;32m~/dev/python/csoundengine/csoundengine/offline.py:990\u001b[0m, in \u001b[0;36mRenderer.render\u001b[0;34m(self, outfile, endtime, encoding, wait, verbose, openWhenDone, starttime, compressionBitrate, sr)\u001b[0m\n\u001b[1;32m    987\u001b[0m     \u001b[38;5;28;01mraise\u001b[39;00m RenderError(\u001b[38;5;124m\"\u001b[39m\u001b[38;5;124mCannot render an infinite score. Set an endtime when calling \u001b[39m\u001b[38;5;124m\"\u001b[39m\n\u001b[1;32m    988\u001b[0m                       \u001b[38;5;124m\"\u001b[39m\u001b[38;5;124m.render(...) or use \u001b[39m\u001b[38;5;124m\"\u001b[39m)\n\u001b[1;32m    989\u001b[0m \u001b[38;5;28;01mif\u001b[39;00m renderend \u001b[38;5;241m<\u001b[39m\u001b[38;5;241m=\u001b[39m scorestart:\n\u001b[0;32m--> 990\u001b[0m     \u001b[38;5;28;01mraise\u001b[39;00m RenderError(\u001b[38;5;124mf\u001b[39m\u001b[38;5;124m\"\u001b[39m\u001b[38;5;124mNo score to render (start: \u001b[39m\u001b[38;5;132;01m{\u001b[39;00mscorestart\u001b[38;5;132;01m}\u001b[39;00m\u001b[38;5;124m, end: \u001b[39m\u001b[38;5;132;01m{\u001b[39;00mrenderend\u001b[38;5;132;01m}\u001b[39;00m\u001b[38;5;124m)\u001b[39m\u001b[38;5;124m\"\u001b[39m)\n\u001b[1;32m    992\u001b[0m \u001b[38;5;28;01mif\u001b[39;00m sr \u001b[38;5;129;01mor\u001b[39;00m encoding \u001b[38;5;129;01mor\u001b[39;00m compressionBitrate \u001b[38;5;129;01mor\u001b[39;00m scoreend \u001b[38;5;241m>\u001b[39m renderend:\n\u001b[1;32m    993\u001b[0m     csd \u001b[38;5;241m=\u001b[39m \u001b[38;5;28mself\u001b[39m\u001b[38;5;241m.\u001b[39mcsd\u001b[38;5;241m.\u001b[39mcopy()\n",
      "\u001b[0;31mRenderError\u001b[0m: No score to render (start: 0.0, end: 0.0)"
     ]
    }
   ],
   "source": [
    "with s.rendering('~/tmp/test.wav'):\n",
    "    s.sched('sine', dur=1, iamp=0.01, kfreq=440)"
   ]
  },
  {
   "cell_type": "code",
   "execution_count": 9,
   "id": "b5c1d1b3-8377-42bb-aa06-fb0a47e33cfd",
   "metadata": {},
   "outputs": [
    {
     "data": {
      "text/html": [
       "Instr <strong style=\"color:MediumSeaGreen\">pfields</strong><br>\n",
       "&nbsp&nbsp&nbsp&nbsp<span style=\"font-size:90%\"><b>kfreq</b>:p5=<code>0</code></span><br>\n",
       "<hr style=\"width:38%;text-align:left;margin-left:0\">\n",
       "<span style=\"font-size:90%\"><div class=\"highlight\" style=\"background: #f8f8f8\"><pre style=\"line-height: 125%;\"><span></span><code><span style=\"color: #B00040\">k</span>freq<span style=\"color: #bbbbbb\"> </span><span style=\"color: #666666\">=</span><span style=\"color: #bbbbbb\"> </span><span style=\"color: #19177C\">p5</span>\n",
       "<span style=\"color: #008000\">outch</span><span style=\"color: #bbbbbb\"> </span><span style=\"color: #666666\">1</span>,<span style=\"color: #bbbbbb\"> </span><span style=\"color: #008000\">oscili</span>:<span style=\"color: #B00040\">a</span>(<span style=\"color: #666666\">0.1</span>,<span style=\"color: #bbbbbb\"> </span><span style=\"color: #B00040\">k</span>freq)\n",
       "</code></pre></div>\n",
       "</span>"
      ],
      "text/plain": [
       "Instr(pfields, kfreq:5)"
      ]
     },
     "execution_count": 9,
     "metadata": {},
     "output_type": "execute_result"
    }
   ],
   "source": [
    "instr = s.defInstr('pfields', r'''\n",
    "kfreq = p5\n",
    "outch 1, oscili:a(0.1, kfreq)\n",
    "''')\n",
    "instr"
   ]
  },
  {
   "cell_type": "code",
   "execution_count": 10,
   "id": "65161bd0-6b95-44c7-a7f3-ec324ed44f4f",
   "metadata": {},
   "outputs": [
    {
     "data": {
      "text/plain": [
       "ParsedInstrBody(pfieldIndexToName={5: 'kfreq'}, pfieldLines=['kfreq = p5'], body='outch 1, oscili:a(0.1, kfreq)', lines=['', 'kfreq = p5', 'outch 1, oscili:a(0.1, kfreq)'], pfieldIndexToValue={}, pfieldsUsed={5}, outChannels={1})"
      ]
     },
     "execution_count": 10,
     "metadata": {},
     "output_type": "execute_result"
    }
   ],
   "source": [
    "instr.parsedCode"
   ]
  },
  {
   "cell_type": "code",
   "execution_count": 11,
   "id": "8b259aec-764e-4c88-8b5f-40c67cd3702a",
   "metadata": {},
   "outputs": [
    {
     "data": {
      "text/plain": [
       "{'kfreq': 0.0}"
      ]
     },
     "execution_count": 11,
     "metadata": {},
     "output_type": "execute_result"
    }
   ],
   "source": [
    "instr.parsedCode.pfieldNameToValue"
   ]
  },
  {
   "cell_type": "code",
   "execution_count": 12,
   "id": "a1c255fc-eeb3-4105-81b9-c47dd33e5d6a",
   "metadata": {},
   "outputs": [
    {
     "data": {
      "text/plain": [
       "{}"
      ]
     },
     "execution_count": 12,
     "metadata": {},
     "output_type": "execute_result"
    }
   ],
   "source": [
    "instr.parsedCode.pfieldIndexToValue"
   ]
  },
  {
   "cell_type": "code",
   "execution_count": 9,
   "id": "6fb044a0-0711-42e5-9248-3f8413f8528b",
   "metadata": {},
   "outputs": [
    {
     "data": {
      "text/plain": [
       "{'kfreq': 0.0}"
      ]
     },
     "execution_count": 9,
     "metadata": {},
     "output_type": "execute_result"
    }
   ],
   "source": [
    "instr.dynamicPfields()"
   ]
  },
  {
   "cell_type": "code",
   "execution_count": 10,
   "id": "66d1002f-4d07-426c-b98b-8b3a586747ed",
   "metadata": {},
   "outputs": [],
   "source": [
    "instr.aliases"
   ]
  },
  {
   "cell_type": "code",
   "execution_count": 12,
   "id": "bcb69651-c79b-4367-803a-e7cac03e218a",
   "metadata": {},
   "outputs": [
    {
     "data": {
      "text/plain": [
       "{}"
      ]
     },
     "execution_count": 12,
     "metadata": {},
     "output_type": "execute_result"
    }
   ],
   "source": [
    "instr.args"
   ]
  },
  {
   "cell_type": "code",
   "execution_count": null,
   "id": "0c30bcd7-421b-4146-bacf-e82fe3e1bfe4",
   "metadata": {},
   "outputs": [],
   "source": []
  }
 ],
 "metadata": {
  "kernelspec": {
   "display_name": "Python 3 (ipykernel)",
   "language": "python",
   "name": "python3"
  },
  "language_info": {
   "codemirror_mode": {
    "name": "ipython",
    "version": 3
   },
   "file_extension": ".py",
   "mimetype": "text/x-python",
   "name": "python",
   "nbconvert_exporter": "python",
   "pygments_lexer": "ipython3",
   "version": "3.11.4"
  }
 },
 "nbformat": 4,
 "nbformat_minor": 5
}
