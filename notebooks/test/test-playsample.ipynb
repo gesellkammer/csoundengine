{
 "cells": [
  {
   "cell_type": "code",
   "execution_count": 1,
   "id": "fe7f58b1-39f1-41d3-9076-30df788bfa49",
   "metadata": {},
   "outputs": [],
   "source": [
    "from csoundengine import *"
   ]
  },
  {
   "cell_type": "code",
   "execution_count": 2,
   "id": "c1f70bce-1d2d-4e9e-af90-e5c7f9bf79c6",
   "metadata": {},
   "outputs": [
    {
     "name": "stderr",
     "output_type": "stream",
     "text": [
      "\n",
      "\n",
      "\n",
      "--Csound version 6.19 (double samples) Oct 30 2023\n",
      "[commit: 79e5d31bea441e5289073319ab2b1e42d01814b9]\n",
      "\u001b[mlibsndfile-1.2.0\n",
      "\u001b[msr = 48000.0,\u001b[m kr = 750.000,\u001b[m ksmps = 64\n",
      "\u001b[m0dBFS level = 1.0,\u001b[m A4 tuning = 440.0\n",
      "\u001b[maudio buffered in 512 sample-frame blocks\n",
      "\u001b[mreading 4096-byte blks of shorts from adc:Built-in Audio Pro: (RAW)\n",
      "writing 1024 sample blks of 64-bit floats to dac:Built-in Audio Pro:\n",
      "SECTION 1:\n"
     ]
    }
   ],
   "source": [
    "s = Session()"
   ]
  },
  {
   "cell_type": "code",
   "execution_count": 3,
   "id": "2960a52b-8286-4ed7-bf75-d6477a474311",
   "metadata": {},
   "outputs": [
    {
     "data": {
      "text/plain": [
       "TableProxy(source=301, sr=44100, nchnls=1, numframes=473758, path=/home/em/dev/python/maelzel/notebooks/snd/colours-german-male.flac, freeself=False)"
      ]
     },
     "execution_count": 3,
     "metadata": {},
     "output_type": "execute_result"
    }
   ],
   "source": [
    "tab = s.readSoundfile(\"/home/em/dev/python/maelzel/notebooks/snd/colours-german-male.flac\")\n",
    "tab"
   ]
  },
  {
   "cell_type": "code",
   "execution_count": 5,
   "id": "0a4d597e-e6fe-40ea-a5e9-3b60de189f1c",
   "metadata": {},
   "outputs": [
    {
     "data": {
      "application/vnd.jupyter.widget-view+json": {
       "model_id": "e352524161b346b7a93159d78f29fafd",
       "version_major": 2,
       "version_minor": 0
      },
      "text/plain": [
       "Button(description='Stop', style=ButtonStyle())"
      ]
     },
     "metadata": {},
     "output_type": "display_data"
    },
    {
     "data": {
      "application/vnd.jupyter.widget-view+json": {
       "model_id": "a4a4228574814f68a9e3026f84f81454",
       "version_major": 2,
       "version_minor": 0
      },
      "text/plain": [
       "Output()"
      ]
     },
     "metadata": {},
     "output_type": "display_data"
    },
    {
     "data": {
      "text/html": [
       "<p><span style=\"font-size:12px;\">Synth(𝍪 <strong style=\"color:MediumSeaGreen\">.playSample</strong>:501.0003, <span style=\"font-size:12px;\">5:<b>isndtab</b>=<code>301</code> 6:<b>istart</b>=<code>0</code> 7:<b>ifadein</b>=<code>0.05</code> 8:<b>ifadeout</b>=<code>0.05</code> 9:<b>kchan</b>=<code>1</code> 10:<b>kspeed</b>=<code>1</code> 11:<b>kgain</b>=<code>1</code> 12:<b>kpan</b>=<code>0.5</code> 13:<b>ixfade</b>=<code>-1</code></span>)</span></p>"
      ],
      "text/plain": [
       "Synth(𝍪 .playSample=501.0003 start=15.635 dur=-1.000 p4=301 isndtab=0 istart=0.05 ifadein=0.05 ifadeout=1 kchan=1 kspeed=1 kgain=0.5 kpan=-1)"
      ]
     },
     "execution_count": 5,
     "metadata": {},
     "output_type": "execute_result"
    },
    {
     "name": "stderr",
     "output_type": "stream",
     "text": [
      "\u001b[m*********************** table num: 301, sr: 44100 \n",
      "\u001b[mkpan: 0.500000, kgain: 1.000000\n"
     ]
    }
   ],
   "source": [
    "s.playSample(source=tab, pan=0.5, speed=1)"
   ]
  },
  {
   "cell_type": "code",
   "execution_count": 6,
   "id": "24374d71-03df-43db-9968-494644a8fe5a",
   "metadata": {},
   "outputs": [],
   "source": [
    "tabnum = s.engine.readSoundfile(path=\"/home/em/dev/python/maelzel/notebooks/snd/finneganswake-fragm01.flac\")"
   ]
  },
  {
   "cell_type": "code",
   "execution_count": 7,
   "id": "435fd73e-0927-4d1d-b9f1-abda51c09386",
   "metadata": {},
   "outputs": [
    {
     "data": {
      "text/plain": [
       "302"
      ]
     },
     "execution_count": 7,
     "metadata": {},
     "output_type": "execute_result"
    }
   ],
   "source": [
    "tabnum"
   ]
  },
  {
   "cell_type": "code",
   "execution_count": 12,
   "id": "16925aec-6c64-440c-ad6a-cc46ca71e7d0",
   "metadata": {},
   "outputs": [
    {
     "data": {
      "application/vnd.jupyter.widget-view+json": {
       "model_id": "24318d16f7554d31bfc49f1eca54bc47",
       "version_major": 2,
       "version_minor": 0
      },
      "text/plain": [
       "Button(description='Stop', style=ButtonStyle())"
      ]
     },
     "metadata": {},
     "output_type": "display_data"
    },
    {
     "data": {
      "application/vnd.jupyter.widget-view+json": {
       "model_id": "a219c8e84b9e4ca093f2a75a71a08965",
       "version_major": 2,
       "version_minor": 0
      },
      "text/plain": [
       "Output()"
      ]
     },
     "metadata": {},
     "output_type": "display_data"
    },
    {
     "data": {
      "text/html": [
       "<p><span style=\"font-size:12px;\">Synth(𝍪 <strong style=\"color:MediumSeaGreen\">.playSample</strong>:501.0007, <span style=\"font-size:12px;\">5:<b>isndtab</b>=<code>302</code> 6:<b>istart</b>=<code>0</code> 7:<b>ifadein</b>=<code>0.05</code> 8:<b>ifadeout</b>=<code>0.05</code> 9:<b>kchan</b>=<code>1</code> 10:<b>kspeed</b>=<code>1</code> 11:<b>kgain</b>=<code>1</code> 12:<b>kpan</b>=<code>0.5</code> 13:<b>ixfade</b>=<code>-1</code></span>)</span></p>"
      ],
      "text/plain": [
       "Synth(𝍪 .playSample=501.0007 start=90.259 dur=-1.000 p4=302 isndtab=0 istart=0.05 ifadein=0.05 ifadeout=1 kchan=1 kspeed=1 kgain=0.5 kpan=-1)"
      ]
     },
     "execution_count": 12,
     "metadata": {},
     "output_type": "execute_result"
    },
    {
     "name": "stderr",
     "output_type": "stream",
     "text": [
      "\u001b[m*********************** table num: 302, sr: 44100 \n",
      "\u001b[mkpan: 0.500000, kgain: 1.000000\n"
     ]
    }
   ],
   "source": [
    "sy = s.playSample(source=tabnum)\n",
    "sy"
   ]
  },
  {
   "cell_type": "code",
   "execution_count": 16,
   "id": "8e2fedd2-aa5d-4f15-98f5-ea7efc302503",
   "metadata": {},
   "outputs": [],
   "source": [
    "sy.set(kspeed=0.1)"
   ]
  },
  {
   "cell_type": "code",
   "execution_count": null,
   "id": "05918c78-e495-47e4-b0f1-4739ca1890fa",
   "metadata": {},
   "outputs": [],
   "source": []
  }
 ],
 "metadata": {
  "kernelspec": {
   "display_name": "Python 3 (ipykernel)",
   "language": "python",
   "name": "python3"
  },
  "language_info": {
   "codemirror_mode": {
    "name": "ipython",
    "version": 3
   },
   "file_extension": ".py",
   "mimetype": "text/x-python",
   "name": "python",
   "nbconvert_exporter": "python",
   "pygments_lexer": "ipython3",
   "version": "3.11.4"
  }
 },
 "nbformat": 4,
 "nbformat_minor": 5
}
