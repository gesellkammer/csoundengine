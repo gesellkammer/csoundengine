{
 "cells": [
  {
   "cell_type": "code",
   "execution_count": 1,
   "id": "fe7f58b1-39f1-41d3-9076-30df788bfa49",
   "metadata": {},
   "outputs": [
    {
     "name": "stderr",
     "output_type": "stream",
     "text": [
      "WARNING: Csound 7 support is experimental. Proceed at yout own risk\n"
     ]
    }
   ],
   "source": [
    "from csoundengine import *"
   ]
  },
  {
   "cell_type": "code",
   "execution_count": 2,
   "id": "c1f70bce-1d2d-4e9e-af90-e5c7f9bf79c6",
   "metadata": {},
   "outputs": [
    {
     "name": "stderr",
     "output_type": "stream",
     "text": [
      "--Csound version 7.0 (double samples) Feb 25 2025\n",
      "[commit: 2d7b783a0ed4e67b6764d69cfb29edefdaea8826]\n",
      "\u001b[mlibsndfile-1.2.2\n",
      "\u001b[msr = 48000.0,\u001b[m kr = 750.000,\u001b[m ksmps = 64\n",
      "\u001b[m0dBFS level = 1.0,\u001b[m A4 tuning = 440.0\n",
      "\u001b[maudio buffered in 512 sample-frame blocks\n",
      "\u001b[mreading 4096-byte blks of shorts from adc:Built-in Audio Analog Stereo: (RAW)\n",
      "writing 1024 sample blks of 64-bit floats to dac:Built-in Audio Analog Stereo:\n",
      "SECTION 1:\n",
      "\u001b[m"
     ]
    },
    {
     "name": "stdout",
     "output_type": "stream",
     "text": [
      "finished 501.0002!\n"
     ]
    }
   ],
   "source": [
    "s = Session()"
   ]
  },
  {
   "cell_type": "code",
   "execution_count": 3,
   "id": "2960a52b-8286-4ed7-bf75-d6477a474311",
   "metadata": {},
   "outputs": [
    {
     "data": {
      "text/plain": [
       "TableProxy(source=301, sr=44100, nchnls=1, numframes=459938, path=/home/em/dev/python/csoundengine/notebooks/snd/piano-pitchtest-2.flac, freeself=False)"
      ]
     },
     "execution_count": 3,
     "metadata": {},
     "output_type": "execute_result"
    }
   ],
   "source": [
    "tab = s.readSoundfile(\"../snd/piano-pitchtest-2.flac\")\n",
    "tab"
   ]
  },
  {
   "cell_type": "code",
   "execution_count": 4,
   "id": "0a4d597e-e6fe-40ea-a5e9-3b60de189f1c",
   "metadata": {},
   "outputs": [
    {
     "data": {
      "application/vnd.jupyter.widget-view+json": {
       "model_id": "674e07a5821441b1927bad97e907234c",
       "version_major": 2,
       "version_minor": 0
      },
      "text/plain": [
       "Button(description='Stop', style=ButtonStyle())"
      ]
     },
     "metadata": {},
     "output_type": "display_data"
    },
    {
     "data": {
      "application/vnd.jupyter.widget-view+json": {
       "model_id": "8a9fb7443d2a42eeb3adc49e4a4db965",
       "version_major": 2,
       "version_minor": 0
      },
      "text/plain": [
       "Output()"
      ]
     },
     "metadata": {},
     "output_type": "display_data"
    },
    {
     "data": {
      "text/html": [
       "<p><span style=\"font-size:12px;\">Synth(𝍪 <strong style=\"color:MediumSeaGreen\">.playSample</strong>:501.0002, <span style=\"font-size:12px;\">5:<b>isndtab</b>=<code>301</code> 6:<b>istart</b>=<code>0</code> 7:<b>ifadein</b>=<code>0.02</code> 8:<b>ifadeout</b>=<code>0.02</code> 9:<b>kchan</b>=<code>1</code> 10:<b>kspeed</b>=<code>1</code> 11:<b>kgain</b>=<code>1</code> 12:<b>kpan</b>=<code>0.5</code> 13:<b>ixfade</b>=<code>-1</code></span>)</span></p>"
      ],
      "text/plain": [
       "Synth(𝍪 .playSample=501.0002 start=1.502 dur=10.449 p5=301 isndtab=0 istart=0.02 ifadein=0.02 ifadeout=1 kchan=1 kspeed=1 kgain=0.5 kpan=-1)"
      ]
     },
     "execution_count": 4,
     "metadata": {},
     "output_type": "execute_result"
    }
   ],
   "source": [
    "s.playSample(source=tab, pan=0.5, speed=1, whenfinished=lambda p1: print(f\"finished {p1}!\"))"
   ]
  },
  {
   "cell_type": "code",
   "execution_count": 5,
   "id": "24374d71-03df-43db-9968-494644a8fe5a",
   "metadata": {},
   "outputs": [],
   "source": [
    "tabnum = s.engine.readSoundfile(path=\"/home/em/dev/python/maelzel/notebooks/snd/finneganswake-fragm01.flac\")"
   ]
  },
  {
   "cell_type": "code",
   "execution_count": 6,
   "id": "435fd73e-0927-4d1d-b9f1-abda51c09386",
   "metadata": {},
   "outputs": [
    {
     "data": {
      "text/plain": [
       "302"
      ]
     },
     "execution_count": 6,
     "metadata": {},
     "output_type": "execute_result"
    }
   ],
   "source": [
    "tabnum"
   ]
  },
  {
   "cell_type": "code",
   "execution_count": 7,
   "id": "16925aec-6c64-440c-ad6a-cc46ca71e7d0",
   "metadata": {},
   "outputs": [
    {
     "data": {
      "application/vnd.jupyter.widget-view+json": {
       "model_id": "863d6ff9a01743afa6ddffaefd3f8d2c",
       "version_major": 2,
       "version_minor": 0
      },
      "text/plain": [
       "Button(description='Stop', style=ButtonStyle())"
      ]
     },
     "metadata": {},
     "output_type": "display_data"
    },
    {
     "data": {
      "application/vnd.jupyter.widget-view+json": {
       "model_id": "eeb1bfeeb16b4d508df0490a033d8a6f",
       "version_major": 2,
       "version_minor": 0
      },
      "text/plain": [
       "Output()"
      ]
     },
     "metadata": {},
     "output_type": "display_data"
    },
    {
     "data": {
      "text/html": [
       "<p><span style=\"font-size:12px;\">Synth(𝍪 <strong style=\"color:MediumSeaGreen\">.playSample</strong>:501.0003, <span style=\"font-size:12px;\">5:<b>isndtab</b>=<code>302</code> 6:<b>istart</b>=<code>0</code> 7:<b>ifadein</b>=<code>0.02</code> 8:<b>ifadeout</b>=<code>0.02</code> 9:<b>kchan</b>=<code>1</code> 10:<b>kspeed</b>=<code>1</code> 11:<b>kgain</b>=<code>1</code> 12:<b>kpan</b>=<code>0.5</code> 13:<b>ixfade</b>=<code>-1</code></span>)</span></p>"
      ],
      "text/plain": [
       "Synth(𝍪 .playSample=501.0003 start=7.155 dur=-1.000 p5=302 isndtab=0 istart=0.02 ifadein=0.02 ifadeout=1 kchan=1 kspeed=1 kgain=0.5 kpan=-1)"
      ]
     },
     "execution_count": 7,
     "metadata": {},
     "output_type": "execute_result"
    }
   ],
   "source": [
    "sy = s.playSample(source=tabnum)\n",
    "sy"
   ]
  },
  {
   "cell_type": "code",
   "execution_count": 8,
   "id": "8e2fedd2-aa5d-4f15-98f5-ea7efc302503",
   "metadata": {},
   "outputs": [],
   "source": [
    "sy.set(kspeed=0.8)"
   ]
  },
  {
   "cell_type": "code",
   "execution_count": 9,
   "id": "aaa22892-374a-44e0-b15d-fb6b6de6514d",
   "metadata": {},
   "outputs": [
    {
     "data": {
      "application/vnd.jupyter.widget-view+json": {
       "model_id": "e6c05e05f27f494d86e37cacf81c1409",
       "version_major": 2,
       "version_minor": 0
      },
      "text/plain": [
       "Button(description='Stop', style=ButtonStyle())"
      ]
     },
     "metadata": {},
     "output_type": "display_data"
    },
    {
     "data": {
      "application/vnd.jupyter.widget-view+json": {
       "model_id": "12056c67e79c442f89c48494bdf7d757",
       "version_major": 2,
       "version_minor": 0
      },
      "text/plain": [
       "FloatSlider(value=1.0, description='gain', layout=Layout(width='80%'), max=1.0, readout_format='.3f', step=0.0…"
      ]
     },
     "metadata": {},
     "output_type": "display_data"
    },
    {
     "data": {
      "application/vnd.jupyter.widget-view+json": {
       "model_id": "891036f19dcd4fa3aa77a30592178034",
       "version_major": 2,
       "version_minor": 0
      },
      "text/plain": [
       "FloatSlider(value=1.0, description='kchan', layout=Layout(width='80%'), max=2.0, readout_format='.3f', step=0.…"
      ]
     },
     "metadata": {},
     "output_type": "display_data"
    },
    {
     "data": {
      "application/vnd.jupyter.widget-view+json": {
       "model_id": "77d5224b4d8b46229b96a6fe24bd23f7",
       "version_major": 2,
       "version_minor": 0
      },
      "text/plain": [
       "FloatSlider(value=0.5, description='pan', layout=Layout(width='80%'), max=1.0, readout_format='.3f', step=0.00…"
      ]
     },
     "metadata": {},
     "output_type": "display_data"
    },
    {
     "data": {
      "application/vnd.jupyter.widget-view+json": {
       "model_id": "0acbd69d5554478cbb4a73a4b01912fa",
       "version_major": 2,
       "version_minor": 0
      },
      "text/plain": [
       "FloatSlider(value=1.0, description='speed', layout=Layout(width='80%'), max=2.0, readout_format='.3f', step=0.…"
      ]
     },
     "metadata": {},
     "output_type": "display_data"
    }
   ],
   "source": [
    "sy.ui()"
   ]
  },
  {
   "cell_type": "code",
   "execution_count": null,
   "id": "cced5214-a367-4790-b2c8-87b0f3641cdd",
   "metadata": {},
   "outputs": [],
   "source": []
  }
 ],
 "metadata": {
  "kernelspec": {
   "display_name": "Python 3 (ipykernel)",
   "language": "python",
   "name": "python3"
  },
  "language_info": {
   "codemirror_mode": {
    "name": "ipython",
    "version": 3
   },
   "file_extension": ".py",
   "mimetype": "text/x-python",
   "name": "python",
   "nbconvert_exporter": "python",
   "pygments_lexer": "ipython3",
   "version": "3.12.3"
  }
 },
 "nbformat": 4,
 "nbformat_minor": 5
}
