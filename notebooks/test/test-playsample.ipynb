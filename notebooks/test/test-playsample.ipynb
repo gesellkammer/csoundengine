{
 "cells": [
  {
   "cell_type": "code",
   "execution_count": 1,
   "id": "fe7f58b1-39f1-41d3-9076-30df788bfa49",
   "metadata": {},
   "outputs": [
    {
     "name": "stdout",
     "output_type": "stream",
     "text": [
      "219.5870876312256 ms\n"
     ]
    }
   ],
   "source": [
    "import time\n",
    "time.sleep(0.5)\n",
    "t0 = time.time()\n",
    "from csoundengine import *\n",
    "t1 = time.time()\n",
    "print(f\"{(t1 - t0) * 1000} ms\")"
   ]
  },
  {
   "cell_type": "code",
   "execution_count": 2,
   "id": "3d7c9415-1e6e-4a3b-9422-bb9aaeae6546",
   "metadata": {},
   "outputs": [
    {
     "name": "stderr",
     "output_type": "stream",
     "text": [
      "--Csound version 7.0 (double samples) May 14 2025\n",
      "[commit: ba226ccf9e9d38cd4516498e6ff7d59ba734b5e1]\n",
      "\u001b[mlibsndfile-1.2.2\n",
      "\u001b[msr = 48000.0,\u001b[m kr = 750.000,\u001b[m ksmps = 64\n",
      "\u001b[m0dBFS level = 1.0,\u001b[m A4 tuning = 440.0\n",
      "\u001b[maudio buffered in 256 sample-frame blocks\n",
      "\u001b[mreading 2048-byte blks of shorts from adc:Built-in Audio Analog Stereo: (RAW)\n",
      "writing 512 sample blks of 64-bit floats to dac:Built-in Audio Analog Stereo:\n",
      "SECTION 1:\n",
      "\u001b[m"
     ]
    },
    {
     "name": "stdout",
     "output_type": "stream",
     "text": [
      "finished 401.0003!\n",
      "finished 401.0004!\n"
     ]
    }
   ],
   "source": [
    "s = Session()"
   ]
  },
  {
   "cell_type": "code",
   "execution_count": 7,
   "id": "2960a52b-8286-4ed7-bf75-d6477a474311",
   "metadata": {},
   "outputs": [
    {
     "name": "stdout",
     "output_type": "stream",
     "text": [
      "0.45 ms\n"
     ]
    },
    {
     "data": {
      "application/vnd.jupyter.widget-view+json": {
       "model_id": "6b4f4e2b87804bad974c427f021a7de9",
       "version_major": 2,
       "version_minor": 0
      },
      "text/plain": [
       "Button(description='Stop', style=ButtonStyle())"
      ]
     },
     "metadata": {},
     "output_type": "display_data"
    },
    {
     "data": {
      "application/vnd.jupyter.widget-view+json": {
       "model_id": "705643f442b84a66bfc20c9ceed76b7b",
       "version_major": 2,
       "version_minor": 0
      },
      "text/plain": [
       "Output()"
      ]
     },
     "metadata": {},
     "output_type": "display_data"
    },
    {
     "data": {
      "text/html": [
       "<p><span style=\"font-size:12px;\">Synth(𝍪 <strong style=\"color:MediumSeaGreen\">.playSample</strong>:401.0002, <span style=\"font-size:12px;\">5:<b>isndtab</b>=<code>301</code> 6:<b>istart</b>=<code>0</code> 7:<b>ifadein</b>=<code>0.02</code> 8:<b>ifadeout</b>=<code>0.02</code> 9:<b>kchan</b>=<code>1</code> 10:<b>kspeed</b>=<code>1</code> 11:<b>kgain</b>=<code>1</code> 12:<b>kpan</b>=<code>0.5</code> 13:<b>ixfade</b>=<code>-1</code></span>)</span></p>"
      ],
      "text/plain": [
       "Synth(𝍪 .playSample=401.0002 start=34.654 dur=10.449 p5=301 isndtab=0 istart=0.02 ifadein=0.02 ifadeout=1 kchan=1 kspeed=1 kgain=0.5 kpan=-1)"
      ]
     },
     "execution_count": 7,
     "metadata": {},
     "output_type": "execute_result"
    }
   ],
   "source": [
    "t0 = time.time()\n",
    "tab = s.readSoundfile(\"../snd/piano-pitchtest-2.flac\", block=True)\n",
    "tabdata = tab.data()\n",
    "t1 = time.time()\n",
    "assert tab.parent is not None\n",
    "print(f\"{(t1 - t0)*1000:.2f} ms\")\n",
    "\n",
    "s.playSample(tab)\n"
   ]
  },
  {
   "cell_type": "code",
   "execution_count": 5,
   "id": "895e2129-c55c-4ab0-8e57-ab60c40cbdcd",
   "metadata": {},
   "outputs": [
    {
     "name": "stdout",
     "output_type": "stream",
     "text": [
      "0.0008206367492675781\n"
     ]
    }
   ],
   "source": [
    "t0 = time.time()\n",
    "s.engine.csound.table(tab.tabnum)\n",
    "t1 = time.time()\n",
    "print(t1 - t0)"
   ]
  },
  {
   "cell_type": "code",
   "execution_count": 6,
   "id": "d5ec037e-f61a-4cc3-b2d2-0f7b9735f27f",
   "metadata": {},
   "outputs": [
    {
     "name": "stdout",
     "output_type": "stream",
     "text": [
      "0.0008544921875\n"
     ]
    }
   ],
   "source": [
    "t0 = time.time()\n",
    "s.engine._tableCache.pop(tab.tabnum, None)\n",
    "s.engine.getTableData(tab.tabnum)\n",
    "t1 = time.time()\n",
    "print(t1 - t0)"
   ]
  },
  {
   "cell_type": "code",
   "execution_count": 9,
   "id": "59e5f958-2507-4825-b382-918b1d987b12",
   "metadata": {},
   "outputs": [
    {
     "name": "stdout",
     "output_type": "stream",
     "text": [
      "TableProxy(source=302, sr=44100, nchnls=1, numframes=546115, path=/home/em/Lib/snd/samples/speech/countdown-44100.flac, freeself=False) 0.0002048015594482422\n"
     ]
    }
   ],
   "source": [
    "t0 = time.time()\n",
    "tab = s.readSoundfile(\"/home/em/Lib/snd/samples/speech/countdown-44100.flac\", block=True)\n",
    "print(tab, time.time() - t0)"
   ]
  },
  {
   "cell_type": "code",
   "execution_count": 11,
   "id": "53a8cb98-50c6-46c3-bb65-c9cb133b65ea",
   "metadata": {},
   "outputs": [
    {
     "name": "stdout",
     "output_type": "stream",
     "text": [
      "16.1 ms ± 5.05 ms per loop (mean ± std. dev. of 7 runs, 10 loops each)\n"
     ]
    }
   ],
   "source": [
    "%timeit -n 10 s.engine.readSoundfile(\"/home/em/Lib/snd/samples/speech/countdown-44100.flac\", block=True)"
   ]
  },
  {
   "cell_type": "code",
   "execution_count": 13,
   "id": "0a4d597e-e6fe-40ea-a5e9-3b60de189f1c",
   "metadata": {},
   "outputs": [
    {
     "data": {
      "application/vnd.jupyter.widget-view+json": {
       "model_id": "c59c4eccd53c4d75882bb0944ba4ae39",
       "version_major": 2,
       "version_minor": 0
      },
      "text/plain": [
       "Button(description='Stop', style=ButtonStyle())"
      ]
     },
     "metadata": {},
     "output_type": "display_data"
    },
    {
     "data": {
      "application/vnd.jupyter.widget-view+json": {
       "model_id": "4688d2b650854af891a6ec04fb308c3d",
       "version_major": 2,
       "version_minor": 0
      },
      "text/plain": [
       "Output()"
      ]
     },
     "metadata": {},
     "output_type": "display_data"
    },
    {
     "data": {
      "text/html": [
       "<p><span style=\"font-size:12px;\">Synth(𝍪 <strong style=\"color:MediumSeaGreen\">.playSample</strong>:401.0004, <span style=\"font-size:12px;\">5:<b>isndtab</b>=<code>302</code> 6:<b>istart</b>=<code>0</code> 7:<b>ifadein</b>=<code>0.02</code> 8:<b>ifadeout</b>=<code>0.02</code> 9:<b>kchan</b>=<code>1</code> 10:<b>kspeed</b>=<code>2</code> 11:<b>kgain</b>=<code>1</code> 12:<b>kpan</b>=<code>0.5</code> 13:<b>ixfade</b>=<code>-1</code></span>)</span></p>"
      ],
      "text/plain": [
       "Synth(𝍪 .playSample=401.0004 start=155.977 dur=6.212 p5=302 isndtab=0 istart=0.02 ifadein=0.02 ifadeout=1 kchan=2 kspeed=1 kgain=0.5 kpan=-1)"
      ]
     },
     "execution_count": 13,
     "metadata": {},
     "output_type": "execute_result"
    }
   ],
   "source": [
    "s.playSample(source=tab, pan=0.5, speed=2, whenfinished=lambda p1: print(f\"finished {p1}!\"))"
   ]
  },
  {
   "cell_type": "code",
   "execution_count": 5,
   "id": "24374d71-03df-43db-9968-494644a8fe5a",
   "metadata": {},
   "outputs": [],
   "source": [
    "tabnum = s.engine.readSoundfile(path=\"/home/em/dev/python/maelzel/notebooks/snd/finneganswake-fragm01.flac\")"
   ]
  },
  {
   "cell_type": "code",
   "execution_count": 6,
   "id": "435fd73e-0927-4d1d-b9f1-abda51c09386",
   "metadata": {},
   "outputs": [
    {
     "data": {
      "text/plain": [
       "302"
      ]
     },
     "execution_count": 6,
     "metadata": {},
     "output_type": "execute_result"
    }
   ],
   "source": [
    "tabnum"
   ]
  },
  {
   "cell_type": "code",
   "execution_count": 8,
   "id": "16925aec-6c64-440c-ad6a-cc46ca71e7d0",
   "metadata": {},
   "outputs": [
    {
     "data": {
      "application/vnd.jupyter.widget-view+json": {
       "model_id": "519915d604bf40a792e836e9ad3e06b9",
       "version_major": 2,
       "version_minor": 0
      },
      "text/plain": [
       "Button(description='Stop', style=ButtonStyle())"
      ]
     },
     "metadata": {},
     "output_type": "display_data"
    },
    {
     "data": {
      "application/vnd.jupyter.widget-view+json": {
       "model_id": "964cda58598e4f04b0d352752f7ffd42",
       "version_major": 2,
       "version_minor": 0
      },
      "text/plain": [
       "Output()"
      ]
     },
     "metadata": {},
     "output_type": "display_data"
    },
    {
     "data": {
      "text/html": [
       "<p><span style=\"font-size:12px;\">Synth(𝍪 <strong style=\"color:MediumSeaGreen\">.playSample</strong>:501.0004, <span style=\"font-size:12px;\">5:<b>isndtab</b>=<code>302</code> 6:<b>istart</b>=<code>0</code> 7:<b>ifadein</b>=<code>0.02</code> 8:<b>ifadeout</b>=<code>0.02</code> 9:<b>kchan</b>=<code>1</code> 10:<b>kspeed</b>=<code>1</code> 11:<b>kgain</b>=<code>1</code> 12:<b>kpan</b>=<code>0.5</code> 13:<b>ixfade</b>=<code>-1</code></span>)</span></p>"
      ],
      "text/plain": [
       "Synth(𝍪 .playSample=501.0004 start=18.718 dur=-1.000 p5=302 isndtab=0 istart=0.02 ifadein=0.02 ifadeout=1 kchan=1 kspeed=1 kgain=0.5 kpan=-1)"
      ]
     },
     "execution_count": 8,
     "metadata": {},
     "output_type": "execute_result"
    }
   ],
   "source": [
    "sy = s.playSample(source=tabnum)\n",
    "sy"
   ]
  },
  {
   "cell_type": "code",
   "execution_count": 9,
   "id": "8e2fedd2-aa5d-4f15-98f5-ea7efc302503",
   "metadata": {},
   "outputs": [],
   "source": [
    "sy.set(kspeed=0.8)"
   ]
  },
  {
   "cell_type": "code",
   "execution_count": 10,
   "id": "aaa22892-374a-44e0-b15d-fb6b6de6514d",
   "metadata": {},
   "outputs": [
    {
     "data": {
      "application/vnd.jupyter.widget-view+json": {
       "model_id": "819b5953b71540c8b6087118e398c6bc",
       "version_major": 2,
       "version_minor": 0
      },
      "text/plain": [
       "Button(description='Stop', style=ButtonStyle())"
      ]
     },
     "metadata": {},
     "output_type": "display_data"
    },
    {
     "data": {
      "application/vnd.jupyter.widget-view+json": {
       "model_id": "d764eb8b9ae54aedba27a121dc6a26dd",
       "version_major": 2,
       "version_minor": 0
      },
      "text/plain": [
       "FloatSlider(value=1.0, description='gain', layout=Layout(width='80%'), max=1.0, readout_format='.3f', step=0.0…"
      ]
     },
     "metadata": {},
     "output_type": "display_data"
    },
    {
     "data": {
      "application/vnd.jupyter.widget-view+json": {
       "model_id": "522a5d9c45b843c79281b37853dcfc2c",
       "version_major": 2,
       "version_minor": 0
      },
      "text/plain": [
       "FloatSlider(value=1.0, description='kchan', layout=Layout(width='80%'), max=2.0, readout_format='.3f', step=0.…"
      ]
     },
     "metadata": {},
     "output_type": "display_data"
    },
    {
     "data": {
      "application/vnd.jupyter.widget-view+json": {
       "model_id": "282528d9e5264aa190966df11bb6ee72",
       "version_major": 2,
       "version_minor": 0
      },
      "text/plain": [
       "FloatSlider(value=0.5, description='pan', layout=Layout(width='80%'), max=1.0, readout_format='.3f', step=0.00…"
      ]
     },
     "metadata": {},
     "output_type": "display_data"
    },
    {
     "data": {
      "application/vnd.jupyter.widget-view+json": {
       "model_id": "9b1c3d900cc341f1bed25d94272beeeb",
       "version_major": 2,
       "version_minor": 0
      },
      "text/plain": [
       "FloatSlider(value=1.0, description='speed', layout=Layout(width='80%'), max=2.0, readout_format='.3f', step=0.…"
      ]
     },
     "metadata": {},
     "output_type": "display_data"
    }
   ],
   "source": [
    "sy.ui()"
   ]
  },
  {
   "cell_type": "code",
   "execution_count": null,
   "id": "cced5214-a367-4790-b2c8-87b0f3641cdd",
   "metadata": {},
   "outputs": [],
   "source": []
  }
 ],
 "metadata": {
  "kernelspec": {
   "display_name": "Python 3 (ipykernel)",
   "language": "python",
   "name": "python3"
  },
  "language_info": {
   "codemirror_mode": {
    "name": "ipython",
    "version": 3
   },
   "file_extension": ".py",
   "mimetype": "text/x-python",
   "name": "python",
   "nbconvert_exporter": "python",
   "pygments_lexer": "ipython3",
   "version": "3.12.7"
  }
 },
 "nbformat": 4,
 "nbformat_minor": 5
}
