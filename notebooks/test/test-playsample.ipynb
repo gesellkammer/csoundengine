{
 "cells": [
  {
   "cell_type": "code",
   "execution_count": 3,
   "id": "fe7f58b1-39f1-41d3-9076-30df788bfa49",
   "metadata": {},
   "outputs": [
    {
     "name": "stderr",
     "output_type": "stream",
     "text": [
      "WARNING: Csound 7 support is experimental. Proceed at yout own risk\n"
     ]
    }
   ],
   "source": [
    "from csoundengine import *"
   ]
  },
  {
   "cell_type": "code",
   "execution_count": 4,
   "id": "c1f70bce-1d2d-4e9e-af90-e5c7f9bf79c6",
   "metadata": {},
   "outputs": [
    {
     "name": "stderr",
     "output_type": "stream",
     "text": [
      "--Csound version 7.0 (double samples) Jan  9 2025\n",
      "[commit: 2109d3ed8a2a0b28a2b6a516b20a585afddef84d]\n",
      "\u001b[mlibsndfile-1.2.0\n",
      "\u001b[msr = 48000.0,\u001b[m kr = 750.000,\u001b[m ksmps = 64\n",
      "\u001b[m0dBFS level = 1.0,\u001b[m A4 tuning = 440.0\n",
      "\u001b[maudio buffered in 256 sample-frame blocks\n",
      "\u001b[mreading 2048-byte blks of shorts from adc:Built-in Audio Analog Stereo: (RAW)\n",
      "writing 512 sample blks of 64-bit floats to dac:Built-in Audio Analog Stereo:\n",
      "SECTION 1:\n",
      "\u001b[m"
     ]
    }
   ],
   "source": [
    "s = Session()"
   ]
  },
  {
   "cell_type": "code",
   "execution_count": 5,
   "id": "2960a52b-8286-4ed7-bf75-d6477a474311",
   "metadata": {},
   "outputs": [
    {
     "data": {
      "text/plain": [
       "TableProxy(source=301, sr=44100, nchnls=1, numframes=459938, path=/home/em/dev/python/csoundengine/notebooks/snd/piano-pitchtest-2.flac, freeself=False)"
      ]
     },
     "execution_count": 5,
     "metadata": {},
     "output_type": "execute_result"
    }
   ],
   "source": [
    "tab = s.readSoundfile(\"../snd/piano-pitchtest-2.flac\")\n",
    "tab"
   ]
  },
  {
   "cell_type": "code",
   "execution_count": 13,
   "id": "0a4d597e-e6fe-40ea-a5e9-3b60de189f1c",
   "metadata": {},
   "outputs": [
    {
     "data": {
      "application/vnd.jupyter.widget-view+json": {
       "model_id": "afa061e88fd3409087850b85b6b6f1d5",
       "version_major": 2,
       "version_minor": 0
      },
      "text/plain": [
       "Button(description='Stop', style=ButtonStyle())"
      ]
     },
     "metadata": {},
     "output_type": "display_data"
    },
    {
     "data": {
      "application/vnd.jupyter.widget-view+json": {
       "model_id": "3627e51b92844f869f77644aeaa954f4",
       "version_major": 2,
       "version_minor": 0
      },
      "text/plain": [
       "Output()"
      ]
     },
     "metadata": {},
     "output_type": "display_data"
    },
    {
     "data": {
      "text/html": [
       "<p><span style=\"font-size:12px;\">Synth(𝍪 <strong style=\"color:MediumSeaGreen\">.playSample</strong>:501.0005, <span style=\"font-size:12px;\">5:<b>isndtab</b>=<code>301</code> 6:<b>istart</b>=<code>0</code> 7:<b>ifadein</b>=<code>0.02</code> 8:<b>ifadeout</b>=<code>0.02</code> 9:<b>kchan</b>=<code>1</code> 10:<b>kspeed</b>=<code>1</code> 11:<b>kgain</b>=<code>1</code> 12:<b>kpan</b>=<code>0.5</code> 13:<b>ixfade</b>=<code>-1</code></span>)</span></p>"
      ],
      "text/plain": [
       "Synth(𝍪 .playSample=501.0005 start=5047.059 dur=10.449 p5=301 isndtab=0 istart=0.02 ifadein=0.02 ifadeout=1 kchan=1 kspeed=1 kgain=0.5 kpan=-1)"
      ]
     },
     "execution_count": 13,
     "metadata": {},
     "output_type": "execute_result"
    }
   ],
   "source": [
    "s.playSample(source=tab, pan=0.5, speed=1)"
   ]
  },
  {
   "cell_type": "code",
   "execution_count": 7,
   "id": "24374d71-03df-43db-9968-494644a8fe5a",
   "metadata": {},
   "outputs": [],
   "source": [
    "tabnum = s.engine.readSoundfile(path=\"/home/em/dev/python/maelzel/notebooks/snd/finneganswake-fragm01.flac\")"
   ]
  },
  {
   "cell_type": "code",
   "execution_count": 8,
   "id": "435fd73e-0927-4d1d-b9f1-abda51c09386",
   "metadata": {},
   "outputs": [
    {
     "data": {
      "text/plain": [
       "302"
      ]
     },
     "execution_count": 8,
     "metadata": {},
     "output_type": "execute_result"
    }
   ],
   "source": [
    "tabnum"
   ]
  },
  {
   "cell_type": "code",
   "execution_count": 12,
   "id": "16925aec-6c64-440c-ad6a-cc46ca71e7d0",
   "metadata": {},
   "outputs": [
    {
     "data": {
      "application/vnd.jupyter.widget-view+json": {
       "model_id": "c7891b1facc744bfb18c6046678ef4b6",
       "version_major": 2,
       "version_minor": 0
      },
      "text/plain": [
       "Button(description='Stop', style=ButtonStyle())"
      ]
     },
     "metadata": {},
     "output_type": "display_data"
    },
    {
     "data": {
      "application/vnd.jupyter.widget-view+json": {
       "model_id": "2f19c61fb0d74969bb4a1e6f29683f2a",
       "version_major": 2,
       "version_minor": 0
      },
      "text/plain": [
       "Output()"
      ]
     },
     "metadata": {},
     "output_type": "display_data"
    },
    {
     "data": {
      "text/html": [
       "<p><span style=\"font-size:12px;\">Synth(𝍪 <strong style=\"color:MediumSeaGreen\">.playSample</strong>:501.0004, <span style=\"font-size:12px;\">5:<b>isndtab</b>=<code>302</code> 6:<b>istart</b>=<code>0</code> 7:<b>ifadein</b>=<code>0.02</code> 8:<b>ifadeout</b>=<code>0.02</code> 9:<b>kchan</b>=<code>1</code> 10:<b>kspeed</b>=<code>1</code> 11:<b>kgain</b>=<code>1</code> 12:<b>kpan</b>=<code>0.5</code> 13:<b>ixfade</b>=<code>-1</code></span>)</span></p>"
      ],
      "text/plain": [
       "Synth(𝍪 .playSample=501.0004 start=46.841 dur=-1.000 p5=302 isndtab=0 istart=0.02 ifadein=0.02 ifadeout=1 kchan=1 kspeed=1 kgain=0.5 kpan=-1)"
      ]
     },
     "execution_count": 12,
     "metadata": {},
     "output_type": "execute_result"
    }
   ],
   "source": [
    "sy = s.playSample(source=tabnum)\n",
    "sy"
   ]
  },
  {
   "cell_type": "code",
   "execution_count": 11,
   "id": "8e2fedd2-aa5d-4f15-98f5-ea7efc302503",
   "metadata": {},
   "outputs": [],
   "source": [
    "sy.set(kspeed=0.8)"
   ]
  }
 ],
 "metadata": {
  "kernelspec": {
   "display_name": "Python 3 (ipykernel)",
   "language": "python",
   "name": "python3"
  },
  "language_info": {
   "codemirror_mode": {
    "name": "ipython",
    "version": 3
   },
   "file_extension": ".py",
   "mimetype": "text/x-python",
   "name": "python",
   "nbconvert_exporter": "python",
   "pygments_lexer": "ipython3",
   "version": "3.12.3"
  }
 },
 "nbformat": 4,
 "nbformat_minor": 5
}
