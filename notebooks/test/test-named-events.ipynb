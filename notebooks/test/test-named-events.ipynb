{
 "cells": [
  {
   "cell_type": "code",
   "execution_count": 1,
   "id": "4dafe7f5-edf4-4acb-9f7e-d8911a670739",
   "metadata": {},
   "outputs": [],
   "source": [
    "import csoundengine as ce"
   ]
  },
  {
   "cell_type": "code",
   "execution_count": 2,
   "id": "a2d5be53-007b-426e-b8f0-b5f2fcb9b1d9",
   "metadata": {},
   "outputs": [
    {
     "name": "stderr",
     "output_type": "stream",
     "text": [
      "\n",
      "\n",
      "\n",
      "--Csound version 6.19 (double samples) Jan 19 2025\n",
      "[commit: 2536da284dd70ec7272040cb0763f70ae57123c4]\n",
      "\u001b[mlibsndfile-1.2.0\n",
      "\u001b[msr = 48000.0,\u001b[m kr = 750.000,\u001b[m ksmps = 64\n",
      "\u001b[m0dBFS level = 1.0,\u001b[m A4 tuning = 442.0\n",
      "\u001b[maudio buffered in 256 sample-frame blocks\n",
      "\u001b[mreading 2048-byte blks of shorts from adc:Built-in Audio Analog Stereo: (RAW)\n",
      "writing 512 sample blks of 64-bit floats to dac:Built-in Audio Analog Stereo:\n",
      "SECTION 1:\n",
      "\u001b[m"
     ]
    }
   ],
   "source": [
    "s = ce.Session()"
   ]
  },
  {
   "cell_type": "code",
   "execution_count": 7,
   "id": "7d66eead-ed02-4362-b18a-cf1fa46d714c",
   "metadata": {},
   "outputs": [
    {
     "data": {
      "text/html": [
       "Instr <strong style=\"color:MediumSeaGreen\">foomix</strong><br>\n",
       "&nbsp&nbsp&nbsp&nbsp<span style=\"font-size:90%\"><b>kfreq</b>=<code>200</code></span>, <span style=\"font-size:90%\"><b>kamp</b>=<code>1</code></span><br>\n",
       "<hr style=\"width:38%;text-align:left;margin-left:0;border: 1px dashed; background: transparent;\">\n",
       "<span style=\"font-size:90%\"><div class=\"highlight\" style=\"background: #f8f8f8\"><pre style=\"line-height: 125%;\"><span></span><code><span style=\"color: #008000\">prints</span><span style=\"color: #BBB\"> </span><span style=\"color: #BA2121\">&quot;foomix!</span><span style=\"color: #AA5D1F; font-weight: bold\">\\n</span><span style=\"color: #BA2121\">&quot;</span>\n",
       "<span style=\"color: #B00040\">a</span>0<span style=\"color: #BBB\"> </span><span style=\"color: #008000\">chnget</span><span style=\"color: #BBB\"> </span><span style=\"color: #BA2121\">&quot;out&quot;</span>\n",
       "<span style=\"color: #B00040\">a</span>1<span style=\"color: #BBB\"> </span><span style=\"color: #008000\">oscili</span><span style=\"color: #BBB\"> </span><span style=\"color: #B00040\">k</span>amp,<span style=\"color: #BBB\"> </span><span style=\"color: #B00040\">k</span>freq\n",
       "<span style=\"color: #008000\">outch</span><span style=\"color: #BBB\"> </span><span style=\"color: #666\">1</span>,<span style=\"color: #BBB\"> </span><span style=\"color: #B00040\">a</span>0<span style=\"color: #BBB\"> </span><span style=\"color: #666\">*</span><span style=\"color: #BBB\"> </span><span style=\"color: #B00040\">a</span>1\n",
       "<span style=\"color: #008000\">chnclear</span><span style=\"color: #BBB\"> </span><span style=\"color: #BA2121\">&quot;out&quot;</span>\n",
       "</code></pre></div>\n",
       "</span>"
      ],
      "text/plain": [
       "Instr(foomix, kfreq=200, kamp=1)"
      ]
     },
     "execution_count": 7,
     "metadata": {},
     "output_type": "execute_result"
    }
   ],
   "source": [
    "s.defInstr(\n",
    "    'foo', \n",
    "    r'''\n",
    "|kfreq=400|\n",
    "a0 vco2 0.1, kfreq\n",
    "chnmix a0, \"out\"\n",
    "''', \n",
    "    initCallback=lambda s: s.sched('foomix', priority=-1, name='foomix')\n",
    ")\n",
    "\n",
    "s.defInstr('foomix', r'''\n",
    "|kfreq=200, kamp=1|\n",
    "prints \"foomix!\\n\"\n",
    "a0 chnget \"out\"\n",
    "a1 oscili kamp, kfreq\n",
    "outch 1, a0 * a1\n",
    "chnclear \"out\"\n",
    "''')"
   ]
  },
  {
   "cell_type": "code",
   "execution_count": 8,
   "id": "d506387a-ea57-495c-96e7-550aba3f9b28",
   "metadata": {},
   "outputs": [
    {
     "data": {
      "application/vnd.jupyter.widget-view+json": {
       "model_id": "d16ffd110e1d403a89c0a6b45af0836c",
       "version_major": 2,
       "version_minor": 0
      },
      "text/plain": [
       "Button(description='Stop', style=ButtonStyle())"
      ]
     },
     "metadata": {},
     "output_type": "display_data"
    },
    {
     "data": {
      "application/vnd.jupyter.widget-view+json": {
       "model_id": "ec50a91b7ba74ad195af8bbc73469461",
       "version_major": 2,
       "version_minor": 0
      },
      "text/plain": [
       "Output()"
      ]
     },
     "metadata": {},
     "output_type": "display_data"
    },
    {
     "data": {
      "text/html": [
       "<p><span style=\"font-size:12px;\">Synth(▶ <strong style=\"color:MediumSeaGreen\">foo</strong>:501.0003)</span></p>"
      ],
      "text/plain": [
       "Synth(▶ foo=501.0003 start=39.433 dur=-1.000 p5=400)"
      ]
     },
     "execution_count": 8,
     "metadata": {},
     "output_type": "execute_result"
    }
   ],
   "source": [
    "synth = s.sched('foo', kfreq=400)\n",
    "synth"
   ]
  },
  {
   "cell_type": "code",
   "execution_count": 5,
   "id": "f0e90039-f998-4f2f-8f19-f618ea564147",
   "metadata": {},
   "outputs": [
    {
     "data": {
      "application/vnd.jupyter.widget-view+json": {
       "model_id": "59bc9de2f623465bb9db96d64fd7b7bf",
       "version_major": 2,
       "version_minor": 0
      },
      "text/plain": [
       "Button(description='Stop', style=ButtonStyle())"
      ]
     },
     "metadata": {},
     "output_type": "display_data"
    },
    {
     "data": {
      "application/vnd.jupyter.widget-view+json": {
       "model_id": "a83091d12cb549958f10e56d17cfe1fe",
       "version_major": 2,
       "version_minor": 0
      },
      "text/plain": [
       "Output()"
      ]
     },
     "metadata": {},
     "output_type": "display_data"
    },
    {
     "data": {
      "text/html": [
       "<p><span style=\"font-size:12px;\">Synth(▶ <strong style=\"color:MediumSeaGreen\">foomix</strong>:2850.0002, <span style=\"font-size:12px;\">5:<b>kfreq</b>=<code>200</code> 6:<b>kamp</b>=<code>1</code></span>)</span></p>"
      ],
      "text/plain": [
       "Synth(▶ foomix=2850.0002 start=1.609 dur=-1.000 p5=200 kfreq=1)"
      ]
     },
     "execution_count": 5,
     "metadata": {},
     "output_type": "execute_result"
    }
   ],
   "source": [
    "foomix = s.namedEvents.get('foomix')\n",
    "foomix"
   ]
  },
  {
   "cell_type": "code",
   "execution_count": 9,
   "id": "b5abb0da-90e2-4cf7-99e4-890ceb080a9e",
   "metadata": {},
   "outputs": [
    {
     "data": {
      "text/plain": [
       "12"
      ]
     },
     "execution_count": 9,
     "metadata": {},
     "output_type": "execute_result"
    }
   ],
   "source": [
    "synth.automate('kfreq', (0, 400, 2, 500))"
   ]
  },
  {
   "cell_type": "code",
   "execution_count": 6,
   "id": "7cf500a7-9cde-4a95-9a47-ea2af21eacd0",
   "metadata": {},
   "outputs": [
    {
     "data": {
      "application/vnd.jupyter.widget-view+json": {
       "model_id": "dd820fbd74e74b1eb61d858cc909334a",
       "version_major": 2,
       "version_minor": 0
      },
      "text/plain": [
       "Button(description='Stop', style=ButtonStyle())"
      ]
     },
     "metadata": {},
     "output_type": "display_data"
    },
    {
     "data": {
      "application/vnd.jupyter.widget-view+json": {
       "model_id": "99c83282bf4840919df984155e4e341c",
       "version_major": 2,
       "version_minor": 0
      },
      "text/plain": [
       "Output()"
      ]
     },
     "metadata": {},
     "output_type": "display_data"
    },
    {
     "data": {
      "text/html": [
       "<p><span style=\"font-size:12px;\">Synth(▶ <strong style=\"color:MediumSeaGreen\">foo</strong>:501.0002)</span></p>"
      ],
      "text/plain": [
       "Synth(▶ foo=501.0002 start=2.985 dur=-1.000 p5=400)"
      ]
     },
     "execution_count": 6,
     "metadata": {},
     "output_type": "execute_result"
    }
   ],
   "source": [
    "synth"
   ]
  },
  {
   "cell_type": "code",
   "execution_count": 22,
   "id": "80be0162-78bf-4752-b0be-c4ecdd38b11b",
   "metadata": {},
   "outputs": [
    {
     "data": {
      "text/plain": [
       "12"
      ]
     },
     "execution_count": 22,
     "metadata": {},
     "output_type": "execute_result"
    }
   ],
   "source": [
    "foomix.automate('kfreq', (0, 400*0.38, 5, 400*1.618))"
   ]
  },
  {
   "cell_type": "code",
   "execution_count": 24,
   "id": "b18badf6-d521-470b-ba0e-992679905281",
   "metadata": {},
   "outputs": [],
   "source": [
    "foomix.set(kfreq=400*1.618, kamp=0.5)"
   ]
  },
  {
   "cell_type": "code",
   "execution_count": 5,
   "id": "1ce13906-fd81-428c-873f-8395d617703d",
   "metadata": {},
   "outputs": [
    {
     "data": {
      "application/vnd.jupyter.widget-view+json": {
       "model_id": "e76b089827a342cfab3f4aff56b90ace",
       "version_major": 2,
       "version_minor": 0
      },
      "text/plain": [
       "Button(description='Stop', style=ButtonStyle())"
      ]
     },
     "metadata": {},
     "output_type": "display_data"
    },
    {
     "data": {
      "application/vnd.jupyter.widget-view+json": {
       "model_id": "598f025d55bc4b7094634c66ccd48c44",
       "version_major": 2,
       "version_minor": 0
      },
      "text/plain": [
       "Output()"
      ]
     },
     "metadata": {},
     "output_type": "display_data"
    },
    {
     "data": {
      "text/html": [
       "<p><span style=\"font-size:12px;\">Synth(𝍪 <strong style=\"color:MediumSeaGreen\">foo</strong>:1001.0002)</span></p>"
      ],
      "text/plain": [
       "Synth(𝍪 foo=1001.0002 start=35.742 dur=-1.000 p5=500)"
      ]
     },
     "execution_count": 5,
     "metadata": {},
     "output_type": "execute_result"
    }
   ],
   "source": [
    "synth = s.sched('foo', kfreq=500, priority=2)\n",
    "synth"
   ]
  },
  {
   "cell_type": "code",
   "execution_count": 6,
   "id": "ec4ef71e-a16d-4eb2-801f-278933023822",
   "metadata": {},
   "outputs": [
    {
     "data": {
      "text/plain": [
       "[Synth(▶ foomix=2850.0002 start=1.982 dur=-1.000 p5=200),\n",
       " Synth(▶ foo=501.0002 start=1.982 dur=-1.000 p5=400)]"
      ]
     },
     "execution_count": 6,
     "metadata": {},
     "output_type": "execute_result"
    }
   ],
   "source": [
    "s.scheduledSynths()"
   ]
  },
  {
   "cell_type": "code",
   "execution_count": null,
   "id": "782aa2bf-3cb3-45f5-9191-e50ebf827665",
   "metadata": {},
   "outputs": [],
   "source": [
    "foomix = s."
   ]
  },
  {
   "cell_type": "code",
   "execution_count": 10,
   "id": "9f878d37-5054-4206-b018-0e49fbd7f187",
   "metadata": {},
   "outputs": [],
   "source": [
    "for synth in s.scheduledSynths():\n",
    "    if synth.instrname == 'foo':\n",
    "        synth.stop()"
   ]
  },
  {
   "cell_type": "code",
   "execution_count": 12,
   "id": "69024fb3-59db-486a-a4f3-c2c22f6de122",
   "metadata": {},
   "outputs": [
    {
     "data": {
      "text/plain": [
       "{'.sine': Instr(.sine, kpitch=60, kamp=0.5, kpos=0.5, ichan=0),\n",
       " '.testAudio': Instr(.testAudio, imode=0, iperiod=1, igain=0.1, iverbose=1),\n",
       " '.playSample': Instr(.playSample, isndtab=0, istart=0, ifadein=0, ifadeout=0, kchan=1, speed(kspeed)=1, gain(kgain)=1, pan(kpan)=0.5, ixfade=-1),\n",
       " '.diskin': Instr(.diskin, Spath=0, ichan=1, gain(kgain)=1, speed(kspeed)=1, kpan=-1, ifadein=0, ifadeout=0, iloop=0, istart=0, iwsize=4),\n",
       " '.playbuf': Instr(.playbuf, itabnum=0, ioutchan=1, igain=1, iloop=0),\n",
       " '.playPartials': Instr(.playPartials, ifn=0, iskip=-1, inumrows=0, inumcols=0, kspeed=1, kloop=0, kminfreq=0, kmaxfreq=0, iflags=0, istart=0, istop=0, kfreqscale=1, ichan=1, kbwscale=1, kgain=1, iposition=0, kfreqoffset=0, kminbw=0, kmaxbw=1, kminamp=0),\n",
       " 'foo': Instr(foo, kfreq=400),\n",
       " 'foomix': Instr(foomix)}"
      ]
     },
     "execution_count": 12,
     "metadata": {},
     "output_type": "execute_result"
    }
   ],
   "source": [
    "s.instrs"
   ]
  },
  {
   "cell_type": "code",
   "execution_count": 7,
   "id": "678e0158-19ee-463b-b950-dd371904d26f",
   "metadata": {},
   "outputs": [
    {
     "data": {
      "text/plain": [
       "[Synth(▶ foomix=2850.0002 start=21.395 dur=-1.000),\n",
       " Synth(▶ foo=501.0002 start=21.395 dur=-1.000 p5=400),\n",
       " Synth(▶ foo=1001.0002 start=35.742 dur=-1.000 p5=500)]"
      ]
     },
     "execution_count": 7,
     "metadata": {},
     "output_type": "execute_result"
    }
   ],
   "source": [
    "s.scheduledSynths()"
   ]
  },
  {
   "cell_type": "code",
   "execution_count": 8,
   "id": "6c06c270-6c4f-498c-9afd-23d3e434629b",
   "metadata": {},
   "outputs": [],
   "source": [
    "s.unschedAll()"
   ]
  },
  {
   "cell_type": "code",
   "execution_count": null,
   "id": "cdb5ce37-bddf-4196-a5d6-c2754a0a5f84",
   "metadata": {},
   "outputs": [],
   "source": []
  }
 ],
 "metadata": {
  "kernelspec": {
   "display_name": "Python 3 (ipykernel)",
   "language": "python",
   "name": "python3"
  },
  "language_info": {
   "codemirror_mode": {
    "name": "ipython",
    "version": 3
   },
   "file_extension": ".py",
   "mimetype": "text/x-python",
   "name": "python",
   "nbconvert_exporter": "python",
   "pygments_lexer": "ipython3",
   "version": "3.12.3"
  }
 },
 "nbformat": 4,
 "nbformat_minor": 5
}
