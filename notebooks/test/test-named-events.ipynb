{
 "cells": [
  {
   "cell_type": "code",
   "execution_count": 1,
   "id": "4dafe7f5-edf4-4acb-9f7e-d8911a670739",
   "metadata": {},
   "outputs": [
    {
     "name": "stderr",
     "output_type": "stream",
     "text": [
      "/home/em/.virtualenvs/csoundengine/lib/python3.12/site-packages/configdict/configdict.py:168: SyntaxWarning: invalid escape sequence '\\('\n",
      "  \"\"\"\n"
     ]
    },
    {
     "name": "stdout",
     "output_type": "stream",
     "text": [
      "WARNING: Csound 7 is not fully supported. Proceed at yout own risk\n",
      "** csoundengine: Csound external plugins are not installed or are too old. I will try to install them now\n"
     ]
    },
    {
     "name": "stderr",
     "output_type": "stream",
     "text": [
      "From https://github.com/csound-plugins/risset-data\n",
      "   a7ef91c..31f13b8  master     -> origin/master\n",
      " * [new tag]         v6.14-0.2  -> v6.14-0.2\n",
      "From https://github.com/csound-plugins/csound-plugins\n",
      "   5a19af4..ead5d49  master     -> origin/master\n",
      "Cloning into '/home/em/.local/share/risset/clones/GENious'...\n",
      "** Error: Error while parsing plugin manifest. name=genious, manifest=/home/em/.local/share/risset/clones/GENious/risset.json\n",
      "** Error: Error while parsing plugin definition for 'genious': Expecting ',' delimiter: line 4 column 5 (char 52)\n"
     ]
    },
    {
     "name": "stdout",
     "output_type": "stream",
     "text": [
      "001 {\n",
      "002     \"name\": \"GENious\",\n",
      "003     \"version\": \"0.1.0\"\n",
      "004     \"opcodes\": [\n",
      "005 \t\"lorenz\",\n",
      "006 \t\"thomas\"\n",
      "007     ],\n",
      "008     \"short_description\": \"GEN routines\",\n",
      "009     \"long_description\": \"A set of GEN routines for algorithmic synthesis\",\n",
      "010     \"author\": \"Philipp von Neumann\",\n",
      "011     \"email\": \"philipp@von-neumann.com\",\n",
      "012     \"license\": \"LGPL\",\n",
      "013     \"repository\": \"https://github.com/PvonN/GENious\",\n",
      "014     \"binaries\": [\n",
      "015 \t{\n",
      "016 \t    \"platform\": \"macos-x86_64\"\n",
      "017 \t    \"url\": \"https://github.com/PvonN/GENious/blob/main/releases/genious.zip\",\n",
      "018 \t    \"extractpath\": \"genious.dylib\",\n",
      "019 \t    \"csound_version\": \">=6.17<7.0\"\n",
      "020 \t}\n",
      "021     ]\n",
      "022 }\n",
      "023 \n",
      "** csoundengine: csound external plugins installed ok\n"
     ]
    },
    {
     "ename": "SyntaxError",
     "evalue": "invalid syntax (engine.py, line 2850)",
     "output_type": "error",
     "traceback": [
      "Traceback \u001b[0;36m(most recent call last)\u001b[0m:\n",
      "\u001b[0m  File \u001b[1;32m~/.virtualenvs/csoundengine/lib/python3.12/site-packages/IPython/core/interactiveshell.py:3577\u001b[0m in \u001b[1;35mrun_code\u001b[0m\n    exec(code_obj, self.user_global_ns, self.user_ns)\u001b[0m\n",
      "\u001b[0m  Cell \u001b[1;32mIn[1], line 1\u001b[0m\n    import csoundengine as ce\u001b[0m\n",
      "\u001b[0;36m  File \u001b[0;32m~/dev/python/csoundengine/csoundengine/__init__.py:122\u001b[0;36m\n\u001b[0;31m    from .engine import Engine as Engine\u001b[0;36m\n",
      "\u001b[0;36m  File \u001b[0;32m~/dev/python/csoundengine/csoundengine/engine.py:2850\u001b[0;36m\u001b[0m\n\u001b[0;31m    assert hasattr(self.csound, 'tableCopyInAsync'):\u001b[0m\n\u001b[0m                                                   ^\u001b[0m\n\u001b[0;31mSyntaxError\u001b[0m\u001b[0;31m:\u001b[0m invalid syntax\n"
     ]
    }
   ],
   "source": [
    "import csoundengine as ce"
   ]
  },
  {
   "cell_type": "code",
   "execution_count": 2,
   "id": "a2d5be53-007b-426e-b8f0-b5f2fcb9b1d9",
   "metadata": {},
   "outputs": [
    {
     "name": "stderr",
     "output_type": "stream",
     "text": [
      "\n",
      "\n",
      "\n",
      "--Csound version 6.19 (double samples) Oct 16 2024\n",
      "[commit: 937aa495e250d758efaa28e9697a8b75237c80cd]\n",
      "\u001b[mlibsndfile-1.2.0\n",
      "\u001b[msr = 48000.0,\u001b[m kr = 750.000,\u001b[m ksmps = 64\n",
      "\u001b[m0dBFS level = 1.0,\u001b[m A4 tuning = 440.0\n",
      "\u001b[maudio buffered in 256 sample-frame blocks\n",
      "\u001b[mreading 2048-byte blks of shorts from adc:Built-in Audio Analog Stereo: (RAW)\n",
      "writing 512 sample blks of 64-bit floats to dac:Built-in Audio Analog Stereo:\n",
      "SECTION 1:\n",
      "\u001b[m"
     ]
    }
   ],
   "source": [
    "s = ce.Session()"
   ]
  },
  {
   "cell_type": "code",
   "execution_count": 3,
   "id": "7d66eead-ed02-4362-b18a-cf1fa46d714c",
   "metadata": {},
   "outputs": [
    {
     "data": {
      "text/html": [
       "Instr <strong style=\"color:MediumSeaGreen\">foo</strong><br>\n",
       "&nbsp&nbsp&nbsp&nbsp<span style=\"font-size:90%\"><b>kfreq</b>=<code>400</code></span><br>\n",
       "<hr style=\"width:38%;text-align:left;margin-left:0;border: 1px dashed; background: transparent;\">\n",
       "<span style=\"font-size:90%\"><div class=\"highlight\" style=\"background: #f8f8f8\"><pre style=\"line-height: 125%;\"><span></span><code><span style=\"color: #B00040\">a</span>0<span style=\"color: #bbbbbb\"> </span><span style=\"color: #008000\">vco2</span><span style=\"color: #bbbbbb\"> </span><span style=\"color: #666666\">0.1</span>,<span style=\"color: #bbbbbb\"> </span><span style=\"color: #B00040\">k</span>freq\n",
       "<span style=\"color: #008000\">chnmix</span><span style=\"color: #bbbbbb\"> </span><span style=\"color: #B00040\">a</span>0,<span style=\"color: #bbbbbb\"> </span><span style=\"color: #BA2121\">&quot;out&quot;</span>\n",
       "</code></pre></div>\n",
       "</span>"
      ],
      "text/plain": [
       "Instr(foo, kfreq=400)"
      ]
     },
     "execution_count": 3,
     "metadata": {},
     "output_type": "execute_result"
    }
   ],
   "source": [
    "foo = s.defInstr(\n",
    "    'foo', \n",
    "    r'''\n",
    "|kfreq=400|\n",
    "a0 vco2 0.1, kfreq\n",
    "chnmix a0, \"out\"\n",
    "''', \n",
    "    initCallback=lambda s: s.sched('foomix', priority=-1)\n",
    ")\n",
    "foo"
   ]
  },
  {
   "cell_type": "code",
   "execution_count": 9,
   "id": "67b0d6c9-6bbe-4bf4-abd6-bf559193d0e6",
   "metadata": {},
   "outputs": [
    {
     "data": {
      "text/html": [
       "Instr <strong style=\"color:MediumSeaGreen\">foomix</strong><br>\n",
       "<hr style=\"width:38%;text-align:left;margin-left:0;border: 1px dashed; background: transparent;\">\n",
       "<span style=\"font-size:90%\"><div class=\"highlight\" style=\"background: #f8f8f8\"><pre style=\"line-height: 125%;\"><span></span><code><span style=\"color: #008000\">prints</span><span style=\"color: #bbbbbb\"> </span><span style=\"color: #BA2121\">&quot;foomix!</span><span style=\"color: #AA5D1F; font-weight: bold\">\\n</span><span style=\"color: #BA2121\">&quot;</span>\n",
       "<span style=\"color: #B00040\">a</span>0<span style=\"color: #bbbbbb\"> </span><span style=\"color: #008000\">chnget</span><span style=\"color: #bbbbbb\"> </span><span style=\"color: #BA2121\">&quot;out&quot;</span>\n",
       "<span style=\"color: #008000\">outch</span><span style=\"color: #bbbbbb\"> </span><span style=\"color: #666666\">1</span>,<span style=\"color: #bbbbbb\"> </span><span style=\"color: #B00040\">a</span>0\n",
       "<span style=\"color: #008000\">chnclear</span><span style=\"color: #bbbbbb\"> </span><span style=\"color: #BA2121\">&quot;out&quot;</span>\n",
       "</code></pre></div>\n",
       "</span>"
      ],
      "text/plain": [
       "Instr(foomix)"
      ]
     },
     "execution_count": 9,
     "metadata": {},
     "output_type": "execute_result"
    }
   ],
   "source": [
    "s.defInstr('foomix', r'''\n",
    "prints \"foomix!\\n\"\n",
    "a0 chnget \"out\"\n",
    "outch 1, a0\n",
    "chnclear \"out\"\n",
    "''')"
   ]
  },
  {
   "cell_type": "code",
   "execution_count": 10,
   "id": "d506387a-ea57-495c-96e7-550aba3f9b28",
   "metadata": {},
   "outputs": [
    {
     "name": "stderr",
     "output_type": "stream",
     "text": [
      "foomix!\n",
      "\u001b[m"
     ]
    },
    {
     "data": {
      "application/vnd.jupyter.widget-view+json": {
       "model_id": "ce2a6da43d494e7f9cc26055af464a80",
       "version_major": 2,
       "version_minor": 0
      },
      "text/plain": [
       "Button(description='Stop', style=ButtonStyle())"
      ]
     },
     "metadata": {},
     "output_type": "display_data"
    },
    {
     "data": {
      "application/vnd.jupyter.widget-view+json": {
       "model_id": "b932178f0cd245eaae383bf5671e2edf",
       "version_major": 2,
       "version_minor": 0
      },
      "text/plain": [
       "Output()"
      ]
     },
     "metadata": {},
     "output_type": "display_data"
    },
    {
     "data": {
      "text/html": [
       "<p><span style=\"font-size:12px;\">Synth(▶ <strong style=\"color:MediumSeaGreen\">foo</strong>:501.0002)</span></p>"
      ],
      "text/plain": [
       "Synth(▶ foo=501.0002 start=52.057 dur=-1.000 p4=400)"
      ]
     },
     "execution_count": 10,
     "metadata": {},
     "output_type": "execute_result"
    }
   ],
   "source": [
    "synth = s.sched('foo', kfreq=400)\n",
    "synth"
   ]
  },
  {
   "cell_type": "code",
   "execution_count": 11,
   "id": "1ce13906-fd81-428c-873f-8395d617703d",
   "metadata": {},
   "outputs": [
    {
     "data": {
      "application/vnd.jupyter.widget-view+json": {
       "model_id": "122acb7bf5e74fef8b7bee7f099d681e",
       "version_major": 2,
       "version_minor": 0
      },
      "text/plain": [
       "Button(description='Stop', style=ButtonStyle())"
      ]
     },
     "metadata": {},
     "output_type": "display_data"
    },
    {
     "data": {
      "application/vnd.jupyter.widget-view+json": {
       "model_id": "7f602b56984f4a52b3caba8165d9d7a5",
       "version_major": 2,
       "version_minor": 0
      },
      "text/plain": [
       "Output()"
      ]
     },
     "metadata": {},
     "output_type": "display_data"
    },
    {
     "data": {
      "text/html": [
       "<p><span style=\"font-size:12px;\">Synth(▶ <strong style=\"color:MediumSeaGreen\">foo</strong>:1001.0002)</span></p>"
      ],
      "text/plain": [
       "Synth(▶ foo=1001.0002 start=63.843 dur=-1.000 p4=500)"
      ]
     },
     "execution_count": 11,
     "metadata": {},
     "output_type": "execute_result"
    }
   ],
   "source": [
    "synth = s.sched('foo', kfreq=500, priority=2)\n",
    "synth"
   ]
  },
  {
   "cell_type": "code",
   "execution_count": 13,
   "id": "80b4af64-485a-4781-a6e2-80c058be78aa",
   "metadata": {},
   "outputs": [
    {
     "data": {
      "text/plain": [
       "0"
      ]
     },
     "execution_count": 13,
     "metadata": {},
     "output_type": "execute_result"
    }
   ],
   "source": [
    "synth.controlsSlot"
   ]
  },
  {
   "cell_type": "code",
   "execution_count": 15,
   "id": "d71788c3-5453-4ac2-8cf6-1abe73f83cc5",
   "metadata": {},
   "outputs": [],
   "source": [
    "s.unsched('foo')"
   ]
  },
  {
   "cell_type": "code",
   "execution_count": 14,
   "id": "ec4ef71e-a16d-4eb2-801f-278933023822",
   "metadata": {},
   "outputs": [
    {
     "data": {
      "text/plain": [
       "[Synth(▶ foomix=2850.0002 start=52.057 dur=-1.000),\n",
       " Synth(▶ foo=501.0002 start=52.057 dur=-1.000 p4=400),\n",
       " Synth(▶ foo=1001.0002 start=63.843 dur=-1.000 p4=500)]"
      ]
     },
     "execution_count": 14,
     "metadata": {},
     "output_type": "execute_result"
    }
   ],
   "source": [
    "s.scheduledSynths()"
   ]
  },
  {
   "cell_type": "code",
   "execution_count": 13,
   "id": "9f878d37-5054-4206-b018-0e49fbd7f187",
   "metadata": {},
   "outputs": [],
   "source": [
    "for synth in s.scheduledSynths():\n",
    "    if synth.instrname == 'foo':\n",
    "        synth.stop()"
   ]
  },
  {
   "cell_type": "code",
   "execution_count": 10,
   "id": "73782706-a01a-4be0-96e0-b3fdc250fdc1",
   "metadata": {},
   "outputs": [],
   "source": [
    "for p1, synth in s._synths.items():\n",
    "    if int(p1) == 501:\n",
    "        synth.stop()"
   ]
  },
  {
   "cell_type": "code",
   "execution_count": 14,
   "id": "69024fb3-59db-486a-a4f3-c2c22f6de122",
   "metadata": {},
   "outputs": [
    {
     "data": {
      "text/plain": [
       "{'.sine': Instr(.sine, kpitch=60, kamp=0.5, kpos=0.5, ichan=0),\n",
       " '.testAudio': Instr(.testAudio, imode=0, iperiod=1, igain=0.1, iverbose=1),\n",
       " '.playSample': Instr(.playSample, isndtab=0, istart=0, ifadein=0, ifadeout=0, kchan=1, speed(kspeed)=1, gain(kgain)=1, pan(kpan)=0.5, ixfade=-1),\n",
       " '.diskin': Instr(.diskin, Spath=0, ichan=1, gain(kgain)=1, speed(kspeed)=1, kpan=-1, ifadein=0, ifadeout=0, iloop=0, istart=0, iwsize=4),\n",
       " '.playbuf': Instr(.playbuf, itabnum=0, ioutchan=1, igain=1, iloop=0),\n",
       " '.playPartials': Instr(.playPartials, ifn=0, iskip=-1, inumrows=0, inumcols=0, kspeed=1, kloop=0, kminfreq=0, kmaxfreq=0, iflags=0, istart=0, istop=0, kfreqscale=1, ichan=1, kbwscale=1, kgain=1, iposition=0, kfreqoffset=0, kminbw=0, kmaxbw=1, kminamp=0),\n",
       " 'foo': Instr(foo, kfreq=400),\n",
       " 'foomix': Instr(foomix)}"
      ]
     },
     "execution_count": 14,
     "metadata": {},
     "output_type": "execute_result"
    }
   ],
   "source": [
    "s.instrs"
   ]
  },
  {
   "cell_type": "code",
   "execution_count": 8,
   "id": "678e0158-19ee-463b-b950-dd371904d26f",
   "metadata": {},
   "outputs": [
    {
     "data": {
      "text/plain": [
       "[Synth(▶ foomix=2850.0002 start=3.870 dur=-1.000),\n",
       " Synth(▶ foo=501.0002 start=3.870 dur=-1.000 p4=400),\n",
       " Synth(▶ foo=1001.0002 start=4.665 dur=-1.000 p4=500)]"
      ]
     },
     "execution_count": 8,
     "metadata": {},
     "output_type": "execute_result"
    }
   ],
   "source": [
    "s.scheduledSynths()"
   ]
  },
  {
   "cell_type": "code",
   "execution_count": 10,
   "id": "40627478-356e-4b93-ab9c-f87eb6be2242",
   "metadata": {},
   "outputs": [],
   "source": [
    "sy = s._synths[501.0002]"
   ]
  },
  {
   "cell_type": "code",
   "execution_count": 12,
   "id": "52da0b36-a512-45ef-a8ee-941609786876",
   "metadata": {},
   "outputs": [
    {
     "data": {
      "text/html": [
       "Instr <strong style=\"color:MediumSeaGreen\">foo</strong><br>\n",
       "&nbsp&nbsp&nbsp&nbsp<span style=\"font-size:90%\"><b>kfreq</b>=<code>400</code></span><br>\n",
       "<hr style=\"width:38%;text-align:left;margin-left:0;border: 1px dashed; background: transparent;\">\n",
       "<span style=\"font-size:90%\"><div class=\"highlight\" style=\"background: #f8f8f8\"><pre style=\"line-height: 125%;\"><span></span><code><span style=\"color: #B00040\">a</span>0<span style=\"color: #bbbbbb\"> </span><span style=\"color: #008000\">vco2</span><span style=\"color: #bbbbbb\"> </span><span style=\"color: #666666\">0.1</span>,<span style=\"color: #bbbbbb\"> </span><span style=\"color: #B00040\">k</span>freq\n",
       "<span style=\"color: #008000\">chnmix</span><span style=\"color: #bbbbbb\"> </span><span style=\"color: #B00040\">a</span>0,<span style=\"color: #bbbbbb\"> </span><span style=\"color: #BA2121\">&quot;out&quot;</span>\n",
       "</code></pre></div>\n",
       "</span>"
      ],
      "text/plain": [
       "Instr(foo, kfreq=400)"
      ]
     },
     "execution_count": 12,
     "metadata": {},
     "output_type": "execute_result"
    }
   ],
   "source": [
    "sy.instr"
   ]
  },
  {
   "cell_type": "code",
   "execution_count": null,
   "id": "6c06c270-6c4f-498c-9afd-23d3e434629b",
   "metadata": {},
   "outputs": [],
   "source": []
  }
 ],
 "metadata": {
  "kernelspec": {
   "display_name": "Python 3 (ipykernel)",
   "language": "python",
   "name": "python3"
  },
  "language_info": {
   "codemirror_mode": {
    "name": "ipython",
    "version": 3
   },
   "file_extension": ".py",
   "mimetype": "text/x-python",
   "name": "python",
   "nbconvert_exporter": "python",
   "pygments_lexer": "ipython3",
   "version": "3.12.3"
  }
 },
 "nbformat": 4,
 "nbformat_minor": 5
}
