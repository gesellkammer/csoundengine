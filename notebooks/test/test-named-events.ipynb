{
 "cells": [
  {
   "cell_type": "code",
   "execution_count": 1,
   "id": "4dafe7f5-edf4-4acb-9f7e-d8911a670739",
   "metadata": {},
   "outputs": [],
   "source": [
    "import csoundengine as ce"
   ]
  },
  {
   "cell_type": "code",
   "execution_count": 2,
   "id": "a2d5be53-007b-426e-b8f0-b5f2fcb9b1d9",
   "metadata": {},
   "outputs": [
    {
     "name": "stderr",
     "output_type": "stream",
     "text": [
      "--Csound version 7.0 (double samples) Apr 22 2025\n",
      "[commit: aaef34d3edf888cb46d6a8ba0e0b5a81d49db6a3]\n",
      "\u001b[mlibsndfile-1.2.2\n",
      "\u001b[msr = 48000.0,\u001b[m kr = 750.000,\u001b[m ksmps = 64\n",
      "\u001b[m0dBFS level = 1.0,\u001b[m A4 tuning = 440.0\n",
      "\u001b[maudio buffered in 256 sample-frame blocks\n",
      "\u001b[mreading 2048-byte blks of shorts from adc:Built-in Audio Analog Stereo: (RAW)\n",
      "writing 512 sample blks of 64-bit floats to dac:Built-in Audio Analog Stereo:\n",
      "SECTION 1:\n",
      "\u001b[m"
     ]
    }
   ],
   "source": [
    "s = ce.Session()"
   ]
  },
  {
   "cell_type": "code",
   "execution_count": 4,
   "id": "7d66eead-ed02-4362-b18a-cf1fa46d714c",
   "metadata": {},
   "outputs": [
    {
     "data": {
      "text/html": [
       "Instr <strong style=\"color:MediumSeaGreen\">foomix</strong><br>\n",
       "&nbsp&nbsp&nbsp&nbsp<span style=\"font-size:90%\"><b>kfreq</b>=<code>200</code></span>, <span style=\"font-size:90%\"><b>kamp</b>=<code>1</code></span><br>\n",
       "<hr style=\"width:38%;text-align:left;margin-left:0;border: 1px dashed; background: transparent;\">\n",
       "<span style=\"font-size:90%\"><div class=\"highlight\" style=\"background: #f8f8f8\"><pre style=\"line-height: 125%;\"><span></span><code><span style=\"color: #008000; font-weight: bold\">if</span><span style=\"color: #BBB\"> </span><span style=\"color: #008000\">eventcycles</span>()<span style=\"color: #BBB\"> </span><span style=\"color: #666\">==</span><span style=\"color: #BBB\"> </span><span style=\"color: #666\">0</span><span style=\"color: #BBB\"> </span><span style=\"color: #008000; font-weight: bold\">then</span>\n",
       "<span style=\"color: #BBB\">  </span><span style=\"color: #008000\">println</span><span style=\"color: #BBB\"> </span><span style=\"color: #BA2121\">&quot;foomix! kfreq=</span><span style=\"color: #A45A77; font-weight: bold\">%f</span><span style=\"color: #BA2121\">, kamp=</span><span style=\"color: #A45A77; font-weight: bold\">%f</span><span style=\"color: #AA5D1F; font-weight: bold\">\\n</span><span style=\"color: #BA2121\">&quot;</span>,<span style=\"color: #BBB\"> </span><span style=\"color: #B00040\">k</span>freq,<span style=\"color: #BBB\"> </span><span style=\"color: #B00040\">k</span>amp\n",
       "<span style=\"color: #008000; font-weight: bold\">endif</span>\n",
       "<span style=\"color: #B00040\">a</span>0<span style=\"color: #BBB\"> </span><span style=\"color: #008000\">chnget</span><span style=\"color: #BBB\"> </span><span style=\"color: #BA2121\">&quot;out&quot;</span>\n",
       "<span style=\"color: #B00040\">a</span>1<span style=\"color: #BBB\"> </span><span style=\"color: #008000\">oscili</span><span style=\"color: #BBB\"> </span><span style=\"color: #B00040\">k</span>amp,<span style=\"color: #BBB\"> </span><span style=\"color: #B00040\">k</span>freq\n",
       "<span style=\"color: #008000\">outch</span><span style=\"color: #BBB\"> </span><span style=\"color: #666\">1</span>,<span style=\"color: #BBB\"> </span><span style=\"color: #B00040\">a</span>0,<span style=\"color: #BBB\"> </span><span style=\"color: #666\">2</span>,<span style=\"color: #BBB\"> </span><span style=\"color: #B00040\">a</span>0<span style=\"color: #666\">*</span><span style=\"color: #B00040\">a</span>1\n",
       "<span style=\"color: #008000\">chnclear</span><span style=\"color: #BBB\"> </span><span style=\"color: #BA2121\">&quot;out&quot;</span>\n",
       "</code></pre></div>\n",
       "</span>"
      ],
      "text/plain": [
       "Instr(foomix, kfreq=200, kamp=1)"
      ]
     },
     "execution_count": 4,
     "metadata": {},
     "output_type": "execute_result"
    }
   ],
   "source": [
    "s.defInstr(\n",
    "    'foo', \n",
    "    r'''\n",
    "|kfreq=400|\n",
    "a0 vco2 0.1, kfreq\n",
    "chnmix a0, \"out\"\n",
    "''', \n",
    "    initCallback=lambda s: s.sched('foomix', priority=2, name='foomix')\n",
    ")\n",
    "\n",
    "s.defInstr('foomix', r'''\n",
    "|kfreq=200, kamp=1|\n",
    "if eventcycles() == 0 then\n",
    "  println \"foomix! kfreq=%f, kamp=%f\\n\", kfreq, kamp\n",
    "endif\n",
    "a0 chnget \"out\"\n",
    "a1 oscili kamp, kfreq\n",
    "outch 1, a0, 2, a0*a1\n",
    "chnclear \"out\"\n",
    "''')"
   ]
  },
  {
   "cell_type": "code",
   "execution_count": 5,
   "id": "d506387a-ea57-495c-96e7-550aba3f9b28",
   "metadata": {},
   "outputs": [
    {
     "data": {
      "application/vnd.jupyter.widget-view+json": {
       "model_id": "3f0111f8dbbb4a13bb3362d6e59740f2",
       "version_major": 2,
       "version_minor": 0
      },
      "text/plain": [
       "Button(description='Stop', style=ButtonStyle())"
      ]
     },
     "metadata": {},
     "output_type": "display_data"
    },
    {
     "data": {
      "application/vnd.jupyter.widget-view+json": {
       "model_id": "fb316a91ab3c4267847a4d363d78a252",
       "version_major": 2,
       "version_minor": 0
      },
      "text/plain": [
       "Output()"
      ]
     },
     "metadata": {},
     "output_type": "display_data"
    },
    {
     "data": {
      "text/html": [
       "<p><span style=\"font-size:12px;\">Synth(𝍪 <strong style=\"color:MediumSeaGreen\">foo</strong>:501.0002)</span></p>"
      ],
      "text/plain": [
       "Synth(𝍪 foo=501.0002 start=4.915 dur=-1.000 p5=400)"
      ]
     },
     "execution_count": 5,
     "metadata": {},
     "output_type": "execute_result"
    },
    {
     "name": "stderr",
     "output_type": "stream",
     "text": [
      "foomix! kfreq=200.000000, kamp=1.000000\n",
      "\n",
      "\u001b[m"
     ]
    }
   ],
   "source": [
    "synth = s.sched('foo', kfreq=400)\n",
    "synth"
   ]
  },
  {
   "cell_type": "code",
   "execution_count": 7,
   "id": "f0e90039-f998-4f2f-8f19-f618ea564147",
   "metadata": {},
   "outputs": [
    {
     "data": {
      "application/vnd.jupyter.widget-view+json": {
       "model_id": "bb44cf5b236a400c84193de20a8ee7db",
       "version_major": 2,
       "version_minor": 0
      },
      "text/plain": [
       "Button(description='Stop', style=ButtonStyle())"
      ]
     },
     "metadata": {},
     "output_type": "display_data"
    },
    {
     "data": {
      "application/vnd.jupyter.widget-view+json": {
       "model_id": "10494c324f73411aa0b46223e38b4279",
       "version_major": 2,
       "version_minor": 0
      },
      "text/plain": [
       "Output()"
      ]
     },
     "metadata": {},
     "output_type": "display_data"
    },
    {
     "data": {
      "text/html": [
       "<p><span style=\"font-size:12px;\">Synth(▶ <strong style=\"color:MediumSeaGreen\">foomix</strong>:1001.0002, <span style=\"font-size:12px;\">5:<b>kfreq</b>=<code>200</code> 6:<b>kamp</b>=<code>1</code></span>)</span></p>"
      ],
      "text/plain": [
       "Synth(▶ foomix=1001.0002 start=4.915 dur=-1.000 p5=200 kfreq=1)"
      ]
     },
     "execution_count": 7,
     "metadata": {},
     "output_type": "execute_result"
    }
   ],
   "source": [
    "foomix = s.namedEvents.get('foomix')\n",
    "foomix"
   ]
  },
  {
   "cell_type": "code",
   "execution_count": 6,
   "id": "b5abb0da-90e2-4cf7-99e4-890ceb080a9e",
   "metadata": {},
   "outputs": [
    {
     "data": {
      "text/plain": [
       "11"
      ]
     },
     "execution_count": 6,
     "metadata": {},
     "output_type": "execute_result"
    }
   ],
   "source": [
    "synth.automate('kfreq', (0, 400, 2, 500))"
   ]
  },
  {
   "cell_type": "code",
   "execution_count": 10,
   "id": "7cf500a7-9cde-4a95-9a47-ea2af21eacd0",
   "metadata": {},
   "outputs": [
    {
     "data": {
      "application/vnd.jupyter.widget-view+json": {
       "model_id": "9639fff715da48c99da5c5e0dd792ef9",
       "version_major": 2,
       "version_minor": 0
      },
      "text/plain": [
       "Button(description='Stop', style=ButtonStyle())"
      ]
     },
     "metadata": {},
     "output_type": "display_data"
    },
    {
     "data": {
      "application/vnd.jupyter.widget-view+json": {
       "model_id": "5528c3c078ae4bbea858d11f5ee61d2a",
       "version_major": 2,
       "version_minor": 0
      },
      "text/plain": [
       "Output()"
      ]
     },
     "metadata": {},
     "output_type": "display_data"
    },
    {
     "data": {
      "text/html": [
       "<p><span style=\"font-size:12px;\">Synth(▶ <strong style=\"color:MediumSeaGreen\">foo</strong>:501.0003)</span></p>"
      ],
      "text/plain": [
       "Synth(▶ foo=501.0003 start=28.755 dur=-1.000 p5=400)"
      ]
     },
     "execution_count": 10,
     "metadata": {},
     "output_type": "execute_result"
    }
   ],
   "source": [
    "synth"
   ]
  },
  {
   "cell_type": "code",
   "execution_count": 8,
   "id": "80be0162-78bf-4752-b0be-c4ecdd38b11b",
   "metadata": {},
   "outputs": [
    {
     "data": {
      "text/plain": [
       "11"
      ]
     },
     "execution_count": 8,
     "metadata": {},
     "output_type": "execute_result"
    }
   ],
   "source": [
    "foomix.automate('kfreq', (0, 400*0.38, 5, 400*1.618))"
   ]
  },
  {
   "cell_type": "code",
   "execution_count": 10,
   "id": "b18badf6-d521-470b-ba0e-992679905281",
   "metadata": {},
   "outputs": [],
   "source": [
    "foomix.set(kfreq=400*1.618, kamp=0.5)"
   ]
  },
  {
   "cell_type": "code",
   "execution_count": 12,
   "id": "1ce13906-fd81-428c-873f-8395d617703d",
   "metadata": {},
   "outputs": [
    {
     "data": {
      "application/vnd.jupyter.widget-view+json": {
       "model_id": "8fe74f953a504716b673a9c49cb21059",
       "version_major": 2,
       "version_minor": 0
      },
      "text/plain": [
       "Button(description='Stop', style=ButtonStyle())"
      ]
     },
     "metadata": {},
     "output_type": "display_data"
    },
    {
     "data": {
      "application/vnd.jupyter.widget-view+json": {
       "model_id": "9e02b8e4de1c4d868c5c71a3ef57e3a4",
       "version_major": 2,
       "version_minor": 0
      },
      "text/plain": [
       "Output()"
      ]
     },
     "metadata": {},
     "output_type": "display_data"
    },
    {
     "data": {
      "text/html": [
       "<p><span style=\"font-size:12px;\">Synth(𝍪 <strong style=\"color:MediumSeaGreen\">foo</strong>:501.0003)</span></p>"
      ],
      "text/plain": [
       "Synth(𝍪 foo=501.0003 start=45.859 dur=-1.000 p5=500)"
      ]
     },
     "execution_count": 12,
     "metadata": {},
     "output_type": "execute_result"
    }
   ],
   "source": [
    "synth = s.sched('foo', kfreq=500, priority=1)\n",
    "synth"
   ]
  },
  {
   "cell_type": "code",
   "execution_count": 14,
   "id": "ec4ef71e-a16d-4eb2-801f-278933023822",
   "metadata": {},
   "outputs": [
    {
     "data": {
      "text/plain": [
       "[Synth(▶ foomix=1001.0002 start=4.915 dur=-1.000 p5=200 kfreq=1)]"
      ]
     },
     "execution_count": 14,
     "metadata": {},
     "output_type": "execute_result"
    }
   ],
   "source": [
    "s.scheduledSynths()"
   ]
  },
  {
   "cell_type": "code",
   "execution_count": 15,
   "id": "69024fb3-59db-486a-a4f3-c2c22f6de122",
   "metadata": {},
   "outputs": [
    {
     "data": {
      "text/plain": [
       "{'.sine': Instr(.sine, kpitch=60, kamp=0.5, kpos=0.5, ichan=0),\n",
       " '.testAudio': Instr(.testAudio, imode=0, iperiod=1, igain=0.1, iverbose=1),\n",
       " '.playSample': Instr(.playSample, isndtab=0, istart=0, ifadein=0, ifadeout=0, kchan=1, speed(kspeed)=1, gain(kgain)=1, pan(kpan)=0.5, ixfade=-1),\n",
       " '.diskin': Instr(.diskin, Spath=0, ichan=1, gain(kgain)=1, speed(kspeed)=1, kpan=-1, ifadein=0, ifadeout=0, iloop=0, istart=0, iwsize=4),\n",
       " '.playbuf': Instr(.playbuf, itabnum=0, ioutchan=1, igain=1, iloop=0),\n",
       " '.playPartials': Instr(.playPartials, ifn=0, iskip=-1, inumrows=0, inumcols=0, kspeed=1, kloop=0, kminfreq=0, kmaxfreq=0, iflags=0, istart=0, istop=0, kfreqscale=1, ichan=1, kbwscale=1, kgain=1, iposition=0, kfreqoffset=0, kminbw=0, kmaxbw=1, kminamp=0),\n",
       " 'test': Instr(test, kpitch=60, ifoo=3),\n",
       " 'foo': Instr(foo, kfreq=400),\n",
       " 'foomix': Instr(foomix, kfreq=200, kamp=1)}"
      ]
     },
     "execution_count": 15,
     "metadata": {},
     "output_type": "execute_result"
    }
   ],
   "source": [
    "s.instrs"
   ]
  }
 ],
 "metadata": {
  "kernelspec": {
   "display_name": "Python 3 (ipykernel)",
   "language": "python",
   "name": "python3"
  },
  "language_info": {
   "codemirror_mode": {
    "name": "ipython",
    "version": 3
   },
   "file_extension": ".py",
   "mimetype": "text/x-python",
   "name": "python",
   "nbconvert_exporter": "python",
   "pygments_lexer": "ipython3",
   "version": "3.12.7"
  }
 },
 "nbformat": 4,
 "nbformat_minor": 5
}
