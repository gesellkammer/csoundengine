{
 "cells": [
  {
   "cell_type": "code",
   "execution_count": 1,
   "id": "f1cf65f4-aa7c-4457-adaf-2713a9b8b8c9",
   "metadata": {},
   "outputs": [],
   "source": [
    "from csoundengine import *"
   ]
  },
  {
   "cell_type": "code",
   "execution_count": 2,
   "id": "ab6ddc5d-7e56-4db4-88c8-efee5d39c09d",
   "metadata": {},
   "outputs": [
    {
     "name": "stderr",
     "output_type": "stream",
     "text": [
      "--Csound version 7.0 (double samples) May 14 2025\n",
      "[commit: ba226ccf9e9d38cd4516498e6ff7d59ba734b5e1]\n",
      "\u001b[mlibsndfile-1.2.2\n",
      "\u001b[msr = 48000.0,\u001b[m kr = 750.000,\u001b[m ksmps = 64\n",
      "\u001b[m0dBFS level = 1.0,\u001b[m A4 tuning = 440.0\n",
      "\u001b[maudio buffered in 256 sample-frame blocks\n",
      "\u001b[mreading 2048-byte blks of shorts from adc:Built-in Audio Analog Stereo: (RAW)\n",
      "writing 512 sample blks of 64-bit floats to dac:Built-in Audio Analog Stereo:\n",
      "SECTION 1:\n",
      "\u001b[m"
     ]
    }
   ],
   "source": [
    "s = Session()"
   ]
  },
  {
   "cell_type": "code",
   "execution_count": 3,
   "id": "c655998d-1f99-484f-a0f4-91cecd4ab082",
   "metadata": {},
   "outputs": [
    {
     "data": {
      "text/html": [
       "Instr <strong style=\"color:MediumSeaGreen\">busoscil</strong><br>\n",
       "&nbsp&nbsp&nbsp&nbsp<span style=\"font-size:90%\"><b>ibus</b>=<code>0</code></span><br>\n",
       "<hr style=\"width:38%;text-align:left;margin-left:0;border: 1px dashed; background: transparent;\">\n",
       "<span style=\"font-size:90%\"><div class=\"highlight\" style=\"background: #f8f8f8\"><pre style=\"line-height: 125%;\"><span></span><code><span style=\"color: #B00040\">k</span>freq<span style=\"color: #BBB\"> </span><span style=\"color: #666\">=</span><span style=\"color: #BBB\"> </span>busin:k(<span style=\"color: #B00040\">i</span>bus)\n",
       "<span style=\"color: #008000\">outch</span><span style=\"color: #BBB\"> </span><span style=\"color: #666\">1</span>,<span style=\"color: #BBB\"> </span><span style=\"color: #008000\">oscili</span>:<span style=\"color: #B00040\">a</span>(<span style=\"color: #666\">0.05</span>,<span style=\"color: #BBB\"> </span><span style=\"color: #008000\">lag</span>(<span style=\"color: #B00040\">k</span>freq,<span style=\"color: #BBB\"> </span><span style=\"color: #666\">0.01</span>))\n",
       "</code></pre></div>\n",
       "</span>"
      ],
      "text/plain": [
       "Instr(busoscil, ibus=0)"
      ]
     },
     "execution_count": 3,
     "metadata": {},
     "output_type": "execute_result"
    }
   ],
   "source": [
    "s.defInstr('busoscil', r'''\n",
    "|ibus|\n",
    "kfreq = busin:k(ibus)\n",
    "outch 1, oscili:a(0.05, lag(kfreq, 0.01))\n",
    "''')\n"
   ]
  },
  {
   "cell_type": "code",
   "execution_count": 12,
   "id": "d30470bb-55bf-49d1-b155-c74d6908eea9",
   "metadata": {},
   "outputs": [
    {
     "data": {
      "application/vnd.jupyter.widget-view+json": {
       "model_id": "5ced89c1bd00472eb95618f28e5d028c",
       "version_major": 2,
       "version_minor": 0
      },
      "text/plain": [
       "Button(description='Stop', style=ButtonStyle())"
      ]
     },
     "metadata": {},
     "output_type": "display_data"
    },
    {
     "data": {
      "application/vnd.jupyter.widget-view+json": {
       "model_id": "a64576ccbf6c485c97ddb02b9d210a95",
       "version_major": 2,
       "version_minor": 0
      },
      "text/plain": [
       "Output()"
      ]
     },
     "metadata": {},
     "output_type": "display_data"
    },
    {
     "data": {
      "text/html": [
       "<p><span style=\"font-size:12px;\">Synth(𝍪 <strong style=\"color:MediumSeaGreen\">busoscil</strong>:401.0006)</span></p>"
      ],
      "text/plain": [
       "Synth(𝍪 busoscil=401.0006 start=35.955 dur=-1.000 p5=4)"
      ]
     },
     "execution_count": 12,
     "metadata": {},
     "output_type": "execute_result"
    }
   ],
   "source": [
    "bus = s.assignBus(value=1000, persist=True)\n",
    "synth = s.sched('busoscil', ibus=bus.token)\n",
    "automation = bus.automate((0, 800, 3, 500), overtake=False)\n",
    "synth"
   ]
  },
  {
   "cell_type": "code",
   "execution_count": 13,
   "id": "1919fa27-0dc6-43ad-a1d9-fd89d90a87f0",
   "metadata": {},
   "outputs": [],
   "source": [
    "s.engine.unsched(automation)"
   ]
  },
  {
   "cell_type": "code",
   "execution_count": 14,
   "id": "dd2f14d9-36a9-4e82-bcb5-f1e7eb8f39cc",
   "metadata": {},
   "outputs": [],
   "source": [
    "synth.stop()"
   ]
  },
  {
   "cell_type": "code",
   "execution_count": 4,
   "id": "437373bf-9869-4eac-b68c-ac3b84ff62c2",
   "metadata": {},
   "outputs": [
    {
     "name": "stdout",
     "output_type": "stream",
     "text": [
      "samplerate : 44100\n",
      "nframes    : 459938\n",
      "channels   : 1\n",
      "encoding   : pcm16\n",
      "fileformat : flac\n",
      "duration   : 10.429 0.0013918876647949219\n"
     ]
    }
   ],
   "source": [
    "import sndfileio\n",
    "import time\n",
    "t0 = time.time()\n",
    "info = sndfileio.sndinfo('../snd/piano-pitchtest-2.flac')\n",
    "t1 = time.time()\n",
    "print(info, t1 - t0)"
   ]
  },
  {
   "cell_type": "code",
   "execution_count": 3,
   "id": "3ad25185-771f-43a8-bc5f-d3fdff6e560d",
   "metadata": {},
   "outputs": [
    {
     "name": "stdout",
     "output_type": "stream",
     "text": [
      "0.7673156261444092\n"
     ]
    },
    {
     "data": {
      "application/vnd.jupyter.widget-view+json": {
       "model_id": "2be2b195981c4bc1a0e2ca7cf2641f16",
       "version_major": 2,
       "version_minor": 0
      },
      "text/plain": [
       "Button(description='Stop', style=ButtonStyle())"
      ]
     },
     "metadata": {},
     "output_type": "display_data"
    },
    {
     "data": {
      "application/vnd.jupyter.widget-view+json": {
       "model_id": "8de7e43ec58e4c9599e0423e91708c60",
       "version_major": 2,
       "version_minor": 0
      },
      "text/plain": [
       "Output()"
      ]
     },
     "metadata": {},
     "output_type": "display_data"
    },
    {
     "data": {
      "text/html": [
       "<p><span style=\"font-size:12px;\">Synth(𝍪 <strong style=\"color:MediumSeaGreen\">.playSample</strong>:402.0002, <span style=\"font-size:12px;\">5:<b>isndtab</b>=<code>301</code> 6:<b>istart</b>=<code>0</code> 7:<b>ifadein</b>=<code>0.02</code> 8:<b>ifadeout</b>=<code>0.02</code> 9:<b>kchan</b>=<code>1</code> 10:<b>kspeed</b>=<code>1</code> 11:<b>kgain</b>=<code>1</code> 12:<b>kpan</b>=<code>0.5</code> 13:<b>ixfade</b>=<code>-1</code></span>)</span></p>"
      ],
      "text/plain": [
       "Synth(𝍪 .playSample=402.0002 start=4.059 dur=10.449 p5=301 isndtab=0 istart=0.02 ifadein=0.02 ifadeout=1 kchan=1 kspeed=1 kgain=0.5 kpan=-1)"
      ]
     },
     "execution_count": 3,
     "metadata": {},
     "output_type": "execute_result"
    }
   ],
   "source": [
    "tab = s.readSoundfile('../snd/piano-pitchtest-2.flac')\n",
    "print(t1 - t0)\n",
    "s.defInstr('test0', r'''\n",
    "kfreq = p5\n",
    "outch 1, oscili:a(0.1, lag(kfreq, 0.01))\n",
    "''')\n",
    "s.sched('test0', 0, 2, kfreq=440)\n",
    "ev = s.playSample(tab)\n",
    "ev"
   ]
  },
  {
   "cell_type": "code",
   "execution_count": 13,
   "id": "ab5761b6-d011-4f9e-91d4-78f66dafe80c",
   "metadata": {},
   "outputs": [
    {
     "data": {
      "text/html": [
       "Instr <strong style=\"color:MediumSeaGreen\">test1</strong><br>\n",
       "&nbsp&nbsp&nbsp&nbsp<span style=\"font-size:90%\"><b>kfreq</b>=<code>0</code></span><br>\n",
       "<hr style=\"width:38%;text-align:left;margin-left:0;border: 1px dashed; background: transparent;\">\n",
       "<span style=\"font-size:90%\"><div class=\"highlight\" style=\"background: #f8f8f8\"><pre style=\"line-height: 125%;\"><span></span><code><span style=\"color: #008000\">outch</span><span style=\"color: #bbbbbb\"> </span><span style=\"color: #666666\">1</span>,<span style=\"color: #bbbbbb\"> </span><span style=\"color: #008000\">oscili</span>:<span style=\"color: #B00040\">a</span>(<span style=\"color: #666666\">0.05</span>,<span style=\"color: #bbbbbb\"> </span><span style=\"color: #008000\">lag</span>(<span style=\"color: #B00040\">k</span>freq,<span style=\"color: #bbbbbb\"> </span><span style=\"color: #666666\">0.01</span>))\n",
       "</code></pre></div>\n",
       "</span>"
      ],
      "text/plain": [
       "Instr(test1, kfreq=0)"
      ]
     },
     "execution_count": 13,
     "metadata": {},
     "output_type": "execute_result"
    }
   ],
   "source": [
    "s.defInstr('test1', r'''\n",
    "|kfreq|\n",
    "outch 1, oscili:a(0.05, lag(kfreq, 0.01))\n",
    "''')\n"
   ]
  },
  {
   "cell_type": "code",
   "execution_count": 14,
   "id": "9f4f0be5-245e-4c33-8a79-f010bb738b58",
   "metadata": {},
   "outputs": [
    {
     "data": {
      "text/html": [
       "Instr <strong style=\"color:MediumSeaGreen\">test5</strong><br>\n",
       "&nbsp&nbsp&nbsp&nbsp<span style=\"font-size:90%\"><b>ibus</b>=<code>0</code></span><br>\n",
       "<hr style=\"width:38%;text-align:left;margin-left:0;border: 1px dashed; background: transparent;\">\n",
       "<span style=\"font-size:90%\"><div class=\"highlight\" style=\"background: #f8f8f8\"><pre style=\"line-height: 125%;\"><span></span><code><span style=\"color: #B00040\">i</span>bus<span style=\"color: #bbbbbb\"> </span><span style=\"color: #666666\">=</span><span style=\"color: #bbbbbb\"> </span><span style=\"color: #19177C\">p5</span>\n",
       "<span style=\"color: #B00040\">k</span>freq<span style=\"color: #bbbbbb\"> </span><span style=\"color: #666666\">=</span><span style=\"color: #bbbbbb\"> </span>busin:k(<span style=\"color: #B00040\">i</span>bus)\n",
       "<span style=\"color: #008000\">outch</span><span style=\"color: #bbbbbb\"> </span><span style=\"color: #666666\">1</span>,<span style=\"color: #bbbbbb\"> </span><span style=\"color: #008000\">oscili</span>:<span style=\"color: #B00040\">a</span>(<span style=\"color: #666666\">0.05</span>,<span style=\"color: #bbbbbb\"> </span><span style=\"color: #008000\">lag</span>(<span style=\"color: #B00040\">k</span>freq,<span style=\"color: #bbbbbb\"> </span><span style=\"color: #666666\">0.01</span>))\n",
       "</code></pre></div>\n",
       "</span>"
      ],
      "text/plain": [
       "Instr(test5, ibus:5)"
      ]
     },
     "execution_count": 14,
     "metadata": {},
     "output_type": "execute_result"
    }
   ],
   "source": [
    "name = 'test5'\n",
    "s.defInstr(name, r'''\n",
    "ibus = p5\n",
    "kfreq = busin:k(ibus)\n",
    "outch 1, oscili:a(0.05, lag(kfreq, 0.01))\n",
    "''')\n"
   ]
  },
  {
   "cell_type": "code",
   "execution_count": 15,
   "id": "188cf072-5178-4f4f-8a77-8265b153294e",
   "metadata": {},
   "outputs": [
    {
     "name": "stdout",
     "output_type": "stream",
     "text": [
      "Bus('control', token=4)\n"
     ]
    },
    {
     "data": {
      "application/vnd.jupyter.widget-view+json": {
       "model_id": "fedfe563edd54befad54edecdb275060",
       "version_major": 2,
       "version_minor": 0
      },
      "text/plain": [
       "Button(description='Stop', style=ButtonStyle())"
      ]
     },
     "metadata": {},
     "output_type": "display_data"
    },
    {
     "data": {
      "application/vnd.jupyter.widget-view+json": {
       "model_id": "5a8136fa4ce54d3fbaf3538fa64e028f",
       "version_major": 2,
       "version_minor": 0
      },
      "text/plain": [
       "Output()"
      ]
     },
     "metadata": {},
     "output_type": "display_data"
    },
    {
     "data": {
      "text/html": [
       "<p><span style=\"font-size:12px;\">Synth(𝍪 <strong style=\"color:MediumSeaGreen\">test5</strong>:504.0002)</span></p>"
      ],
      "text/plain": [
       "Synth(𝍪 test5=504.0002 start=31.429 dur=-1.000 p5=4)"
      ]
     },
     "execution_count": 15,
     "metadata": {},
     "output_type": "execute_result"
    }
   ],
   "source": [
    "bus = s.assignBus(value=1000)\n",
    "print(bus)\n",
    "synth = s.sched(name, ibus=bus.token)\n",
    "bus.automate((0, 800, 3, 500), overtake=False)\n",
    "synth"
   ]
  },
  {
   "cell_type": "code",
   "execution_count": 16,
   "id": "65391b07-4bdf-4849-a26e-c529adab656f",
   "metadata": {},
   "outputs": [],
   "source": [
    "synth.stop()"
   ]
  },
  {
   "cell_type": "code",
   "execution_count": 20,
   "id": "add70581-6463-473a-9b0f-1bc6234e2b56",
   "metadata": {},
   "outputs": [],
   "source": [
    "e = s.engine\n",
    "\n",
    "buses = [e.assignBus(value=600) for _ in range(200)]\n",
    "e.sync()\n",
    "for bus in buses:\n",
    "    synth = s.sched('test5', dur=1, ibus=bus)\n",
    "    e.writeBus(bus, 700, 0.001)\n",
    "    "
   ]
  },
  {
   "cell_type": "code",
   "execution_count": 23,
   "id": "3853c1b4-f152-4a98-8231-77e27b6f7c3b",
   "metadata": {},
   "outputs": [],
   "source": [
    "s.defInstr('test', r'''\n",
    "  ibus = p5\n",
    "  kfreq = busin:k(ibus)\n",
    "  outch 1, oscili:a(0.05, lag(kfreq, 0.01))\n",
    "''')\n",
    "\n",
    "buses = [s.assignBus(value=2000) for _ in range(200)]\n",
    "for bus in buses:\n",
    "    synth = s.sched('test', dur=1, ibus=bus.token)\n",
    "    bus.set(1000, 0)\n",
    "    "
   ]
  },
  {
   "cell_type": "code",
   "execution_count": 24,
   "id": "25978d18-c6a6-4d44-82f4-9856b2d1c9cb",
   "metadata": {},
   "outputs": [],
   "source": [
    "e.writeBus(bus.token, 1500)"
   ]
  },
  {
   "cell_type": "code",
   "execution_count": 28,
   "id": "658c6bc6-c3b3-4822-97d8-ff21dd150e18",
   "metadata": {},
   "outputs": [],
   "source": [
    "bus.set(1600)"
   ]
  },
  {
   "cell_type": "code",
   "execution_count": 18,
   "id": "c0bbe2fa-452a-49f1-af20-681a8be23c99",
   "metadata": {},
   "outputs": [
    {
     "name": "stderr",
     "output_type": "stream",
     "text": [
      "end of section 1\t sect peak amps:  0.87595  0.00000\n",
      "SECTION 1:\n",
      "\u001b[m"
     ]
    }
   ],
   "source": [
    "e.unschedAll()"
   ]
  },
  {
   "cell_type": "code",
   "execution_count": 20,
   "id": "773a206e-7e8d-498a-b130-938d43ca2277",
   "metadata": {},
   "outputs": [
    {
     "data": {
      "text/html": [
       "Instr <strong style=\"color:MediumSeaGreen\">receiver</strong><br>\n",
       "&nbsp&nbsp&nbsp&nbsp<span style=\"font-size:90%\"><b>ibus</b>=<code>0</code></span>, <span style=\"font-size:90%\"><b>kgain</b>=<code>0</code></span><br>\n",
       "<hr style=\"width:38%;text-align:left;margin-left:0;border: 1px dashed; background: transparent;\">\n",
       "<span style=\"font-size:90%\"><div class=\"highlight\" style=\"background: #f8f8f8\"><pre style=\"line-height: 125%;\"><span></span><code><span style=\"color: #B00040\">i</span>bus<span style=\"color: #bbbbbb\">  </span><span style=\"color: #666666\">=</span><span style=\"color: #bbbbbb\"> </span><span style=\"color: #19177C\">p5</span>\n",
       "<span style=\"color: #B00040\">k</span>gain<span style=\"color: #bbbbbb\"> </span><span style=\"color: #666666\">=</span><span style=\"color: #bbbbbb\"> </span><span style=\"color: #19177C\">p6</span>\n",
       "<span style=\"color: #B00040\">a</span>sig<span style=\"color: #bbbbbb\"> </span><span style=\"color: #666666\">=</span><span style=\"color: #bbbbbb\"> </span>busin:a(<span style=\"color: #B00040\">i</span>bus)\n",
       "<span style=\"color: #B00040\">a</span>sig<span style=\"color: #bbbbbb\"> </span><span style=\"color: #666666\">*=</span><span style=\"color: #bbbbbb\"> </span><span style=\"color: #008000\">a</span>(<span style=\"color: #B00040\">k</span>gain)\n",
       "<span style=\"color: #008000\">outch</span><span style=\"color: #bbbbbb\"> </span><span style=\"color: #666666\">1</span>,<span style=\"color: #bbbbbb\"> </span><span style=\"color: #B00040\">a</span>sig\n",
       "</code></pre></div>\n",
       "</span>"
      ],
      "text/plain": [
       "Instr(receiver, ibus:5, kgain:6)"
      ]
     },
     "execution_count": 20,
     "metadata": {},
     "output_type": "execute_result"
    }
   ],
   "source": [
    "s.defInstr('sender', r'''\n",
    "ibus = p5\n",
    "ifreqbus = p6\n",
    "kfreq = busin:k(ifreqbus)\n",
    "asig oscili 0.1, lag:k(kfreq, 0.01)\n",
    "busout(ibus, asig)\n",
    "''')\n",
    "\n",
    "s.defInstr('receiver', r'''\n",
    "ibus  = p5\n",
    "kgain = p6\n",
    "asig = busin:a(ibus)\n",
    "asig *= a(kgain)\n",
    "outch 1, asig\n",
    "''')\n"
   ]
  },
  {
   "cell_type": "code",
   "execution_count": 27,
   "id": "9173e2b2-c037-493e-bd4a-54bb6758dfa4",
   "metadata": {},
   "outputs": [
    {
     "data": {
      "application/vnd.jupyter.widget-view+json": {
       "model_id": "742908216d50432b8d7161f3f8e9efed",
       "version_major": 2,
       "version_minor": 0
      },
      "text/plain": [
       "Button(description='Stop', style=ButtonStyle())"
      ]
     },
     "metadata": {},
     "output_type": "display_data"
    },
    {
     "data": {
      "application/vnd.jupyter.widget-view+json": {
       "model_id": "c96aee393e35437180375cb69648306b",
       "version_major": 2,
       "version_minor": 0
      },
      "text/plain": [
       "Output()"
      ]
     },
     "metadata": {},
     "output_type": "display_data"
    },
    {
     "data": {
      "text/html": [
       "<small><span style=\"\"><b>SynthGroup</b></span>(synths=<code style=\"\">2</code>)</small>\n",
       "<p><small>Instr: <strong style=\"color:MediumSeaGreen\">sender</strong> - <b>1</b> synths</small></p>\n",
       "<table style=\"font-size: smaller\"<thead><tr><th style=\"text-align:left\">p1</th><th style=\"text-align:left\">start</th><th style=\"text-align:left\">dur</th><th style=\"text-align:left\">p4</th><th style=\"text-align:left\">ibus</th><th style=\"text-align:left\">ifreqbus</th></tr></thead><tbody><tr><td style=\"text-align:left\">501.0018 <b>𝍪</b></td><td style=\"text-align:left\">0.034</td><td style=\"text-align:left\">-1.000</td><td style=\"text-align:left\">0</td><td style=\"text-align:left\">32</td><td style=\"text-align:left\">33</td></tr></tbody></table>\n",
       "<p><small>Instr: <strong style=\"color:MediumSeaGreen\">receiver</strong> - <b>1</b> synths</small></p>\n",
       "<table style=\"font-size: smaller\"<thead><tr><th style=\"text-align:left\">p1</th><th style=\"text-align:left\">start</th><th style=\"text-align:left\">dur</th><th style=\"text-align:left\">p4</th><th style=\"text-align:left\">ibus</th><th style=\"text-align:left\">kgain</th></tr></thead><tbody><tr><td style=\"text-align:left\">502.0018 <b>𝍪</b></td><td style=\"text-align:left\">0.034</td><td style=\"text-align:left\">-1.000</td><td style=\"text-align:left\">0</td><td style=\"text-align:left\">32</td><td style=\"text-align:left\">0.5</td></tr></tbody></table>"
      ],
      "text/plain": [
       "SynthGroup(n=2)\n",
       "    Synth(𝍪 sender=501.0018 start=409.161 dur=-1.000 p5=32 ibus=33)\n",
       "    Synth(𝍪 receiver=502.0018 start=409.161 dur=-1.000 p5=32 ibus=0.5)"
      ]
     },
     "execution_count": 27,
     "metadata": {},
     "output_type": "execute_result"
    }
   ],
   "source": [
    "bus = s.assignBus()\n",
    "freqbus = s.assignBus(value=600)\n",
    "\n",
    "chain = SynthGroup([s.sched('sender', ibus=bus, ifreqbus=freqbus),\n",
    "                    s.sched('receiver', ibus=bus, kgain=0.5)])\n",
    "# automate wins over set\n",
    "freqbus.set(1500, delay=1.5)\n",
    "freqbus.automate((0, 0, 1, 400), delay=1, overtake=True)\n",
    "\n",
    "chain"
   ]
  },
  {
   "cell_type": "code",
   "execution_count": 15,
   "id": "c911e207-c828-466f-b26a-94df72de7fd3",
   "metadata": {},
   "outputs": [],
   "source": [
    "s.unschedAll()"
   ]
  },
  {
   "cell_type": "code",
   "execution_count": null,
   "id": "2fda2329-be8d-431b-9c90-0b9b09e405f7",
   "metadata": {},
   "outputs": [],
   "source": []
  }
 ],
 "metadata": {
  "kernelspec": {
   "display_name": "Python 3 (ipykernel)",
   "language": "python",
   "name": "python3"
  },
  "language_info": {
   "codemirror_mode": {
    "name": "ipython",
    "version": 3
   },
   "file_extension": ".py",
   "mimetype": "text/x-python",
   "name": "python",
   "nbconvert_exporter": "python",
   "pygments_lexer": "ipython3",
   "version": "3.12.7"
  }
 },
 "nbformat": 4,
 "nbformat_minor": 5
}
