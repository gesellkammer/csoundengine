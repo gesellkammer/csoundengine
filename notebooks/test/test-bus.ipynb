{
 "cells": [
  {
   "cell_type": "code",
   "execution_count": 1,
   "id": "f1cf65f4-aa7c-4457-adaf-2713a9b8b8c9",
   "metadata": {},
   "outputs": [
    {
     "name": "stderr",
     "output_type": "stream",
     "text": [
      "WARNING: Csound 7 support is experimental. Proceed at yout own risk\n"
     ]
    }
   ],
   "source": [
    "from csoundengine import *"
   ]
  },
  {
   "cell_type": "code",
   "execution_count": 2,
   "id": "ab6ddc5d-7e56-4db4-88c8-efee5d39c09d",
   "metadata": {},
   "outputs": [
    {
     "name": "stderr",
     "output_type": "stream",
     "text": [
      "--Csound version 7.0 (double samples) Jan  9 2025\n",
      "[commit: 2109d3ed8a2a0b28a2b6a516b20a585afddef84d]\n",
      "\u001b[mlibsndfile-1.2.0\n",
      "\u001b[msr = 48000.0,\u001b[m kr = 750.000,\u001b[m ksmps = 64\n",
      "\u001b[m0dBFS level = 1.0,\u001b[m A4 tuning = 440.0\n",
      "\u001b[maudio buffered in 256 sample-frame blocks\n",
      "\u001b[mreading 2048-byte blks of shorts from adc:Built-in Audio Analog Stereo: (RAW)\n",
      "writing 512 sample blks of 64-bit floats to dac:Built-in Audio Analog Stereo:\n",
      "SECTION 1:\n",
      "\u001b[m"
     ]
    }
   ],
   "source": [
    "s = Session()"
   ]
  },
  {
   "cell_type": "code",
   "execution_count": 3,
   "id": "c655998d-1f99-484f-a0f4-91cecd4ab082",
   "metadata": {},
   "outputs": [
    {
     "data": {
      "text/html": [
       "Instr <strong style=\"color:MediumSeaGreen\">busoscil</strong><br>\n",
       "&nbsp&nbsp&nbsp&nbsp<span style=\"font-size:90%\"><b>ibus</b>=<code>0</code></span><br>\n",
       "<hr style=\"width:38%;text-align:left;margin-left:0;border: 1px dashed; background: transparent;\">\n",
       "<span style=\"font-size:90%\"><div class=\"highlight\" style=\"background: #f8f8f8\"><pre style=\"line-height: 125%;\"><span></span><code><span style=\"color: #B00040\">k</span>freq<span style=\"color: #bbbbbb\"> </span><span style=\"color: #666666\">=</span><span style=\"color: #bbbbbb\"> </span>busin:k(<span style=\"color: #B00040\">i</span>bus)\n",
       "<span style=\"color: #008000\">outch</span><span style=\"color: #bbbbbb\"> </span><span style=\"color: #666666\">1</span>,<span style=\"color: #bbbbbb\"> </span><span style=\"color: #008000\">oscili</span>:<span style=\"color: #B00040\">a</span>(<span style=\"color: #666666\">0.05</span>,<span style=\"color: #bbbbbb\"> </span><span style=\"color: #008000\">lag</span>(<span style=\"color: #B00040\">k</span>freq,<span style=\"color: #bbbbbb\"> </span><span style=\"color: #666666\">0.01</span>))\n",
       "</code></pre></div>\n",
       "</span>"
      ],
      "text/plain": [
       "Instr(busoscil, ibus=0)"
      ]
     },
     "execution_count": 3,
     "metadata": {},
     "output_type": "execute_result"
    }
   ],
   "source": [
    "s.defInstr('busoscil', r'''\n",
    "|ibus|\n",
    "kfreq = busin:k(ibus)\n",
    "outch 1, oscili:a(0.05, lag(kfreq, 0.01))\n",
    "''')\n"
   ]
  },
  {
   "cell_type": "code",
   "execution_count": 8,
   "id": "d30470bb-55bf-49d1-b155-c74d6908eea9",
   "metadata": {},
   "outputs": [
    {
     "name": "stdout",
     "output_type": "stream",
     "text": [
      "Bus('control', token=3)\n"
     ]
    },
    {
     "data": {
      "application/vnd.jupyter.widget-view+json": {
       "model_id": "ee44a2d296974e45908ec59817ae08d7",
       "version_major": 2,
       "version_minor": 0
      },
      "text/plain": [
       "Button(description='Stop', style=ButtonStyle())"
      ]
     },
     "metadata": {},
     "output_type": "display_data"
    },
    {
     "data": {
      "application/vnd.jupyter.widget-view+json": {
       "model_id": "2ac47edfe57f492dab546d6ae04b9e2c",
       "version_major": 2,
       "version_minor": 0
      },
      "text/plain": [
       "Output()"
      ]
     },
     "metadata": {},
     "output_type": "display_data"
    },
    {
     "data": {
      "text/html": [
       "<p><span style=\"font-size:12px;\">Synth(𝍪 <strong style=\"color:MediumSeaGreen\">busoscil</strong>:501.0005)</span></p>"
      ],
      "text/plain": [
       "Synth(𝍪 busoscil=501.0005 start=9.961 dur=-1.000 p5=3)"
      ]
     },
     "execution_count": 8,
     "metadata": {},
     "output_type": "execute_result"
    }
   ],
   "source": [
    "bus = s.assignBus(value=1000, persist=True)\n",
    "print(bus)\n",
    "s.engine.sync()\n",
    "synth = s.sched('busoscil', ibus=bus.token)\n",
    "bus.automate((0, 800, 3, 500), overtake=False)\n",
    "synth"
   ]
  },
  {
   "cell_type": "code",
   "execution_count": 9,
   "id": "1919fa27-0dc6-43ad-a1d9-fd89d90a87f0",
   "metadata": {},
   "outputs": [],
   "source": [
    "del bus"
   ]
  },
  {
   "cell_type": "code",
   "execution_count": 10,
   "id": "dd2f14d9-36a9-4e82-bcb5-f1e7eb8f39cc",
   "metadata": {},
   "outputs": [],
   "source": [
    "synth.stop()"
   ]
  },
  {
   "cell_type": "code",
   "execution_count": 11,
   "id": "3ad25185-771f-43a8-bc5f-d3fdff6e560d",
   "metadata": {},
   "outputs": [
    {
     "data": {
      "application/vnd.jupyter.widget-view+json": {
       "model_id": "da4675ea63ed4df690a6d9f633fbef74",
       "version_major": 2,
       "version_minor": 0
      },
      "text/plain": [
       "Button(description='Stop', style=ButtonStyle())"
      ]
     },
     "metadata": {},
     "output_type": "display_data"
    },
    {
     "data": {
      "application/vnd.jupyter.widget-view+json": {
       "model_id": "0e414007476b416fbd9440d4c3a8c5e2",
       "version_major": 2,
       "version_minor": 0
      },
      "text/plain": [
       "Output()"
      ]
     },
     "metadata": {},
     "output_type": "display_data"
    },
    {
     "data": {
      "text/html": [
       "<p><span style=\"font-size:12px;\">Synth(𝍪 <strong style=\"color:MediumSeaGreen\">.playSample</strong>:503.0002, <span style=\"font-size:12px;\">5:<b>isndtab</b>=<code>301</code> 6:<b>istart</b>=<code>0</code> 7:<b>ifadein</b>=<code>0.02</code> 8:<b>ifadeout</b>=<code>0.02</code> 9:<b>kchan</b>=<code>1</code> 10:<b>kspeed</b>=<code>1</code> 11:<b>kgain</b>=<code>1</code> 12:<b>kpan</b>=<code>0.5</code> 13:<b>ixfade</b>=<code>-1</code></span>)</span></p>"
      ],
      "text/plain": [
       "Synth(𝍪 .playSample=503.0002 start=19.582 dur=10.449 p5=301 isndtab=0 istart=0.02 ifadein=0.02 ifadeout=1 kchan=1 kspeed=1 kgain=0.5 kpan=-1)"
      ]
     },
     "execution_count": 11,
     "metadata": {},
     "output_type": "execute_result"
    }
   ],
   "source": [
    "tab = s.readSoundfile('../snd/piano-pitchtest-2.flac')\n",
    "s.defInstr('test0', r'''\n",
    "kfreq = p5\n",
    "outch 1, oscili:a(0.1, lag(kfreq, 0.01))\n",
    "''')\n",
    "s.sched('test0', 0, 2, kfreq=440)\n",
    "ev = s.playSample(tab)\n",
    "ev"
   ]
  },
  {
   "cell_type": "code",
   "execution_count": 12,
   "id": "b8f723e0-ee4d-4782-b49f-633e71e0d80a",
   "metadata": {},
   "outputs": [
    {
     "data": {
      "text/html": [
       "Instr <strong style=\"color:MediumSeaGreen\">.playSample</strong><br>\n",
       "&nbsp&nbsp&nbsp&nbsp<span style=\"font-size:90%\"><b>isndtab</b>=<code>0</code></span>, <span style=\"font-size:90%\"><b>istart</b>=<code>0</code></span>, <span style=\"font-size:90%\"><b>ifadein</b>=<code>0</code></span>, <span style=\"font-size:90%\"><b>ifadeout</b>=<code>0</code></span>, <span style=\"font-size:90%\"><b>kchan</b>=<code>1</code></span><br>\n",
       "&nbsp&nbsp&nbsp&nbsp<span style=\"font-size:90%\"><b>speed</b>=<code>1</code></span>, <span style=\"font-size:90%\"><b>gain</b>=<code>1</code></span>, <span style=\"font-size:90%\"><b>pan</b>=<code>0.5</code></span>, <span style=\"font-size:90%\"><b>ixfade</b>=<code>-1</code></span><br>\n",
       "<hr style=\"width:38%;text-align:left;margin-left:0;border: 1px dashed; background: transparent;\">\n",
       "<span style=\"font-size:90%\"><div class=\"highlight\" style=\"background: #f8f8f8\"><pre style=\"line-height: 125%;\"><span></span><code><span style=\"color: #3D7B7B; font-style: italic\">; Play a sample loaded via GEN01</span>\n",
       "<span style=\"color: #3D7B7B; font-style: italic\">; Args:</span>\n",
       "<span style=\"color: #3D7B7B; font-style: italic\">;   istart: the start time within the sample</span>\n",
       "<span style=\"color: #3D7B7B; font-style: italic\">;   ifade: fade in / out</span>\n",
       "<span style=\"color: #3D7B7B; font-style: italic\">;   kchan: output channel</span>\n",
       "<span style=\"color: #3D7B7B; font-style: italic\">;   kspeed: playback speed</span>\n",
       "<span style=\"color: #3D7B7B; font-style: italic\">;   kgain: gain</span>\n",
       "<span style=\"color: #3D7B7B; font-style: italic\">;   kpan: pan position, between 0-1. Use -1 to use default, which is 0 for mono and 0.5 for stereo</span>\n",
       "<span style=\"color: #3D7B7B; font-style: italic\">;   ixfade: crossfade time, if negative no looping</span>\n",
       "<span style=\"color: #008000; font-weight: bold\">if</span><span style=\"color: #bbbbbb\"> </span><span style=\"color: #B00040\">i</span>sndtab<span style=\"color: #bbbbbb\"> </span><span style=\"color: #666666\">&lt;=</span><span style=\"color: #bbbbbb\"> </span><span style=\"color: #666666\">0</span><span style=\"color: #bbbbbb\"> </span><span style=\"color: #666666\">||</span><span style=\"color: #bbbbbb\"> </span><span style=\"color: #008000\">ftexists</span>(<span style=\"color: #B00040\">i</span>sndtab)<span style=\"color: #bbbbbb\"> </span><span style=\"color: #666666\">==</span><span style=\"color: #bbbbbb\"> </span><span style=\"color: #666666\">0</span><span style=\"color: #bbbbbb\"> </span><span style=\"color: #008000; font-weight: bold\">then</span>\n",
       "<span style=\"color: #bbbbbb\">    </span><span style=\"color: #B00040\">i</span>niterror<span style=\"color: #bbbbbb\"> </span><span style=\"color: #008000\">sprintf</span>(<span style=\"color: #BA2121\">&quot;Table </span><span style=\"color: #A45A77; font-weight: bold\">%d</span><span style=\"color: #BA2121\"> does not exist&quot;</span>,<span style=\"color: #bbbbbb\"> </span><span style=\"color: #B00040\">i</span>sndtab)\n",
       "<span style=\"color: #008000; font-weight: bold\">endif</span>\n",
       "\n",
       "<span style=\"color: #B00040\">i</span>loop<span style=\"color: #bbbbbb\"> </span><span style=\"color: #666666\">=</span><span style=\"color: #bbbbbb\"> </span><span style=\"color: #B00040\">i</span>xfade<span style=\"color: #bbbbbb\"> </span><span style=\"color: #666666\">&gt;=</span><span style=\"color: #bbbbbb\"> </span><span style=\"color: #666666\">0</span><span style=\"color: #bbbbbb\"> </span><span style=\"color: #666666\">?</span><span style=\"color: #bbbbbb\"> </span><span style=\"color: #666666\">1</span><span style=\"color: #bbbbbb\"> </span><span style=\"color: #666666\">:</span><span style=\"color: #bbbbbb\"> </span><span style=\"color: #666666\">0</span>\n",
       "<span style=\"color: #B00040\">i</span>onecycle<span style=\"color: #bbbbbb\"> </span><span style=\"color: #666666\">=</span><span style=\"color: #bbbbbb\"> </span><span style=\"color: #19177C\">ksmps</span><span style=\"color: #666666\">/</span><span style=\"color: #19177C\">sr</span>\n",
       "<span style=\"color: #B00040\">i</span>fadein<span style=\"color: #bbbbbb\"> </span><span style=\"color: #666666\">=</span><span style=\"color: #bbbbbb\"> </span><span style=\"color: #008000\">max</span>(<span style=\"color: #B00040\">i</span>fadein,<span style=\"color: #bbbbbb\"> </span><span style=\"color: #B00040\">i</span>onecycle)\n",
       "<span style=\"color: #B00040\">i</span>fadeout<span style=\"color: #bbbbbb\"> </span><span style=\"color: #666666\">=</span><span style=\"color: #bbbbbb\"> </span><span style=\"color: #008000\">max</span>(<span style=\"color: #B00040\">i</span>fadeout,<span style=\"color: #bbbbbb\"> </span><span style=\"color: #B00040\">i</span>onecycle)\n",
       "<span style=\"color: #B00040\">i</span>numouts<span style=\"color: #bbbbbb\"> </span><span style=\"color: #666666\">=</span><span style=\"color: #bbbbbb\"> </span><span style=\"color: #008000\">ftchnls</span>(<span style=\"color: #B00040\">i</span>sndtab)\n",
       "<span style=\"color: #B00040\">i</span>numsamples<span style=\"color: #bbbbbb\"> </span><span style=\"color: #666666\">=</span><span style=\"color: #bbbbbb\"> </span><span style=\"color: #008000\">nsamp</span>(<span style=\"color: #B00040\">i</span>sndtab)\n",
       "<span style=\"color: #B00040\">i</span>sr<span style=\"color: #bbbbbb\"> </span><span style=\"color: #666666\">=</span><span style=\"color: #bbbbbb\"> </span><span style=\"color: #008000\">ftsr</span>(<span style=\"color: #B00040\">i</span>sndtab)\n",
       "\n",
       "<span style=\"color: #008000; font-weight: bold\">if</span><span style=\"color: #bbbbbb\"> </span><span style=\"color: #B00040\">i</span>sr<span style=\"color: #bbbbbb\"> </span><span style=\"color: #666666\">&lt;=</span><span style=\"color: #bbbbbb\"> </span><span style=\"color: #666666\">0</span><span style=\"color: #bbbbbb\"> </span><span style=\"color: #008000; font-weight: bold\">then</span>\n",
       "<span style=\"color: #bbbbbb\">    </span><span style=\"color: #B00040\">i</span>niterror<span style=\"color: #bbbbbb\"> </span><span style=\"color: #008000\">sprintf</span>(<span style=\"color: #BA2121\">&quot;Could not determine sr of table </span><span style=\"color: #A45A77; font-weight: bold\">%d</span><span style=\"color: #BA2121\">&quot;</span>,<span style=\"color: #bbbbbb\"> </span><span style=\"color: #B00040\">i</span>sndtab)\n",
       "<span style=\"color: #008000; font-weight: bold\">endif</span>\n",
       "<span style=\"color: #B00040\">i</span>dur<span style=\"color: #bbbbbb\"> </span><span style=\"color: #666666\">=</span><span style=\"color: #bbbbbb\"> </span><span style=\"color: #B00040\">i</span>numsamples<span style=\"color: #bbbbbb\"> </span><span style=\"color: #666666\">/</span><span style=\"color: #bbbbbb\"> </span><span style=\"color: #B00040\">i</span>sr\n",
       "\n",
       "<span style=\"color: #B00040\">k</span>now<span style=\"color: #bbbbbb\"> </span><span style=\"color: #008000\">init</span><span style=\"color: #bbbbbb\"> </span><span style=\"color: #B00040\">i</span>start\n",
       "<span style=\"color: #008000; font-weight: bold\">if</span><span style=\"color: #bbbbbb\"> </span><span style=\"color: #B00040\">i</span>numouts<span style=\"color: #bbbbbb\"> </span><span style=\"color: #666666\">==</span><span style=\"color: #bbbbbb\"> </span><span style=\"color: #666666\">0</span><span style=\"color: #bbbbbb\"> </span><span style=\"color: #008000; font-weight: bold\">then</span>\n",
       "<span style=\"color: #bbbbbb\">    </span><span style=\"color: #3D7B7B; font-style: italic\">; not a gen1 table, fail</span>\n",
       "<span style=\"color: #bbbbbb\">    </span><span style=\"color: #B00040\">i</span>niterror<span style=\"color: #bbbbbb\"> </span><span style=\"color: #008000\">sprintf</span>(<span style=\"color: #BA2121\">&quot;Table </span><span style=\"color: #A45A77; font-weight: bold\">%d</span><span style=\"color: #BA2121\"> was not generated via gen1&quot;</span>,<span style=\"color: #bbbbbb\"> </span><span style=\"color: #B00040\">i</span>sndtab)\n",
       "<span style=\"color: #008000; font-weight: bold\">endif</span>\n",
       "\n",
       "<span style=\"color: #B00040\">k</span>idx<span style=\"color: #bbbbbb\"> </span><span style=\"color: #008000\">init</span><span style=\"color: #bbbbbb\"> </span><span style=\"color: #666666\">0</span>\n",
       "<span style=\"color: #B00040\">a</span>env<span style=\"color: #bbbbbb\"> </span><span style=\"color: #666666\">=</span><span style=\"color: #bbbbbb\"> </span><span style=\"color: #008000\">linsegr</span>:<span style=\"color: #B00040\">a</span>(<span style=\"color: #666666\">0</span>,<span style=\"color: #bbbbbb\"> </span><span style=\"color: #B00040\">i</span>fadein,<span style=\"color: #bbbbbb\"> </span><span style=\"color: #666666\">1</span>,<span style=\"color: #bbbbbb\"> </span><span style=\"color: #B00040\">i</span>fadeout,<span style=\"color: #bbbbbb\"> </span><span style=\"color: #666666\">0</span>)\n",
       "<span style=\"color: #B00040\">a</span>env<span style=\"color: #bbbbbb\"> </span><span style=\"color: #666666\">*=</span><span style=\"color: #bbbbbb\"> </span><span style=\"color: #008000\">interp</span>(<span style=\"color: #B00040\">k</span>gain)\n",
       "\n",
       "<span style=\"color: #008000; font-weight: bold\">if</span><span style=\"color: #bbbbbb\"> </span><span style=\"color: #B00040\">i</span>numouts<span style=\"color: #bbbbbb\"> </span><span style=\"color: #666666\">==</span><span style=\"color: #bbbbbb\"> </span><span style=\"color: #666666\">1</span><span style=\"color: #bbbbbb\"> </span><span style=\"color: #008000; font-weight: bold\">then</span>\n",
       "<span style=\"color: #bbbbbb\">    </span><span style=\"color: #3D7B7B; font-style: italic\">; a1 flooper2 1, kspeed, istart, idur, ixfade, isndtab, istart</span>\n",
       "<span style=\"color: #bbbbbb\">    </span><span style=\"color: #B00040\">a</span>1<span style=\"color: #bbbbbb\"> </span><span style=\"color: #008000\">flooper2</span><span style=\"color: #bbbbbb\"> </span><span style=\"color: #666666\">1</span>,<span style=\"color: #bbbbbb\"> </span><span style=\"color: #B00040\">k</span>speed,<span style=\"color: #bbbbbb\"> </span><span style=\"color: #B00040\">i</span>start,<span style=\"color: #bbbbbb\"> </span><span style=\"color: #B00040\">i</span>dur,<span style=\"color: #bbbbbb\"> </span><span style=\"color: #B00040\">i</span>xfade,<span style=\"color: #bbbbbb\"> </span><span style=\"color: #B00040\">i</span>sndtab,<span style=\"color: #bbbbbb\"> </span><span style=\"color: #B00040\">i</span>start\n",
       "<span style=\"color: #bbbbbb\">    </span><span style=\"color: #B00040\">a</span>1<span style=\"color: #bbbbbb\"> </span><span style=\"color: #666666\">*=</span><span style=\"color: #bbbbbb\"> </span><span style=\"color: #B00040\">a</span>env\n",
       "<span style=\"color: #bbbbbb\">    </span><span style=\"color: #B00040\">a</span>L,<span style=\"color: #bbbbbb\"> </span><span style=\"color: #B00040\">a</span>R<span style=\"color: #bbbbbb\"> </span><span style=\"color: #008000\">pan2</span><span style=\"color: #bbbbbb\"> </span><span style=\"color: #B00040\">a</span>1,<span style=\"color: #bbbbbb\"> </span><span style=\"color: #B00040\">k</span>pan\n",
       "<span style=\"color: #bbbbbb\">    </span><span style=\"color: #008000\">outch</span><span style=\"color: #bbbbbb\"> </span><span style=\"color: #B00040\">k</span>chan,<span style=\"color: #bbbbbb\"> </span><span style=\"color: #B00040\">a</span>L,<span style=\"color: #bbbbbb\"> </span><span style=\"color: #B00040\">k</span>chan<span style=\"color: #666666\">+1</span>,<span style=\"color: #bbbbbb\"> </span><span style=\"color: #B00040\">a</span>R\n",
       "<span style=\"color: #008000; font-weight: bold\">elseif</span><span style=\"color: #bbbbbb\"> </span><span style=\"color: #B00040\">i</span>numouts<span style=\"color: #bbbbbb\"> </span><span style=\"color: #666666\">==</span><span style=\"color: #bbbbbb\"> </span><span style=\"color: #666666\">2</span><span style=\"color: #bbbbbb\"> </span><span style=\"color: #008000; font-weight: bold\">then</span>\n",
       "<span style=\"color: #bbbbbb\">    </span><span style=\"color: #B00040\">a</span>1,<span style=\"color: #bbbbbb\"> </span><span style=\"color: #B00040\">a</span>2<span style=\"color: #bbbbbb\"> </span><span style=\"color: #008000\">flooper2</span><span style=\"color: #bbbbbb\"> </span><span style=\"color: #666666\">1</span>,<span style=\"color: #bbbbbb\"> </span><span style=\"color: #B00040\">k</span>speed,<span style=\"color: #bbbbbb\"> </span><span style=\"color: #B00040\">i</span>start,<span style=\"color: #bbbbbb\"> </span><span style=\"color: #B00040\">i</span>dur,<span style=\"color: #bbbbbb\"> </span><span style=\"color: #B00040\">i</span>xfade,<span style=\"color: #bbbbbb\"> </span><span style=\"color: #B00040\">i</span>sndtab,<span style=\"color: #bbbbbb\"> </span><span style=\"color: #B00040\">i</span>start\n",
       "<span style=\"color: #bbbbbb\">    </span><span style=\"color: #3D7B7B; font-style: italic\">; a1, a2 loscil3 1, ispeed*kspeed, isndtab, 1, iloop</span>\n",
       "<span style=\"color: #bbbbbb\">    </span><span style=\"color: #B00040\">a</span>1<span style=\"color: #bbbbbb\"> </span><span style=\"color: #666666\">*=</span><span style=\"color: #bbbbbb\"> </span><span style=\"color: #B00040\">a</span>env\n",
       "<span style=\"color: #bbbbbb\">    </span><span style=\"color: #B00040\">a</span>2<span style=\"color: #bbbbbb\"> </span><span style=\"color: #666666\">*=</span><span style=\"color: #bbbbbb\"> </span><span style=\"color: #B00040\">a</span>env\n",
       "<span style=\"color: #bbbbbb\">    </span><span style=\"color: #B00040\">k</span>L,<span style=\"color: #bbbbbb\"> </span><span style=\"color: #B00040\">k</span>R<span style=\"color: #bbbbbb\"> </span>_panweights<span style=\"color: #bbbbbb\"> </span><span style=\"color: #B00040\">k</span>pan\n",
       "<span style=\"color: #bbbbbb\">    </span><span style=\"color: #008000; font-weight: bold\">if</span><span style=\"color: #bbbbbb\"> </span><span style=\"color: #B00040\">k</span>L<span style=\"color: #bbbbbb\"> </span><span style=\"color: #666666\">!=</span><span style=\"color: #bbbbbb\"> </span><span style=\"color: #666666\">1</span><span style=\"color: #bbbbbb\"> </span><span style=\"color: #008000; font-weight: bold\">then</span>\n",
       "<span style=\"color: #bbbbbb\">        </span><span style=\"color: #B00040\">a</span>1<span style=\"color: #bbbbbb\"> </span><span style=\"color: #666666\">*=</span><span style=\"color: #bbbbbb\"> </span><span style=\"color: #B00040\">k</span>L\n",
       "<span style=\"color: #bbbbbb\">        </span><span style=\"color: #B00040\">a</span>2<span style=\"color: #bbbbbb\"> </span><span style=\"color: #666666\">*=</span><span style=\"color: #bbbbbb\"> </span><span style=\"color: #B00040\">k</span>R\n",
       "<span style=\"color: #bbbbbb\">    </span><span style=\"color: #008000; font-weight: bold\">endif</span>\n",
       "<span style=\"color: #bbbbbb\">    </span><span style=\"color: #008000\">outch</span><span style=\"color: #bbbbbb\"> </span><span style=\"color: #B00040\">k</span>chan,<span style=\"color: #bbbbbb\"> </span><span style=\"color: #B00040\">a</span>1,<span style=\"color: #bbbbbb\"> </span><span style=\"color: #B00040\">k</span>chan<span style=\"color: #666666\">+1</span>,<span style=\"color: #bbbbbb\"> </span><span style=\"color: #B00040\">a</span>2\n",
       "<span style=\"color: #008000; font-weight: bold\">else</span>\n",
       "<span style=\"color: #bbbbbb\">    </span><span style=\"color: #3D7B7B; font-style: italic\">; TODO: test samplerate speed compensation</span>\n",
       "<span style=\"color: #bbbbbb\">    </span><span style=\"color: #3D7B7B; font-style: italic\">; 4: cubic interpolation</span>\n",
       "<span style=\"color: #bbbbbb\">    </span><span style=\"color: #3D7B7B; font-style: italic\">; 1: ibas, base frequency</span>\n",
       "<span style=\"color: #bbbbbb\">    </span><span style=\"color: #3D7B7B; font-style: italic\">; NB: loscilx has no crossfade</span>\n",
       "<span style=\"color: #bbbbbb\">    </span><span style=\"color: #B00040\">a</span>outs[]<span style=\"color: #bbbbbb\"> </span><span style=\"color: #008000\">loscilx</span><span style=\"color: #bbbbbb\"> </span><span style=\"color: #666666\">1</span>,<span style=\"color: #bbbbbb\"> </span><span style=\"color: #B00040\">k</span>speed,<span style=\"color: #bbbbbb\"> </span><span style=\"color: #B00040\">i</span>sndtab,<span style=\"color: #bbbbbb\"> </span><span style=\"color: #666666\">4</span>,<span style=\"color: #bbbbbb\"> </span><span style=\"color: #666666\">1</span>,<span style=\"color: #bbbbbb\"> </span><span style=\"color: #B00040\">i</span>loop\n",
       "<span style=\"color: #bbbbbb\">    </span><span style=\"color: #B00040\">a</span>outs<span style=\"color: #bbbbbb\"> </span><span style=\"color: #666666\">*=</span><span style=\"color: #bbbbbb\"> </span><span style=\"color: #B00040\">a</span>env\n",
       "<span style=\"color: #bbbbbb\">    </span><span style=\"color: #B00040\">k</span>idx<span style=\"color: #bbbbbb\"> </span><span style=\"color: #666666\">=</span><span style=\"color: #bbbbbb\"> </span><span style=\"color: #666666\">0</span>\n",
       "<span style=\"color: #bbbbbb\">    </span><span style=\"color: #008000; font-weight: bold\">while</span><span style=\"color: #bbbbbb\"> </span><span style=\"color: #B00040\">k</span>idx<span style=\"color: #bbbbbb\"> </span><span style=\"color: #666666\">&lt;</span><span style=\"color: #bbbbbb\"> </span><span style=\"color: #B00040\">i</span>numouts<span style=\"color: #bbbbbb\"> </span><span style=\"color: #008000; font-weight: bold\">do</span>\n",
       "<span style=\"color: #bbbbbb\">        </span><span style=\"color: #008000\">outch</span><span style=\"color: #bbbbbb\"> </span><span style=\"color: #B00040\">k</span>chan<span style=\"color: #666666\">+</span><span style=\"color: #B00040\">k</span>idx,<span style=\"color: #bbbbbb\"> </span><span style=\"color: #B00040\">a</span>outs[<span style=\"color: #B00040\">k</span>idx]\n",
       "<span style=\"color: #bbbbbb\">        </span><span style=\"color: #B00040\">k</span>chan<span style=\"color: #bbbbbb\"> </span><span style=\"color: #666666\">+=</span><span style=\"color: #bbbbbb\"> </span><span style=\"color: #666666\">1</span>\n",
       "<span style=\"color: #bbbbbb\">    </span><span style=\"color: #008000; font-weight: bold\">od</span>\n",
       "<span style=\"color: #008000; font-weight: bold\">endif</span>\n",
       "<span style=\"color: #B00040\">k</span>now<span style=\"color: #bbbbbb\"> </span><span style=\"color: #666666\">+=</span><span style=\"color: #bbbbbb\"> </span><span style=\"color: #B00040\">i</span>onecycle<span style=\"color: #bbbbbb\"> </span><span style=\"color: #666666\">*</span><span style=\"color: #bbbbbb\"> </span><span style=\"color: #B00040\">k</span>speed\n",
       "<span style=\"color: #B00040\">i</span>maxtime<span style=\"color: #bbbbbb\"> </span><span style=\"color: #666666\">=</span><span style=\"color: #bbbbbb\"> </span><span style=\"color: #B00040\">i</span>dur<span style=\"color: #bbbbbb\"> </span><span style=\"color: #666666\">-</span><span style=\"color: #bbbbbb\"> </span><span style=\"color: #B00040\">i</span>fadeout<span style=\"color: #bbbbbb\"> </span><span style=\"color: #666666\">-</span><span style=\"color: #bbbbbb\"> </span><span style=\"color: #B00040\">i</span>onecycle\n",
       "<span style=\"color: #008000; font-weight: bold\">if</span><span style=\"color: #bbbbbb\"> </span><span style=\"color: #B00040\">i</span>loop<span style=\"color: #bbbbbb\"> </span><span style=\"color: #666666\">==</span><span style=\"color: #bbbbbb\"> </span><span style=\"color: #666666\">0</span><span style=\"color: #bbbbbb\"> </span><span style=\"color: #666666\">&amp;&amp;</span><span style=\"color: #bbbbbb\"> </span><span style=\"color: #B00040\">k</span>now<span style=\"color: #bbbbbb\"> </span><span style=\"color: #666666\">&gt;=</span><span style=\"color: #bbbbbb\"> </span><span style=\"color: #B00040\">i</span>maxtime<span style=\"color: #bbbbbb\"> </span><span style=\"color: #008000; font-weight: bold\">then</span>\n",
       "<span style=\"color: #bbbbbb\">    </span><span style=\"color: #008000\">turnoff</span>\n",
       "<span style=\"color: #008000; font-weight: bold\">endif</span>\n",
       "</code></pre></div>\n",
       "</span>"
      ],
      "text/plain": [
       "Instr(.playSample, isndtab=0, istart=0, ifadein=0, ifadeout=0, kchan=1, speed(kspeed)=1, gain(kgain)=1, pan(kpan)=0.5, ixfade=-1)"
      ]
     },
     "execution_count": 12,
     "metadata": {},
     "output_type": "execute_result"
    }
   ],
   "source": [
    "s.getInstr('.playSample')"
   ]
  },
  {
   "cell_type": "code",
   "execution_count": 13,
   "id": "ab5761b6-d011-4f9e-91d4-78f66dafe80c",
   "metadata": {},
   "outputs": [
    {
     "data": {
      "text/html": [
       "Instr <strong style=\"color:MediumSeaGreen\">test1</strong><br>\n",
       "&nbsp&nbsp&nbsp&nbsp<span style=\"font-size:90%\"><b>kfreq</b>=<code>0</code></span><br>\n",
       "<hr style=\"width:38%;text-align:left;margin-left:0;border: 1px dashed; background: transparent;\">\n",
       "<span style=\"font-size:90%\"><div class=\"highlight\" style=\"background: #f8f8f8\"><pre style=\"line-height: 125%;\"><span></span><code><span style=\"color: #008000\">outch</span><span style=\"color: #bbbbbb\"> </span><span style=\"color: #666666\">1</span>,<span style=\"color: #bbbbbb\"> </span><span style=\"color: #008000\">oscili</span>:<span style=\"color: #B00040\">a</span>(<span style=\"color: #666666\">0.05</span>,<span style=\"color: #bbbbbb\"> </span><span style=\"color: #008000\">lag</span>(<span style=\"color: #B00040\">k</span>freq,<span style=\"color: #bbbbbb\"> </span><span style=\"color: #666666\">0.01</span>))\n",
       "</code></pre></div>\n",
       "</span>"
      ],
      "text/plain": [
       "Instr(test1, kfreq=0)"
      ]
     },
     "execution_count": 13,
     "metadata": {},
     "output_type": "execute_result"
    }
   ],
   "source": [
    "s.defInstr('test1', r'''\n",
    "|kfreq|\n",
    "outch 1, oscili:a(0.05, lag(kfreq, 0.01))\n",
    "''')\n"
   ]
  },
  {
   "cell_type": "code",
   "execution_count": 14,
   "id": "9f4f0be5-245e-4c33-8a79-f010bb738b58",
   "metadata": {},
   "outputs": [
    {
     "data": {
      "text/html": [
       "Instr <strong style=\"color:MediumSeaGreen\">test5</strong><br>\n",
       "&nbsp&nbsp&nbsp&nbsp<span style=\"font-size:90%\"><b>ibus</b>=<code>0</code></span><br>\n",
       "<hr style=\"width:38%;text-align:left;margin-left:0;border: 1px dashed; background: transparent;\">\n",
       "<span style=\"font-size:90%\"><div class=\"highlight\" style=\"background: #f8f8f8\"><pre style=\"line-height: 125%;\"><span></span><code><span style=\"color: #B00040\">i</span>bus<span style=\"color: #bbbbbb\"> </span><span style=\"color: #666666\">=</span><span style=\"color: #bbbbbb\"> </span><span style=\"color: #19177C\">p5</span>\n",
       "<span style=\"color: #B00040\">k</span>freq<span style=\"color: #bbbbbb\"> </span><span style=\"color: #666666\">=</span><span style=\"color: #bbbbbb\"> </span>busin:k(<span style=\"color: #B00040\">i</span>bus)\n",
       "<span style=\"color: #008000\">outch</span><span style=\"color: #bbbbbb\"> </span><span style=\"color: #666666\">1</span>,<span style=\"color: #bbbbbb\"> </span><span style=\"color: #008000\">oscili</span>:<span style=\"color: #B00040\">a</span>(<span style=\"color: #666666\">0.05</span>,<span style=\"color: #bbbbbb\"> </span><span style=\"color: #008000\">lag</span>(<span style=\"color: #B00040\">k</span>freq,<span style=\"color: #bbbbbb\"> </span><span style=\"color: #666666\">0.01</span>))\n",
       "</code></pre></div>\n",
       "</span>"
      ],
      "text/plain": [
       "Instr(test5, ibus:5)"
      ]
     },
     "execution_count": 14,
     "metadata": {},
     "output_type": "execute_result"
    }
   ],
   "source": [
    "name = 'test5'\n",
    "s.defInstr(name, r'''\n",
    "ibus = p5\n",
    "kfreq = busin:k(ibus)\n",
    "outch 1, oscili:a(0.05, lag(kfreq, 0.01))\n",
    "''')\n"
   ]
  },
  {
   "cell_type": "code",
   "execution_count": 15,
   "id": "188cf072-5178-4f4f-8a77-8265b153294e",
   "metadata": {},
   "outputs": [
    {
     "name": "stdout",
     "output_type": "stream",
     "text": [
      "Bus('control', token=4)\n"
     ]
    },
    {
     "data": {
      "application/vnd.jupyter.widget-view+json": {
       "model_id": "fedfe563edd54befad54edecdb275060",
       "version_major": 2,
       "version_minor": 0
      },
      "text/plain": [
       "Button(description='Stop', style=ButtonStyle())"
      ]
     },
     "metadata": {},
     "output_type": "display_data"
    },
    {
     "data": {
      "application/vnd.jupyter.widget-view+json": {
       "model_id": "5a8136fa4ce54d3fbaf3538fa64e028f",
       "version_major": 2,
       "version_minor": 0
      },
      "text/plain": [
       "Output()"
      ]
     },
     "metadata": {},
     "output_type": "display_data"
    },
    {
     "data": {
      "text/html": [
       "<p><span style=\"font-size:12px;\">Synth(𝍪 <strong style=\"color:MediumSeaGreen\">test5</strong>:504.0002)</span></p>"
      ],
      "text/plain": [
       "Synth(𝍪 test5=504.0002 start=31.429 dur=-1.000 p5=4)"
      ]
     },
     "execution_count": 15,
     "metadata": {},
     "output_type": "execute_result"
    }
   ],
   "source": [
    "bus = s.assignBus(value=1000)\n",
    "print(bus)\n",
    "synth = s.sched(name, ibus=bus.token)\n",
    "bus.automate((0, 800, 3, 500), overtake=False)\n",
    "synth"
   ]
  },
  {
   "cell_type": "code",
   "execution_count": 16,
   "id": "65391b07-4bdf-4849-a26e-c529adab656f",
   "metadata": {},
   "outputs": [],
   "source": [
    "synth.stop()"
   ]
  },
  {
   "cell_type": "code",
   "execution_count": 20,
   "id": "add70581-6463-473a-9b0f-1bc6234e2b56",
   "metadata": {},
   "outputs": [],
   "source": [
    "e = s.engine\n",
    "\n",
    "buses = [e.assignBus(value=600) for _ in range(200)]\n",
    "e.sync()\n",
    "for bus in buses:\n",
    "    synth = s.sched('test5', dur=1, ibus=bus)\n",
    "    e.writeBus(bus, 700, 0.001)\n",
    "    "
   ]
  },
  {
   "cell_type": "code",
   "execution_count": 23,
   "id": "3853c1b4-f152-4a98-8231-77e27b6f7c3b",
   "metadata": {},
   "outputs": [],
   "source": [
    "s.defInstr('test', r'''\n",
    "  ibus = p5\n",
    "  kfreq = busin:k(ibus)\n",
    "  outch 1, oscili:a(0.05, lag(kfreq, 0.01))\n",
    "''')\n",
    "\n",
    "buses = [s.assignBus(value=2000) for _ in range(200)]\n",
    "for bus in buses:\n",
    "    synth = s.sched('test', dur=1, ibus=bus.token)\n",
    "    bus.set(1000, 0)\n",
    "    "
   ]
  },
  {
   "cell_type": "code",
   "execution_count": 24,
   "id": "25978d18-c6a6-4d44-82f4-9856b2d1c9cb",
   "metadata": {},
   "outputs": [],
   "source": [
    "e.writeBus(bus.token, 1500)"
   ]
  },
  {
   "cell_type": "code",
   "execution_count": 28,
   "id": "658c6bc6-c3b3-4822-97d8-ff21dd150e18",
   "metadata": {},
   "outputs": [],
   "source": [
    "bus.set(1600)"
   ]
  },
  {
   "cell_type": "code",
   "execution_count": 18,
   "id": "c0bbe2fa-452a-49f1-af20-681a8be23c99",
   "metadata": {},
   "outputs": [
    {
     "name": "stderr",
     "output_type": "stream",
     "text": [
      "end of section 1\t sect peak amps:  0.87595  0.00000\n",
      "SECTION 1:\n",
      "\u001b[m"
     ]
    }
   ],
   "source": [
    "e.unschedAll()"
   ]
  },
  {
   "cell_type": "code",
   "execution_count": 20,
   "id": "773a206e-7e8d-498a-b130-938d43ca2277",
   "metadata": {},
   "outputs": [
    {
     "data": {
      "text/html": [
       "Instr <strong style=\"color:MediumSeaGreen\">receiver</strong><br>\n",
       "&nbsp&nbsp&nbsp&nbsp<span style=\"font-size:90%\"><b>ibus</b>=<code>0</code></span>, <span style=\"font-size:90%\"><b>kgain</b>=<code>0</code></span><br>\n",
       "<hr style=\"width:38%;text-align:left;margin-left:0;border: 1px dashed; background: transparent;\">\n",
       "<span style=\"font-size:90%\"><div class=\"highlight\" style=\"background: #f8f8f8\"><pre style=\"line-height: 125%;\"><span></span><code><span style=\"color: #B00040\">i</span>bus<span style=\"color: #bbbbbb\">  </span><span style=\"color: #666666\">=</span><span style=\"color: #bbbbbb\"> </span><span style=\"color: #19177C\">p5</span>\n",
       "<span style=\"color: #B00040\">k</span>gain<span style=\"color: #bbbbbb\"> </span><span style=\"color: #666666\">=</span><span style=\"color: #bbbbbb\"> </span><span style=\"color: #19177C\">p6</span>\n",
       "<span style=\"color: #B00040\">a</span>sig<span style=\"color: #bbbbbb\"> </span><span style=\"color: #666666\">=</span><span style=\"color: #bbbbbb\"> </span>busin:a(<span style=\"color: #B00040\">i</span>bus)\n",
       "<span style=\"color: #B00040\">a</span>sig<span style=\"color: #bbbbbb\"> </span><span style=\"color: #666666\">*=</span><span style=\"color: #bbbbbb\"> </span><span style=\"color: #008000\">a</span>(<span style=\"color: #B00040\">k</span>gain)\n",
       "<span style=\"color: #008000\">outch</span><span style=\"color: #bbbbbb\"> </span><span style=\"color: #666666\">1</span>,<span style=\"color: #bbbbbb\"> </span><span style=\"color: #B00040\">a</span>sig\n",
       "</code></pre></div>\n",
       "</span>"
      ],
      "text/plain": [
       "Instr(receiver, ibus:5, kgain:6)"
      ]
     },
     "execution_count": 20,
     "metadata": {},
     "output_type": "execute_result"
    }
   ],
   "source": [
    "s.defInstr('sender', r'''\n",
    "ibus = p5\n",
    "ifreqbus = p6\n",
    "kfreq = busin:k(ifreqbus)\n",
    "asig oscili 0.1, lag:k(kfreq, 0.01)\n",
    "busout(ibus, asig)\n",
    "''')\n",
    "\n",
    "s.defInstr('receiver', r'''\n",
    "ibus  = p5\n",
    "kgain = p6\n",
    "asig = busin:a(ibus)\n",
    "asig *= a(kgain)\n",
    "outch 1, asig\n",
    "''')\n"
   ]
  },
  {
   "cell_type": "code",
   "execution_count": 27,
   "id": "9173e2b2-c037-493e-bd4a-54bb6758dfa4",
   "metadata": {},
   "outputs": [
    {
     "data": {
      "application/vnd.jupyter.widget-view+json": {
       "model_id": "742908216d50432b8d7161f3f8e9efed",
       "version_major": 2,
       "version_minor": 0
      },
      "text/plain": [
       "Button(description='Stop', style=ButtonStyle())"
      ]
     },
     "metadata": {},
     "output_type": "display_data"
    },
    {
     "data": {
      "application/vnd.jupyter.widget-view+json": {
       "model_id": "c96aee393e35437180375cb69648306b",
       "version_major": 2,
       "version_minor": 0
      },
      "text/plain": [
       "Output()"
      ]
     },
     "metadata": {},
     "output_type": "display_data"
    },
    {
     "data": {
      "text/html": [
       "<small><span style=\"\"><b>SynthGroup</b></span>(synths=<code style=\"\">2</code>)</small>\n",
       "<p><small>Instr: <strong style=\"color:MediumSeaGreen\">sender</strong> - <b>1</b> synths</small></p>\n",
       "<table style=\"font-size: smaller\"<thead><tr><th style=\"text-align:left\">p1</th><th style=\"text-align:left\">start</th><th style=\"text-align:left\">dur</th><th style=\"text-align:left\">p4</th><th style=\"text-align:left\">ibus</th><th style=\"text-align:left\">ifreqbus</th></tr></thead><tbody><tr><td style=\"text-align:left\">501.0018 <b>𝍪</b></td><td style=\"text-align:left\">0.034</td><td style=\"text-align:left\">-1.000</td><td style=\"text-align:left\">0</td><td style=\"text-align:left\">32</td><td style=\"text-align:left\">33</td></tr></tbody></table>\n",
       "<p><small>Instr: <strong style=\"color:MediumSeaGreen\">receiver</strong> - <b>1</b> synths</small></p>\n",
       "<table style=\"font-size: smaller\"<thead><tr><th style=\"text-align:left\">p1</th><th style=\"text-align:left\">start</th><th style=\"text-align:left\">dur</th><th style=\"text-align:left\">p4</th><th style=\"text-align:left\">ibus</th><th style=\"text-align:left\">kgain</th></tr></thead><tbody><tr><td style=\"text-align:left\">502.0018 <b>𝍪</b></td><td style=\"text-align:left\">0.034</td><td style=\"text-align:left\">-1.000</td><td style=\"text-align:left\">0</td><td style=\"text-align:left\">32</td><td style=\"text-align:left\">0.5</td></tr></tbody></table>"
      ],
      "text/plain": [
       "SynthGroup(n=2)\n",
       "    Synth(𝍪 sender=501.0018 start=409.161 dur=-1.000 p5=32 ibus=33)\n",
       "    Synth(𝍪 receiver=502.0018 start=409.161 dur=-1.000 p5=32 ibus=0.5)"
      ]
     },
     "execution_count": 27,
     "metadata": {},
     "output_type": "execute_result"
    }
   ],
   "source": [
    "bus = s.assignBus()\n",
    "freqbus = s.assignBus(value=600)\n",
    "\n",
    "chain = SynthGroup([s.sched('sender', ibus=bus, ifreqbus=freqbus),\n",
    "                    s.sched('receiver', ibus=bus, kgain=0.5)])\n",
    "# automate wins over set\n",
    "freqbus.set(1500, delay=1.5)\n",
    "freqbus.automate((0, 0, 1, 400), delay=1, overtake=True)\n",
    "\n",
    "chain"
   ]
  },
  {
   "cell_type": "code",
   "execution_count": 15,
   "id": "c911e207-c828-466f-b26a-94df72de7fd3",
   "metadata": {},
   "outputs": [],
   "source": [
    "s.unschedAll()"
   ]
  },
  {
   "cell_type": "code",
   "execution_count": null,
   "id": "2fda2329-be8d-431b-9c90-0b9b09e405f7",
   "metadata": {},
   "outputs": [],
   "source": []
  }
 ],
 "metadata": {
  "kernelspec": {
   "display_name": "Python 3 (ipykernel)",
   "language": "python",
   "name": "python3"
  },
  "language_info": {
   "codemirror_mode": {
    "name": "ipython",
    "version": 3
   },
   "file_extension": ".py",
   "mimetype": "text/x-python",
   "name": "python",
   "nbconvert_exporter": "python",
   "pygments_lexer": "ipython3",
   "version": "3.12.3"
  }
 },
 "nbformat": 4,
 "nbformat_minor": 5
}
