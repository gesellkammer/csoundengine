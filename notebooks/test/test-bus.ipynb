{
 "cells": [
  {
   "cell_type": "code",
   "execution_count": 1,
   "id": "f1cf65f4-aa7c-4457-adaf-2713a9b8b8c9",
   "metadata": {},
   "outputs": [
    {
     "name": "stderr",
     "output_type": "stream",
     "text": [
      "\n",
      "\n",
      "\n",
      "--Csound version 6.19 (double samples) Oct 30 2023\n",
      "[commit: 79e5d31bea441e5289073319ab2b1e42d01814b9]\n",
      "\u001b[mlibsndfile-1.2.0\n",
      "\u001b[msr = 48000.0,\u001b[m kr = 750.000,\u001b[m ksmps = 64\n",
      "\u001b[m0dBFS level = 1.0,\u001b[m A4 tuning = 440.0\n",
      "\u001b[maudio buffered in 512 sample-frame blocks\n",
      "\u001b[mreading 4096-byte blks of shorts from adc:Built-in Audio Pro: (RAW)\n",
      "writing 1024 sample blks of 64-bit floats to dac:Built-in Audio Pro:\n",
      "SECTION 1:\n"
     ]
    }
   ],
   "source": [
    "from csoundengine import *\n",
    "\n",
    "e = Engine()\n",
    "s = e.session()"
   ]
  },
  {
   "cell_type": "code",
   "execution_count": 2,
   "id": "3ad25185-771f-43a8-bc5f-d3fdff6e560d",
   "metadata": {},
   "outputs": [],
   "source": [
    "tab = s.readSoundfile('/home/em/Lib/snd/samples/test/piano-pitchtest-Cmaj-M-N.flac')\n",
    "s.defInstr('test0', r'''\n",
    "kfreq = p5\n",
    "outch 1, oscili:a(0.05, lag(kfreq, 0.01))\n",
    "''')\n",
    "s.sched('test0', 0, 2, kfreq=440)\n",
    "ev = s.playSample(tab)"
   ]
  },
  {
   "cell_type": "code",
   "execution_count": 3,
   "id": "40ed52f3-9c4b-4154-bbc4-e781da6a9288",
   "metadata": {},
   "outputs": [
    {
     "data": {
      "text/plain": [
       "[0, 301, 0.0, 0.05, 0.05, 0, 1, 1.0, 1.0, 0.5, -1]"
      ]
     },
     "execution_count": 3,
     "metadata": {},
     "output_type": "execute_result"
    }
   ],
   "source": [
    "ev.args"
   ]
  },
  {
   "cell_type": "code",
   "execution_count": 4,
   "id": "b8f723e0-ee4d-4782-b49f-633e71e0d80a",
   "metadata": {},
   "outputs": [
    {
     "data": {
      "text/html": [
       "Instr <strong style=\"color:MediumSeaGreen\">.playSample</strong><br>\n",
       "&nbsp&nbsp&nbsp&nbsp<span style=\"font-size:90%\"><b>isndtab</b>:p5=<code>0</code></span>, <span style=\"font-size:90%\"><b>istart</b>:p6=<code>0</code></span>, <span style=\"font-size:90%\"><b>ifadein</b>:p7=<code>0</code></span>, <span style=\"font-size:90%\"><b>ifadeout</b>:p8=<code>0</code></span>, <span style=\"font-size:90%\"><b>igaingroup</b>:p9=<code>0</code></span><br>\n",
       "&nbsp&nbsp&nbsp&nbsp<span style=\"font-size:90%\"><b>kchan</b>:p10=<code>1</code></span>, <span style=\"font-size:90%\"><b>speed</b>:p11=<code>1</code></span>, <span style=\"font-size:90%\"><b>gain</b>:p12=<code>1</code></span>, <span style=\"font-size:90%\"><b>pan</b>:p13=<code>0.5</code></span>, <span style=\"font-size:90%\"><b>ixfade</b>:p14=<code>-1</code></span><br>\n",
       "<hr style=\"width:38%;text-align:left;margin-left:0\">\n",
       "<span style=\"font-size:90%\"><div class=\"highlight\" style=\"background: #f8f8f8\"><pre style=\"line-height: 125%;\"><span></span><code><span style=\"color: #3D7B7B; font-style: italic\">; Play a sample loaded via GEN01</span>\n",
       "<span style=\"color: #3D7B7B; font-style: italic\">; Args:</span>\n",
       "<span style=\"color: #3D7B7B; font-style: italic\">;   istart: the start time within the sample</span>\n",
       "<span style=\"color: #3D7B7B; font-style: italic\">;   ifade: fade in / out</span>\n",
       "<span style=\"color: #3D7B7B; font-style: italic\">;   kchan: output channel</span>\n",
       "<span style=\"color: #3D7B7B; font-style: italic\">;   kspeed: playback speed</span>\n",
       "<span style=\"color: #3D7B7B; font-style: italic\">;   kgain: gain</span>\n",
       "<span style=\"color: #3D7B7B; font-style: italic\">;   kpan: pan position, between 0-1. Use -1 to use default, which is 0 for mono and 0.5 for stereo</span>\n",
       "<span style=\"color: #3D7B7B; font-style: italic\">;   ixfade: crossfade time, if negative no looping</span>\n",
       "<span style=\"color: #B00040\">i</span>loop<span style=\"color: #bbbbbb\"> </span><span style=\"color: #666666\">=</span><span style=\"color: #bbbbbb\"> </span><span style=\"color: #B00040\">i</span>xfade<span style=\"color: #bbbbbb\"> </span><span style=\"color: #666666\">&gt;=</span><span style=\"color: #bbbbbb\"> </span><span style=\"color: #666666\">0</span><span style=\"color: #bbbbbb\"> </span><span style=\"color: #666666\">?</span><span style=\"color: #bbbbbb\"> </span><span style=\"color: #666666\">1</span><span style=\"color: #bbbbbb\"> </span><span style=\"color: #666666\">:</span><span style=\"color: #bbbbbb\"> </span><span style=\"color: #666666\">0</span>\n",
       "<span style=\"color: #B00040\">i</span>onecycle<span style=\"color: #bbbbbb\"> </span><span style=\"color: #666666\">=</span><span style=\"color: #bbbbbb\"> </span><span style=\"color: #19177C\">ksmps</span><span style=\"color: #666666\">/</span><span style=\"color: #19177C\">sr</span>\n",
       "<span style=\"color: #B00040\">i</span>fadein<span style=\"color: #bbbbbb\"> </span><span style=\"color: #666666\">=</span><span style=\"color: #bbbbbb\"> </span><span style=\"color: #008000\">max</span>(<span style=\"color: #B00040\">i</span>fadein,<span style=\"color: #bbbbbb\"> </span><span style=\"color: #B00040\">i</span>onecycle)\n",
       "<span style=\"color: #B00040\">i</span>fadeout<span style=\"color: #bbbbbb\"> </span><span style=\"color: #666666\">=</span><span style=\"color: #bbbbbb\"> </span><span style=\"color: #008000\">max</span>(<span style=\"color: #B00040\">i</span>fadeout,<span style=\"color: #bbbbbb\"> </span><span style=\"color: #B00040\">i</span>onecycle)\n",
       "<span style=\"color: #B00040\">i</span>gaingroup<span style=\"color: #bbbbbb\"> </span><span style=\"color: #666666\">=</span><span style=\"color: #bbbbbb\"> </span><span style=\"color: #008000\">limit</span>(<span style=\"color: #B00040\">i</span>gaingroup,<span style=\"color: #bbbbbb\"> </span><span style=\"color: #666666\">0</span>,<span style=\"color: #bbbbbb\"> </span><span style=\"color: #666666\">100</span>)\n",
       "<span style=\"color: #B00040\">i</span>numouts<span style=\"color: #bbbbbb\"> </span><span style=\"color: #666666\">=</span><span style=\"color: #bbbbbb\"> </span><span style=\"color: #008000\">ftchnls</span>(<span style=\"color: #B00040\">i</span>sndtab)\n",
       "<span style=\"color: #B00040\">i</span>numsamples<span style=\"color: #bbbbbb\"> </span><span style=\"color: #666666\">=</span><span style=\"color: #bbbbbb\"> </span><span style=\"color: #008000\">nsamp</span>(<span style=\"color: #B00040\">i</span>sndtab)\n",
       "<span style=\"color: #B00040\">i</span>sr<span style=\"color: #bbbbbb\"> </span><span style=\"color: #666666\">=</span><span style=\"color: #bbbbbb\"> </span><span style=\"color: #008000\">ftsr</span>(<span style=\"color: #B00040\">i</span>sndtab)\n",
       "\n",
       "<span style=\"color: #008000; font-weight: bold\">if</span><span style=\"color: #bbbbbb\"> </span><span style=\"color: #B00040\">i</span>sr<span style=\"color: #bbbbbb\"> </span><span style=\"color: #666666\">&lt;=</span><span style=\"color: #bbbbbb\"> </span><span style=\"color: #666666\">0</span><span style=\"color: #bbbbbb\"> </span><span style=\"color: #008000; font-weight: bold\">then</span>\n",
       "<span style=\"color: #bbbbbb\">    </span><span style=\"color: #B00040\">i</span>niterror<span style=\"color: #bbbbbb\"> </span><span style=\"color: #008000\">sprintf</span>(<span style=\"color: #BA2121\">&quot;Could not determine sr of table </span><span style=\"color: #A45A77; font-weight: bold\">%d</span><span style=\"color: #BA2121\">&quot;</span>,<span style=\"color: #bbbbbb\"> </span><span style=\"color: #B00040\">i</span>sndtab)\n",
       "<span style=\"color: #008000; font-weight: bold\">endif</span>\n",
       "<span style=\"color: #B00040\">i</span>dur<span style=\"color: #bbbbbb\"> </span><span style=\"color: #666666\">=</span><span style=\"color: #bbbbbb\"> </span><span style=\"color: #B00040\">i</span>numsamples<span style=\"color: #bbbbbb\"> </span><span style=\"color: #666666\">/</span><span style=\"color: #bbbbbb\"> </span><span style=\"color: #B00040\">i</span>sr\n",
       "\n",
       "<span style=\"color: #B00040\">k</span>now<span style=\"color: #bbbbbb\"> </span><span style=\"color: #008000\">init</span><span style=\"color: #bbbbbb\"> </span><span style=\"color: #B00040\">i</span>start\n",
       "<span style=\"color: #B00040\">k</span>subgain<span style=\"color: #bbbbbb\"> </span><span style=\"color: #666666\">=</span><span style=\"color: #bbbbbb\"> </span><span style=\"color: #008000\">table</span>:<span style=\"color: #B00040\">k</span>(<span style=\"color: #B00040\">i</span>gaingroup,<span style=\"color: #bbbbbb\"> </span><span style=\"color: #B00040\">gi</span>__subgains)\n",
       "<span style=\"color: #008000; font-weight: bold\">if</span><span style=\"color: #bbbbbb\"> </span><span style=\"color: #B00040\">i</span>numouts<span style=\"color: #bbbbbb\"> </span><span style=\"color: #666666\">==</span><span style=\"color: #bbbbbb\"> </span><span style=\"color: #666666\">0</span><span style=\"color: #bbbbbb\"> </span><span style=\"color: #008000; font-weight: bold\">then</span>\n",
       "<span style=\"color: #bbbbbb\">    </span><span style=\"color: #3D7B7B; font-style: italic\">; not a gen1 table, fail</span>\n",
       "<span style=\"color: #bbbbbb\">    </span><span style=\"color: #B00040\">i</span>niterror<span style=\"color: #bbbbbb\"> </span><span style=\"color: #008000\">sprintf</span>(<span style=\"color: #BA2121\">&quot;Table </span><span style=\"color: #A45A77; font-weight: bold\">%d</span><span style=\"color: #BA2121\"> was not generated via gen1&quot;</span>,<span style=\"color: #bbbbbb\"> </span><span style=\"color: #B00040\">i</span>sndtab)\n",
       "<span style=\"color: #008000; font-weight: bold\">endif</span>\n",
       "\n",
       "<span style=\"color: #B00040\">k</span>idx<span style=\"color: #bbbbbb\"> </span><span style=\"color: #008000\">init</span><span style=\"color: #bbbbbb\"> </span><span style=\"color: #666666\">0</span>\n",
       "<span style=\"color: #B00040\">a</span>env<span style=\"color: #bbbbbb\"> </span><span style=\"color: #666666\">=</span><span style=\"color: #bbbbbb\"> </span><span style=\"color: #008000\">linsegr</span>:<span style=\"color: #B00040\">a</span>(<span style=\"color: #666666\">0</span>,<span style=\"color: #bbbbbb\"> </span><span style=\"color: #B00040\">i</span>fadein,<span style=\"color: #bbbbbb\"> </span><span style=\"color: #666666\">1</span>,<span style=\"color: #bbbbbb\"> </span><span style=\"color: #B00040\">i</span>fadeout,<span style=\"color: #bbbbbb\"> </span><span style=\"color: #666666\">0</span>)\n",
       "<span style=\"color: #B00040\">k</span>gain2<span style=\"color: #bbbbbb\"> </span><span style=\"color: #666666\">=</span><span style=\"color: #bbbbbb\"> </span><span style=\"color: #B00040\">k</span>gain<span style=\"color: #666666\">*</span><span style=\"color: #B00040\">k</span>subgain\n",
       "<span style=\"color: #008000; font-weight: bold\">if</span><span style=\"color: #bbbbbb\"> </span><span style=\"color: #B00040\">k</span>gain2<span style=\"color: #bbbbbb\"> </span><span style=\"color: #666666\">!=</span><span style=\"color: #bbbbbb\"> </span><span style=\"color: #666666\">1</span><span style=\"color: #bbbbbb\"> </span><span style=\"color: #008000; font-weight: bold\">then</span>\n",
       "<span style=\"color: #bbbbbb\">    </span><span style=\"color: #B00040\">a</span>env<span style=\"color: #bbbbbb\"> </span><span style=\"color: #666666\">*=</span><span style=\"color: #bbbbbb\"> </span><span style=\"color: #008000\">a</span>(<span style=\"color: #B00040\">k</span>subgain<span style=\"color: #666666\">*</span><span style=\"color: #B00040\">k</span>gain)\n",
       "<span style=\"color: #008000; font-weight: bold\">endif</span>\n",
       "\n",
       "<span style=\"color: #008000; font-weight: bold\">if</span><span style=\"color: #bbbbbb\"> </span><span style=\"color: #B00040\">i</span>numouts<span style=\"color: #bbbbbb\"> </span><span style=\"color: #666666\">==</span><span style=\"color: #bbbbbb\"> </span><span style=\"color: #666666\">1</span><span style=\"color: #bbbbbb\"> </span><span style=\"color: #008000; font-weight: bold\">then</span>\n",
       "<span style=\"color: #bbbbbb\">    </span><span style=\"color: #3D7B7B; font-style: italic\">; a1 flooper2 1, kspeed, istart, idur, ixfade, isndtab, istart</span>\n",
       "<span style=\"color: #bbbbbb\">    </span><span style=\"color: #B00040\">a</span>1<span style=\"color: #bbbbbb\"> </span><span style=\"color: #008000\">flooper2</span><span style=\"color: #bbbbbb\"> </span><span style=\"color: #666666\">1</span>,<span style=\"color: #bbbbbb\"> </span><span style=\"color: #B00040\">k</span>speed,<span style=\"color: #bbbbbb\"> </span><span style=\"color: #B00040\">i</span>start,<span style=\"color: #bbbbbb\"> </span><span style=\"color: #B00040\">i</span>dur,<span style=\"color: #bbbbbb\"> </span><span style=\"color: #B00040\">i</span>xfade,<span style=\"color: #bbbbbb\"> </span><span style=\"color: #B00040\">i</span>sndtab,<span style=\"color: #bbbbbb\"> </span><span style=\"color: #B00040\">i</span>start\n",
       "<span style=\"color: #bbbbbb\">    </span><span style=\"color: #B00040\">a</span>1<span style=\"color: #bbbbbb\"> </span><span style=\"color: #666666\">*=</span><span style=\"color: #bbbbbb\"> </span><span style=\"color: #B00040\">a</span>env\n",
       "<span style=\"color: #bbbbbb\">    </span><span style=\"color: #B00040\">a</span>L,<span style=\"color: #bbbbbb\"> </span><span style=\"color: #B00040\">a</span>R<span style=\"color: #bbbbbb\"> </span><span style=\"color: #008000\">pan2</span><span style=\"color: #bbbbbb\"> </span><span style=\"color: #B00040\">a</span>1,<span style=\"color: #bbbbbb\"> </span><span style=\"color: #B00040\">k</span>pan\n",
       "<span style=\"color: #bbbbbb\">    </span><span style=\"color: #008000\">outch</span><span style=\"color: #bbbbbb\"> </span><span style=\"color: #B00040\">k</span>chan,<span style=\"color: #bbbbbb\"> </span><span style=\"color: #B00040\">a</span>L,<span style=\"color: #bbbbbb\"> </span><span style=\"color: #B00040\">k</span>chan<span style=\"color: #666666\">+1</span>,<span style=\"color: #bbbbbb\"> </span><span style=\"color: #B00040\">a</span>R\n",
       "<span style=\"color: #008000; font-weight: bold\">elseif</span><span style=\"color: #bbbbbb\"> </span><span style=\"color: #B00040\">i</span>numouts<span style=\"color: #bbbbbb\"> </span><span style=\"color: #666666\">==</span><span style=\"color: #bbbbbb\"> </span><span style=\"color: #666666\">2</span><span style=\"color: #bbbbbb\"> </span><span style=\"color: #008000; font-weight: bold\">then</span>\n",
       "<span style=\"color: #bbbbbb\">    </span><span style=\"color: #B00040\">a</span>1,<span style=\"color: #bbbbbb\"> </span><span style=\"color: #B00040\">a</span>2<span style=\"color: #bbbbbb\"> </span><span style=\"color: #008000\">flooper2</span><span style=\"color: #bbbbbb\"> </span><span style=\"color: #666666\">1</span>,<span style=\"color: #bbbbbb\"> </span><span style=\"color: #B00040\">k</span>speed,<span style=\"color: #bbbbbb\"> </span><span style=\"color: #B00040\">i</span>start,<span style=\"color: #bbbbbb\"> </span><span style=\"color: #B00040\">i</span>dur,<span style=\"color: #bbbbbb\"> </span><span style=\"color: #B00040\">i</span>xfade,<span style=\"color: #bbbbbb\"> </span><span style=\"color: #B00040\">i</span>sndtab,<span style=\"color: #bbbbbb\"> </span><span style=\"color: #B00040\">i</span>start\n",
       "<span style=\"color: #bbbbbb\">    </span><span style=\"color: #3D7B7B; font-style: italic\">; a1, a2 loscil3 1, ispeed*kspeed, isndtab, 1, iloop</span>\n",
       "<span style=\"color: #bbbbbb\">    </span><span style=\"color: #B00040\">a</span>1<span style=\"color: #bbbbbb\"> </span><span style=\"color: #666666\">*=</span><span style=\"color: #bbbbbb\"> </span><span style=\"color: #B00040\">a</span>env\n",
       "<span style=\"color: #bbbbbb\">    </span><span style=\"color: #B00040\">a</span>2<span style=\"color: #bbbbbb\"> </span><span style=\"color: #666666\">*=</span><span style=\"color: #bbbbbb\"> </span><span style=\"color: #B00040\">a</span>env\n",
       "<span style=\"color: #bbbbbb\">    </span><span style=\"color: #B00040\">k</span>L,<span style=\"color: #bbbbbb\"> </span><span style=\"color: #B00040\">k</span>R<span style=\"color: #bbbbbb\"> </span>_panweights<span style=\"color: #bbbbbb\"> </span><span style=\"color: #B00040\">k</span>pan\n",
       "<span style=\"color: #bbbbbb\">    </span><span style=\"color: #008000; font-weight: bold\">if</span><span style=\"color: #bbbbbb\"> </span><span style=\"color: #B00040\">k</span>L<span style=\"color: #bbbbbb\"> </span><span style=\"color: #666666\">!=</span><span style=\"color: #bbbbbb\"> </span><span style=\"color: #666666\">1</span><span style=\"color: #bbbbbb\"> </span><span style=\"color: #008000; font-weight: bold\">then</span>\n",
       "<span style=\"color: #bbbbbb\">        </span><span style=\"color: #B00040\">a</span>1<span style=\"color: #bbbbbb\"> </span><span style=\"color: #666666\">*=</span><span style=\"color: #bbbbbb\"> </span><span style=\"color: #B00040\">k</span>L\n",
       "<span style=\"color: #bbbbbb\">        </span><span style=\"color: #B00040\">a</span>2<span style=\"color: #bbbbbb\"> </span><span style=\"color: #666666\">*=</span><span style=\"color: #bbbbbb\"> </span><span style=\"color: #B00040\">k</span>R\n",
       "<span style=\"color: #bbbbbb\">    </span><span style=\"color: #008000; font-weight: bold\">endif</span>\n",
       "<span style=\"color: #bbbbbb\">    </span><span style=\"color: #008000\">outch</span><span style=\"color: #bbbbbb\"> </span><span style=\"color: #B00040\">k</span>chan,<span style=\"color: #bbbbbb\"> </span><span style=\"color: #B00040\">a</span>1,<span style=\"color: #bbbbbb\"> </span><span style=\"color: #B00040\">k</span>chan<span style=\"color: #666666\">+1</span>,<span style=\"color: #bbbbbb\"> </span><span style=\"color: #B00040\">a</span>2\n",
       "<span style=\"color: #008000; font-weight: bold\">else</span>\n",
       "<span style=\"color: #bbbbbb\">    </span><span style=\"color: #3D7B7B; font-style: italic\">; TODO: test samplerate speed compensation</span>\n",
       "<span style=\"color: #bbbbbb\">    </span><span style=\"color: #3D7B7B; font-style: italic\">; 4: cubic interpolation</span>\n",
       "<span style=\"color: #bbbbbb\">    </span><span style=\"color: #3D7B7B; font-style: italic\">; 1: ibas, base frequency</span>\n",
       "<span style=\"color: #bbbbbb\">    </span><span style=\"color: #3D7B7B; font-style: italic\">; NB: loscilx has no crossfade</span>\n",
       "<span style=\"color: #bbbbbb\">    </span><span style=\"color: #B00040\">a</span>outs[]<span style=\"color: #bbbbbb\"> </span><span style=\"color: #008000\">loscilx</span><span style=\"color: #bbbbbb\"> </span><span style=\"color: #666666\">1</span>,<span style=\"color: #bbbbbb\"> </span><span style=\"color: #B00040\">k</span>speed,<span style=\"color: #bbbbbb\"> </span><span style=\"color: #B00040\">i</span>sndtab,<span style=\"color: #bbbbbb\"> </span><span style=\"color: #666666\">4</span>,<span style=\"color: #bbbbbb\"> </span><span style=\"color: #666666\">1</span>,<span style=\"color: #bbbbbb\"> </span><span style=\"color: #B00040\">i</span>loop\n",
       "<span style=\"color: #bbbbbb\">    </span><span style=\"color: #B00040\">a</span>outs<span style=\"color: #bbbbbb\"> </span><span style=\"color: #666666\">*=</span><span style=\"color: #bbbbbb\"> </span><span style=\"color: #B00040\">a</span>env\n",
       "<span style=\"color: #bbbbbb\">    </span><span style=\"color: #B00040\">k</span>idx<span style=\"color: #bbbbbb\"> </span><span style=\"color: #666666\">=</span><span style=\"color: #bbbbbb\"> </span><span style=\"color: #666666\">0</span>\n",
       "<span style=\"color: #bbbbbb\">    </span><span style=\"color: #008000; font-weight: bold\">while</span><span style=\"color: #bbbbbb\"> </span><span style=\"color: #B00040\">k</span>idx<span style=\"color: #bbbbbb\"> </span><span style=\"color: #666666\">&lt;</span><span style=\"color: #bbbbbb\"> </span><span style=\"color: #B00040\">i</span>numouts<span style=\"color: #bbbbbb\"> </span><span style=\"color: #008000; font-weight: bold\">do</span>\n",
       "<span style=\"color: #bbbbbb\">        </span><span style=\"color: #008000\">outch</span><span style=\"color: #bbbbbb\"> </span><span style=\"color: #B00040\">k</span>chan<span style=\"color: #666666\">+</span><span style=\"color: #B00040\">k</span>idx,<span style=\"color: #bbbbbb\"> </span><span style=\"color: #B00040\">a</span>outs[<span style=\"color: #B00040\">k</span>idx]\n",
       "<span style=\"color: #bbbbbb\">        </span><span style=\"color: #B00040\">k</span>chan<span style=\"color: #bbbbbb\"> </span><span style=\"color: #666666\">+=</span><span style=\"color: #bbbbbb\"> </span><span style=\"color: #666666\">1</span>\n",
       "<span style=\"color: #bbbbbb\">    </span><span style=\"color: #008000; font-weight: bold\">od</span>\n",
       "<span style=\"color: #008000; font-weight: bold\">endif</span><span style=\"color: #bbbbbb\">   </span>\n",
       "<span style=\"color: #B00040\">k</span>now<span style=\"color: #bbbbbb\"> </span><span style=\"color: #666666\">+=</span><span style=\"color: #bbbbbb\"> </span><span style=\"color: #B00040\">i</span>onecycle<span style=\"color: #bbbbbb\"> </span><span style=\"color: #666666\">*</span><span style=\"color: #bbbbbb\"> </span><span style=\"color: #B00040\">k</span>speed\n",
       "<span style=\"color: #B00040\">i</span>maxtime<span style=\"color: #bbbbbb\"> </span><span style=\"color: #666666\">=</span><span style=\"color: #bbbbbb\"> </span><span style=\"color: #B00040\">i</span>dur<span style=\"color: #bbbbbb\"> </span><span style=\"color: #666666\">-</span><span style=\"color: #bbbbbb\"> </span><span style=\"color: #B00040\">i</span>fadeout<span style=\"color: #bbbbbb\"> </span><span style=\"color: #666666\">-</span><span style=\"color: #bbbbbb\"> </span><span style=\"color: #B00040\">i</span>onecycle\n",
       "<span style=\"color: #008000; font-weight: bold\">if</span><span style=\"color: #bbbbbb\"> </span><span style=\"color: #B00040\">i</span>loop<span style=\"color: #bbbbbb\"> </span><span style=\"color: #666666\">==</span><span style=\"color: #bbbbbb\"> </span><span style=\"color: #666666\">0</span><span style=\"color: #bbbbbb\"> </span><span style=\"color: #666666\">&amp;&amp;</span><span style=\"color: #bbbbbb\"> </span><span style=\"color: #B00040\">k</span>now<span style=\"color: #bbbbbb\"> </span><span style=\"color: #666666\">&gt;=</span><span style=\"color: #bbbbbb\"> </span><span style=\"color: #B00040\">i</span>maxtime<span style=\"color: #bbbbbb\"> </span><span style=\"color: #008000; font-weight: bold\">then</span>\n",
       "<span style=\"color: #bbbbbb\">    </span><span style=\"color: #008000\">turnoff</span>\n",
       "<span style=\"color: #008000; font-weight: bold\">endif</span><span style=\"color: #bbbbbb\">   </span>\n",
       "</code></pre></div>\n",
       "</span>"
      ],
      "text/plain": [
       "Instr(.playSample, isndtab:5=0, istart:6=0, ifadein:7=0, ifadeout:8=0, igaingroup:9=0, kchan:10=1, speed(kspeed):11=1, gain(kgain):12=1, pan(kpan):13=0.5, ixfade:14=-1)"
      ]
     },
     "execution_count": 4,
     "metadata": {},
     "output_type": "execute_result"
    }
   ],
   "source": [
    "s.getInstr('.playSample')"
   ]
  },
  {
   "cell_type": "code",
   "execution_count": 5,
   "id": "ab5761b6-d011-4f9e-91d4-78f66dafe80c",
   "metadata": {},
   "outputs": [
    {
     "data": {
      "text/html": [
       "Instr <strong style=\"color:MediumSeaGreen\">test1</strong><br>\n",
       "&nbsp&nbsp&nbsp&nbsp<span style=\"font-size:90%\"><b>kfreq</b>:p5=<code>0</code></span><br>\n",
       "<hr style=\"width:38%;text-align:left;margin-left:0\">\n",
       "<span style=\"font-size:90%\"><div class=\"highlight\" style=\"background: #f8f8f8\"><pre style=\"line-height: 125%;\"><span></span><code><span style=\"color: #008000\">outch</span><span style=\"color: #bbbbbb\"> </span><span style=\"color: #666666\">1</span>,<span style=\"color: #bbbbbb\"> </span><span style=\"color: #008000\">oscili</span>:<span style=\"color: #B00040\">a</span>(<span style=\"color: #666666\">0.05</span>,<span style=\"color: #bbbbbb\"> </span><span style=\"color: #008000\">lag</span>(<span style=\"color: #B00040\">k</span>freq,<span style=\"color: #bbbbbb\"> </span><span style=\"color: #666666\">0.01</span>))\n",
       "</code></pre></div>\n",
       "</span>"
      ],
      "text/plain": [
       "Instr(test1, kfreq:5=0)"
      ]
     },
     "execution_count": 5,
     "metadata": {},
     "output_type": "execute_result"
    }
   ],
   "source": [
    "s.defInstr('test1', r'''\n",
    "|kfreq|\n",
    "outch 1, oscili:a(0.05, lag(kfreq, 0.01))\n",
    "''')\n"
   ]
  },
  {
   "cell_type": "code",
   "execution_count": 6,
   "id": "9f4f0be5-245e-4c33-8a79-f010bb738b58",
   "metadata": {},
   "outputs": [
    {
     "data": {
      "text/html": [
       "Instr <strong style=\"color:MediumSeaGreen\">test</strong><br>\n",
       "&nbsp&nbsp&nbsp&nbsp<span style=\"font-size:90%\"><b>ibus</b>:p5=<code>0</code></span><br>\n",
       "<hr style=\"width:38%;text-align:left;margin-left:0\">\n",
       "<span style=\"font-size:90%\"><div class=\"highlight\" style=\"background: #f8f8f8\"><pre style=\"line-height: 125%;\"><span></span><code><span style=\"color: #B00040\">i</span>bus<span style=\"color: #bbbbbb\"> </span><span style=\"color: #666666\">=</span><span style=\"color: #bbbbbb\"> </span><span style=\"color: #19177C\">p5</span>\n",
       "<span style=\"color: #B00040\">k</span>freq<span style=\"color: #bbbbbb\"> </span><span style=\"color: #666666\">=</span><span style=\"color: #bbbbbb\"> </span>busin:k(<span style=\"color: #B00040\">i</span>bus)\n",
       "<span style=\"color: #008000\">outch</span><span style=\"color: #bbbbbb\"> </span><span style=\"color: #666666\">1</span>,<span style=\"color: #bbbbbb\"> </span><span style=\"color: #008000\">oscili</span>:<span style=\"color: #B00040\">a</span>(<span style=\"color: #666666\">0.05</span>,<span style=\"color: #bbbbbb\"> </span><span style=\"color: #008000\">lag</span>(<span style=\"color: #B00040\">k</span>freq,<span style=\"color: #bbbbbb\"> </span><span style=\"color: #666666\">0.01</span>))\n",
       "</code></pre></div>\n",
       "</span>"
      ],
      "text/plain": [
       "Instr(test, ibus:5)"
      ]
     },
     "execution_count": 6,
     "metadata": {},
     "output_type": "execute_result"
    }
   ],
   "source": [
    "s.defInstr('test', r'''\n",
    "ibus = p5\n",
    "kfreq = busin:k(ibus)\n",
    "outch 1, oscili:a(0.05, lag(kfreq, 0.01))\n",
    "''')\n"
   ]
  },
  {
   "cell_type": "code",
   "execution_count": 7,
   "id": "188cf072-5178-4f4f-8a77-8265b153294e",
   "metadata": {},
   "outputs": [
    {
     "data": {
      "application/vnd.jupyter.widget-view+json": {
       "model_id": "c91becc898234aa08a423f6e92ada993",
       "version_major": 2,
       "version_minor": 0
      },
      "text/plain": [
       "Button(description='Stop', style=ButtonStyle())"
      ]
     },
     "metadata": {},
     "output_type": "display_data"
    },
    {
     "data": {
      "application/vnd.jupyter.widget-view+json": {
       "model_id": "c5a0beadbad04654ab9e8a2d09c0a511",
       "version_major": 2,
       "version_minor": 0
      },
      "text/plain": [
       "Output()"
      ]
     },
     "metadata": {},
     "output_type": "display_data"
    },
    {
     "data": {
      "text/html": [
       "<p><span style=\"font-size:12px;\">Synth(▶ <strong style=\"color:MediumSeaGreen\">test</strong>:503.0002, <span style=\"font-size:12px;\">5:<b>ibus</b>=<code>0</code></span>)</span></p>"
      ],
      "text/plain": [
       "Synth(▶ test=503.0002 start=19.116 dur=-1.000 p4=0 ibus=0)"
      ]
     },
     "execution_count": 7,
     "metadata": {},
     "output_type": "execute_result"
    }
   ],
   "source": [
    "bus = s.assignBus(value=1000)\n",
    "synth = s.sched('test', ibus=bus.token)\n",
    "# e.writeBus(bus.token, 500)\n",
    "bus.set(600, 0.001)\n",
    "synth"
   ]
  },
  {
   "cell_type": "code",
   "execution_count": 11,
   "id": "65391b07-4bdf-4849-a26e-c529adab656f",
   "metadata": {},
   "outputs": [],
   "source": [
    "bus.set(700)"
   ]
  },
  {
   "cell_type": "code",
   "execution_count": 18,
   "id": "add70581-6463-473a-9b0f-1bc6234e2b56",
   "metadata": {},
   "outputs": [],
   "source": [
    "buses = [e.assignBus(value=600) for _ in range(200)]\n",
    "e.sync()\n",
    "for bus in buses:\n",
    "    synth = s.sched('test', dur=1, ibus=bus)\n",
    "    e.writeBus(bus, 500, 0.001)\n",
    "    "
   ]
  },
  {
   "cell_type": "code",
   "execution_count": 27,
   "id": "3853c1b4-f152-4a98-8231-77e27b6f7c3b",
   "metadata": {},
   "outputs": [],
   "source": [
    "buses = [s.assignBus(value=600) for _ in range(200)]\n",
    "s.engine.sync()\n",
    "for bus in buses:\n",
    "    synth = s.sched('test', dur=1, ibus=bus.token)\n",
    "    bus.set(500, 0.002)\n",
    "    "
   ]
  },
  {
   "cell_type": "code",
   "execution_count": 27,
   "id": "25978d18-c6a6-4d44-82f4-9856b2d1c9cb",
   "metadata": {},
   "outputs": [],
   "source": [
    "e.writeBus(bus.token, 1500)"
   ]
  },
  {
   "cell_type": "code",
   "execution_count": 28,
   "id": "658c6bc6-c3b3-4822-97d8-ff21dd150e18",
   "metadata": {},
   "outputs": [],
   "source": [
    "bus.set(1600)"
   ]
  },
  {
   "cell_type": "code",
   "execution_count": 22,
   "id": "c0bbe2fa-452a-49f1-af20-681a8be23c99",
   "metadata": {},
   "outputs": [
    {
     "name": "stderr",
     "output_type": "stream",
     "text": [
      "\u001b[mend of section 1\t sect peak amps:  0.10000  0.00000\n",
      "SECTION 1:\n"
     ]
    }
   ],
   "source": [
    "e.unschedAll()"
   ]
  },
  {
   "cell_type": "code",
   "execution_count": 3,
   "id": "773a206e-7e8d-498a-b130-938d43ca2277",
   "metadata": {},
   "outputs": [
    {
     "data": {
      "text/html": [
       "Instr <strong style=\"color:MediumSeaGreen\">receiver</strong><br>\n",
       "&nbsp&nbsp&nbsp&nbsp<span style=\"font-size:90%\"><b>ibus</b>:p5=<code>0</code></span>, <span style=\"font-size:90%\"><b>kgain</b>:p6=<code>0</code></span><br>\n",
       "<hr style=\"width:38%;text-align:left;margin-left:0\">\n",
       "<span style=\"font-size:90%\"><div class=\"highlight\" style=\"background: #f8f8f8\"><pre style=\"line-height: 125%;\"><span></span><code><span style=\"color: #B00040\">i</span>bus<span style=\"color: #bbbbbb\">  </span><span style=\"color: #666666\">=</span><span style=\"color: #bbbbbb\"> </span><span style=\"color: #19177C\">p5</span>\n",
       "<span style=\"color: #B00040\">k</span>gain<span style=\"color: #bbbbbb\"> </span><span style=\"color: #666666\">=</span><span style=\"color: #bbbbbb\"> </span><span style=\"color: #19177C\">p6</span>\n",
       "<span style=\"color: #B00040\">a</span>sig<span style=\"color: #bbbbbb\"> </span><span style=\"color: #666666\">=</span><span style=\"color: #bbbbbb\"> </span>busin:a(<span style=\"color: #B00040\">i</span>bus)\n",
       "<span style=\"color: #B00040\">a</span>sig<span style=\"color: #bbbbbb\"> </span><span style=\"color: #666666\">*=</span><span style=\"color: #bbbbbb\"> </span><span style=\"color: #008000\">a</span>(<span style=\"color: #B00040\">k</span>gain)\n",
       "<span style=\"color: #008000\">outch</span><span style=\"color: #bbbbbb\"> </span><span style=\"color: #666666\">1</span>,<span style=\"color: #bbbbbb\"> </span><span style=\"color: #B00040\">a</span>sig\n",
       "</code></pre></div>\n",
       "</span>"
      ],
      "text/plain": [
       "Instr(receiver, ibus:5, kgain:6)"
      ]
     },
     "execution_count": 3,
     "metadata": {},
     "output_type": "execute_result"
    }
   ],
   "source": [
    "s.defInstr('sender', r'''\n",
    "ibus = p5\n",
    "ifreqbus = p6\n",
    "kfreq = busin:k(ifreqbus)\n",
    "asig vco2 0.1, kfreq\n",
    "busout(ibus, asig)\n",
    "''')\n",
    "\n",
    "s.defInstr('receiver', r'''\n",
    "ibus  = p5\n",
    "kgain = p6\n",
    "asig = busin:a(ibus)\n",
    "asig *= a(kgain)\n",
    "outch 1, asig\n",
    "''')\n"
   ]
  },
  {
   "cell_type": "code",
   "execution_count": 25,
   "id": "9173e2b2-c037-493e-bd4a-54bb6758dfa4",
   "metadata": {},
   "outputs": [
    {
     "data": {
      "application/vnd.jupyter.widget-view+json": {
       "model_id": "47319385f33a496ebc4ba5d0fdf33ad1",
       "version_major": 2,
       "version_minor": 0
      },
      "text/plain": [
       "Button(description='Stop', style=ButtonStyle())"
      ]
     },
     "metadata": {},
     "output_type": "display_data"
    },
    {
     "data": {
      "application/vnd.jupyter.widget-view+json": {
       "model_id": "56cd88664cdc4127a9e99e49a7e4261d",
       "version_major": 2,
       "version_minor": 0
      },
      "text/plain": [
       "Output()"
      ]
     },
     "metadata": {},
     "output_type": "display_data"
    },
    {
     "data": {
      "text/html": [
       "<small>SynthGroup - start: 0.000, dur: inf, synths: 2</small>\n",
       "<p>getInstr: <strong style=\"color:MediumSeaGreen\">sender</strong> - <b>1</b> synths</p>\n",
       "<table><thead><tr><th style=\"text-align:left\">p1</th><th style=\"text-align:left\">start</th><th style=\"text-align:left\">dur</th><th style=\"text-align:left\">4</th><th style=\"text-align:left\">5:ibus</th><th style=\"text-align:left\">6:ifreqbus</th></tr></thead><tbody><tr><td style=\"text-align:left\">501.0004 <b>▶</b></td><td style=\"text-align:left\">-0.013</td><td style=\"text-align:left\">-1.000</td><td style=\"text-align:left\">0</td><td style=\"text-align:left\">4</td><td style=\"text-align:left\">5</td></tr></tbody></table>\n",
       "<p>getInstr: <strong style=\"color:MediumSeaGreen\">receiver</strong> - <b>1</b> synths</p>\n",
       "<table><thead><tr><th style=\"text-align:left\">p1</th><th style=\"text-align:left\">start</th><th style=\"text-align:left\">dur</th><th style=\"text-align:left\">4</th><th style=\"text-align:left\">5:ibus</th><th style=\"text-align:left\">6:kgain</th></tr></thead><tbody><tr><td style=\"text-align:left\">502.0004 <b>▶</b></td><td style=\"text-align:left\">-0.013</td><td style=\"text-align:left\">-1.000</td><td style=\"text-align:left\">0</td><td style=\"text-align:left\">4</td><td style=\"text-align:left\">0.5</td></tr></tbody></table>"
      ],
      "text/plain": [
       "SynthGroup(n=2)\n",
       "    Synth(▶ sender:501.0004 start:29.335 dur:-1.000 p4=0 ibus:5=4 ifreqbus:6=5)\n",
       "    Synth(▶ receiver:502.0004 start:29.335 dur:-1.000 p4=0 ibus:5=4 kgain:6=0.5)"
      ]
     },
     "execution_count": 25,
     "metadata": {},
     "output_type": "execute_result"
    }
   ],
   "source": [
    "bus = s.assignBus()\n",
    "freqbus = s.assignBus(value=600)\n",
    "\n",
    "chain = SynthGroup([s.sched('sender', ibus=bus, ifreqbus=freqbus),\n",
    "                    s.sched('receiver', ibus=bus, kgain=0.5)])\n",
    "e.writeBus(freqbus.token, 400, delay=1)\n",
    "chain"
   ]
  },
  {
   "cell_type": "code",
   "execution_count": 27,
   "id": "e3145656-b556-4449-ad8b-49e064177f5f",
   "metadata": {},
   "outputs": [
    {
     "name": "stdout",
     "output_type": "stream",
     "text": [
      "--- direct access 5 2\n",
      "--- direct access 5 2\n"
     ]
    }
   ],
   "source": [
    "e.writeBus(freqbus.token, 800)\n",
    "freqbus.set(500)\n"
   ]
  },
  {
   "cell_type": "code",
   "execution_count": 29,
   "id": "c0609397-ed96-4858-8d59-e8a035d7a266",
   "metadata": {},
   "outputs": [
    {
     "name": "stdout",
     "output_type": "stream",
     "text": [
      "--- direct access 5 2\n"
     ]
    }
   ],
   "source": [
    "freqbus.set(500)"
   ]
  },
  {
   "cell_type": "code",
   "execution_count": 31,
   "id": "2f07c06a-f4d7-4721-8d68-def4fa9660fe",
   "metadata": {},
   "outputs": [
    {
     "name": "stderr",
     "output_type": "stream",
     "text": [
      "\u001b[mBus token=5, bus=2, kind=k, value=500.000000, refs=1\n"
     ]
    }
   ],
   "source": [
    "e._dumpbus(freqbus.token)"
   ]
  },
  {
   "cell_type": "code",
   "execution_count": 33,
   "id": "9fdae011-9468-4eae-ba14-26a5820a71d4",
   "metadata": {},
   "outputs": [
    {
     "name": "stderr",
     "output_type": "stream",
     "text": [
      "\u001b[mINIT ERROR in instr 32 (opcode initerror.s) line 691: \u001b[m\n",
      "   itoken -1 has no bus assigned to it\n",
      "\u001b[m\n",
      "\u001b[m\tiniterror.s\t#S1\t\n",
      "\t\t   T 69.377 - note deleted.  i32 had 1 init errors\u001b[m\n"
     ]
    }
   ],
   "source": [
    "freqbus.release()"
   ]
  },
  {
   "cell_type": "code",
   "execution_count": 7,
   "id": "8fd39926-80f5-40ed-b959-7cf24efbd70d",
   "metadata": {},
   "outputs": [
    {
     "name": "stderr",
     "output_type": "stream",
     "text": [
      "\u001b[maudio bus 0, token 0, refs before release 0\n",
      "\u001b[mINIT ERROR in instr 32 (opcode initerror.s) line 679: \u001b[m\n",
      "   Bus pool is full!\n",
      "\u001b[m\n",
      "\u001b[m\tiniterror.s\t\"Bus pool is full!\"\t\n",
      "\t\t   T 67.841 - note deleted.  i32 had 1 init errors\u001b[m\n"
     ]
    }
   ],
   "source": [
    "bus.release()"
   ]
  },
  {
   "cell_type": "code",
   "execution_count": 5,
   "id": "65d74632-3661-48fb-aac3-fd114f34d4d9",
   "metadata": {},
   "outputs": [
    {
     "name": "stderr",
     "output_type": "stream",
     "text": [
      "\u001b[maudio bus 0, token 0, refs before release 3\n",
      "\u001b[mscalar bus 0, token 1, refs before release 2\n",
      "\u001b[maudio bus 0, token 0, refs before release 2\n"
     ]
    }
   ],
   "source": [
    "chain.stop()"
   ]
  },
  {
   "cell_type": "code",
   "execution_count": 10,
   "id": "eb1b40b4-8f92-4846-9b70-f9bc72b6bf19",
   "metadata": {},
   "outputs": [],
   "source": [
    "del freqbus"
   ]
  },
  {
   "cell_type": "code",
   "execution_count": 12,
   "id": "f3066c5c-495c-48ee-b112-a9f93d34fc67",
   "metadata": {},
   "outputs": [
    {
     "data": {
      "text/plain": [
       "0"
      ]
     },
     "execution_count": 12,
     "metadata": {},
     "output_type": "execute_result"
    }
   ],
   "source": [
    "import gc\n",
    "gc.collect()"
   ]
  },
  {
   "cell_type": "code",
   "execution_count": 4,
   "id": "54e72390-f718-49fb-8e0e-341589cbc76d",
   "metadata": {},
   "outputs": [],
   "source": [
    "nan = float('nan')\n",
    "e.automateBus(freqbus, (0, nan, 2, 800, 2.1, 1000))"
   ]
  },
  {
   "cell_type": "code",
   "execution_count": 9,
   "id": "d46eeff6-bfab-47ac-b38d-9d4dc8803dcb",
   "metadata": {},
   "outputs": [],
   "source": [
    "chain.stop()"
   ]
  },
  {
   "cell_type": "code",
   "execution_count": 7,
   "id": "e8c984d0-59dc-449c-9186-6c3dc92b2e71",
   "metadata": {},
   "outputs": [
    {
     "ename": "KeyError",
     "evalue": "\"Unknown parameter: 'kfreq'. Possible parameters for this event: {'kgain'}\"",
     "output_type": "error",
     "traceback": [
      "\u001b[0;31m---------------------------------------------------------------------------\u001b[0m",
      "\u001b[0;31mKeyError\u001b[0m                                  Traceback (most recent call last)",
      "Cell \u001b[0;32mIn[7], line 1\u001b[0m\n\u001b[0;32m----> 1\u001b[0m \u001b[43mchain\u001b[49m\u001b[38;5;241;43m.\u001b[39;49m\u001b[43mset\u001b[49m\u001b[43m(\u001b[49m\u001b[43mkfreq\u001b[49m\u001b[38;5;241;43m=\u001b[39;49m\u001b[38;5;241;43m1000\u001b[39;49m\u001b[43m)\u001b[49m\n",
      "File \u001b[0;32m~/dev/python/csoundengine/csoundengine/baseevent.py:96\u001b[0m, in \u001b[0;36mBaseEvent.set\u001b[0;34m(self, param, value, delay, **kws)\u001b[0m\n\u001b[1;32m     94\u001b[0m \u001b[38;5;28;01mif\u001b[39;00m kws:\n\u001b[1;32m     95\u001b[0m     \u001b[38;5;28;01mfor\u001b[39;00m k, v \u001b[38;5;129;01min\u001b[39;00m kws\u001b[38;5;241m.\u001b[39mitems():\n\u001b[0;32m---> 96\u001b[0m         \u001b[38;5;28;43mself\u001b[39;49m\u001b[38;5;241;43m.\u001b[39;49m\u001b[43mset\u001b[49m\u001b[43m(\u001b[49m\u001b[43mparam\u001b[49m\u001b[38;5;241;43m=\u001b[39;49m\u001b[43mk\u001b[49m\u001b[43m,\u001b[49m\u001b[43m \u001b[49m\u001b[43mvalue\u001b[49m\u001b[38;5;241;43m=\u001b[39;49m\u001b[43mv\u001b[49m\u001b[43m,\u001b[49m\u001b[43m \u001b[49m\u001b[43mdelay\u001b[49m\u001b[38;5;241;43m=\u001b[39;49m\u001b[43mdelay\u001b[49m\u001b[43m)\u001b[49m\n\u001b[1;32m     98\u001b[0m \u001b[38;5;28;01mif\u001b[39;00m param:\n\u001b[1;32m     99\u001b[0m     tabkeys \u001b[38;5;241m=\u001b[39m \u001b[38;5;28mself\u001b[39m\u001b[38;5;241m.\u001b[39m_controlNames()\n",
      "File \u001b[0;32m~/dev/python/csoundengine/csoundengine/baseevent.py:105\u001b[0m, in \u001b[0;36mBaseEvent.set\u001b[0;34m(self, param, value, delay, **kws)\u001b[0m\n\u001b[1;32m    103\u001b[0m     \u001b[38;5;28mself\u001b[39m\u001b[38;5;241m.\u001b[39m_setp(param\u001b[38;5;241m=\u001b[39mparam, value\u001b[38;5;241m=\u001b[39mvalue, delay\u001b[38;5;241m=\u001b[39mdelay)\n\u001b[1;32m    104\u001b[0m \u001b[38;5;28;01melse\u001b[39;00m:\n\u001b[0;32m--> 105\u001b[0m     \u001b[38;5;28;01mraise\u001b[39;00m \u001b[38;5;167;01mKeyError\u001b[39;00m(\u001b[38;5;124mf\u001b[39m\u001b[38;5;124m\"\u001b[39m\u001b[38;5;124mUnknown parameter: \u001b[39m\u001b[38;5;124m'\u001b[39m\u001b[38;5;132;01m{\u001b[39;00mparam\u001b[38;5;132;01m}\u001b[39;00m\u001b[38;5;124m'\u001b[39m\u001b[38;5;124m. \u001b[39m\u001b[38;5;124m\"\u001b[39m\n\u001b[1;32m    106\u001b[0m                    \u001b[38;5;124mf\u001b[39m\u001b[38;5;124m\"\u001b[39m\u001b[38;5;124mPossible parameters for this event: \u001b[39m\u001b[38;5;132;01m{\u001b[39;00m\u001b[38;5;28mself\u001b[39m\u001b[38;5;241m.\u001b[39mdynamicParams()\u001b[38;5;132;01m}\u001b[39;00m\u001b[38;5;124m\"\u001b[39m)\n",
      "\u001b[0;31mKeyError\u001b[0m: \"Unknown parameter: 'kfreq'. Possible parameters for this event: {'kgain'}\""
     ]
    }
   ],
   "source": [
    "chain.set(kfreq=1000)"
   ]
  },
  {
   "cell_type": "code",
   "execution_count": 8,
   "id": "a7de02d2-b40e-4228-940b-ff99f0ccf80b",
   "metadata": {},
   "outputs": [],
   "source": [
    "chain.stop()"
   ]
  },
  {
   "cell_type": "code",
   "execution_count": 10,
   "id": "028c86c6-3b00-4b9a-9a0c-8fa6ed18079d",
   "metadata": {},
   "outputs": [
    {
     "data": {
      "text/plain": [
       "{'kgain'}"
      ]
     },
     "execution_count": 10,
     "metadata": {},
     "output_type": "execute_result"
    }
   ],
   "source": [
    "chain.dynamicParams()"
   ]
  },
  {
   "cell_type": "code",
   "execution_count": null,
   "id": "8f0814bd-5406-4b68-a82b-0081ecea939a",
   "metadata": {},
   "outputs": [],
   "source": []
  }
 ],
 "metadata": {
  "kernelspec": {
   "display_name": "Python 3 (ipykernel)",
   "language": "python",
   "name": "python3"
  },
  "language_info": {
   "codemirror_mode": {
    "name": "ipython",
    "version": 3
   },
   "file_extension": ".py",
   "mimetype": "text/x-python",
   "name": "python",
   "nbconvert_exporter": "python",
   "pygments_lexer": "ipython3",
   "version": "3.11.4"
  }
 },
 "nbformat": 4,
 "nbformat_minor": 5
}
