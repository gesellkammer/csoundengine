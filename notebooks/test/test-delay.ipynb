{
 "cells": [
  {
   "cell_type": "code",
   "execution_count": 1,
   "id": "c3a7dbfc-f69c-480c-9435-e86ef40414ff",
   "metadata": {},
   "outputs": [],
   "source": [
    "import csoundengine as ce"
   ]
  },
  {
   "cell_type": "code",
   "execution_count": 2,
   "id": "e0540fd6-537b-460d-b5da-b6f3e58d4edd",
   "metadata": {},
   "outputs": [
    {
     "name": "stderr",
     "output_type": "stream",
     "text": [
      "\n",
      "\n",
      "\n",
      "--Csound version 6.19 (double samples) Jan 19 2025\n",
      "[commit: 2536da284dd70ec7272040cb0763f70ae57123c4]\n",
      "\u001b[mlibsndfile-1.2.0\n",
      "\u001b[msr = 48000.0,\u001b[m kr = 750.000,\u001b[m ksmps = 64\n",
      "\u001b[m0dBFS level = 1.0,\u001b[m A4 tuning = 442.0\n",
      "\u001b[maudio buffered in 256 sample-frame blocks\n",
      "\u001b[mreading 2048-byte blks of shorts from adc:Built-in Audio Analog Stereo: (RAW)\n",
      "writing 512 sample blks of 64-bit floats to dac:Built-in Audio Analog Stereo:\n",
      "SECTION 1:\n",
      "\u001b[m"
     ]
    }
   ],
   "source": [
    "e = ce.Engine()"
   ]
  },
  {
   "cell_type": "code",
   "execution_count": 3,
   "id": "e6d9dfa1-3921-45d8-ba36-7f3e918c51a7",
   "metadata": {},
   "outputs": [
    {
     "data": {
      "text/html": [
       "Instr <strong style=\"color:MediumSeaGreen\">foo</strong><br>\n",
       "&nbsp&nbsp&nbsp&nbsp<span style=\"font-size:90%\"><b>kmidi</b>=<code>0</code></span><br>\n",
       "<hr style=\"width:38%;text-align:left;margin-left:0;border: 1px dashed; background: transparent;\">\n",
       "<span style=\"font-size:90%\"><div class=\"highlight\" style=\"background: #f8f8f8\"><pre style=\"line-height: 125%;\"><span></span><code><span style=\"color: #B00040\">k</span>midi<span style=\"color: #BBB\"> </span><span style=\"color: #666\">=</span><span style=\"color: #BBB\"> </span><span style=\"color: #19177C\">p5</span>\n",
       "<span style=\"color: #008000\">outch</span><span style=\"color: #BBB\"> </span><span style=\"color: #666\">1</span>,<span style=\"color: #BBB\"> </span><span style=\"color: #008000\">vco2</span>:<span style=\"color: #B00040\">a</span>(<span style=\"color: #666\">0.1</span>,<span style=\"color: #BBB\"> </span><span style=\"color: #008000\">mtof</span>(<span style=\"color: #B00040\">k</span>midi))\n",
       "</code></pre></div>\n",
       "</span>"
      ],
      "text/plain": [
       "Instr(foo, kmidi:5)"
      ]
     },
     "execution_count": 3,
     "metadata": {},
     "output_type": "execute_result"
    }
   ],
   "source": [
    "s = e.session()\n",
    "s.defInstr('foo', r'''\n",
    "  kmidi = p5\n",
    "  outch 1, vco2:a(0.1, mtof(kmidi))\n",
    "''')"
   ]
  },
  {
   "cell_type": "code",
   "execution_count": 10,
   "id": "5a9b6743-7524-467c-ad5e-3a943f899567",
   "metadata": {},
   "outputs": [
    {
     "name": "stdout",
     "output_type": "stream",
     "text": [
      "Abstime: 40.584666666666664, curr. time: 40.534666666666666\n"
     ]
    },
    {
     "data": {
      "application/vnd.jupyter.widget-view+json": {
       "model_id": "dfd9a24635744c638603896aba06dc18",
       "version_major": 2,
       "version_minor": 0
      },
      "text/plain": [
       "Button(description='Stop', style=ButtonStyle())"
      ]
     },
     "metadata": {},
     "output_type": "display_data"
    },
    {
     "data": {
      "application/vnd.jupyter.widget-view+json": {
       "model_id": "3c587e75eb3745559acf6fed71b8d706",
       "version_major": 2,
       "version_minor": 0
      },
      "text/plain": [
       "Output()"
      ]
     },
     "metadata": {},
     "output_type": "display_data"
    },
    {
     "data": {
      "text/html": [
       "<p><span style=\"font-size:12px;\">Synth(𝍪 <strong style=\"color:MediumSeaGreen\">foo</strong>:501.0005)</span></p>"
      ],
      "text/plain": [
       "Synth(𝍪 foo=501.0005 start=40.585 dur=20.000 p5=60)"
      ]
     },
     "execution_count": 10,
     "metadata": {},
     "output_type": "execute_result"
    }
   ],
   "source": [
    "sy = s.sched('foo', 0, 20, kmidi=60)\n",
    "sy"
   ]
  },
  {
   "cell_type": "code",
   "execution_count": 11,
   "id": "b20aa1b9-5eac-4d3d-9f0e-c2576d8542f4",
   "metadata": {},
   "outputs": [
    {
     "data": {
      "text/plain": [
       "12"
      ]
     },
     "execution_count": 11,
     "metadata": {},
     "output_type": "execute_result"
    },
    {
     "name": "stderr",
     "output_type": "stream",
     "text": [
      "automating p1: 501.000500, index: 5, iovertake: 0, lenpairs: 6, dur: 4.001333\n",
      "\u001b[m"
     ]
    }
   ],
   "source": [
    "sy.automate('kmidi', (60, 2, 72, 4, 60), delay=2)"
   ]
  },
  {
   "cell_type": "code",
   "execution_count": null,
   "id": "ecfe06d5-98cd-41e1-ae95-afd47597df5d",
   "metadata": {},
   "outputs": [],
   "source": []
  }
 ],
 "metadata": {
  "kernelspec": {
   "display_name": "Python 3 (ipykernel)",
   "language": "python",
   "name": "python3"
  },
  "language_info": {
   "codemirror_mode": {
    "name": "ipython",
    "version": 3
   },
   "file_extension": ".py",
   "mimetype": "text/x-python",
   "name": "python",
   "nbconvert_exporter": "python",
   "pygments_lexer": "ipython3",
   "version": "3.12.3"
  }
 },
 "nbformat": 4,
 "nbformat_minor": 5
}
