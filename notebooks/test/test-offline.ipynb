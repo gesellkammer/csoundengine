{
 "cells": [
  {
   "cell_type": "code",
   "execution_count": 1,
   "id": "39d39a0d-9f6a-4369-b508-b9875a5c98b7",
   "metadata": {},
   "outputs": [],
   "source": [
    "from csoundengine import *"
   ]
  },
  {
   "cell_type": "code",
   "execution_count": 2,
   "id": "04299a9c-65c9-4e33-945d-21a021c2f7f5",
   "metadata": {},
   "outputs": [
    {
     "name": "stderr",
     "output_type": "stream",
     "text": [
      "\n",
      "\n",
      "--Csound version 6.19 (double samples) Oct  1 2023\n",
      "[commit: 593ac80dd986b58f24e3d59242243ba6266edda7]\n",
      "\u001b[mlibsndfile-1.2.0\n",
      "\u001b[msr = 48000.0,\u001b[m kr = 750.000,\u001b[m ksmps = 64\n",
      "\u001b[m0dBFS level = 1.0,\u001b[m A4 tuning = 442.0\n",
      "\u001b[maudio buffered in 1024 sample-frame blocks\n",
      "\u001b[mreading 8192-byte blks of shorts from adc:Built-in Audio Pro: (RAW)\n",
      "writing 2048 sample blks of 64-bit floats to dac:Built-in Audio Pro:\n",
      "SECTION 1:\n"
     ]
    }
   ],
   "source": [
    "e = Engine()\n",
    "s = e.session()"
   ]
  },
  {
   "cell_type": "code",
   "execution_count": 17,
   "id": "3ab1195a-f375-4edf-a320-09c3689cafe6",
   "metadata": {},
   "outputs": [
    {
     "data": {
      "text/html": [
       "Instr <strong style=\"color:MediumSeaGreen\">sine</strong><br>\n",
       "&nbsp&nbsp&nbsp&nbsp<span style=\"font-size:90%\"><b>iamp</b>:p5=<code>0.1</code></span><br>\n",
       "<span style=\"font-size:90%\">&nbsp&nbsp&nbsp&nbsp controls = <code>{'kfreq': 1000.0}</code></span>\n",
       "<hr style=\"width:38%;text-align:left;margin-left:0\">\n",
       "<span style=\"font-size:90%\"><div class=\"highlight\" style=\"background: #f8f8f8\"><pre style=\"line-height: 125%;\"><span></span><code><span style=\"color: #B00040\">a</span>0<span style=\"color: #bbbbbb\"> </span><span style=\"color: #666666\">=</span><span style=\"color: #bbbbbb\"> </span><span style=\"color: #008000\">oscili</span>:<span style=\"color: #B00040\">a</span>(<span style=\"color: #B00040\">i</span>amp,<span style=\"color: #bbbbbb\"> </span><span style=\"color: #008000\">port</span>:<span style=\"color: #B00040\">k</span>(<span style=\"color: #B00040\">k</span>freq,<span style=\"color: #bbbbbb\"> </span><span style=\"color: #666666\">0.01</span>))\n",
       "<span style=\"color: #008000\">outch</span><span style=\"color: #bbbbbb\"> </span><span style=\"color: #666666\">1</span>,<span style=\"color: #bbbbbb\"> </span><span style=\"color: #B00040\">a</span>0\n",
       "</code></pre></div>\n",
       "</span>"
      ],
      "text/plain": [
       "Instr(sine, iamp:5=0.1, tabargs={'kfreq': 1000.0})"
      ]
     },
     "execution_count": 17,
     "metadata": {},
     "output_type": "execute_result"
    }
   ],
   "source": [
    "s.defInstr('sine', r'''\n",
    "|iamp=0.1, kfreq=1000|\n",
    "a0 = oscili:a(iamp, lag:k(kfreq, 0.1))\n",
    "outch 1, a0\n",
    "''')"
   ]
  },
  {
   "cell_type": "code",
   "execution_count": 19,
   "id": "8b5c4f40-0517-46b9-ac19-14d75bb40d6c",
   "metadata": {},
   "outputs": [
    {
     "name": "stdout",
     "output_type": "stream",
     "text": [
      "******** controlkws={'kfreq': 442}, controlvalues=[442]\n"
     ]
    },
    {
     "name": "stderr",
     "output_type": "stream",
     "text": [
      "UnifiedCSD:  /tmp/tmpks7qs2ix.csd\n",
      "instr _releaseDynargsToken uses instrument number 5\n",
      "instr _stop uses instrument number 6\n",
      "instr _automateControlViaPargs uses instrument number 7\n",
      "instr _automatePargViaPargs uses instrument number 8\n",
      "instr _pwrite uses instrument number 9\n",
      "instr _chnset uses instrument number 10\n",
      "instr _setControl uses instrument number 11\n",
      "instr _setDynamicControls uses instrument number 12\n",
      "Elapsed time at end of orchestra compile: real: 0.011s, CPU: 0.011s\n",
      "\u001b[msorting score ...\n",
      "\t... done\n",
      "Elapsed time at end of score sort: real: 0.011s, CPU: 0.011s\n",
      "\u001b[m--Csound version 6.19 (double samples) Oct  1 2023\n",
      "[commit: 593ac80dd986b58f24e3d59242243ba6266edda7]\n",
      "\u001b[mlibsndfile-1.2.0\n",
      "\u001b[mgraphics suppressed, ascii substituted\n",
      "sr = 44100.0,\u001b[m kr = 689.062,\u001b[m ksmps = 64\n",
      "\u001b[m0dBFS level = 1.0,\u001b[m A4 tuning = 442.0\n",
      "\u001b[mStrsets[20]: 'linear'\n",
      "ftable 101:\n",
      "ftable 101:\t16000 points, scalemax 0.000\n",
      "ftable 102:\n",
      "ftable 102:\t1000 points, scalemax 0.000\n",
      "ftable 103:\n",
      "ftable 103:\t100 points, scalemax 0.000\n",
      "ftable 104:\n",
      "ftable 104:\t10000 points, scalemax 0.000\n",
      "ftable 105:\n",
      "ftable 105:\t1000 points, scalemax 0.000\n",
      "ftable 106:\n",
      "ftable 106:\t10000 points, scalemax 0.000\n",
      "orch now loaded\n",
      "\u001b[maudio buffered in 256 sample-frame blocks\n",
      "\u001b[mwriting 2048-byte blks of floats to /home/em/tmp/sine.wav (WAV)\n",
      "SECTION 1:\n",
      "\u001b[mftable 1:\n",
      "ftable 1:\t16000 points, scalemax 0.000\n",
      "new alloc for instr _setDynamicControls:\n",
      "\u001b[mWARNING: \u001b[minstr _setDynamicControls uses 5 p-fields but is given 6\u001b[m\n",
      "\u001b[mnew alloc for instr 520:\n",
      "\u001b[mnew alloc for instr 2419:\n",
      "\u001b[mB  0.000 ..  2.000 T  2.000 TT  2.000 M:  0.20000  0.00000\n",
      "new alloc for instr _setControl:\n",
      "\u001b[mB  2.000 ..  3.000 T  3.000 TT  3.000 M:  0.20000  0.00000\n",
      "new alloc for instr _automateControlViaPargs:\n",
      "\u001b[mWARNING: \u001b[minstr _automateControlViaPargs uses 8 p-fields but is given 18\u001b[m\n",
      "\u001b[mB  3.000 ..  3.404 T  3.405 TT  3.405 M:  0.20000  0.00000\n",
      "B  3.404 ..  4.000 T  4.000 TT  4.000 M:  0.20000  0.00000\n",
      "Score finished in csoundPerform().\n",
      "inactive allocs returned to freespace\n",
      "end of score.\t\t   overall amps:\u001b[m  0.20000  0.00000\n",
      "0 errors in performance\n",
      "\u001b[mElapsed time at end of performance: real: 0.027s, CPU: 0.027s\n",
      "\u001b[m512 2048 sample blks of floats written to /home/em/tmp/sine.wav (WAV)\n"
     ]
    },
    {
     "data": {
      "text/plain": [
       "('/home/em/tmp/sine.wav',\n",
       " <Popen: returncode: 0 args: ['/usr/local/bin/csound', '-o', '/home/em/tmp/si...>)"
      ]
     },
     "execution_count": 19,
     "metadata": {},
     "output_type": "execute_result"
    }
   ],
   "source": [
    "r = s.makeRenderer()\n",
    "event = r.sched('sine', 0, 4, kfreq=442, iamp=0.2)\n",
    "event.set(kfreq=1000, delay=2)\n",
    "event.automate(\"kfreq\", (0, 1000, 0.1, 500, 0.2, 1000, 0.3, 500, 0.4, 1000), delay=3)\n",
    "r.writeCsd('~/tmp/sine.csd')\n",
    "r.render('~/tmp/sine.wav')"
   ]
  },
  {
   "cell_type": "code",
   "execution_count": null,
   "id": "a56a6041-2170-49fe-a9d0-e4338b285211",
   "metadata": {},
   "outputs": [],
   "source": []
  }
 ],
 "metadata": {
  "kernelspec": {
   "display_name": "Python 3 (ipykernel)",
   "language": "python",
   "name": "python3"
  },
  "language_info": {
   "codemirror_mode": {
    "name": "ipython",
    "version": 3
   },
   "file_extension": ".py",
   "mimetype": "text/x-python",
   "name": "python",
   "nbconvert_exporter": "python",
   "pygments_lexer": "ipython3",
   "version": "3.11.4"
  }
 },
 "nbformat": 4,
 "nbformat_minor": 5
}
