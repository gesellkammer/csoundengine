{
 "cells": [
  {
   "cell_type": "code",
   "execution_count": 1,
   "id": "76210d5f-e1db-48c9-b1a3-fec2edba1551",
   "metadata": {},
   "outputs": [
    {
     "name": "stderr",
     "output_type": "stream",
     "text": [
      "DEBUG:configdict:Reading config from disk: /home/em/.config/csoundengine/state.yaml\n"
     ]
    }
   ],
   "source": [
    "import logging\n",
    "logging.basicConfig(level=\"DEBUG\")\n",
    "import csoundengine as ce\n",
    "ce.logger.setLevel(\"DEBUG\")\n"
   ]
  },
  {
   "cell_type": "code",
   "execution_count": 2,
   "id": "6cf56196-2ba3-4bd3-b210-ad48a0ad00c7",
   "metadata": {},
   "outputs": [
    {
     "name": "stderr",
     "output_type": "stream",
     "text": [
      "rtaudio: JACK module enabled\n",
      "--Csound version 7.0 (double samples) May 25 2025\n",
      "[commit: 909a4017d2810e4d6fddb735314670e5dfdf7a15]\n",
      "\u001b[mlibsndfile-1.2.2\n",
      "\u001b[mgraphics suppressed, ascii substituted\n",
      "sr = 48000.0,\u001b[m kr = 750.000,\u001b[m ksmps = 64\n",
      "\u001b[m0dBFS level = 1.0,\u001b[m A4 tuning = 440.0\n",
      "\u001b[morch now loaded\n",
      "\u001b[maudio buffered in 256 sample-frame blocks\n",
      "\u001b[mreading 1024-byte blks of shorts from adc:Built-in Audio (RAW)\n",
      "system sr: 48000.000000\n",
      "Jack input ports:\n",
      " 0: adc0 (adc:Built-in Audio Analog Stereo:capture_FL)\n",
      " 1: adc1 (adc:Built-in Audio Analog Stereo:capture_FR)\n",
      " 2: adc2 (adc:Firefox:output_FL-4537)\n",
      " 3: adc3 (adc:Firefox:output_FR-4538)\n",
      " 4: adc4 (adc:csound7:output1)\n",
      " 5: adc5 (adc:csound7:output2)\n",
      " 6: adc6 (adc:csoundengine.engine0:output1)\n",
      " 7: adc7 (adc:csoundengine.engine0:output2)\n",
      " 8: adc8 (adc:Firefox:output_FL)\n",
      " 9: adc9 (adc:Firefox:output_FR)\n",
      " 10: adc10 (adc:Built-in Audio Analog Stereo:monitor_FL)\n",
      " 11: adc11 (adc:Built-in Audio Analog Stereo:monitor_FR)\n",
      "connecting channel 0 to Built-in Audio Analog Stereo:capture_FL\n",
      "connecting channel 1 to Built-in Audio Analog Stereo:capture_FR\n",
      "Jack output ports:\n",
      " 0: dac0 (dac:Built-in Audio Analog Stereo:playback_FL)\n",
      " 1: dac1 (dac:Built-in Audio Analog Stereo:playback_FR)\n",
      " 2: dac2 (dac:csound7:input1)\n",
      " 3: dac3 (dac:csound7:input2)\n",
      " 4: dac4 (dac:csoundengine.engine0:input1)\n",
      " 5: dac5 (dac:csoundengine.engine0:input2)\n",
      " 6: dac6 (dac:csoundengine.engine0:input3)\n",
      " 7: dac7 (dac:csoundengine.engine0:input4)\n",
      "connecting channel 0 to Built-in Audio Analog Stereo:playback_FL\n",
      "connecting channel 1 to Built-in Audio Analog Stereo:playback_FR\n",
      "writing 512 sample blks of 64-bit floats to dac:Built-in\n",
      "SECTION 1:\n",
      "\u001b[m"
     ]
    },
    {
     "data": {
      "text/plain": [
       "0"
      ]
     },
     "execution_count": 2,
     "metadata": {},
     "output_type": "execute_result"
    }
   ],
   "source": [
    "import libcsound\n",
    "cs = libcsound.Csound()\n",
    "cs.setOption('-+rtaudio=jack')\n",
    "cs.setOption('-odac:Built-in Analog Stereo:')\n",
    "# cs.setOption('-iadc:Built-in Audio Analog Stereo:')\n",
    "cs.setOption('-iadc:\"Built-in Audio\"')\n",
    "\n",
    "cs.setOption('-b256')\n",
    "cs.setOption('-B1024')\n",
    "cs.compileOrc(r'''\n",
    "sr=48000\n",
    "ksmps=64\n",
    "nchnls=2\n",
    "0dbfs = 1\n",
    "A4 = 440\n",
    "''')\n",
    "cs.start()"
   ]
  },
  {
   "cell_type": "code",
   "execution_count": 3,
   "id": "2be4992a-d6f0-4e5e-8a7e-edd61aca1a4c",
   "metadata": {},
   "outputs": [
    {
     "name": "stderr",
     "output_type": "stream",
     "text": [
      "DEBUG:csoundengine:Resolved backend: jack\n",
      "DEBUG:csoundengine:No output device given for backend jack, using default: Built-in Audio Analog Stereo, id: dac:Built-in Audio Analog Stereo:\n",
      "INFO:csoundengine:Starting engine engine0\n",
      "INFO:csoundengine:Starting csound with options: ['-d', '-+rtaudio=jack', '-b256', '-B1024', '-o\"dac:Built-in Audio Analog Stereo:\"', '-i\"adc:Built-in Audio Analog Stereo:\"', '-m0', '-+jack_client=csoundengine.engine0']\n",
      "--Csound version 7.0 (double samples) May 25 2025\n",
      "[commit: 909a4017d2810e4d6fddb735314670e5dfdf7a15]\n",
      "\u001b[mlibsndfile-1.2.2\n",
      "\u001b[msr = 48000.0,\u001b[m kr = 750.000,\u001b[m ksmps = 64\n",
      "\u001b[m0dBFS level = 1.0,\u001b[m A4 tuning = 440.0\n",
      "\u001b[maudio buffered in 256 sample-frame blocks\n",
      "\u001b[mreading 2048-byte blks of shorts from adc:Built-in Audio Analog Stereo: (RAW)\n",
      "writing 512 sample blks of 64-bit floats to dac:Built-in Audio Analog Stereo:\n",
      "SECTION 1:\n",
      "\u001b[m"
     ]
    }
   ],
   "source": [
    "e = ce.Engine()"
   ]
  },
  {
   "cell_type": "code",
   "execution_count": 4,
   "id": "2f99b78b-8b70-42d5-a72f-5a71ee9d06ed",
   "metadata": {},
   "outputs": [
    {
     "data": {
      "text/plain": [
       "[_PortaudioBackend(name='pa_cb', alwaysAvailable=True, needsRealtime=False, platforms=('linux', 'darwin', 'win32'), hasSystemSr=True, longname='portaudio-callback', defaultBufferSize=1024, defaultNumBuffers=2, audioDeviceRegex='(\\\\d+):\\\\s((?:adc|dac)\\\\d+)\\\\s*\\\\((.*)\\\\)(?:\\\\s+\\\\[ch:(\\\\d+)\\\\])?', acceptsDeviceIndex=True, priority=2),\n",
       " _PortaudioBackend(name='pa_cb', alwaysAvailable=True, needsRealtime=False, platforms=('linux', 'darwin', 'win32'), hasSystemSr=True, longname='portaudio-callback', defaultBufferSize=1024, defaultNumBuffers=2, audioDeviceRegex='(\\\\d+):\\\\s((?:adc|dac)\\\\d+)\\\\s*\\\\((.*)\\\\)(?:\\\\s+\\\\[ch:(\\\\d+)\\\\])?', acceptsDeviceIndex=True, priority=2),\n",
       " _PortaudioBackend(name='pa_bl', alwaysAvailable=True, needsRealtime=False, platforms=('linux', 'darwin', 'win32'), hasSystemSr=True, longname='portaudio-blocking', defaultBufferSize=1024, defaultNumBuffers=2, audioDeviceRegex='(\\\\d+):\\\\s((?:adc|dac)\\\\d+)\\\\s*\\\\((.*)\\\\)(?:\\\\s+\\\\[ch:(\\\\d+)\\\\])?', acceptsDeviceIndex=True, priority=0),\n",
       " _JackAudioBackend(name='jack', alwaysAvailable=False, needsRealtime=False, platforms=('linux', 'darwin', 'win32'), hasSystemSr=True, longname='jack', defaultBufferSize=1024, defaultNumBuffers=2, audioDeviceRegex='(\\\\d+):\\\\s((?:adc|dac)\\\\d+)\\\\s*\\\\((.*)\\\\)(?:\\\\s+\\\\[ch:(\\\\d+)\\\\])?', acceptsDeviceIndex=True, priority=10),\n",
       " _AlsaBackend(name='alsa', alwaysAvailable=True, needsRealtime=False, platforms=('linux',), hasSystemSr=False, longname='alsa', defaultBufferSize=1024, defaultNumBuffers=2, audioDeviceRegex='([0-9]+):\\\\s((?:adc|dac):.*)\\\\((.*)\\\\)', acceptsDeviceIndex=False, priority=1),\n",
       " _PulseAudioBackend(name='pulse', alwaysAvailable=False, needsRealtime=False, platforms=('linux',), hasSystemSr=True, longname='pulse', defaultBufferSize=1024, defaultNumBuffers=2, audioDeviceRegex='(\\\\d+):\\\\s((?:adc|dac)\\\\d+)\\\\s*\\\\((.*)\\\\)(?:\\\\s+\\\\[ch:(\\\\d+)\\\\])?', acceptsDeviceIndex=True, priority=0)]"
      ]
     },
     "execution_count": 4,
     "metadata": {},
     "output_type": "execute_result"
    }
   ],
   "source": [
    "ce.csoundlib.audioBackends()"
   ]
  },
  {
   "cell_type": "code",
   "execution_count": 5,
   "id": "ca38363e-cff4-4ada-8650-c3e6011762b1",
   "metadata": {},
   "outputs": [
    {
     "name": "stdout",
     "output_type": "stream",
     "text": [
      "Backend: jack\n",
      "\n",
      "Input Devices:\n"
     ]
    },
    {
     "data": {
      "text/html": [
       "<table>\n",
       "<thead>\n",
       "<tr><th>id                               </th><th>name                        </th><th>kind  </th><th>backend  </th><th>index  </th><th>numChannels  </th><th>isPhysical  </th></tr>\n",
       "</thead>\n",
       "<tbody>\n",
       "<tr><td>adc:Built-in Audio Analog Stereo:</td><td>Built-in Audio Analog Stereo</td><td>input </td><td>jack     </td><td>0      </td><td>4            </td><td>True        </td></tr>\n",
       "<tr><td>adc:Firefox:                     </td><td>Firefox                     </td><td>input </td><td>jack     </td><td>2      </td><td>4            </td><td>False       </td></tr>\n",
       "<tr><td>adc:csound7:                     </td><td>csound7                     </td><td>input </td><td>jack     </td><td>4      </td><td>2            </td><td>False       </td></tr>\n",
       "<tr><td>adc:csoundengine.engine0:        </td><td>csoundengine.engine0        </td><td>input </td><td>jack     </td><td>6      </td><td>2            </td><td>False       </td></tr>\n",
       "</tbody>\n",
       "</table>"
      ],
      "text/plain": [
       "<IPython.core.display.HTML object>"
      ]
     },
     "metadata": {},
     "output_type": "display_data"
    },
    {
     "name": "stdout",
     "output_type": "stream",
     "text": [
      "\n",
      "Output Devices:\n"
     ]
    },
    {
     "data": {
      "text/html": [
       "<table>\n",
       "<thead>\n",
       "<tr><th>id                               </th><th>name                        </th><th>kind  </th><th>backend  </th><th>index  </th><th>numChannels  </th><th>isPhysical  </th></tr>\n",
       "</thead>\n",
       "<tbody>\n",
       "<tr><td>dac:Built-in Audio Analog Stereo:</td><td>Built-in Audio Analog Stereo</td><td>output</td><td>jack     </td><td>0      </td><td>2            </td><td>True        </td></tr>\n",
       "<tr><td>dac:csound7:                     </td><td>csound7                     </td><td>output</td><td>jack     </td><td>2      </td><td>2            </td><td>False       </td></tr>\n",
       "<tr><td>dac:csoundengine.engine0:        </td><td>csoundengine.engine0        </td><td>output</td><td>jack     </td><td>4      </td><td>4            </td><td>False       </td></tr>\n",
       "</tbody>\n",
       "</table>"
      ],
      "text/plain": [
       "<IPython.core.display.HTML object>"
      ]
     },
     "metadata": {},
     "output_type": "display_data"
    }
   ],
   "source": [
    "ce.csoundlib.dumpAudioDevices()"
   ]
  },
  {
   "cell_type": "code",
   "execution_count": 6,
   "id": "1e0d239e-7fd5-4162-afa7-c0ad80b8bc35",
   "metadata": {},
   "outputs": [
    {
     "name": "stderr",
     "output_type": "stream",
     "text": [
      "INFO:csoundengine:Querying csound's audio devices for backend pa_cb\n",
      "ALSA lib pcm_dsnoop.c:567:(snd_pcm_dsnoop_open) unable to open slave\n",
      "ALSA lib pcm_dmix.c:1000:(snd_pcm_dmix_open) unable to open slave\n",
      "ALSA lib pcm.c:2722:(snd_pcm_open_noupdate) Unknown PCM cards.pcm.rear\n",
      "ALSA lib pcm.c:2722:(snd_pcm_open_noupdate) Unknown PCM cards.pcm.center_lfe\n",
      "ALSA lib pcm.c:2722:(snd_pcm_open_noupdate) Unknown PCM cards.pcm.side\n",
      "ALSA lib pcm_a52.c:1036:(_snd_pcm_a52_open) a52 is only for playback\n",
      "ALSA lib confmisc.c:160:(snd_config_get_card) Invalid field card\n",
      "ALSA lib pcm_usb_stream.c:481:(_snd_pcm_usb_stream_open) Invalid card 'card'\n",
      "ALSA lib confmisc.c:160:(snd_config_get_card) Invalid field card\n",
      "ALSA lib pcm_usb_stream.c:481:(_snd_pcm_usb_stream_open) Invalid card 'card'\n",
      "ALSA lib pcm_dmix.c:1000:(snd_pcm_dmix_open) unable to open slave\n"
     ]
    },
    {
     "data": {
      "text/plain": [
       "([AudioDevice(id='adc0', name='jack [ALSA, 2 in, 2 out]', kind='input', backend='pa_cb', index=0, numChannels=2, isPhysical=None),\n",
       "  AudioDevice(id='adc1', name='oss [ALSA, 6 in, 6 out]', kind='input', backend='pa_cb', index=1, numChannels=6, isPhysical=None),\n",
       "  AudioDevice(id='adc2', name='pipewire [ALSA, 64 in, 64 out]', kind='input', backend='pa_cb', index=2, numChannels=64, isPhysical=None),\n",
       "  AudioDevice(id='adc3', name='pulse [ALSA, 32 in, 32 out]', kind='input', backend='pa_cb', index=3, numChannels=32, isPhysical=None),\n",
       "  AudioDevice(id='adc4', name='default [ALSA, 64 in, 64 out]', kind='input', backend='pa_cb', index=4, numChannels=64, isPhysical=None),\n",
       "  AudioDevice(id='adc5', name='/dev/dsp [OSS, 16 in, 16 out]', kind='input', backend='pa_cb', index=5, numChannels=16, isPhysical=None),\n",
       "  AudioDevice(id='adc6', name='Built-in Audio Analog Stereo [JACK Audio Connection Kit, 4 in, 2 out]', kind='input', backend='pa_cb', index=6, numChannels=4, isPhysical=None),\n",
       "  AudioDevice(id='adc7', name='Firefox [JACK Audio Connection Kit, 4 in, 0 out]', kind='input', backend='pa_cb', index=7, numChannels=4, isPhysical=None),\n",
       "  AudioDevice(id='adc8', name='csound7 [JACK Audio Connection Kit, 2 in, 2 out]', kind='input', backend='pa_cb', index=8, numChannels=2, isPhysical=None),\n",
       "  AudioDevice(id='adc9', name='csoundengine.engine0 [JACK Audio Connection Kit, 2 in, 4 out]', kind='input', backend='pa_cb', index=9, numChannels=2, isPhysical=None),\n",
       "  AudioDevice(id='adc10', name='csoundengine.engine0-113 [JACK Audio Connection Kit, 2 in, 4 out]', kind='input', backend='pa_cb', index=10, numChannels=2, isPhysical=None)],\n",
       " [AudioDevice(id='dac0', name='HDA Intel PCH: HDMI 0 (hw:0,3) [ALSA, 0 in, 8 out]', kind='output', backend='pa_cb', index=0, numChannels=8, isPhysical=None),\n",
       "  AudioDevice(id='dac1', name='HDA Intel PCH: HDMI 1 (hw:0,7) [ALSA, 0 in, 8 out]', kind='output', backend='pa_cb', index=1, numChannels=8, isPhysical=None),\n",
       "  AudioDevice(id='dac2', name='HDA Intel PCH: HDMI 2 (hw:0,8) [ALSA, 0 in, 8 out]', kind='output', backend='pa_cb', index=2, numChannels=8, isPhysical=None),\n",
       "  AudioDevice(id='dac3', name='hdmi [ALSA, 0 in, 8 out]', kind='output', backend='pa_cb', index=3, numChannels=8, isPhysical=None),\n",
       "  AudioDevice(id='dac4', name='jack [ALSA, 2 in, 2 out]', kind='output', backend='pa_cb', index=4, numChannels=2, isPhysical=None),\n",
       "  AudioDevice(id='dac5', name='oss [ALSA, 6 in, 6 out]', kind='output', backend='pa_cb', index=5, numChannels=6, isPhysical=None),\n",
       "  AudioDevice(id='dac6', name='pipewire [ALSA, 64 in, 64 out]', kind='output', backend='pa_cb', index=6, numChannels=64, isPhysical=None),\n",
       "  AudioDevice(id='dac7', name='pulse [ALSA, 32 in, 32 out]', kind='output', backend='pa_cb', index=7, numChannels=32, isPhysical=None),\n",
       "  AudioDevice(id='dac8', name='default [ALSA, 64 in, 64 out]', kind='output', backend='pa_cb', index=8, numChannels=64, isPhysical=None),\n",
       "  AudioDevice(id='dac9', name='/dev/dsp [OSS, 16 in, 16 out]', kind='output', backend='pa_cb', index=9, numChannels=16, isPhysical=None),\n",
       "  AudioDevice(id='dac10', name='Built-in Audio Analog Stereo [JACK Audio Connection Kit, 4 in, 2 out]', kind='output', backend='pa_cb', index=10, numChannels=2, isPhysical=None),\n",
       "  AudioDevice(id='dac11', name='csound7 [JACK Audio Connection Kit, 2 in, 2 out]', kind='output', backend='pa_cb', index=11, numChannels=2, isPhysical=None),\n",
       "  AudioDevice(id='dac12', name='csoundengine.engine0 [JACK Audio Connection Kit, 2 in, 4 out]', kind='output', backend='pa_cb', index=12, numChannels=4, isPhysical=None),\n",
       "  AudioDevice(id='dac13', name='csoundengine.engine0-113 [JACK Audio Connection Kit, 2 in, 4 out]', kind='output', backend='pa_cb', index=13, numChannels=4, isPhysical=None)])"
      ]
     },
     "execution_count": 6,
     "metadata": {},
     "output_type": "execute_result"
    }
   ],
   "source": [
    "ce.csoundlib.getAudioDevices('pa_cb')"
   ]
  },
  {
   "cell_type": "code",
   "execution_count": null,
   "id": "f161ee90-5402-4856-8268-1469c64c71af",
   "metadata": {},
   "outputs": [],
   "source": []
  },
  {
   "cell_type": "code",
   "execution_count": null,
   "id": "e882dc66-67e0-4636-b7d9-f0915dd821b6",
   "metadata": {},
   "outputs": [],
   "source": []
  }
 ],
 "metadata": {
  "kernelspec": {
   "display_name": "Python 3 (ipykernel)",
   "language": "python",
   "name": "python3"
  },
  "language_info": {
   "codemirror_mode": {
    "name": "ipython",
    "version": 3
   },
   "file_extension": ".py",
   "mimetype": "text/x-python",
   "name": "python",
   "nbconvert_exporter": "python",
   "pygments_lexer": "ipython3",
   "version": "3.12.7"
  }
 },
 "nbformat": 4,
 "nbformat_minor": 5
}
