{
 "cells": [
  {
   "cell_type": "code",
   "execution_count": 1,
   "id": "0f32d26a-0a72-43cb-8f40-16bde379ca49",
   "metadata": {},
   "outputs": [
    {
     "name": "stderr",
     "output_type": "stream",
     "text": [
      "end of score.\t\t   overall amps:\u001b[m      0.0\n",
      "\t   overall samples out of range:\u001b[m        0\u001b[m\n",
      "0 errors in performance\n",
      "\u001b[m"
     ]
    }
   ],
   "source": [
    "from csoundengine import *"
   ]
  },
  {
   "cell_type": "code",
   "execution_count": 2,
   "id": "ad3f1aba-015f-4ad7-b807-b89bb6940755",
   "metadata": {},
   "outputs": [
    {
     "name": "stderr",
     "output_type": "stream",
     "text": [
      "\n",
      "\n",
      "\n",
      "--Csound version 6.19 (double samples) May  8 2024\n",
      "[commit: 937aa495e250d758efaa28e9697a8b75237c80cd]\n",
      "\u001b[mlibsndfile-1.2.0\n",
      "\u001b[msr = 48000.0,\u001b[m kr = 750.000,\u001b[m ksmps = 64\n",
      "\u001b[m0dBFS level = 1.0,\u001b[m A4 tuning = 440.0\n",
      "\u001b[maudio buffered in 256 sample-frame blocks\n",
      "\u001b[mreading 2048-byte blks of shorts from adc:Built-in Audio Analog Stereo: (RAW)\n",
      "writing 512 sample blks of 64-bit floats to dac:Built-in Audio Analog Stereo:\n",
      "SECTION 1:\n",
      "\u001b[m"
     ]
    }
   ],
   "source": [
    "e = Engine()"
   ]
  },
  {
   "cell_type": "code",
   "execution_count": 3,
   "id": "d5bde504-1217-4891-a6d9-aa8b5d7d4812",
   "metadata": {},
   "outputs": [],
   "source": [
    "e.compile(r'''\n",
    "instr foo\n",
    "  ipfield = p4\n",
    "  kctrl = p5\n",
    "  println \"ipfield: %f, kctrl: %f\", ipfield, kctrl\n",
    "  turnoff\n",
    "endin\n",
    "''')"
   ]
  },
  {
   "cell_type": "code",
   "execution_count": 4,
   "id": "342fab5d-b83a-4c98-bf93-31f84b1b1f8f",
   "metadata": {},
   "outputs": [
    {
     "name": "stderr",
     "output_type": "stream",
     "text": [
      "ipfield: 0.500000, kctrl: 3.000000\n",
      "\u001b[m"
     ]
    },
    {
     "data": {
      "text/plain": [
       "35.0002"
      ]
     },
     "execution_count": 4,
     "metadata": {},
     "output_type": "execute_result"
    }
   ],
   "source": [
    "ev = e.sched('foo', 0, 1, ipfield=0.5, kctrl=3)\n",
    "ev"
   ]
  },
  {
   "cell_type": "code",
   "execution_count": 5,
   "id": "987563f6-eb2c-44ed-9460-fcb5d17c2c5a",
   "metadata": {},
   "outputs": [],
   "source": [
    "e.compile(r'''\n",
    "instr bar\n",
    "  iparamA, iparamB passign 4\n",
    "  println \"iparamA: %f, iparamB: %f\", iparamA, iparamB\n",
    "  turnoff\n",
    "endin\n",
    "''')"
   ]
  },
  {
   "cell_type": "code",
   "execution_count": 6,
   "id": "ec5a9fe0-e833-44c8-a923-c36f2941efbb",
   "metadata": {},
   "outputs": [
    {
     "data": {
      "text/plain": [
       "36.0002"
      ]
     },
     "execution_count": 6,
     "metadata": {},
     "output_type": "execute_result"
    },
    {
     "name": "stderr",
     "output_type": "stream",
     "text": [
      "iparamA: 0.300000, iparamB: 0.400000\n",
      "\u001b[m"
     ]
    }
   ],
   "source": [
    "ev = e.sched('bar', 0, 1, iparamA=0.3, iparamB=0.4)\n",
    "ev"
   ]
  },
  {
   "cell_type": "code",
   "execution_count": null,
   "id": "efbb72b1-f4c3-45d6-a239-0216485d190e",
   "metadata": {},
   "outputs": [],
   "source": []
  }
 ],
 "metadata": {
  "kernelspec": {
   "display_name": "Python 3 (ipykernel)",
   "language": "python",
   "name": "python3"
  },
  "language_info": {
   "codemirror_mode": {
    "name": "ipython",
    "version": 3
   },
   "file_extension": ".py",
   "mimetype": "text/x-python",
   "name": "python",
   "nbconvert_exporter": "python",
   "pygments_lexer": "ipython3",
   "version": "3.12.3"
  }
 },
 "nbformat": 4,
 "nbformat_minor": 5
}
