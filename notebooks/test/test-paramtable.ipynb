{
 "cells": [
  {
   "cell_type": "code",
   "execution_count": 1,
   "id": "c357dc88-e4f5-44fb-ade3-97846008f074",
   "metadata": {},
   "outputs": [],
   "source": [
    "from csoundengine import *"
   ]
  },
  {
   "cell_type": "code",
   "execution_count": 2,
   "id": "96a5c2d5-5743-447f-a31e-6ba4b524c142",
   "metadata": {},
   "outputs": [
    {
     "name": "stderr",
     "output_type": "stream",
     "text": [
      "/home/em/.virtualenvs/csoundengine/lib/python3.11/site-packages/fuzzywuzzy/fuzz.py:11: UserWarning: Using slow pure-python SequenceMatcher. Install python-Levenshtein to remove this warning\n",
      "  warnings.warn('Using slow pure-python SequenceMatcher. Install python-Levenshtein to remove this warning')\n"
     ]
    },
    {
     "ename": "KeyError",
     "evalue": "\"key 'tabargs_method' not known. Did you mean []?\\nPossible keys: ['A4', 'associated_table_min_size', 'buffersize', 'check_pargs', 'datafile_format', 'define_builtin_instrs', 'disable_signals', 'dynamic_args_num_slots', 'fail_if_unmatched_pargs', 'generalmidi_soundfont', 'html_args_fontsize', 'html_theme', 'ipython_load_magics_at_startup', 'jupyter_instr_repr_show_code', 'jupyter_slider_width', 'jupyter_synth_repr_interact', 'jupyter_synth_repr_stopbutton', 'ksmps', 'linux_backend', 'macos_backend', 'magics_print_info', 'max_dynamic_args_per_instr', 'nchnls', 'nchnls_i', 'num_audio_buses', 'num_control_buses', 'numbuffers', 'offline_score_table_size_limit', 'prefer_udp', 'rec_ksmps', 'rec_sample_format', 'rec_sr', 'rec_suppress_output', 'sample_fade_time', 'samplesplot_figsize', 'sched_latency', 'session_priorities', 'set_sigint_handler', 'spectrogram_colormap', 'spectrogram_figsize', 'spectrogram_maxfreq', 'spectrogram_window', 'sr', 'start_udp_server', 'suppress_output', 'synth_repr_max_args', 'synthgroup_repr_max_rows', 'timeout', 'unknown_parameter_fail_silently', 'windows_backend']\"",
     "output_type": "error",
     "traceback": [
      "\u001b[0;31m---------------------------------------------------------------------------\u001b[0m",
      "\u001b[0;31mKeyError\u001b[0m                                  Traceback (most recent call last)",
      "Cell \u001b[0;32mIn[2], line 1\u001b[0m\n\u001b[0;32m----> 1\u001b[0m \u001b[43mconfig\u001b[49m\u001b[43m[\u001b[49m\u001b[38;5;124;43m'\u001b[39;49m\u001b[38;5;124;43mtabargs_method\u001b[39;49m\u001b[38;5;124;43m'\u001b[39;49m\u001b[43m]\u001b[49m\n",
      "File \u001b[0;32m~/.virtualenvs/csoundengine/lib/python3.11/site-packages/configdict/configdict.py:728\u001b[0m, in \u001b[0;36mCheckedDict.__getitem__\u001b[0;34m(self, key)\u001b[0m\n\u001b[1;32m    725\u001b[0m     \u001b[38;5;28;01mreturn\u001b[39;00m \u001b[38;5;28mdict\u001b[39m\u001b[38;5;241m.\u001b[39m\u001b[38;5;21m__getitem__\u001b[39m(\u001b[38;5;28mself\u001b[39m, key2)\n\u001b[1;32m    727\u001b[0m nearest \u001b[38;5;241m=\u001b[39m \u001b[38;5;28mself\u001b[39m\u001b[38;5;241m.\u001b[39m_bestMatches(key, limit\u001b[38;5;241m=\u001b[39m\u001b[38;5;241m8\u001b[39m)\n\u001b[0;32m--> 728\u001b[0m \u001b[38;5;28;01mraise\u001b[39;00m \u001b[38;5;167;01mKeyError\u001b[39;00m(\u001b[38;5;124mf\u001b[39m\u001b[38;5;124m\"\u001b[39m\u001b[38;5;124mkey \u001b[39m\u001b[38;5;124m'\u001b[39m\u001b[38;5;132;01m{\u001b[39;00mkey\u001b[38;5;132;01m}\u001b[39;00m\u001b[38;5;124m'\u001b[39m\u001b[38;5;124m not known. Did you mean \u001b[39m\u001b[38;5;132;01m{\u001b[39;00mnearest\u001b[38;5;132;01m}\u001b[39;00m\u001b[38;5;124m?\u001b[39m\u001b[38;5;130;01m\\n\u001b[39;00m\u001b[38;5;124m\"\u001b[39m\n\u001b[1;32m    729\u001b[0m                \u001b[38;5;124mf\u001b[39m\u001b[38;5;124m\"\u001b[39m\u001b[38;5;124mPossible keys: \u001b[39m\u001b[38;5;132;01m{\u001b[39;00m\u001b[38;5;28msorted\u001b[39m(\u001b[38;5;28mself\u001b[39m\u001b[38;5;241m.\u001b[39mkeys())\u001b[38;5;132;01m}\u001b[39;00m\u001b[38;5;124m\"\u001b[39m)\n",
      "\u001b[0;31mKeyError\u001b[0m: \"key 'tabargs_method' not known. Did you mean []?\\nPossible keys: ['A4', 'associated_table_min_size', 'buffersize', 'check_pargs', 'datafile_format', 'define_builtin_instrs', 'disable_signals', 'dynamic_args_num_slots', 'fail_if_unmatched_pargs', 'generalmidi_soundfont', 'html_args_fontsize', 'html_theme', 'ipython_load_magics_at_startup', 'jupyter_instr_repr_show_code', 'jupyter_slider_width', 'jupyter_synth_repr_interact', 'jupyter_synth_repr_stopbutton', 'ksmps', 'linux_backend', 'macos_backend', 'magics_print_info', 'max_dynamic_args_per_instr', 'nchnls', 'nchnls_i', 'num_audio_buses', 'num_control_buses', 'numbuffers', 'offline_score_table_size_limit', 'prefer_udp', 'rec_ksmps', 'rec_sample_format', 'rec_sr', 'rec_suppress_output', 'sample_fade_time', 'samplesplot_figsize', 'sched_latency', 'session_priorities', 'set_sigint_handler', 'spectrogram_colormap', 'spectrogram_figsize', 'spectrogram_maxfreq', 'spectrogram_window', 'sr', 'start_udp_server', 'suppress_output', 'synth_repr_max_args', 'synthgroup_repr_max_rows', 'timeout', 'unknown_parameter_fail_silently', 'windows_backend']\""
     ]
    }
   ],
   "source": [
    "config['tabargs_method']"
   ]
  },
  {
   "cell_type": "code",
   "execution_count": 3,
   "id": "a9e6384e-9305-437a-b4b6-5087c2fdbf58",
   "metadata": {},
   "outputs": [
    {
     "name": "stderr",
     "output_type": "stream",
     "text": [
      "\n",
      "\n",
      "--Csound version 6.19 (double samples) May 26 2023\n",
      "[commit: 593ac80dd986b58f24e3d59242243ba6266edda7]\n",
      "\u001b[mlibsndfile-1.2.0\n",
      "\u001b[msr = 48000.0,\u001b[m kr = 750.000,\u001b[m ksmps = 64\n",
      "\u001b[m0dBFS level = 1.0,\u001b[m A4 tuning = 442.0\n",
      "\u001b[maudio buffered in 1024 sample-frame blocks\n",
      "\u001b[mreading 4096-byte blks of shorts from adc:PCM Source: (RAW)\n",
      "writing 2048 sample blks of 64-bit floats to dac:Built-in Audio Analogue Stereo:\n",
      "SECTION 1:\n"
     ]
    }
   ],
   "source": [
    "e = Engine()\n",
    "s = e.session()"
   ]
  },
  {
   "cell_type": "code",
   "execution_count": 12,
   "id": "9f4f11ee-8206-407a-857a-e764e73d3b5d",
   "metadata": {},
   "outputs": [
    {
     "data": {
      "text/plain": [
       "(306,\n",
       " array([0., 0., 0., 0., 0., 0., 0., 0., 0., 0., 0., 0., 0., 0., 0., 0., 0.,\n",
       "        0., 0., 0., 0., 0., 0., 0., 0., 0., 0., 0., 0., 0., 0., 0., 0., 0.,\n",
       "        0., 0., 0., 0., 0., 0., 0., 0., 0., 0., 0., 0., 0., 0., 0., 0., 0.,\n",
       "        0., 0., 0., 0., 0., 0., 0., 0., 0., 0., 0., 0., 0., 0., 0., 0., 0.,\n",
       "        0., 0., 0., 0., 0., 0., 0., 0., 0., 0., 0., 0., 0., 0., 0., 0., 0.,\n",
       "        0., 0., 0., 0., 0., 0., 0., 0., 0., 0., 0., 0., 0., 0., 0.]))"
      ]
     },
     "execution_count": 12,
     "metadata": {},
     "output_type": "execute_result"
    }
   ],
   "source": [
    "tabnum = e.makeEmptyTable(100)\n",
    "e.sync()\n",
    "data = e.getTableData(tabnum)\n",
    "tabnum, data"
   ]
  },
  {
   "cell_type": "code",
   "execution_count": 7,
   "id": "11afefa8-a926-41bd-9187-a217690b9341",
   "metadata": {},
   "outputs": [
    {
     "data": {
      "text/html": [
       "Instr <strong style=\"color:MediumSeaGreen\">foo</strong><br>\n",
       "&nbsp&nbsp&nbsp&nbsptabargs = <code>{'kpitch': 60.0, 'kamp': 0.1}</code>\n",
       "<hr style=\"width:38%;text-align:left;margin-left:0\">\n",
       "<span style=\"font-size:90%\"><div class=\"highlight\" style=\"background: #f8f8f8\"><pre style=\"line-height: 125%;\"><span></span><code><span style=\"color: #bbbbbb\">    </span><span style=\"color: #3D7B7B; font-style: italic\">; --- start generated table code</span>\n",
       "<span style=\"color: #bbbbbb\">    </span><span style=\"color: #B00040\">i</span>slicestart_<span style=\"color: #bbbbbb\"> </span><span style=\"color: #666666\">=</span><span style=\"color: #bbbbbb\"> </span><span style=\"color: #19177C\">p4</span>\n",
       "<span style=\"color: #bbbbbb\">    </span><span style=\"color: #B00040\">i</span>tabnum_<span style=\"color: #bbbbbb\"> </span><span style=\"color: #008000\">chnget</span><span style=\"color: #bbbbbb\"> </span><span style=\"color: #BA2121\">&quot;.tabargsTabnum&quot;</span>\n",
       "<span style=\"color: #bbbbbb\">    </span><span style=\"color: #008000; font-weight: bold\">if</span><span style=\"color: #bbbbbb\"> </span><span style=\"color: #B00040\">i</span>tabnum_<span style=\"color: #bbbbbb\"> </span><span style=\"color: #666666\">==</span><span style=\"color: #bbbbbb\"> </span><span style=\"color: #666666\">0</span><span style=\"color: #bbbbbb\"> </span><span style=\"color: #008000; font-weight: bold\">then</span>\n",
       "<span style=\"color: #bbbbbb\">        </span><span style=\"color: #B00040\">i</span>niterror<span style=\"color: #bbbbbb\"> </span><span style=\"color: #008000\">sprintf</span>(<span style=\"color: #BA2121\">&quot;Params table does not exist (p1: </span><span style=\"color: #A45A77; font-weight: bold\">%f</span><span style=\"color: #BA2121\">)&quot;</span>,<span style=\"color: #bbbbbb\"> </span><span style=\"color: #19177C\">p1</span>)\n",
       "<span style=\"color: #bbbbbb\">        </span><span style=\"color: #008000; font-weight: bold\">goto</span><span style=\"color: #bbbbbb\"> </span><span style=\"color: #767600\">__exit</span>\n",
       "<span style=\"color: #bbbbbb\">    </span><span style=\"color: #008000; font-weight: bold\">endif</span>\n",
       "\n",
       "<span style=\"color: #bbbbbb\">    </span><span style=\"color: #B00040\">k</span>pitch<span style=\"color: #bbbbbb\"> </span><span style=\"color: #008000\">tab</span><span style=\"color: #bbbbbb\"> </span><span style=\"color: #B00040\">i</span>slicestart_<span style=\"color: #bbbbbb\"> </span><span style=\"color: #666666\">+</span><span style=\"color: #bbbbbb\"> </span><span style=\"color: #666666\">0</span>,<span style=\"color: #bbbbbb\"> </span><span style=\"color: #B00040\">i</span>tabnum_\n",
       "<span style=\"color: #bbbbbb\">    </span><span style=\"color: #B00040\">k</span>amp<span style=\"color: #bbbbbb\"> </span><span style=\"color: #008000\">tab</span><span style=\"color: #bbbbbb\"> </span><span style=\"color: #B00040\">i</span>slicestart_<span style=\"color: #bbbbbb\"> </span><span style=\"color: #666666\">+</span><span style=\"color: #bbbbbb\"> </span><span style=\"color: #666666\">1</span>,<span style=\"color: #bbbbbb\"> </span><span style=\"color: #B00040\">i</span>tabnum_\n",
       "<span style=\"color: #bbbbbb\">    </span><span style=\"color: #3D7B7B; font-style: italic\">; --- end generated table code</span>\n",
       "<span style=\"color: #bbbbbb\">    </span><span style=\"color: #008000\">outch</span><span style=\"color: #bbbbbb\"> </span><span style=\"color: #666666\">1</span>,<span style=\"color: #bbbbbb\"> </span><span style=\"color: #008000\">oscili</span>:<span style=\"color: #B00040\">a</span>(<span style=\"color: #B00040\">k</span>amp,<span style=\"color: #bbbbbb\"> </span><span style=\"color: #008000\">mtof</span>(<span style=\"color: #B00040\">k</span>pitch))\n",
       "<span style=\"color: #bbbbbb\">    </span><span style=\"color: #767600\">__exit</span>:\n",
       "</code></pre></div>\n",
       "</span>"
      ],
      "text/plain": [
       "Instr(foo, tabargs={'kpitch': 60.0, 'kamp': 0.1})"
      ]
     },
     "execution_count": 7,
     "metadata": {},
     "output_type": "execute_result"
    }
   ],
   "source": [
    "foo = s.defInstr(\"foo\", r\"\"\"\n",
    "{kpitch=60, kamp=0.1}\n",
    "outch 1, oscili:a(kamp, mtof(kpitch))\n",
    "\"\"\")\n",
    "foo"
   ]
  },
  {
   "cell_type": "code",
   "execution_count": 11,
   "id": "d4e65796-6b76-4013-808b-041192f2cc76",
   "metadata": {},
   "outputs": [],
   "source": [
    "with s.engine.lockedClock():\n",
    "    for p in range(22, 100):\n",
    "        s.sched(\"foo\", dur=2, tabargs={'kpitch': p, 'kamp': 0.01})"
   ]
  },
  {
   "cell_type": "code",
   "execution_count": 4,
   "id": "ae6a0c58-e634-4488-8e8f-ada8b6c4475f",
   "metadata": {},
   "outputs": [
    {
     "data": {
      "text/html": [
       "Instr <strong style=\"color:MediumSeaGreen\">foo2</strong><br>\n",
       "<hr style=\"width:38%;text-align:left;margin-left:0\">\n",
       "<span style=\"font-size:90%\"><div class=\"highlight\" style=\"background: #f8f8f8\"><pre style=\"line-height: 125%;\"><span></span><code><span style=\"color: #B00040\">k</span>pitch<span style=\"color: #bbbbbb\"> </span><span style=\"color: #666666\">=</span><span style=\"color: #bbbbbb\"> </span><span style=\"color: #19177C\">p5</span>\n",
       "<span style=\"color: #B00040\">k</span>amp<span style=\"color: #bbbbbb\">   </span><span style=\"color: #666666\">=</span><span style=\"color: #bbbbbb\"> </span><span style=\"color: #19177C\">p6</span>\n",
       "\n",
       "<span style=\"color: #008000\">outch</span><span style=\"color: #bbbbbb\"> </span><span style=\"color: #666666\">1</span>,<span style=\"color: #bbbbbb\"> </span><span style=\"color: #008000\">oscili</span>:<span style=\"color: #B00040\">a</span>(<span style=\"color: #B00040\">k</span>amp,<span style=\"color: #bbbbbb\"> </span><span style=\"color: #008000\">mtof</span>(<span style=\"color: #B00040\">k</span>pitch))\n",
       "</code></pre></div>\n",
       "</span>"
      ],
      "text/plain": [
       "Instr(foo2, kpitch:5=60, kamp:6=0.1)"
      ]
     },
     "execution_count": 4,
     "metadata": {},
     "output_type": "execute_result"
    }
   ],
   "source": [
    "s.defInstr(\"foo2\", r\"\"\"\n",
    "|kpitch=60, kamp=0.1|\n",
    "outch 1, oscili:a(kamp, mtof(kpitch))\n",
    "\"\"\")"
   ]
  },
  {
   "cell_type": "code",
   "execution_count": 12,
   "id": "1859e684-a1c2-48f1-9a62-cdcfba4af8e7",
   "metadata": {},
   "outputs": [],
   "source": [
    "with s.engine.lockedClock():\n",
    "    for p in range(22, 100):\n",
    "        s.sched(\"foo2\", dur=2, kpitch=p, kamp=0.01)"
   ]
  },
  {
   "cell_type": "code",
   "execution_count": null,
   "id": "fe6a4190-8dd7-483e-b1dc-af147818a9c2",
   "metadata": {},
   "outputs": [],
   "source": []
  }
 ],
 "metadata": {
  "kernelspec": {
   "display_name": "Python 3 (ipykernel)",
   "language": "python",
   "name": "python3"
  },
  "language_info": {
   "codemirror_mode": {
    "name": "ipython",
    "version": 3
   },
   "file_extension": ".py",
   "mimetype": "text/x-python",
   "name": "python",
   "nbconvert_exporter": "python",
   "pygments_lexer": "ipython3",
   "version": "3.11.4"
  }
 },
 "nbformat": 4,
 "nbformat_minor": 5
}
