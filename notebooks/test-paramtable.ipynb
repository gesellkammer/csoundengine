{
 "cells": [
  {
   "cell_type": "code",
   "execution_count": 1,
   "id": "c357dc88-e4f5-44fb-ade3-97846008f074",
   "metadata": {},
   "outputs": [],
   "source": [
    "from csoundengine import *"
   ]
  },
  {
   "cell_type": "code",
   "execution_count": 3,
   "id": "96a5c2d5-5743-447f-a31e-6ba4b524c142",
   "metadata": {},
   "outputs": [
    {
     "data": {
      "text/plain": [
       "'slice'"
      ]
     },
     "execution_count": 3,
     "metadata": {},
     "output_type": "execute_result"
    }
   ],
   "source": [
    "config['tabargs_method']"
   ]
  },
  {
   "cell_type": "code",
   "execution_count": 2,
   "id": "a9e6384e-9305-437a-b4b6-5087c2fdbf58",
   "metadata": {},
   "outputs": [
    {
     "name": "stderr",
     "output_type": "stream",
     "text": [
      "\n",
      "\n",
      "--Csound version 6.19 (double samples) May 26 2023\n",
      "[commit: 593ac80dd986b58f24e3d59242243ba6266edda7]\n",
      "\u001b[mlibsndfile-1.2.0\n",
      "\u001b[msr = 48000.0,\u001b[m kr = 750.000,\u001b[m ksmps = 64\n",
      "\u001b[m0dBFS level = 1.0,\u001b[m A4 tuning = 442.0\n",
      "\u001b[maudio buffered in 1024 sample-frame blocks\n",
      "\u001b[mreading 4096-byte blks of shorts from adc:PCM Source: (RAW)\n",
      "writing 2048 sample blks of 64-bit floats to dac:Built-in Audio Analogue Stereo:\n",
      "SECTION 1:\n"
     ]
    }
   ],
   "source": [
    "e = Engine()\n",
    "s = e.session()"
   ]
  },
  {
   "cell_type": "code",
   "execution_count": 6,
   "id": "82bc8016-e86c-4c5d-8be6-18fc0a2c697d",
   "metadata": {},
   "outputs": [
    {
     "data": {
      "text/plain": [
       "True"
      ]
     },
     "execution_count": 6,
     "metadata": {},
     "output_type": "execute_result"
    }
   ],
   "source": [
    "s._tabargsArray is None"
   ]
  },
  {
   "cell_type": "code",
   "execution_count": 8,
   "id": "47eaaa8c-caa7-4329-a6ed-c4ef6dbdb40d",
   "metadata": {},
   "outputs": [],
   "source": [
    "e.getTableData(s._tabargsTabnum)"
   ]
  },
  {
   "cell_type": "code",
   "execution_count": 12,
   "id": "9f4f11ee-8206-407a-857a-e764e73d3b5d",
   "metadata": {},
   "outputs": [
    {
     "data": {
      "text/plain": [
       "302"
      ]
     },
     "execution_count": 12,
     "metadata": {},
     "output_type": "execute_result"
    }
   ],
   "source": [
    "e.makeEmptyTable(100)"
   ]
  },
  {
   "cell_type": "code",
   "execution_count": 22,
   "id": "81e7a969-dfa6-4312-9fe7-6f005b6f2e43",
   "metadata": {},
   "outputs": [
    {
     "data": {
      "text/plain": [
       "array([0., 1., 2., 3.])"
      ]
     },
     "execution_count": 22,
     "metadata": {},
     "output_type": "execute_result"
    }
   ],
   "source": [
    "e.getTableData(107)"
   ]
  },
  {
   "cell_type": "code",
   "execution_count": 23,
   "id": "c758d982-daef-411c-8921-000f5a235170",
   "metadata": {},
   "outputs": [
    {
     "data": {
      "text/plain": [
       "array([0., 1., 2., 3.])"
      ]
     },
     "execution_count": 23,
     "metadata": {},
     "output_type": "execute_result"
    }
   ],
   "source": [
    "e.csound.table(107)"
   ]
  },
  {
   "cell_type": "code",
   "execution_count": 3,
   "id": "11afefa8-a926-41bd-9187-a217690b9341",
   "metadata": {},
   "outputs": [
    {
     "data": {
      "text/html": [
       "Instr <strong style=\"color:MediumSeaGreen\">foo</strong><br>\n",
       "&nbsp&nbsp&nbsp&nbsptabargs = <code>{'kpitch': 60.0, 'kamp': 0.1}</code>\n",
       "<hr style=\"width:38%;text-align:left;margin-left:0\">\n",
       "<span style=\"font-size:90%\"><div class=\"highlight\" style=\"background: #f8f8f8\"><pre style=\"line-height: 125%;\"><span></span><code><span style=\"color: #bbbbbb\">    </span><span style=\"color: #3D7B7B; font-style: italic\">; --- start generated table code</span>\n",
       "<span style=\"color: #bbbbbb\">    </span><span style=\"color: #B00040\">i</span>params_<span style=\"color: #bbbbbb\"> </span><span style=\"color: #666666\">=</span><span style=\"color: #bbbbbb\"> </span><span style=\"color: #19177C\">p4</span>\n",
       "<span style=\"color: #bbbbbb\">    </span><span style=\"color: #008000; font-weight: bold\">if</span><span style=\"color: #bbbbbb\"> </span><span style=\"color: #B00040\">i</span>params_<span style=\"color: #bbbbbb\"> </span><span style=\"color: #666666\">==</span><span style=\"color: #bbbbbb\"> </span><span style=\"color: #666666\">0</span><span style=\"color: #bbbbbb\"> </span><span style=\"color: #666666\">||</span><span style=\"color: #bbbbbb\"> </span><span style=\"color: #008000\">ftexists</span>:<span style=\"color: #B00040\">i</span>(<span style=\"color: #B00040\">i</span>params_)<span style=\"color: #bbbbbb\"> </span><span style=\"color: #666666\">==</span><span style=\"color: #bbbbbb\"> </span><span style=\"color: #666666\">0</span><span style=\"color: #bbbbbb\"> </span><span style=\"color: #008000; font-weight: bold\">then</span>\n",
       "<span style=\"color: #bbbbbb\">        </span><span style=\"color: #B00040\">i</span>niterror<span style=\"color: #bbbbbb\"> </span><span style=\"color: #008000\">sprintf</span>(<span style=\"color: #BA2121\">&quot;Params table (</span><span style=\"color: #A45A77; font-weight: bold\">%d</span><span style=\"color: #BA2121\">) does not exist (p1: </span><span style=\"color: #A45A77; font-weight: bold\">%f</span><span style=\"color: #BA2121\">)&quot;</span>,<span style=\"color: #bbbbbb\"> </span><span style=\"color: #B00040\">i</span>params_,<span style=\"color: #bbbbbb\"> </span><span style=\"color: #19177C\">p1</span>)\n",
       "<span style=\"color: #bbbbbb\">        </span><span style=\"color: #008000; font-weight: bold\">goto</span><span style=\"color: #bbbbbb\"> </span><span style=\"color: #767600\">__exit</span>\n",
       "<span style=\"color: #bbbbbb\">    </span><span style=\"color: #008000; font-weight: bold\">endif</span>\n",
       "<span style=\"color: #bbbbbb\">    </span><span style=\"color: #B00040\">i</span>paramslen_<span style=\"color: #bbbbbb\"> </span><span style=\"color: #666666\">=</span><span style=\"color: #bbbbbb\"> </span><span style=\"color: #008000\">ftlen</span>(<span style=\"color: #B00040\">i</span>params_)\n",
       "<span style=\"color: #bbbbbb\">    </span><span style=\"color: #008000; font-weight: bold\">if</span><span style=\"color: #bbbbbb\"> </span><span style=\"color: #B00040\">i</span>paramslen_<span style=\"color: #bbbbbb\"> </span><span style=\"color: #666666\">&lt;</span><span style=\"color: #bbbbbb\"> </span><span style=\"color: #666666\">2</span><span style=\"color: #bbbbbb\"> </span><span style=\"color: #008000; font-weight: bold\">then</span>\n",
       "<span style=\"color: #bbbbbb\">        </span><span style=\"color: #B00040\">i</span>niterror<span style=\"color: #bbbbbb\"> </span><span style=\"color: #008000\">sprintf</span>(<span style=\"color: #BA2121\">&quot;params table too small (size: </span><span style=\"color: #A45A77; font-weight: bold\">%d</span><span style=\"color: #BA2121\">, needed: 2)&quot;</span>,<span style=\"color: #bbbbbb\"> </span><span style=\"color: #B00040\">i</span>paramslen_)\n",
       "<span style=\"color: #bbbbbb\">    </span><span style=\"color: #008000; font-weight: bold\">endif</span>\n",
       "<span style=\"color: #bbbbbb\">    </span><span style=\"color: #B00040\">k</span>pitch<span style=\"color: #bbbbbb\"> </span><span style=\"color: #008000\">tab</span><span style=\"color: #bbbbbb\"> </span><span style=\"color: #666666\">0</span>,<span style=\"color: #bbbbbb\"> </span><span style=\"color: #B00040\">i</span>params_\n",
       "<span style=\"color: #bbbbbb\">    </span><span style=\"color: #B00040\">k</span>amp<span style=\"color: #bbbbbb\"> </span><span style=\"color: #008000\">tab</span><span style=\"color: #bbbbbb\"> </span><span style=\"color: #666666\">1</span>,<span style=\"color: #bbbbbb\"> </span><span style=\"color: #B00040\">i</span>params_\n",
       "<span style=\"color: #bbbbbb\">    </span><span style=\"color: #008000\">ftfree</span><span style=\"color: #bbbbbb\"> </span><span style=\"color: #B00040\">i</span>params_,<span style=\"color: #bbbbbb\"> </span><span style=\"color: #666666\">1</span>\n",
       "<span style=\"color: #bbbbbb\">    </span><span style=\"color: #3D7B7B; font-style: italic\">; --- end generated table code</span>\n",
       "<span style=\"color: #bbbbbb\">    </span><span style=\"color: #008000\">outch</span><span style=\"color: #bbbbbb\"> </span><span style=\"color: #666666\">1</span>,<span style=\"color: #bbbbbb\"> </span><span style=\"color: #008000\">oscili</span>:<span style=\"color: #B00040\">a</span>(<span style=\"color: #B00040\">k</span>amp,<span style=\"color: #bbbbbb\"> </span><span style=\"color: #008000\">mtof</span>(<span style=\"color: #B00040\">k</span>pitch))\n",
       "<span style=\"color: #bbbbbb\">    </span><span style=\"color: #767600\">__exit</span>:\n",
       "</code></pre></div>\n",
       "</span>"
      ],
      "text/plain": [
       "Instr(foo, tabargs={'kpitch': 60.0, 'kamp': 0.1})"
      ]
     },
     "execution_count": 3,
     "metadata": {},
     "output_type": "execute_result"
    }
   ],
   "source": [
    "s.defInstr(\"foo\", r\"\"\"\n",
    "{kpitch=60, kamp=0.1}\n",
    "outch 1, oscili:a(kamp, mtof(kpitch))\n",
    "\"\"\")"
   ]
  },
  {
   "cell_type": "code",
   "execution_count": 18,
   "id": "d4e65796-6b76-4013-808b-041192f2cc76",
   "metadata": {},
   "outputs": [],
   "source": [
    "with s.engine.lockedClock():\n",
    "    for p in range(22, 100):\n",
    "        s.sched(\"foo\", dur=2, tabargs={'kpitch': p, 'kamp': 0.01})"
   ]
  },
  {
   "cell_type": "code",
   "execution_count": 19,
   "id": "ae6a0c58-e634-4488-8e8f-ada8b6c4475f",
   "metadata": {},
   "outputs": [
    {
     "data": {
      "text/html": [
       "Instr <strong style=\"color:MediumSeaGreen\">foo2</strong><br>\n",
       "<hr style=\"width:38%;text-align:left;margin-left:0\">\n",
       "<span style=\"font-size:90%\"><div class=\"highlight\" style=\"background: #f8f8f8\"><pre style=\"line-height: 125%;\"><span></span><code><span style=\"color: #B00040\">k</span>pitch<span style=\"color: #bbbbbb\"> </span><span style=\"color: #666666\">=</span><span style=\"color: #bbbbbb\"> </span><span style=\"color: #19177C\">p5</span>\n",
       "<span style=\"color: #B00040\">k</span>amp<span style=\"color: #bbbbbb\">   </span><span style=\"color: #666666\">=</span><span style=\"color: #bbbbbb\"> </span><span style=\"color: #19177C\">p6</span>\n",
       "\n",
       "<span style=\"color: #008000\">outch</span><span style=\"color: #bbbbbb\"> </span><span style=\"color: #666666\">1</span>,<span style=\"color: #bbbbbb\"> </span><span style=\"color: #008000\">oscili</span>:<span style=\"color: #B00040\">a</span>(<span style=\"color: #B00040\">k</span>amp,<span style=\"color: #bbbbbb\"> </span><span style=\"color: #008000\">mtof</span>(<span style=\"color: #B00040\">k</span>pitch))\n",
       "</code></pre></div>\n",
       "</span>"
      ],
      "text/plain": [
       "Instr(foo2, kpitch:5=60, kamp:6=0.1)"
      ]
     },
     "execution_count": 19,
     "metadata": {},
     "output_type": "execute_result"
    }
   ],
   "source": [
    "s.defInstr(\"foo2\", r\"\"\"\n",
    "|kpitch=60, kamp=0.1|\n",
    "outch 1, oscili:a(kamp, mtof(kpitch))\n",
    "\"\"\")"
   ]
  },
  {
   "cell_type": "code",
   "execution_count": 24,
   "id": "1859e684-a1c2-48f1-9a62-cdcfba4af8e7",
   "metadata": {},
   "outputs": [],
   "source": [
    "with s.engine.lockedClock():\n",
    "    for p in range(22, 100):\n",
    "        s.sched(\"foo2\", dur=2, kpitch=p, kamp=0.01)"
   ]
  },
  {
   "cell_type": "code",
   "execution_count": null,
   "id": "fe6a4190-8dd7-483e-b1dc-af147818a9c2",
   "metadata": {},
   "outputs": [],
   "source": []
  }
 ],
 "metadata": {
  "kernelspec": {
   "display_name": "Python 3 (ipykernel)",
   "language": "python",
   "name": "python3"
  },
  "language_info": {
   "codemirror_mode": {
    "name": "ipython",
    "version": 3
   },
   "file_extension": ".py",
   "mimetype": "text/x-python",
   "name": "python",
   "nbconvert_exporter": "python",
   "pygments_lexer": "ipython3",
   "version": "3.9.15"
  }
 },
 "nbformat": 4,
 "nbformat_minor": 5
}
